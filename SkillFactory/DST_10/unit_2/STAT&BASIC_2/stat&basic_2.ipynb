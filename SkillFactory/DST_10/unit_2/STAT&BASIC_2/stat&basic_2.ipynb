{
 "cells": [
  {
   "cell_type": "markdown",
   "metadata": {},
   "source": [
    "# STAT&BASIC-2. Основные понятия математической статистики на Python\n",
    "## Юнит 2. Разведывательный анализ данных\n",
    "### Skillfactory: DST-10"
   ]
  },
  {
   "cell_type": "code",
   "execution_count": 1,
   "metadata": {},
   "outputs": [],
   "source": [
    "import pandas as pd\n",
    "import numpy as np\n",
    "from scipy.stats import norm\n",
    "import matplotlib.pyplot as plt"
   ]
  },
  {
   "cell_type": "markdown",
   "metadata": {},
   "source": [
    "## Задание 2.4.1\n",
    "Каково математическое ожидание прибыли за первую неделю (в долларах)?"
   ]
  },
  {
   "cell_type": "code",
   "execution_count": 2,
   "metadata": {},
   "outputs": [
    {
     "name": "stdout",
     "output_type": "stream",
     "text": [
      "матожидание х:= 3.91\n",
      "матожидание х^2:= 17.79\n"
     ]
    }
   ],
   "source": [
    "x = np.array([1, 2, 3, 4, 5, 6, 7, 8])\n",
    "x_x = x*x\n",
    "P = np.array([.05, .1, .3, .25, .15, .07, .05, .03])\n",
    "expected_value_x = x@P\n",
    "print(f\"матожидание х:= {expected_value_x}\")\n",
    "expected_value_x_x = x_x@P\n",
    "print(f\"матожидание х^2:= {expected_value_x_x}\")"
   ]
  },
  {
   "cell_type": "code",
   "execution_count": 3,
   "metadata": {},
   "outputs": [
    {
     "name": "stdout",
     "output_type": "stream",
     "text": [
      "матожидание Y:= 180.0\n"
     ]
    }
   ],
   "source": [
    "expected_value_X = 2.4  # матожидание контрактов\n",
    "Y = x*200-300  # прибыль Вани в первую неделю работы\n",
    "\n",
    "expected_value_Y = expected_value_X*200-300\n",
    "print(f\"матожидание Y:= {expected_value_Y}\")"
   ]
  },
  {
   "cell_type": "code",
   "execution_count": 4,
   "metadata": {},
   "outputs": [],
   "source": [
    "def my_var(d_x, d_P):\n",
    "    \"\"\"функция расчета дисперсии\n",
    "    \"\"\"\n",
    "    d_expected_value_x = d_x@d_P\n",
    "    d_difference_with_expectation_x = d_x - d_expected_value_x\n",
    "    d_difference_with_expectation_x_in_square = d_difference_with_expectation_x*d_difference_with_expectation_x\n",
    "    var_x = d_difference_with_expectation_x_in_square@d_P\n",
    "    return var_x"
   ]
  },
  {
   "cell_type": "code",
   "execution_count": 5,
   "metadata": {},
   "outputs": [
    {
     "data": {
      "text/plain": [
       "2.5019"
      ]
     },
     "execution_count": 5,
     "metadata": {},
     "output_type": "execute_result"
    }
   ],
   "source": [
    "# проверим функцию\n",
    "my_var(x,P)"
   ]
  },
  {
   "cell_type": "markdown",
   "metadata": {},
   "source": [
    "## Задание 2.5.1\n",
    "Для случайной величины (X) найдите дисперсию (Var(X)) и стандартное отклонение (σ):"
   ]
  },
  {
   "cell_type": "code",
   "execution_count": 6,
   "metadata": {},
   "outputs": [
    {
     "name": "stdout",
     "output_type": "stream",
     "text": [
      "Ответ к заданию 2.5.1\n",
      "дисперсия (Var(X)) равна:= 0.61\n",
      "стандартное отклонение (σ) равно:= 0.78\n"
     ]
    }
   ],
   "source": [
    "task_x = np.array([2, 3, 4, 5])\n",
    "task_P = np.array([.1, .2, .6, .1])\n",
    "var_x = my_var(task_x, task_P)\n",
    "sigma_x = var_x ** 0.5\n",
    "\n",
    "\n",
    "task = \"2.5.1\"\n",
    "print(f\"Ответ к заданию {task}\")\n",
    "print(f\"дисперсия (Var(X)) равна:= {round(var_x,2)}\")\n",
    "print(f\"стандартное отклонение (σ) равно:= {round(sigma_x,2)}\")"
   ]
  },
  {
   "cell_type": "markdown",
   "metadata": {},
   "source": [
    "## Задание 2.5.2\n",
    "Фирма производит гвозди. Гвозди продаются в небольших упаковках, в каждую попадает (X) гвоздей. Ниже представлено распределение вероятностей (X):  \n",
    "1. Найдите среднее (математическое ожидание) и стандартное отклонение количества гвоздей в одной упаковке.  \n",
    "2. Вес одного гвоздя 10 граммов, вес пустой упаковки 20 граммов. На основании ответов, полученных в первой части, найдите средний вес упаковки с гвоздями и его стандартное отклонение."
   ]
  },
  {
   "cell_type": "code",
   "execution_count": 7,
   "metadata": {},
   "outputs": [
    {
     "name": "stdout",
     "output_type": "stream",
     "text": [
      "Ответ к заданию 2.5.2 пункт 1\n",
      "среднее равно:= 40.6\n",
      "стандартное отклонение (σ) равно:= 1.43\n"
     ]
    }
   ],
   "source": [
    "task_X = np.array([38, 39, 40, 41, 42, 43])\n",
    "task_P = np.array([.1, .1, .3, .2, .2, .1])\n",
    "\n",
    "expected_value_X = task_X@task_P\n",
    "var_X = my_var(task_X, task_P)\n",
    "sigma_X = var_X ** 0.5\n",
    "\n",
    "task = \"2.5.2\"\n",
    "print(f\"Ответ к заданию {task} пункт 1\")\n",
    "print(f\"среднее равно:= {round(expected_value_X,2)}\")\n",
    "print(f\"стандартное отклонение (σ) равно:= {round(sigma_X,2)}\")"
   ]
  },
  {
   "cell_type": "code",
   "execution_count": 8,
   "metadata": {},
   "outputs": [
    {
     "name": "stdout",
     "output_type": "stream",
     "text": [
      "Ответ к заданию 2.5.2 пункт 2\n",
      "среднее равно:= 426.0\n",
      "стандартное отклонение (σ) равно:= 14.3\n"
     ]
    }
   ],
   "source": [
    "expected_value_weight = expected_value_X*10+20\n",
    "var_weight = my_var(task_X*10+20, task_P)\n",
    "sigma_weight = var_weight ** 0.5\n",
    "\n",
    "task = \"2.5.2\"\n",
    "print(f\"Ответ к заданию {task} пункт 2\")\n",
    "print(f\"среднее равно:= {round(expected_value_weight,2)}\")\n",
    "print(f\"стандартное отклонение (σ) равно:= {round(sigma_weight,1)}\")"
   ]
  },
  {
   "cell_type": "markdown",
   "metadata": {},
   "source": [
    "## Задание 2.5.3\n",
    "(X) и (Y) — случайные величины со следующими распределениями вероятностей:  \n",
    "Рассмотрим случайные величины: (U = 3X+1, S = 5-Y).  \n",
    "Найдите следующие значения (укажите с точностью до 2 знаков после разделительной точки):"
   ]
  },
  {
   "cell_type": "code",
   "execution_count": 9,
   "metadata": {},
   "outputs": [
    {
     "name": "stdout",
     "output_type": "stream",
     "text": [
      "Ответ к заданию 2.5.3\n",
      "среднее X:= 2.8\n",
      "среднее Y:= 0.0\n",
      "среднее U:= 9.4\n",
      "среднее S:= 5.0\n",
      "среднее U-S:= 4.4\n",
      "дисперсия (Var(X)) равно:= 1.16\n",
      "дисперсия (Var(Y)) равно:= 1.4\n",
      "дисперсия (Var(U)) равно:= 10.44\n",
      "дисперсия (Var(S)) равно:= 1.4\n",
      "дисперсия (Var(U-S)) равно:= 11.84\n"
     ]
    }
   ],
   "source": [
    "task_X = np.array([1, 2, 3, 4])\n",
    "task_P_X = np.array([.2, .1, .4, .3])\n",
    "\n",
    "task_Y = np.array([-1, 0, 1, 2])\n",
    "task_P_Y = np.array([.5, .2, .1, .2])\n",
    "\n",
    "expected_value_X = task_X@task_P_X\n",
    "var_X = my_var(task_X, task_P_X)\n",
    "\n",
    "expected_value_Y = task_Y@task_P_Y\n",
    "var_Y = my_var(task_Y, task_P_Y)\n",
    "\n",
    "U = task_X*3+1\n",
    "expected_value_U = U@task_P_X\n",
    "var_U = my_var(U, task_P_X)\n",
    "\n",
    "S = 5-task_Y\n",
    "expected_value_S = S@task_P_Y\n",
    "var_S = my_var(S, task_P_Y)\n",
    "\n",
    "task = \"2.5.3\"\n",
    "print(f\"Ответ к заданию {task}\")\n",
    "print(f\"среднее X:= {round(expected_value_X,2)}\")\n",
    "print(f\"среднее Y:= {round(expected_value_Y,2)}\")\n",
    "print(f\"среднее U:= {round(expected_value_U,2)}\")\n",
    "print(f\"среднее S:= {round(expected_value_S,2)}\")\n",
    "print(f\"среднее U-S:= {round(expected_value_U - expected_value_S,2)}\")\n",
    "print(f\"дисперсия (Var(X)) равно:= {round(var_X,2)}\")\n",
    "print(f\"дисперсия (Var(Y)) равно:= {round(var_Y,2)}\")\n",
    "print(f\"дисперсия (Var(U)) равно:= {round(var_U,2)}\")\n",
    "print(f\"дисперсия (Var(S)) равно:= {round(var_S,2)}\")\n",
    "print(f\"дисперсия (Var(U-S)) равно:= {round(var_U+var_S,2)}\")"
   ]
  },
  {
   "cell_type": "markdown",
   "metadata": {},
   "source": [
    "## Задание 2.8.1\n",
    "Z — стандартная нормальная величина. Используя функцию norm.cdf(), найдите ниже указанные значения. Ответ округлите до 2 знаков после разделительной точки."
   ]
  },
  {
   "cell_type": "code",
   "execution_count": 10,
   "metadata": {},
   "outputs": [
    {
     "name": "stdout",
     "output_type": "stream",
     "text": [
      "Ответ к заданию 2.8.1\n",
      "P(Z<1):= 0.84\n",
      "P(Z<1.12):= 0.87\n",
      "P(Z<-1.87):= 0.03\n",
      "P(Z>2):= 0.02\n"
     ]
    }
   ],
   "source": [
    "task = \"2.8.1\"\n",
    "print(f\"Ответ к заданию {task}\")\n",
    "print(f\"P(Z<1):= {round(norm.cdf(1),2)}\")\n",
    "print(f\"P(Z<1.12):= {round(norm.cdf(1.12),2)}\")\n",
    "print(f\"P(Z<-1.87):= {round(norm.cdf(-1.87),2)}\")\n",
    "print(f\"P(Z>2):= {round(1-norm.cdf(2),2)}\")"
   ]
  },
  {
   "cell_type": "markdown",
   "metadata": {},
   "source": [
    "## Задание 2.8.2\n",
    "Используя функцию norm.ppf(), найдите число .  \n",
    "Ответ округлите до 2 знаков после разделительной точки:"
   ]
  },
  {
   "cell_type": "code",
   "execution_count": 11,
   "metadata": {},
   "outputs": [
    {
     "name": "stdout",
     "output_type": "stream",
     "text": [
      "Ответ к заданию 2.8.2\n",
      "если P(Z<z)=0.1, то z:= -1.28\n",
      "если P(Z>z)=0.05, то z:= 1.64\n",
      "если P(Z<z)=0.025, то z:= -1.96\n",
      "если P(Z>z)=0.01, то z:= 2.33\n",
      "если P(Z<z)=0.005, то z:= -2.58\n",
      "еще один способ расчета (смотри код)\n",
      "если P(Z>z)=0.05, то z:= 1.64\n",
      "если P(Z>z)=0.01, то z:= 2.33\n"
     ]
    }
   ],
   "source": [
    "task = \"2.8.2\"\n",
    "print(f\"Ответ к заданию {task}\")\n",
    "print(f\"если P(Z<z)=0.1, то z:= {round(norm.ppf(.1),2)}\")\n",
    "print(f\"если P(Z>z)=0.05, то z:= {round(norm.ppf(1 - 0.05),2)}\")\n",
    "print(f\"если P(Z<z)=0.025, то z:= {round(norm.ppf(.025),2)}\")\n",
    "print(f\"если P(Z>z)=0.01, то z:= {round(norm.ppf(1 - 0.01),2)}\")\n",
    "print(f\"если P(Z<z)=0.005, то z:= {round(norm.ppf(.005),2)}\")\n",
    "\n",
    "print(f\"еще один способ расчета (смотри код)\")\n",
    "print(f\"если P(Z>z)=0.05, то z:= {round(- norm.ppf(0.05),2)}\")\n",
    "print(f\"если P(Z>z)=0.01, то z:= {round(- norm.ppf(0.01),2)}\")"
   ]
  },
  {
   "cell_type": "markdown",
   "metadata": {},
   "source": [
    "## Задание 2.10.1\n",
    "Известно, что вес жителя Гонконга распределен нормально со средним в 70 кг и стандартным отклонением 5 кг. Лифт в одном бизнес-центре может поднять не более 375 кг. Также на нем указана вместимость не более 5 человек. Другими словами, если 5 человек входят в лифт, их средний вес не должен превысить 75 кг (как 375/5).  \n",
    "Какова вероятность, что средний вес случайно подошедших к лифту 7 человек превысит 75 кг и не позволит лифту подняться? Укажите ответ в виде десяточной дроби с 3 знаками после точки-разделителя."
   ]
  },
  {
   "cell_type": "code",
   "execution_count": 12,
   "metadata": {},
   "outputs": [
    {
     "name": "stdout",
     "output_type": "stream",
     "text": [
      "Ответ к заданию 2.10.1\n",
      "P(X>75):= 0.013\n"
     ]
    }
   ],
   "source": [
    "# Нам нужно найти P(X>75)= 1-P(X<75) c нормальным распределением в котором\n",
    "# матожидание = 70, а стандартное отклонение выборки = \n",
    "# стандартное отклонение распределения (==5) разделить на \n",
    "# корень из кол-ва выборки (корень из 5)\n",
    "temp = 1 - norm.cdf(75, 70, 5**0.5)\n",
    "task = \"2.10.1\"\n",
    "print(f\"Ответ к заданию {task}\")\n",
    "print(f\"P(X>75):= {round(temp,3)}\")"
   ]
  },
  {
   "cell_type": "markdown",
   "metadata": {},
   "source": [
    "## Задание 2.10.2\n",
    "Известно, что 20 % взрослого населения в городе Пало Альто, Калифорния, обладают машиной Tesla (другими словами, p, истинная пропорция обладателей Tesla в городе равна 0.2). Допустим, вы берете выборку из 225 взрослых людей из Пало Альто. Какова вероятность, что выборочная пропорция не превысит 16 % (то есть вероятность что p^ < 0.16 )?  \n",
    "Укажите ответ в виде десяточной дроби с 3 знаками после точки-разделителя."
   ]
  },
  {
   "cell_type": "code",
   "execution_count": 13,
   "metadata": {},
   "outputs": [
    {
     "name": "stdout",
     "output_type": "stream",
     "text": [
      "Ответ к заданию 2.10.2\n",
      "p<0.16:= 0.067\n"
     ]
    }
   ],
   "source": [
    "# Распределение выборочной пропорции имеет нормальный характер с матожидаением 0.2. \n",
    "# вероятность того что выборочная пропорция будет меньше 0.16.\n",
    "# чтобы посчитать эту вероятность нужно воспользоваться функцией cdf(), которой передать сколько сигм поместится между 0.2 и 0.16\n",
    "# Сигму для графика выборочной пропорции считаем по формуле, приведенной в видео: корень квадратный из ((p * (1-p)) / n), где n - размер нашей выборки, а p - истинная пропорция\n",
    "p = 0.2\n",
    "sigma = p*(1-p)/225\n",
    "\n",
    "temp = norm.cdf(0.16, p, sigma**0.5)\n",
    "task = \"2.10.2\"\n",
    "print(f\"Ответ к заданию {task}\")\n",
    "print(f\"p<0.16:= {round(temp,3)}\")"
   ]
  },
  {
   "cell_type": "markdown",
   "metadata": {},
   "source": [
    "## Задание 2.11.1\n",
    "Случайный покупатель в книжном магазине купит одну, две или три книги с вероятностью 0.3, 0.4 и 0.3, соответственно. Каждая книга стоит 400 рублей. Найдите математическое ожидание расходов покупателя магазина."
   ]
  },
  {
   "cell_type": "code",
   "execution_count": 14,
   "metadata": {},
   "outputs": [
    {
     "name": "stdout",
     "output_type": "stream",
     "text": [
      "Ответ к заданию 2.11.1\n",
      "дисперсия (Var(X)) равна:= 2.0\n",
      "математическое ожидание расходов равно:= 800.0\n"
     ]
    }
   ],
   "source": [
    "task_X = np.array([1, 2, 3])  # распределение покупок\n",
    "task_P = np.array([.3, .4, .3])\n",
    "\n",
    "#Y = 400*X  распределение расходов от покупки\n",
    "\n",
    "expected_value_X = task_X@task_P\n",
    "\n",
    "task = \"2.11.1\"\n",
    "print(f\"Ответ к заданию {task}\")\n",
    "print(f\"дисперсия (Var(X)) равна:= {round(expected_value_X,2)}\")\n",
    "print(f\"математическое ожидание расходов равно:= {round(expected_value_X*400,2)}\")"
   ]
  },
  {
   "cell_type": "markdown",
   "metadata": {},
   "source": [
    "## Задание 2.11.2\n",
    "Случайная величина  имеет следующее распределение вероятностей:  \n",
    "1. Найдите математическое ожидание"
   ]
  },
  {
   "cell_type": "code",
   "execution_count": 19,
   "metadata": {},
   "outputs": [
    {
     "name": "stdout",
     "output_type": "stream",
     "text": [
      "Ответ к заданию 2.11.2\n",
      "1. математическое ожидание E(X) равно:= 3.7\n",
      "2. математическое ожидание E(X(X+1)) равно:= 18.0\n"
     ]
    }
   ],
   "source": [
    "task_X = np.array([2, 3, 4, 5])\n",
    "task_P = np.array([.1, .2, .6, .1])\n",
    "\n",
    "expected_value_X = task_X@task_P\n",
    "\n",
    "X_X_plus_1 = task_X* (task_X + 1)\n",
    "\n",
    "expected_value_X_X_plus_1 = X_X_plus_1@task_P\n",
    "\n",
    "task = \"2.11.2\"\n",
    "print(f\"Ответ к заданию {task}\")\n",
    "print(f\"1. математическое ожидание E(X) равно:= {round(expected_value_X,2)}\")\n",
    "print(f\"2. математическое ожидание E(X(X+1)) равно:= {round(expected_value_X_X_plus_1,2)}\")"
   ]
  },
  {
   "cell_type": "code",
   "execution_count": 17,
   "metadata": {},
   "outputs": [],
   "source": [
    "X_X_plus_1 = task_X* (task_X + 1)"
   ]
  },
  {
   "cell_type": "code",
   "execution_count": 18,
   "metadata": {},
   "outputs": [
    {
     "data": {
      "text/plain": [
       "array([ 6, 12, 20, 30])"
      ]
     },
     "execution_count": 18,
     "metadata": {},
     "output_type": "execute_result"
    }
   ],
   "source": [
    "X_X_plus_1"
   ]
  },
  {
   "cell_type": "markdown",
   "metadata": {},
   "source": [
    "## Задание 2.11.4\n",
    "Оценки студентов на международной онлайн олимпиаде распределены нормально со средним 700 баллов и стандартным отклонением 120 баллов. Диплом первой категории выдается участникам, набравшим более 820 баллов. Диплом второй категории — участникам, набравшим от 730 до 820 баллов. Для решения задачи используйте функции norm.cdf() и norm.ppf() из пакета scipy.stats.  \n",
    "Ответ укажите с округлением до 2 знаков после точки-разделителя.\n",
    "1. Какая доля участников получает диплом 1 категории? \n",
    "2. Какая доля участников получает диплом 2 категории? \n",
    "3. Некоторые участники порой выставляли ответы, даже не пытаясь решить задачу, случайным образом, стремясь набрать минимальное количество баллов лишь для того, чтобы получить сертификат об участии. Оргкомитет олимпиады принял решение не выдавать сертификатов тем, кто попал в 5 % участников с наименьшими баллами. Какое минимальное количество баллов нужно было набрать, чтобы получить сертификат об участии? Количество баллов – это целое число."
   ]
  },
  {
   "cell_type": "code",
   "execution_count": 40,
   "metadata": {},
   "outputs": [
    {
     "name": "stdout",
     "output_type": "stream",
     "text": [
      "Ответ к заданию 2.11.4\n",
      "доля участников получает диплом 1 категории:= 0.16\n",
      "доля участников получает диплом 2 категории:= 0.24\n",
      "минимальное количество баллов которое нужно было набрать, чтобы получить сертификат об участии:= 503.0\n"
     ]
    }
   ],
   "source": [
    "# P(X>820)= 1 - P(X<820), a P(X<820)= norm.cdf(820,700,120)\n",
    "temp1 = 1-norm.cdf(820,700,120)\n",
    "\n",
    "# P(730<X<820) = P(X>730) - P(X>820)\n",
    "# P(X>820) мы уже знаем \n",
    "# P(X>730)= 1 - P(X<730), a P(X<730)= norm.cdf(730,700,120)\n",
    "temp2 = 1- norm.cdf(730,700,120)\n",
    "temp3 = temp2-temp1\n",
    "\n",
    "temp4 = norm.ppf(0.05, loc=700, scale=120)\n",
    "task = \"2.11.4\"\n",
    "print(f\"Ответ к заданию {task}\")\n",
    "print(f\"доля участников получает диплом 1 категории:= {round(temp1,2)}\")\n",
    "print(f\"доля участников получает диплом 2 категории:= {round(temp3,2)}\")\n",
    "print(f\"минимальное количество баллов которое нужно было набрать, чтобы получить сертификат об участии:= {round(temp4,0)}\")"
   ]
  },
  {
   "cell_type": "code",
   "execution_count": null,
   "metadata": {},
   "outputs": [],
   "source": []
  }
 ],
 "metadata": {
  "kernelspec": {
   "display_name": "Python 3.7.6 64-bit ('pc': virtualenv)",
   "language": "python",
   "name": "python37664bitpcvirtualenv97fbdfb45a8b4f95af828ec1f0610519"
  },
  "language_info": {
   "codemirror_mode": {
    "name": "ipython",
    "version": 3
   },
   "file_extension": ".py",
   "mimetype": "text/x-python",
   "name": "python",
   "nbconvert_exporter": "python",
   "pygments_lexer": "ipython3",
   "version": "3.7.6"
  }
 },
 "nbformat": 4,
 "nbformat_minor": 2
}

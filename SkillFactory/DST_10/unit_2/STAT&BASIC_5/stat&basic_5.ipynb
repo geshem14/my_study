{
 "cells": [
  {
   "cell_type": "markdown",
   "metadata": {},
   "source": [
    "# STAT&BASIC-5. Тестирование гипотез о разности параметров \n",
    "## Юнит 2. Разведывательный анализ данных\n",
    "### Skillfactory: DST-10"
   ]
  },
  {
   "cell_type": "code",
   "execution_count": 2,
   "metadata": {},
   "outputs": [],
   "source": [
    "import pandas as pd\n",
    "import numpy as np\n",
    "from scipy.stats import norm, t\n",
    "import matplotlib.pyplot as plt\n",
    "from statsmodels.stats import weightstats "
   ]
  },
  {
   "cell_type": "markdown",
   "metadata": {},
   "source": [
    "Примечание:  \n",
    "Функции weightstats.CompareMeans.ztest_ind() и weightstats.ttest_ind() принимают на вход одни и те же параметры. Чтобы посчитать разность средних двух наборов данных, необходимо передать на вход функции два аргумента: x1 и x2. Где:\n",
    " x1 — первый набор данных;\n",
    " x2 — второй набор данных;\n",
    "Дополнительный параметр usevar может принимать два значения. Если usevar = 'pooled', то стандартное отклонение образцов считается одинаковым. Если usevar ='unequal', то стандартные отклонения образцов могут быть разными.  \n",
    "Функции weightstats.CompareMeans.ztest_ind() и weightstats.ttest_ind() возвращают:\n",
    "- значение t (или z)-статистики;\n",
    "- значение p-value;\n",
    "- значение степеней свободы.  \n",
    "\n",
    "Подробнее о weightstats.CompareMeans.ztest_ind() можно прочесть [здесь](https://www.statsmodels.org/stable/generated/statsmodels.stats.weightstats.CompareMeans.ztest_ind.html).  \n",
    "Подробнее о weightstats.ttest_ind() можно прочесть [здесь](https://www.statsmodels.org/stable/generated/statsmodels.stats.weightstats.ttest_ind.html)."
   ]
  },
  {
   "cell_type": "code",
   "execution_count": 3,
   "metadata": {},
   "outputs": [],
   "source": [
    "import pandas as pd\n",
    "df = pd.DataFrame({\n",
    "    'x': [6.1, 9.2, 11.5, 8.6, 12.1, 3.9, 8.4, 10.1, 9.4, 8.9],\n",
    "    'y': [7.3, 8.7, 12.6, 6.8, 12, 6.9, 10.2, 17.1, 9.2, 11.6]\n",
    "})"
   ]
  },
  {
   "cell_type": "markdown",
   "metadata": {},
   "source": [
    "## 5.6.1 Задание 1\n",
    "Сколько степеней свободы в соответствующем распределении Стьюдента?  \n",
    "***Примечание:*** мы не можем сказать, что выборочные отклонения наборов данных одинаковы. Уточните это в парамере usevar при вычислении. При необходимости ответ округлите до целого числа."
   ]
  },
  {
   "cell_type": "code",
   "execution_count": 7,
   "metadata": {},
   "outputs": [
    {
     "output_type": "stream",
     "name": "stdout",
     "text": "Ответ к заданию 5.6.1\nстепеней свободы := 17.0\n"
    }
   ],
   "source": [
    "# используем функцию ttest_ind() для расчета степеней свободы\n",
    "# функция weightstats.ttest_ind() возвращает три значения:\n",
    "   # значение t-статистики;\n",
    "   # значение p-value;\n",
    "   # значение степеней свободы.\n",
    "# берем третий [2]\n",
    "degree_of_freedom = weightstats.ttest_ind(df.x, df.y, usevar='unequal')[2]\n",
    "\n",
    "task = \"5.6.1\"\n",
    "print(f\"Ответ к заданию {task}\")\n",
    "print(f\"степеней свободы := {round(degree_of_freedom,0)}\")"
   ]
  },
  {
   "cell_type": "markdown",
   "metadata": {},
   "source": [
    "## 5.6.2 Задание 2  \n",
    "Укажите значение t-статистики. Ответ округлите до двух знаков после разделительной точки."
   ]
  },
  {
   "cell_type": "code",
   "execution_count": 10,
   "metadata": {},
   "outputs": [
    {
     "output_type": "stream",
     "name": "stdout",
     "text": "Ответ к заданию 5.6.2\nt-статистика := -1.12\n"
    }
   ],
   "source": [
    "# используем функцию ttest_ind() для расчета t-статистики\n",
    "# функция weightstats.ttest_ind() возвращает три значения:\n",
    "   # значение t-статистики;\n",
    "   # значение p-value;\n",
    "   # значение степеней свободы.\n",
    "# берем первый [0]\n",
    "t_stat = weightstats.ttest_ind(df.x, df.y, usevar='unequal')[0]\n",
    "\n",
    "task = \"5.6.2\"\n",
    "print(f\"Ответ к заданию {task}\")\n",
    "print(f\"t-статистика := {round(t_stat,3)}\")"
   ]
  },
  {
   "cell_type": "markdown",
   "metadata": {},
   "source": [
    "## 5.6.3 Задание 3  \n",
    "Чему равно значение p-value для тестируемой двусторонней альтернативной гипотезы? Ответ округлите до двух знаков после разделительной точки."
   ]
  },
  {
   "cell_type": "code",
   "execution_count": 19,
   "metadata": {},
   "outputs": [
    {
     "output_type": "stream",
     "name": "stdout",
     "text": "Ответ к заданию 5.6.3\np-value := 0.28\n"
    }
   ],
   "source": [
    "# используем функцию ttest_ind() для расчета p-value\n",
    "# функция weightstats.ttest_ind() возвращает три значения:\n",
    "   # значение t-статистики;\n",
    "   # значение p-value;\n",
    "   # значение степеней свободы.\n",
    "# берем второй [1]\n",
    "p_value = weightstats.ttest_ind(df.x, df.y, usevar='unequal')[1]\n",
    "\n",
    "task = \"5.6.3\"\n",
    "print(f\"Ответ к заданию {task}\")\n",
    "print(f\"p-value := {round(p_value,2)}\")"
   ]
  },
  {
   "cell_type": "markdown",
   "metadata": {},
   "source": [
    "## 5.6.4 Задание 4\n",
    "\n",
    "***Ответ:*** Таким образом, мы -***не отвергаем***- нулевую гипотезу  и приходим к выводу о -***равенстве***- средних значений X и Y.\n",
    "\n",
    "!!!Обратите внимание!!! в задаче не указано с каким уровнем значимости, необходимо подтвердить или опровергнуть нулевую гипотезу, но обычно это значение по умолчанию 0.05 (5%), а у нас p_value = 28%."
   ]
  },
  {
   "cell_type": "markdown",
   "metadata": {},
   "source": [
    "## 5.9.1 Задание 1\n",
    "Условие:  \n",
    "У нас есть две случайные выборки (100 женщин в каждой) из двух исследуемых этнических групп, A и Б.  \n",
    "Таблица содержит количество положительных и отрицательных ответов на вопрос «Состояли ли вы в браке до достижения возраста 19 лет?» в каждой из выборок(см.ниже)  \n",
    "\n",
    "---| A | Б |  \n",
    "Да |62 | 29|  \n",
    "Нет|38 | 71|  \n",
    "\n",
    "Протестируйте гипотезу о равенстве пропорций женщин, состоявших в браке до 19 лет в группах A и Б против альтернативы, что эта пропорция в группе А выше.  \n",
    "\n",
    "Введите значение z-статистики. Ответ округлите до двух знаков после разделительной точки."
   ]
  },
  {
   "cell_type": "code",
   "execution_count": 16,
   "metadata": {},
   "outputs": [
    {
     "output_type": "stream",
     "name": "stdout",
     "text": "62.0 38.0 28.999999999999996 71.0\n"
    }
   ],
   "source": [
    "# Нулевая гипотеза предполагает, что пропорции женщин, состоявших в браке до 19 лет в группах A и Б равны (p1 == p2), а альтернативная — что пропорций женщин, состоявших в браке до 19 лет в группах A и Б (p1 > p2)\n",
    "\n",
    "# cобираем данные\n",
    "p1_ = 62/(62+38)\n",
    "p2_ = 29/(29+71)\n",
    "n1, n2 = 100, 100\n",
    "\n",
    "# мысленный эксперимент. Выборки случайные и независимые. Проверяем, достаточно ли они велики.\n",
    "print(n1*p1_, n1*(1-p1_), n2*p2_, n2*(1-p2_))"
   ]
  },
  {
   "cell_type": "code",
   "execution_count": 20,
   "metadata": {},
   "outputs": [
    {
     "output_type": "stream",
     "name": "stdout",
     "text": "Ответ к заданию 5.9.1\nz-статистику := 4.69\n"
    }
   ],
   "source": [
    "# все значения больше 5, продолжаем\n",
    "\n",
    "# cчитаем z-статистику\n",
    "p_ = (n1*p1_ + n2*p2_)/(n1 + n2)\n",
    "z_stat = (p1_ - p2_)/((p_*(1-p_)*(n1+n2)/(n1*n2))**0.5)\n",
    "\n",
    "task = \"5.9.1\"\n",
    "print(f\"Ответ к заданию {task}\")\n",
    "print(f\"z-статистику := {round(z_stat,2)}\")"
   ]
  },
  {
   "cell_type": "markdown",
   "metadata": {},
   "source": [
    "## 5.9.2 Задание 2  \n",
    "Соответствующее значение p-value:"
   ]
  },
  {
   "cell_type": "code",
   "execution_count": 25,
   "metadata": {},
   "outputs": [
    {
     "output_type": "stream",
     "name": "stdout",
     "text": "Ответ к заданию 5.9.2\np-value := 1.39e-06\n"
    }
   ],
   "source": [
    "# cчитаем z-статистику\n",
    "p_value = 1 - norm.cdf(z_stat)\n",
    "\n",
    "task = \"5.9.2\"\n",
    "print(f\"Ответ к заданию {task}\")\n",
    "print(f\"p-value := {round(p_value,8)}\")"
   ]
  },
  {
   "cell_type": "markdown",
   "metadata": {},
   "source": [
    "## 5.9.3 Задание 3  \n",
    "\n",
    "***Ответ:*** Таким образом, мы -***отвергаем***- нулевую гипотезу  и приходим к выводу о том, что пропорция в группе А -***выше чем***- в группе "
   ]
  },
  {
   "cell_type": "markdown",
   "metadata": {},
   "source": [
    "конец модуля"
   ]
  },
  {
   "cell_type": "markdown",
   "metadata": {},
   "source": [
    "конец модуля"
   ]
  }
 ],
 "metadata": {
  "kernelspec": {
   "display_name": "Python 3.7.4 32-bit",
   "language": "python",
   "name": "python37432bita71cb111c6ea413eb6cb230204f32890"
  },
  "language_info": {
   "codemirror_mode": {
    "name": "ipython",
    "version": 3
   },
   "file_extension": ".py",
   "mimetype": "text/x-python",
   "name": "python",
   "nbconvert_exporter": "python",
   "pygments_lexer": "ipython3",
   "version": "3.7.4-final"
  }
 },
 "nbformat": 4,
 "nbformat_minor": 2
}
{
 "cells": [
  {
   "cell_type": "markdown",
   "metadata": {},
   "source": [
    "# 0. Постановка задачи"
   ]
  },
  {
   "cell_type": "markdown",
   "metadata": {},
   "source": [
    "Имеется датасет, содержащий демографическую информацию и учебную статистику учащихся в возрасте от 15 до 22 лет. На его основе предполагется разработать модель, предсказываюущю результаты госэкзамена по математике на основе представленных в датасете факторов. \n",
    "Требуется провести анализ и обработку данных с целью устранения технического брака (пропуски, некорректные значения и.т.п.), выбросов и избыточных параметров (колинеарные другим параметрам, не влияющим на целевой параметр); коррекции типов данных; и в целом оптимизации датасета для дальнейшей работы с ним."
   ]
  },
  {
   "cell_type": "markdown",
   "metadata": {},
   "source": [
    "# 1. Загрузка данных и первичный анализ."
   ]
  },
  {
   "cell_type": "code",
   "execution_count": 1,
   "metadata": {},
   "outputs": [
    {
     "data": {
      "text/html": [
       "<div>\n",
       "<style scoped>\n",
       "    .dataframe tbody tr th:only-of-type {\n",
       "        vertical-align: middle;\n",
       "    }\n",
       "\n",
       "    .dataframe tbody tr th {\n",
       "        vertical-align: top;\n",
       "    }\n",
       "\n",
       "    .dataframe thead th {\n",
       "        text-align: right;\n",
       "    }\n",
       "</style>\n",
       "<table border=\"1\" class=\"dataframe\">\n",
       "  <thead>\n",
       "    <tr style=\"text-align: right;\">\n",
       "      <th></th>\n",
       "      <th>school</th>\n",
       "      <th>sex</th>\n",
       "      <th>age</th>\n",
       "      <th>address</th>\n",
       "      <th>famsize</th>\n",
       "      <th>Pstatus</th>\n",
       "      <th>Medu</th>\n",
       "      <th>Fedu</th>\n",
       "      <th>Mjob</th>\n",
       "      <th>Fjob</th>\n",
       "      <th>reason</th>\n",
       "      <th>guardian</th>\n",
       "      <th>traveltime</th>\n",
       "      <th>studytime</th>\n",
       "      <th>failures</th>\n",
       "      <th>schoolsup</th>\n",
       "      <th>famsup</th>\n",
       "      <th>paid</th>\n",
       "      <th>activities</th>\n",
       "      <th>nursery</th>\n",
       "      <th>studytime, granular</th>\n",
       "      <th>higher</th>\n",
       "      <th>internet</th>\n",
       "      <th>romantic</th>\n",
       "      <th>famrel</th>\n",
       "      <th>freetime</th>\n",
       "      <th>goout</th>\n",
       "      <th>health</th>\n",
       "      <th>absences</th>\n",
       "      <th>score</th>\n",
       "    </tr>\n",
       "  </thead>\n",
       "  <tbody>\n",
       "    <tr>\n",
       "      <td>0</td>\n",
       "      <td>GP</td>\n",
       "      <td>F</td>\n",
       "      <td>18</td>\n",
       "      <td>U</td>\n",
       "      <td>NaN</td>\n",
       "      <td>A</td>\n",
       "      <td>4.0</td>\n",
       "      <td>4.0</td>\n",
       "      <td>at_home</td>\n",
       "      <td>teacher</td>\n",
       "      <td>course</td>\n",
       "      <td>mother</td>\n",
       "      <td>2.0</td>\n",
       "      <td>2.0</td>\n",
       "      <td>0.0</td>\n",
       "      <td>yes</td>\n",
       "      <td>no</td>\n",
       "      <td>no</td>\n",
       "      <td>no</td>\n",
       "      <td>yes</td>\n",
       "      <td>-6.0</td>\n",
       "      <td>yes</td>\n",
       "      <td>NaN</td>\n",
       "      <td>no</td>\n",
       "      <td>4.0</td>\n",
       "      <td>3.0</td>\n",
       "      <td>4.0</td>\n",
       "      <td>3.0</td>\n",
       "      <td>6.0</td>\n",
       "      <td>30.0</td>\n",
       "    </tr>\n",
       "    <tr>\n",
       "      <td>1</td>\n",
       "      <td>GP</td>\n",
       "      <td>F</td>\n",
       "      <td>17</td>\n",
       "      <td>U</td>\n",
       "      <td>GT3</td>\n",
       "      <td>NaN</td>\n",
       "      <td>1.0</td>\n",
       "      <td>1.0</td>\n",
       "      <td>at_home</td>\n",
       "      <td>other</td>\n",
       "      <td>course</td>\n",
       "      <td>father</td>\n",
       "      <td>1.0</td>\n",
       "      <td>2.0</td>\n",
       "      <td>0.0</td>\n",
       "      <td>no</td>\n",
       "      <td>yes</td>\n",
       "      <td>no</td>\n",
       "      <td>no</td>\n",
       "      <td>no</td>\n",
       "      <td>-6.0</td>\n",
       "      <td>yes</td>\n",
       "      <td>yes</td>\n",
       "      <td>no</td>\n",
       "      <td>5.0</td>\n",
       "      <td>3.0</td>\n",
       "      <td>3.0</td>\n",
       "      <td>3.0</td>\n",
       "      <td>4.0</td>\n",
       "      <td>30.0</td>\n",
       "    </tr>\n",
       "    <tr>\n",
       "      <td>2</td>\n",
       "      <td>GP</td>\n",
       "      <td>F</td>\n",
       "      <td>15</td>\n",
       "      <td>U</td>\n",
       "      <td>LE3</td>\n",
       "      <td>T</td>\n",
       "      <td>1.0</td>\n",
       "      <td>1.0</td>\n",
       "      <td>at_home</td>\n",
       "      <td>other</td>\n",
       "      <td>other</td>\n",
       "      <td>mother</td>\n",
       "      <td>1.0</td>\n",
       "      <td>2.0</td>\n",
       "      <td>3.0</td>\n",
       "      <td>yes</td>\n",
       "      <td>no</td>\n",
       "      <td>NaN</td>\n",
       "      <td>no</td>\n",
       "      <td>yes</td>\n",
       "      <td>-6.0</td>\n",
       "      <td>yes</td>\n",
       "      <td>yes</td>\n",
       "      <td>NaN</td>\n",
       "      <td>4.0</td>\n",
       "      <td>3.0</td>\n",
       "      <td>2.0</td>\n",
       "      <td>3.0</td>\n",
       "      <td>10.0</td>\n",
       "      <td>50.0</td>\n",
       "    </tr>\n",
       "    <tr>\n",
       "      <td>3</td>\n",
       "      <td>GP</td>\n",
       "      <td>F</td>\n",
       "      <td>15</td>\n",
       "      <td>U</td>\n",
       "      <td>GT3</td>\n",
       "      <td>T</td>\n",
       "      <td>4.0</td>\n",
       "      <td>2.0</td>\n",
       "      <td>health</td>\n",
       "      <td>NaN</td>\n",
       "      <td>home</td>\n",
       "      <td>mother</td>\n",
       "      <td>1.0</td>\n",
       "      <td>3.0</td>\n",
       "      <td>0.0</td>\n",
       "      <td>no</td>\n",
       "      <td>yes</td>\n",
       "      <td>yes</td>\n",
       "      <td>yes</td>\n",
       "      <td>yes</td>\n",
       "      <td>-9.0</td>\n",
       "      <td>yes</td>\n",
       "      <td>yes</td>\n",
       "      <td>yes</td>\n",
       "      <td>3.0</td>\n",
       "      <td>2.0</td>\n",
       "      <td>2.0</td>\n",
       "      <td>5.0</td>\n",
       "      <td>2.0</td>\n",
       "      <td>75.0</td>\n",
       "    </tr>\n",
       "    <tr>\n",
       "      <td>4</td>\n",
       "      <td>GP</td>\n",
       "      <td>F</td>\n",
       "      <td>16</td>\n",
       "      <td>U</td>\n",
       "      <td>GT3</td>\n",
       "      <td>T</td>\n",
       "      <td>3.0</td>\n",
       "      <td>3.0</td>\n",
       "      <td>other</td>\n",
       "      <td>other</td>\n",
       "      <td>home</td>\n",
       "      <td>father</td>\n",
       "      <td>1.0</td>\n",
       "      <td>2.0</td>\n",
       "      <td>0.0</td>\n",
       "      <td>no</td>\n",
       "      <td>yes</td>\n",
       "      <td>yes</td>\n",
       "      <td>no</td>\n",
       "      <td>yes</td>\n",
       "      <td>-6.0</td>\n",
       "      <td>yes</td>\n",
       "      <td>no</td>\n",
       "      <td>no</td>\n",
       "      <td>4.0</td>\n",
       "      <td>3.0</td>\n",
       "      <td>2.0</td>\n",
       "      <td>5.0</td>\n",
       "      <td>4.0</td>\n",
       "      <td>50.0</td>\n",
       "    </tr>\n",
       "    <tr>\n",
       "      <td>5</td>\n",
       "      <td>GP</td>\n",
       "      <td>M</td>\n",
       "      <td>16</td>\n",
       "      <td>U</td>\n",
       "      <td>LE3</td>\n",
       "      <td>T</td>\n",
       "      <td>4.0</td>\n",
       "      <td>3.0</td>\n",
       "      <td>services</td>\n",
       "      <td>other</td>\n",
       "      <td>reputation</td>\n",
       "      <td>mother</td>\n",
       "      <td>1.0</td>\n",
       "      <td>2.0</td>\n",
       "      <td>0.0</td>\n",
       "      <td>no</td>\n",
       "      <td>yes</td>\n",
       "      <td>yes</td>\n",
       "      <td>yes</td>\n",
       "      <td>yes</td>\n",
       "      <td>-6.0</td>\n",
       "      <td>yes</td>\n",
       "      <td>yes</td>\n",
       "      <td>no</td>\n",
       "      <td>5.0</td>\n",
       "      <td>4.0</td>\n",
       "      <td>2.0</td>\n",
       "      <td>5.0</td>\n",
       "      <td>10.0</td>\n",
       "      <td>75.0</td>\n",
       "    </tr>\n",
       "    <tr>\n",
       "      <td>6</td>\n",
       "      <td>GP</td>\n",
       "      <td>M</td>\n",
       "      <td>16</td>\n",
       "      <td>NaN</td>\n",
       "      <td>LE3</td>\n",
       "      <td>T</td>\n",
       "      <td>2.0</td>\n",
       "      <td>2.0</td>\n",
       "      <td>other</td>\n",
       "      <td>other</td>\n",
       "      <td>home</td>\n",
       "      <td>mother</td>\n",
       "      <td>1.0</td>\n",
       "      <td>2.0</td>\n",
       "      <td>0.0</td>\n",
       "      <td>no</td>\n",
       "      <td>no</td>\n",
       "      <td>no</td>\n",
       "      <td>no</td>\n",
       "      <td>yes</td>\n",
       "      <td>-6.0</td>\n",
       "      <td>yes</td>\n",
       "      <td>yes</td>\n",
       "      <td>no</td>\n",
       "      <td>4.0</td>\n",
       "      <td>4.0</td>\n",
       "      <td>4.0</td>\n",
       "      <td>3.0</td>\n",
       "      <td>0.0</td>\n",
       "      <td>55.0</td>\n",
       "    </tr>\n",
       "    <tr>\n",
       "      <td>7</td>\n",
       "      <td>GP</td>\n",
       "      <td>F</td>\n",
       "      <td>17</td>\n",
       "      <td>U</td>\n",
       "      <td>GT3</td>\n",
       "      <td>A</td>\n",
       "      <td>4.0</td>\n",
       "      <td>4.0</td>\n",
       "      <td>other</td>\n",
       "      <td>teacher</td>\n",
       "      <td>home</td>\n",
       "      <td>mother</td>\n",
       "      <td>2.0</td>\n",
       "      <td>2.0</td>\n",
       "      <td>0.0</td>\n",
       "      <td>yes</td>\n",
       "      <td>yes</td>\n",
       "      <td>no</td>\n",
       "      <td>no</td>\n",
       "      <td>yes</td>\n",
       "      <td>-6.0</td>\n",
       "      <td>yes</td>\n",
       "      <td>no</td>\n",
       "      <td>no</td>\n",
       "      <td>4.0</td>\n",
       "      <td>1.0</td>\n",
       "      <td>4.0</td>\n",
       "      <td>1.0</td>\n",
       "      <td>6.0</td>\n",
       "      <td>30.0</td>\n",
       "    </tr>\n",
       "    <tr>\n",
       "      <td>8</td>\n",
       "      <td>GP</td>\n",
       "      <td>M</td>\n",
       "      <td>15</td>\n",
       "      <td>U</td>\n",
       "      <td>LE3</td>\n",
       "      <td>A</td>\n",
       "      <td>3.0</td>\n",
       "      <td>2.0</td>\n",
       "      <td>services</td>\n",
       "      <td>other</td>\n",
       "      <td>home</td>\n",
       "      <td>mother</td>\n",
       "      <td>1.0</td>\n",
       "      <td>2.0</td>\n",
       "      <td>0.0</td>\n",
       "      <td>no</td>\n",
       "      <td>yes</td>\n",
       "      <td>yes</td>\n",
       "      <td>no</td>\n",
       "      <td>yes</td>\n",
       "      <td>-6.0</td>\n",
       "      <td>yes</td>\n",
       "      <td>yes</td>\n",
       "      <td>no</td>\n",
       "      <td>NaN</td>\n",
       "      <td>2.0</td>\n",
       "      <td>2.0</td>\n",
       "      <td>1.0</td>\n",
       "      <td>0.0</td>\n",
       "      <td>95.0</td>\n",
       "    </tr>\n",
       "    <tr>\n",
       "      <td>9</td>\n",
       "      <td>GP</td>\n",
       "      <td>M</td>\n",
       "      <td>15</td>\n",
       "      <td>U</td>\n",
       "      <td>NaN</td>\n",
       "      <td>NaN</td>\n",
       "      <td>3.0</td>\n",
       "      <td>4.0</td>\n",
       "      <td>other</td>\n",
       "      <td>other</td>\n",
       "      <td>home</td>\n",
       "      <td>mother</td>\n",
       "      <td>1.0</td>\n",
       "      <td>2.0</td>\n",
       "      <td>0.0</td>\n",
       "      <td>no</td>\n",
       "      <td>yes</td>\n",
       "      <td>yes</td>\n",
       "      <td>yes</td>\n",
       "      <td>yes</td>\n",
       "      <td>-6.0</td>\n",
       "      <td>yes</td>\n",
       "      <td>yes</td>\n",
       "      <td>no</td>\n",
       "      <td>5.0</td>\n",
       "      <td>5.0</td>\n",
       "      <td>1.0</td>\n",
       "      <td>5.0</td>\n",
       "      <td>0.0</td>\n",
       "      <td>75.0</td>\n",
       "    </tr>\n",
       "  </tbody>\n",
       "</table>\n",
       "</div>"
      ],
      "text/plain": [
       "  school sex  age address famsize Pstatus  Medu  Fedu      Mjob     Fjob  \\\n",
       "0     GP   F   18       U     NaN       A   4.0   4.0   at_home  teacher   \n",
       "1     GP   F   17       U     GT3     NaN   1.0   1.0   at_home    other   \n",
       "2     GP   F   15       U     LE3       T   1.0   1.0   at_home    other   \n",
       "3     GP   F   15       U     GT3       T   4.0   2.0    health      NaN   \n",
       "4     GP   F   16       U     GT3       T   3.0   3.0     other    other   \n",
       "5     GP   M   16       U     LE3       T   4.0   3.0  services    other   \n",
       "6     GP   M   16     NaN     LE3       T   2.0   2.0     other    other   \n",
       "7     GP   F   17       U     GT3       A   4.0   4.0     other  teacher   \n",
       "8     GP   M   15       U     LE3       A   3.0   2.0  services    other   \n",
       "9     GP   M   15       U     NaN     NaN   3.0   4.0     other    other   \n",
       "\n",
       "       reason guardian  traveltime  studytime  failures schoolsup famsup paid  \\\n",
       "0      course   mother         2.0        2.0       0.0       yes     no   no   \n",
       "1      course   father         1.0        2.0       0.0        no    yes   no   \n",
       "2       other   mother         1.0        2.0       3.0       yes     no  NaN   \n",
       "3        home   mother         1.0        3.0       0.0        no    yes  yes   \n",
       "4        home   father         1.0        2.0       0.0        no    yes  yes   \n",
       "5  reputation   mother         1.0        2.0       0.0        no    yes  yes   \n",
       "6        home   mother         1.0        2.0       0.0        no     no   no   \n",
       "7        home   mother         2.0        2.0       0.0       yes    yes   no   \n",
       "8        home   mother         1.0        2.0       0.0        no    yes  yes   \n",
       "9        home   mother         1.0        2.0       0.0        no    yes  yes   \n",
       "\n",
       "  activities nursery  studytime, granular higher internet romantic  famrel  \\\n",
       "0         no     yes                 -6.0    yes      NaN       no     4.0   \n",
       "1         no      no                 -6.0    yes      yes       no     5.0   \n",
       "2         no     yes                 -6.0    yes      yes      NaN     4.0   \n",
       "3        yes     yes                 -9.0    yes      yes      yes     3.0   \n",
       "4         no     yes                 -6.0    yes       no       no     4.0   \n",
       "5        yes     yes                 -6.0    yes      yes       no     5.0   \n",
       "6         no     yes                 -6.0    yes      yes       no     4.0   \n",
       "7         no     yes                 -6.0    yes       no       no     4.0   \n",
       "8         no     yes                 -6.0    yes      yes       no     NaN   \n",
       "9        yes     yes                 -6.0    yes      yes       no     5.0   \n",
       "\n",
       "   freetime  goout  health  absences  score  \n",
       "0       3.0    4.0     3.0       6.0   30.0  \n",
       "1       3.0    3.0     3.0       4.0   30.0  \n",
       "2       3.0    2.0     3.0      10.0   50.0  \n",
       "3       2.0    2.0     5.0       2.0   75.0  \n",
       "4       3.0    2.0     5.0       4.0   50.0  \n",
       "5       4.0    2.0     5.0      10.0   75.0  \n",
       "6       4.0    4.0     3.0       0.0   55.0  \n",
       "7       1.0    4.0     1.0       6.0   30.0  \n",
       "8       2.0    2.0     1.0       0.0   95.0  \n",
       "9       5.0    1.0     5.0       0.0   75.0  "
      ]
     },
     "metadata": {},
     "output_type": "display_data"
    },
    {
     "name": "stdout",
     "output_type": "stream",
     "text": [
      "<class 'pandas.core.frame.DataFrame'>\n",
      "RangeIndex: 395 entries, 0 to 394\n",
      "Data columns (total 30 columns):\n",
      "school                 395 non-null object\n",
      "sex                    395 non-null object\n",
      "age                    395 non-null int64\n",
      "address                378 non-null object\n",
      "famsize                368 non-null object\n",
      "Pstatus                350 non-null object\n",
      "Medu                   392 non-null float64\n",
      "Fedu                   371 non-null float64\n",
      "Mjob                   376 non-null object\n",
      "Fjob                   359 non-null object\n",
      "reason                 378 non-null object\n",
      "guardian               364 non-null object\n",
      "traveltime             367 non-null float64\n",
      "studytime              388 non-null float64\n",
      "failures               373 non-null float64\n",
      "schoolsup              386 non-null object\n",
      "famsup                 356 non-null object\n",
      "paid                   355 non-null object\n",
      "activities             381 non-null object\n",
      "nursery                379 non-null object\n",
      "studytime, granular    388 non-null float64\n",
      "higher                 375 non-null object\n",
      "internet               361 non-null object\n",
      "romantic               364 non-null object\n",
      "famrel                 368 non-null float64\n",
      "freetime               384 non-null float64\n",
      "goout                  387 non-null float64\n",
      "health                 380 non-null float64\n",
      "absences               383 non-null float64\n",
      "score                  389 non-null float64\n",
      "dtypes: float64(12), int64(1), object(17)\n",
      "memory usage: 92.7+ KB\n"
     ]
    }
   ],
   "source": [
    "import pandas as pd\n",
    "import matplotlib.pyplot as plt\n",
    "import seaborn as sns\n",
    "from itertools import combinations\n",
    "from scipy.stats import ttest_ind\n",
    "from random import random\n",
    "import re\n",
    "import math\n",
    "\n",
    "pd.set_option('display.max_columns', 50)\n",
    "df = pd.read_csv('stud_math.csv')\n",
    "display(df.head(10))\n",
    "df.info()\n",
    "\n"
   ]
  },
  {
   "cell_type": "markdown",
   "metadata": {},
   "source": [
    "Даже навскидку видно, что а) почти все колонки содержат пропуски и б) при том, что все численные данные (количественные, ранговые и номинативные) изначально целые, представлены они другими типами. И с этим придется предметно разбираться. Но сначала приведем названия колонок к единому рациональному формату.\n"
   ]
  },
  {
   "cell_type": "code",
   "execution_count": 2,
   "metadata": {},
   "outputs": [
    {
     "data": {
      "text/html": [
       "<div>\n",
       "<style scoped>\n",
       "    .dataframe tbody tr th:only-of-type {\n",
       "        vertical-align: middle;\n",
       "    }\n",
       "\n",
       "    .dataframe tbody tr th {\n",
       "        vertical-align: top;\n",
       "    }\n",
       "\n",
       "    .dataframe thead th {\n",
       "        text-align: right;\n",
       "    }\n",
       "</style>\n",
       "<table border=\"1\" class=\"dataframe\">\n",
       "  <thead>\n",
       "    <tr style=\"text-align: right;\">\n",
       "      <th></th>\n",
       "      <th>school</th>\n",
       "      <th>sex</th>\n",
       "      <th>age</th>\n",
       "      <th>address</th>\n",
       "      <th>fam_size</th>\n",
       "      <th>p_status</th>\n",
       "      <th>m_edu</th>\n",
       "      <th>f_edu</th>\n",
       "      <th>m_job</th>\n",
       "      <th>f_job</th>\n",
       "      <th>reason</th>\n",
       "      <th>guardian</th>\n",
       "      <th>travel_time</th>\n",
       "      <th>study_time</th>\n",
       "      <th>failures</th>\n",
       "      <th>schools_up</th>\n",
       "      <th>fams_up</th>\n",
       "      <th>paid</th>\n",
       "      <th>activities</th>\n",
       "      <th>nursery</th>\n",
       "      <th>study_time_gran</th>\n",
       "      <th>higher</th>\n",
       "      <th>internet</th>\n",
       "      <th>romantic</th>\n",
       "      <th>fam_rel</th>\n",
       "      <th>free_time</th>\n",
       "      <th>go_out</th>\n",
       "      <th>health</th>\n",
       "      <th>absences</th>\n",
       "      <th>score</th>\n",
       "    </tr>\n",
       "  </thead>\n",
       "  <tbody>\n",
       "    <tr>\n",
       "      <td>0</td>\n",
       "      <td>GP</td>\n",
       "      <td>F</td>\n",
       "      <td>18</td>\n",
       "      <td>U</td>\n",
       "      <td>NaN</td>\n",
       "      <td>A</td>\n",
       "      <td>4.0</td>\n",
       "      <td>4.0</td>\n",
       "      <td>at_home</td>\n",
       "      <td>teacher</td>\n",
       "      <td>course</td>\n",
       "      <td>mother</td>\n",
       "      <td>2.0</td>\n",
       "      <td>2.0</td>\n",
       "      <td>0.0</td>\n",
       "      <td>yes</td>\n",
       "      <td>no</td>\n",
       "      <td>no</td>\n",
       "      <td>no</td>\n",
       "      <td>yes</td>\n",
       "      <td>-6.0</td>\n",
       "      <td>yes</td>\n",
       "      <td>NaN</td>\n",
       "      <td>no</td>\n",
       "      <td>4.0</td>\n",
       "      <td>3.0</td>\n",
       "      <td>4.0</td>\n",
       "      <td>3.0</td>\n",
       "      <td>6.0</td>\n",
       "      <td>30.0</td>\n",
       "    </tr>\n",
       "    <tr>\n",
       "      <td>1</td>\n",
       "      <td>GP</td>\n",
       "      <td>F</td>\n",
       "      <td>17</td>\n",
       "      <td>U</td>\n",
       "      <td>GT3</td>\n",
       "      <td>NaN</td>\n",
       "      <td>1.0</td>\n",
       "      <td>1.0</td>\n",
       "      <td>at_home</td>\n",
       "      <td>other</td>\n",
       "      <td>course</td>\n",
       "      <td>father</td>\n",
       "      <td>1.0</td>\n",
       "      <td>2.0</td>\n",
       "      <td>0.0</td>\n",
       "      <td>no</td>\n",
       "      <td>yes</td>\n",
       "      <td>no</td>\n",
       "      <td>no</td>\n",
       "      <td>no</td>\n",
       "      <td>-6.0</td>\n",
       "      <td>yes</td>\n",
       "      <td>yes</td>\n",
       "      <td>no</td>\n",
       "      <td>5.0</td>\n",
       "      <td>3.0</td>\n",
       "      <td>3.0</td>\n",
       "      <td>3.0</td>\n",
       "      <td>4.0</td>\n",
       "      <td>30.0</td>\n",
       "    </tr>\n",
       "    <tr>\n",
       "      <td>2</td>\n",
       "      <td>GP</td>\n",
       "      <td>F</td>\n",
       "      <td>15</td>\n",
       "      <td>U</td>\n",
       "      <td>LE3</td>\n",
       "      <td>T</td>\n",
       "      <td>1.0</td>\n",
       "      <td>1.0</td>\n",
       "      <td>at_home</td>\n",
       "      <td>other</td>\n",
       "      <td>other</td>\n",
       "      <td>mother</td>\n",
       "      <td>1.0</td>\n",
       "      <td>2.0</td>\n",
       "      <td>3.0</td>\n",
       "      <td>yes</td>\n",
       "      <td>no</td>\n",
       "      <td>NaN</td>\n",
       "      <td>no</td>\n",
       "      <td>yes</td>\n",
       "      <td>-6.0</td>\n",
       "      <td>yes</td>\n",
       "      <td>yes</td>\n",
       "      <td>NaN</td>\n",
       "      <td>4.0</td>\n",
       "      <td>3.0</td>\n",
       "      <td>2.0</td>\n",
       "      <td>3.0</td>\n",
       "      <td>10.0</td>\n",
       "      <td>50.0</td>\n",
       "    </tr>\n",
       "    <tr>\n",
       "      <td>3</td>\n",
       "      <td>GP</td>\n",
       "      <td>F</td>\n",
       "      <td>15</td>\n",
       "      <td>U</td>\n",
       "      <td>GT3</td>\n",
       "      <td>T</td>\n",
       "      <td>4.0</td>\n",
       "      <td>2.0</td>\n",
       "      <td>health</td>\n",
       "      <td>NaN</td>\n",
       "      <td>home</td>\n",
       "      <td>mother</td>\n",
       "      <td>1.0</td>\n",
       "      <td>3.0</td>\n",
       "      <td>0.0</td>\n",
       "      <td>no</td>\n",
       "      <td>yes</td>\n",
       "      <td>yes</td>\n",
       "      <td>yes</td>\n",
       "      <td>yes</td>\n",
       "      <td>-9.0</td>\n",
       "      <td>yes</td>\n",
       "      <td>yes</td>\n",
       "      <td>yes</td>\n",
       "      <td>3.0</td>\n",
       "      <td>2.0</td>\n",
       "      <td>2.0</td>\n",
       "      <td>5.0</td>\n",
       "      <td>2.0</td>\n",
       "      <td>75.0</td>\n",
       "    </tr>\n",
       "    <tr>\n",
       "      <td>4</td>\n",
       "      <td>GP</td>\n",
       "      <td>F</td>\n",
       "      <td>16</td>\n",
       "      <td>U</td>\n",
       "      <td>GT3</td>\n",
       "      <td>T</td>\n",
       "      <td>3.0</td>\n",
       "      <td>3.0</td>\n",
       "      <td>other</td>\n",
       "      <td>other</td>\n",
       "      <td>home</td>\n",
       "      <td>father</td>\n",
       "      <td>1.0</td>\n",
       "      <td>2.0</td>\n",
       "      <td>0.0</td>\n",
       "      <td>no</td>\n",
       "      <td>yes</td>\n",
       "      <td>yes</td>\n",
       "      <td>no</td>\n",
       "      <td>yes</td>\n",
       "      <td>-6.0</td>\n",
       "      <td>yes</td>\n",
       "      <td>no</td>\n",
       "      <td>no</td>\n",
       "      <td>4.0</td>\n",
       "      <td>3.0</td>\n",
       "      <td>2.0</td>\n",
       "      <td>5.0</td>\n",
       "      <td>4.0</td>\n",
       "      <td>50.0</td>\n",
       "    </tr>\n",
       "  </tbody>\n",
       "</table>\n",
       "</div>"
      ],
      "text/plain": [
       "  school sex  age address fam_size p_status  m_edu  f_edu    m_job    f_job  \\\n",
       "0     GP   F   18       U      NaN        A    4.0    4.0  at_home  teacher   \n",
       "1     GP   F   17       U      GT3      NaN    1.0    1.0  at_home    other   \n",
       "2     GP   F   15       U      LE3        T    1.0    1.0  at_home    other   \n",
       "3     GP   F   15       U      GT3        T    4.0    2.0   health      NaN   \n",
       "4     GP   F   16       U      GT3        T    3.0    3.0    other    other   \n",
       "\n",
       "   reason guardian  travel_time  study_time  failures schools_up fams_up paid  \\\n",
       "0  course   mother          2.0         2.0       0.0        yes      no   no   \n",
       "1  course   father          1.0         2.0       0.0         no     yes   no   \n",
       "2   other   mother          1.0         2.0       3.0        yes      no  NaN   \n",
       "3    home   mother          1.0         3.0       0.0         no     yes  yes   \n",
       "4    home   father          1.0         2.0       0.0         no     yes  yes   \n",
       "\n",
       "  activities nursery  study_time_gran higher internet romantic  fam_rel  \\\n",
       "0         no     yes             -6.0    yes      NaN       no      4.0   \n",
       "1         no      no             -6.0    yes      yes       no      5.0   \n",
       "2         no     yes             -6.0    yes      yes      NaN      4.0   \n",
       "3        yes     yes             -9.0    yes      yes      yes      3.0   \n",
       "4         no     yes             -6.0    yes       no       no      4.0   \n",
       "\n",
       "   free_time  go_out  health  absences  score  \n",
       "0        3.0     4.0     3.0       6.0   30.0  \n",
       "1        3.0     3.0     3.0       4.0   30.0  \n",
       "2        3.0     2.0     3.0      10.0   50.0  \n",
       "3        2.0     2.0     5.0       2.0   75.0  \n",
       "4        3.0     2.0     5.0       4.0   50.0  "
      ]
     },
     "execution_count": 2,
     "metadata": {},
     "output_type": "execute_result"
    }
   ],
   "source": [
    "# пробел с запятой это совсем некомильфо\n",
    "df.rename(columns={'studytime, granular': 'studytime_gran'}, inplace=True)\n",
    "\n",
    "#заглавные буквы заменяем на строчные с прочерком\n",
    "df.columns=['_'.join(re.sub( r'([A-Z])', r'\\1 ', x).split()).lower() for x in df.columns]\n",
    "\n",
    "#названия из двух слов разбиваем на два через прочерк\n",
    "df.columns=['_'.join(re.sub( r'(up|time|size|rel|out)', r' \\1', x).split()).lower() for x in df.columns]\n",
    "df.head()"
   ]
  },
  {
   "cell_type": "markdown",
   "metadata": {},
   "source": [
    "Поскольку ситуацию с пропусками будем проверять по ходу дела не раз, создадим отдельную функцию для вывода статистики по пропускам. На всякий случай предусмотрим возможность подсчета в подмножестве датасета и краткого вывода."
   ]
  },
  {
   "cell_type": "code",
   "execution_count": 3,
   "metadata": {},
   "outputs": [
    {
     "name": "stdout",
     "output_type": "stream",
     "text": [
      "Пропуски в 27 колонках:\n",
      "address         : 17 (4.30%)\n",
      "fam_size        : 27 (6.84%)\n",
      "p_status        : 45 (11.39%)\n",
      "m_edu           : 3 (0.76%)\n",
      "f_edu           : 24 (6.08%)\n",
      "m_job           : 19 (4.81%)\n",
      "f_job           : 36 (9.11%)\n",
      "reason          : 17 (4.30%)\n",
      "guardian        : 31 (7.85%)\n",
      "travel_time     : 28 (7.09%)\n",
      "study_time      : 7 (1.77%)\n",
      "failures        : 22 (5.57%)\n",
      "schools_up      : 9 (2.28%)\n",
      "fams_up         : 39 (9.87%)\n",
      "paid            : 40 (10.13%)\n",
      "activities      : 14 (3.54%)\n",
      "nursery         : 16 (4.05%)\n",
      "study_time_gran : 7 (1.77%)\n",
      "higher          : 20 (5.06%)\n",
      "internet        : 34 (8.61%)\n",
      "romantic        : 31 (7.85%)\n",
      "fam_rel         : 27 (6.84%)\n",
      "free_time       : 11 (2.78%)\n",
      "go_out          : 8 (2.03%)\n",
      "health          : 15 (3.80%)\n",
      "absences        : 12 (3.04%)\n",
      "score           : 6 (1.52%)\n",
      "всего пропусков: 565 (4.77%)\n",
      "всего строк с пропусками: 298: (75.44%)\n"
     ]
    }
   ],
   "source": [
    "def count_missing(data=df, full=True):\n",
    "    \n",
    "    ''' Подсчет пропусков в данных '''\n",
    "    \n",
    "    \n",
    "    total_rows = data.shape[0]\n",
    "    total = data.shape[0] * data.shape[1]\n",
    "    total_missed = data.isnull().sum().sum()\n",
    "    print('Пропуски в {} колонках:'.format(data.isnull().any().sum()))  \n",
    "    max_len = max([len(x) for x in data.columns])\n",
    "    fmt_line='{{:<{}}}: {{}} ({{:.2%}})'.format(max_len+1)\n",
    "    if full:\n",
    "        for column in data.columns:\n",
    "            missed = data[column].isnull().sum()\n",
    "\n",
    "            if missed: \n",
    "                print(fmt_line.format(column, missed, missed/total_rows))\n",
    "    rows_ = total_rows - len(data.dropna())        \n",
    "    print('всего пропусков: {} ({:.2%})'.format(total_missed, total_missed/total))\n",
    "    print('всего строк с пропусками: {}: ({:.2%})'.format( rows_, rows_/total_rows))\n",
    "    \n",
    "    return None    \n",
    "     \n",
    "count_missing()"
   ]
  },
  {
   "cell_type": "markdown",
   "metadata": {},
   "source": [
    "С одной стороны пропусков у нас в пределах 5% от всех данных, т.е. уровень потерь в статистически приемлемых пределах. С другой стороны, пропусками поражено 75% всех строк, т.е. проблема намного масштабнее, чем выглядит на первый взгляд. Как минимум, невозможно привести целочисленные данные к соответствующему типу.\n",
    "Поскольку никаких источников о предыстории датасета у нас нет, полагаться придется только на доступный здравый смысл и анализ даннных. Поскольку задача становится комплексной, изложение во втором разделе не столько отображает фактическую последовательность действий, сколько структурирует итоги.\n",
    "\n",
    "Руководящий принцип в данном случае: пропуски и прочий брак в первую очередь устраняются для того, чтобы избежать некорректной обработки данных (в т.ч. программных сбоев по ошибке данных). Поскольку обратиться к первоисточникам и надежно восстановить утраченные данные мы никак не можем, основной приоритет - внести в процессе как можно меньше искажений.\n",
    "\n"
   ]
  },
  {
   "cell_type": "markdown",
   "metadata": {},
   "source": [
    "# 2. Обработка данных"
   ]
  },
  {
   "cell_type": "markdown",
   "metadata": {},
   "source": [
    "## 2.1 Корректность значений и выбросы"
   ]
  },
  {
   "cell_type": "markdown",
   "metadata": {},
   "source": [
    "Для существенной части параметров нам изначально заданы допустимые значения."
   ]
  },
  {
   "cell_type": "code",
   "execution_count": 4,
   "metadata": {},
   "outputs": [],
   "source": [
    "allowed_values = {'sex': ('F','M'),\n",
    "                  'age': range(15,23),\n",
    "                  'address': ('U', 'R'),\n",
    "                  'fam_size': ('LE3', 'GT3'),\n",
    "                  'p_status':('T', 'A'),\n",
    "                  'm_edu': range(5),   \n",
    "                  'f_edu': range(5),  \n",
    "                  'm_job': ('teacher', 'health', 'services', 'at_home', 'other'),\n",
    "                  'f_job': ('teacher', 'health', 'services', 'at_home', 'other'),\n",
    "                  'reason': ('home', 'reputation', 'course', 'other'),\n",
    "                  'guardian': ('mother', 'father', 'other'),\n",
    "                  'travel_time': range(1,5),\n",
    "                  'study_time': range(1,5),\n",
    "                  'failures': (1,2,4),\n",
    "                  'schools_up': ('yes', 'no'),\n",
    "                  'fams_up': ('yes', 'no'), \n",
    "                  'paid': ('yes', 'no'), \n",
    "                  'activities': ('yes', 'no'), \n",
    "                  'nursery': ('yes', 'no'), \n",
    "                  'higher': ('yes', 'no'), \n",
    "                  'internet': ('yes', 'no'), \n",
    "                  'romantic': ('yes', 'no'), \n",
    "                  'fam_rel': range(1,6), \n",
    "                  'free_time': range(1,6),\n",
    "                  'go_out': range(1,6), \n",
    "                  'health': range(1,6), \n",
    "                                   }"
   ]
  },
  {
   "cell_type": "markdown",
   "metadata": {},
   "source": [
    "Проверим насколько (формально) корректны имеющиеся данные по этим столбцам."
   ]
  },
  {
   "cell_type": "code",
   "execution_count": 5,
   "metadata": {},
   "outputs": [
    {
     "data": {
      "text/plain": [
       "40.0    1\n",
       "Name: f_edu, dtype: int64"
      ]
     },
     "metadata": {},
     "output_type": "display_data"
    },
    {
     "data": {
      "text/plain": [
       "0.0    293\n",
       "3.0     15\n",
       "Name: failures, dtype: int64"
      ]
     },
     "metadata": {},
     "output_type": "display_data"
    },
    {
     "data": {
      "text/plain": [
       "-1.0    1\n",
       "Name: fam_rel, dtype: int64"
      ]
     },
     "metadata": {},
     "output_type": "display_data"
    }
   ],
   "source": [
    "for column in allowed_values:\n",
    "    out_of_range = df[~df[column].isin(allowed_values[column])][column].dropna()\n",
    "    if len(out_of_range): \n",
    "        display(out_of_range.value_counts())"
   ]
  },
  {
   "cell_type": "markdown",
   "metadata": {},
   "source": [
    "Отрицательное значение в ***fam_rel*** можно объяснить тем, что в анкете перед цифрой было тире (\"отношения - 1\"), что при переносе в компьютер превратилось в \"-1\". "
   ]
  },
  {
   "cell_type": "code",
   "execution_count": 6,
   "metadata": {},
   "outputs": [],
   "source": [
    "df.fam_rel.replace(-1, 1, inplace=True)"
   ]
  },
  {
   "cell_type": "markdown",
   "metadata": {},
   "source": [
    "Число \"40\" в ***f_edu*** могло появиться при введении \"4\" на нумпэде. Большой палец в этом случае находится как раз над нулем и при известной неаккуратности движений можно ввести и его."
   ]
  },
  {
   "cell_type": "code",
   "execution_count": 7,
   "metadata": {},
   "outputs": [],
   "source": [
    "df.f_edu.replace(40.0, 4, inplace=True)"
   ]
  },
  {
   "cell_type": "markdown",
   "metadata": {},
   "source": [
    "Большое удивление вызывает то, что практически весь столбец ***failures*** (какая ирония!) содержит недопустимые значения. В исходном описании параметра они описаны, как \"*количество внеучебных неудач (n, если 1<=n<3, иначе 4)*\". Здесь можно предположить некорректность описания. Например, почему ноль неудач в принципе исключен как опция? Наверно подразумевалось, что речь идет о количестве имеющихся неудач. Ну и судя по полному отсутствию значения 4, и наличии значения 3, все-таки имелось ввиду, что меньше или равно трем. То есть принцип параметра: ноль, если нет неудач; количество неудач, если оно не больше трех; 4 для всех остальных количеств неудач (чтобы \"подтянуть хвост\" небольшого количества разрозненных значений в более компактный параметр). Ну а при анкетировании уже оказалось, что заложенное в принцип предположение о вакууме за тройкой подтвердилось полностью. \n",
    "\n",
    "То есть, имеем всего две альтернативы действий. Первая -  некорректно описание в ТЗ, а параметр корректен целиком. Либо с точностью до наоборот, и столбец является полным браком, никак не устранимым (целиком под удаление). Оставляем столбец как есть - просто потому, что удалить-то данные просто, вернуть сложнее - сопроводив соответствующим комментарием.\n",
    "\n",
    "Не забудем, что нам еще прогонять попарные тесты Стюдента, и не хотелось бы заряжать в них совсем карликовые выборки. А в случае ранговых переменных значение может формально не быть выбросом, но представлено микроскопически. Включаем микроскоп."
   ]
  },
  {
   "cell_type": "code",
   "execution_count": 8,
   "metadata": {},
   "outputs": [
    {
     "name": "stdout",
     "output_type": "stream",
     "text": [
      "age 20    0.007595\n",
      "22    0.002532\n",
      "21    0.002532\n",
      "Name: age, dtype: float64\n",
      "m_edu 0.0    0.007653\n",
      "Name: m_edu, dtype: float64\n",
      "f_edu 0.0    0.005391\n",
      "Name: f_edu, dtype: float64\n",
      "travel_time 4.0    0.019074\n",
      "Name: travel_time, dtype: float64\n"
     ]
    }
   ],
   "source": [
    "for column in allowed_values:\n",
    "    vc = df[column].value_counts(normalize=True, dropna=True)\n",
    "    if vc.iloc[-1] < 0.02:\n",
    "        print(column, vc[vc < 0.02])"
   ]
  },
  {
   "cell_type": "markdown",
   "metadata": {},
   "source": [
    "Первым пунктом у нас идет параметр ***age***, который в данном контексте можно трактовать и как ранговый и как количественный. В любом случае, по сравнению с \"официально\" ранговыми более вариативен. Возраст сам по себе реалистичен, проверим адресно на выбросы. "
   ]
  },
  {
   "cell_type": "code",
   "execution_count": 9,
   "metadata": {},
   "outputs": [
    {
     "data": {
      "text/plain": [
       "16    104\n",
       "17     98\n",
       "18     82\n",
       "15     82\n",
       "19     24\n",
       "20      3\n",
       "22      1\n",
       "21      1\n",
       "Name: age, dtype: int64"
      ]
     },
     "execution_count": 9,
     "metadata": {},
     "output_type": "execute_result"
    },
    {
     "data": {
      "image/png": "[encoded data removed]",
      "text/plain": [
       "<Figure size 432x288 with 1 Axes>"
      ]
     },
     "metadata": {
      "needs_background": "light"
     },
     "output_type": "display_data"
    }
   ],
   "source": [
    "sns.boxplot(df.age)\n",
    "df.age.value_counts()"
   ]
  },
  {
   "cell_type": "markdown",
   "metadata": {},
   "source": [
    "Засидеться в школьниках до 22 лет - это явный выброс, не только по статистическим параметрам, но и по здравому смыслу. Но и то, что внутри \"усов\" смотрится не очень убедительно. Имеет смысл воспользоваться описанным выше (но фактически не примененным авторами данных) принципом и скомпрессировать все, что от 20 лет в одно значение: 20."
   ]
  },
  {
   "cell_type": "code",
   "execution_count": 10,
   "metadata": {},
   "outputs": [],
   "source": [
    "df.age.replace(21,20, inplace = True)\n",
    "df.age.replace(22,20, inplace = True)"
   ]
  },
  {
   "cell_type": "markdown",
   "metadata": {},
   "source": [
    "К остальным трем параметрам из списка мы вернемся чуть позже, а пока обратим внимание на численные данные без заданных явно ограничений - это пропуски занятий, и собственно основной параметр - экзаменационный балл учащегося."
   ]
  },
  {
   "cell_type": "code",
   "execution_count": 11,
   "metadata": {},
   "outputs": [
    {
     "data": {
      "text/plain": [
       "count    383.000000\n",
       "mean       7.279373\n",
       "std       23.465197\n",
       "min        0.000000\n",
       "25%        0.000000\n",
       "50%        4.000000\n",
       "75%        8.000000\n",
       "max      385.000000\n",
       "Name: absences, dtype: float64"
      ]
     },
     "metadata": {},
     "output_type": "display_data"
    },
    {
     "data": {
      "text/plain": [
       "<matplotlib.axes._subplots.AxesSubplot at 0x1b744721788>"
      ]
     },
     "execution_count": 11,
     "metadata": {},
     "output_type": "execute_result"
    },
    {
     "data": {
      "image/png": "[encoded data removed]",
      "text/plain": [
       "<Figure size 432x288 with 1 Axes>"
      ]
     },
     "metadata": {
      "needs_background": "light"
     },
     "output_type": "display_data"
    }
   ],
   "source": [
    "display(df.absences.describe())\n",
    "sns.boxplot(df.absences)"
   ]
  },
  {
   "cell_type": "markdown",
   "metadata": {},
   "source": [
    " При 365(6) днях в году, как минимум одно из значений параметра уже удивительно. Если взять за референс отечественную школьную программу старших классов, то речь идет о 200 часах в год. И второе по величине значение тоже выглядит сомнительным. \n",
    "К сожалению, в ТЗ не уточняется в явном виде, за какой период считаются пропуски занятий (выпускной год или это вся история учащегося). Также в явном виде не указано о чем идет речь - о всех занятиях вообще (один день может мультиплицироваться в соответствующее количество занятий) или только о математике. Микс из максимально локального и максимально обобщенного подходов может дать похожий результат. Посмотрим на точные границы \"усов\". (Для чего напишем функцию. Не пригодится еще раз в этой работе - пригодится потом)."
   ]
  },
  {
   "cell_type": "code",
   "execution_count": 12,
   "metadata": {},
   "outputs": [
    {
     "data": {
      "text/plain": [
       "(-12.0, 20.0)"
      ]
     },
     "execution_count": 12,
     "metadata": {},
     "output_type": "execute_result"
    }
   ],
   "source": [
    "def limits (data):\n",
    "\n",
    "    q1 = data.quantile(0.25)\n",
    "    q3 = data.quantile(0.75)\n",
    "    iqr = q3-q1\n",
    "   \n",
    "    return  q1-1.5*iqr, q3+1.5*iqr\n",
    "limits(df.absences)"
   ]
  },
  {
   "cell_type": "markdown",
   "metadata": {},
   "source": [
    "Верхняя граница по формуле у нас получилась 20, но формула - не истина в последней инстанции, есть еще здравый смысл. Посмотрим, что будет если провести границу на значении 30."
   ]
  },
  {
   "cell_type": "code",
   "execution_count": 13,
   "metadata": {},
   "outputs": [
    {
     "data": {
      "text/html": [
       "<div>\n",
       "<style scoped>\n",
       "    .dataframe tbody tr th:only-of-type {\n",
       "        vertical-align: middle;\n",
       "    }\n",
       "\n",
       "    .dataframe tbody tr th {\n",
       "        vertical-align: top;\n",
       "    }\n",
       "\n",
       "    .dataframe thead th {\n",
       "        text-align: right;\n",
       "    }\n",
       "</style>\n",
       "<table border=\"1\" class=\"dataframe\">\n",
       "  <thead>\n",
       "    <tr style=\"text-align: right;\">\n",
       "      <th></th>\n",
       "      <th>absences</th>\n",
       "      <th>score</th>\n",
       "    </tr>\n",
       "  </thead>\n",
       "  <tbody>\n",
       "    <tr>\n",
       "      <td>74</td>\n",
       "      <td>54.0</td>\n",
       "      <td>55.0</td>\n",
       "    </tr>\n",
       "    <tr>\n",
       "      <td>183</td>\n",
       "      <td>56.0</td>\n",
       "      <td>40.0</td>\n",
       "    </tr>\n",
       "    <tr>\n",
       "      <td>222</td>\n",
       "      <td>385.0</td>\n",
       "      <td>85.0</td>\n",
       "    </tr>\n",
       "    <tr>\n",
       "      <td>276</td>\n",
       "      <td>75.0</td>\n",
       "      <td>45.0</td>\n",
       "    </tr>\n",
       "    <tr>\n",
       "      <td>307</td>\n",
       "      <td>38.0</td>\n",
       "      <td>40.0</td>\n",
       "    </tr>\n",
       "    <tr>\n",
       "      <td>315</td>\n",
       "      <td>40.0</td>\n",
       "      <td>55.0</td>\n",
       "    </tr>\n",
       "    <tr>\n",
       "      <td>390</td>\n",
       "      <td>212.0</td>\n",
       "      <td>45.0</td>\n",
       "    </tr>\n",
       "  </tbody>\n",
       "</table>\n",
       "</div>"
      ],
      "text/plain": [
       "     absences  score\n",
       "74       54.0   55.0\n",
       "183      56.0   40.0\n",
       "222     385.0   85.0\n",
       "276      75.0   45.0\n",
       "307      38.0   40.0\n",
       "315      40.0   55.0\n",
       "390     212.0   45.0"
      ]
     },
     "metadata": {},
     "output_type": "display_data"
    },
    {
     "data": {
      "text/plain": [
       "<matplotlib.axes._subplots.AxesSubplot at 0x1b7447db2c8>"
      ]
     },
     "execution_count": 13,
     "metadata": {},
     "output_type": "execute_result"
    },
    {
     "data": {
      "image/png": "[encoded data removed]",
      "text/plain": [
       "<Figure size 432x288 with 1 Axes>"
      ]
     },
     "metadata": {
      "needs_background": "light"
     },
     "output_type": "display_data"
    }
   ],
   "source": [
    "display(df[df['absences'] > 30][['absences','score']])\n",
    "df[df['absences']<= 30].absences.hist()"
   ]
  },
  {
   "cell_type": "markdown",
   "metadata": {},
   "source": [
    "На отрезке 20-30 количество прогулов продолжает сходить на нет плавно, так что это не выброс, а часть распределения. Также, не сказать, что \"хвост\" прогулов ведет нас в \"хвост\" оценок. Имеет смысл по уже использованному подходу скомпрессировать всё выше 30 в одно значение - 30. Что касается экстремальных значений, с т.з. статистических искажений, их коррекция вряд ли окажется хуже удаления строк целиком. \n"
   ]
  },
  {
   "cell_type": "code",
   "execution_count": 14,
   "metadata": {},
   "outputs": [
    {
     "data": {
      "text/plain": [
       "<matplotlib.axes._subplots.AxesSubplot at 0x1b73f75c2c8>"
      ]
     },
     "execution_count": 14,
     "metadata": {},
     "output_type": "execute_result"
    },
    {
     "data": {
      "image/png": "[encoded data removed]",
      "text/plain": [
       "<Figure size 432x288 with 1 Axes>"
      ]
     },
     "metadata": {
      "needs_background": "light"
     },
     "output_type": "display_data"
    }
   ],
   "source": [
    "gt_30 = df[df.absences >30].index\n",
    "df.loc[gt_30,'absences'] = 30\n",
    "sns.boxplot(df.absences)"
   ]
  },
  {
   "cell_type": "code",
   "execution_count": 15,
   "metadata": {},
   "outputs": [
    {
     "data": {
      "image/png": "[encoded data removed]",
      "text/plain": [
       "<Figure size 864x288 with 2 Axes>"
      ]
     },
     "metadata": {
      "needs_background": "light"
     },
     "output_type": "display_data"
    }
   ],
   "source": [
    "def hist_and_box (df_column):\n",
    "    \n",
    "    \"\"\" Для удобства вывод гистограммы и боксплота по одному параметру в ряд\n",
    "    \n",
    "        На входе колонка (не название, а сам объект pd.Series)\"\"\"\n",
    "    \n",
    "    bins= len(df_column.value_counts())\n",
    "    fig = plt.figure(figsize=(12, 4)) \n",
    "    ax_1 = fig.add_subplot(121)\n",
    "    ax_1.set_xlabel(df_column.name)\n",
    "    df_column.hist(bins=bins, ax=ax_1)\n",
    "    sns.boxplot(df_column, ax=fig.add_subplot(122))\n",
    "    plt.show()\n",
    "    return None\n",
    "\n",
    "hist_and_box(df.score)"
   ]
  },
  {
   "cell_type": "markdown",
   "metadata": {},
   "source": [
    "Обращают на себя внимание два выраженных пика. Очевидно, что применение теста Стюдента при таком отклонении от нормального характера распределения целевого признака будет сопряжено с погрешностями. Устранить основной пик в любом случае не представляетя возможным. Главный пик в оценках условного ЕГЭ может объясняться структурой самого экзаменационного теста. Например, в нем есть \"легкая\" половина, с которой справляется подавляющее большинство учащихся, и которая позволяет максимум выпускников на проходной балл, а задачи сложнее реально требуют знаний. \n",
    "\n",
    "Что касается пика в нуле, самые рациональные гипотезы:\n",
    "* Это скрытый пропуск, автоматически заполненный нулями на каком-то этапе подготовки датасета.\n",
    "* Это реальное количество не решивших ни одной задачи. (В конце концов, в исследовании у нас всего две школы, и еще неизвестно, насколько (не)благополучными они считаются.\n",
    "* Это не допущенные к экзамену ученики, не сдавшие необходимые зачеты. (Могли бы все равно не получить проходной балл, но не полный ноль)\n",
    "* Ученики, не допущенные к экзаменам или не пришедшие сдавать экзамен по причинам, не связанным с успеваемостью по математике. Вопрос возникает ровно с тем, считать ли эти причины устранимыми, или принять за данность, что 10% учащихся покидает школу по причинам, находящимся за рамками собственно педагогики.\n",
    "\n",
    "Ответов на эти вопросы нет, и нельзя сказать, что версии за удаление нулей выглядят более убедительными.\n"
   ]
  },
  {
   "cell_type": "markdown",
   "metadata": {},
   "source": [
    "## 2.2 Устранение пропусков и коррекция типов данных"
   ]
  },
  {
   "cell_type": "markdown",
   "metadata": {},
   "source": [
    "И с все той же колонки score начнем работу с пропусками. Поскольку этот признак собственно является предметом исследования, заполнение пропусков в нем никак не может улучшить качество исследования. И эти строки придется удалить, как неинформативные."
   ]
  },
  {
   "cell_type": "code",
   "execution_count": 16,
   "metadata": {},
   "outputs": [],
   "source": [
    "df.dropna(subset=['score'], inplace=True)\n",
    "df.score = df.score.astype('int')"
   ]
  },
  {
   "cell_type": "markdown",
   "metadata": {},
   "source": [
    "Пропуски в количественных параметрах - ***absences, age, failures*** - заполним медианными значениями."
   ]
  },
  {
   "cell_type": "code",
   "execution_count": 17,
   "metadata": {},
   "outputs": [
    {
     "name": "stdout",
     "output_type": "stream",
     "text": [
      "Пропуски в 24 колонках:\n",
      "address         : 15 (3.86%)\n",
      "fam_size        : 27 (6.94%)\n",
      "p_status        : 45 (11.57%)\n",
      "m_edu           : 3 (0.77%)\n",
      "f_edu           : 24 (6.17%)\n",
      "m_job           : 19 (4.88%)\n",
      "f_job           : 36 (9.25%)\n",
      "reason          : 17 (4.37%)\n",
      "guardian        : 31 (7.97%)\n",
      "travel_time     : 28 (7.20%)\n",
      "study_time      : 7 (1.80%)\n",
      "schools_up      : 9 (2.31%)\n",
      "fams_up         : 38 (9.77%)\n",
      "paid            : 39 (10.03%)\n",
      "activities      : 14 (3.60%)\n",
      "nursery         : 15 (3.86%)\n",
      "study_time_gran : 7 (1.80%)\n",
      "higher          : 20 (5.14%)\n",
      "internet        : 34 (8.74%)\n",
      "romantic        : 31 (7.97%)\n",
      "fam_rel         : 27 (6.94%)\n",
      "free_time       : 9 (2.31%)\n",
      "go_out          : 7 (1.80%)\n",
      "health          : 15 (3.86%)\n",
      "всего пропусков: 517 (4.43%)\n",
      "всего строк с пропусками: 288: (74.04%)\n"
     ]
    }
   ],
   "source": [
    "for column in ( 'absences', 'age', 'failures'):\n",
    "    df[column] = df[column].fillna(df[column].median()).astype('int')\n",
    "    \n",
    "count_missing()"
   ]
  },
  {
   "cell_type": "markdown",
   "metadata": {},
   "source": [
    "Оставшиеся параметры у нас относятся к номинативным или ранговым. С т.з. заполнения к ранговым теоретически применимо (когда это оправдано) заполнение медианой, в остальном набор доступных методик будет совпадать:\n",
    "*  заполнение наиболее частым значением\n",
    "*  заполнение случайным/экстраполированным значением согласно распределению в колонке\n",
    "*  заполнение по взаимосвязи с другим параметром\n"
   ]
  },
  {
   "cell_type": "code",
   "execution_count": 18,
   "metadata": {},
   "outputs": [],
   "source": [
    "def fill_by_frequency (column, missing=[], source=[]):\n",
    "\n",
    "\n",
    "    \"\"\"Заполнение пропусков в номинативных и/или дискретных данных на основе частотного распределения\n",
    "    \n",
    "    Аргументы:\n",
    "    column  -- колонка, в которой заполняются пропуски\n",
    "    missing -- индекс заполнения (по умолчанию пустой)\n",
    "    source  -- выборка значений, по которой считается частота (по умолчанию пустая)\n",
    "    \n",
    "    \"\"\"\n",
    "    \n",
    "    # если на входе пустая выборка, заполняем все пропуски на основе распределения в колонке\n",
    "    if len(source) == 0:\n",
    "        source = df[column]\n",
    "    # если на входе пустой индекс, заполняем все строки в колонке  \n",
    "    if len(missing) == 0:\n",
    "        missing = df[df[column].isnull()].index\n",
    "  \n",
    "    # строим таблицу функции распределения    \n",
    "    freq = source.value_counts(normalize=True, ascending=True, dropna=True).cumsum()\n",
    "    \n",
    "    # подставляем соответствующее случайной величине от 0 до 1 значение из таблицы\n",
    "    fill_na = df.loc[missing][column].apply(lambda x: freq[freq >= random()].idxmin())\n",
    "\n",
    "    return fill_na\n",
    "\n",
    "\n",
    "\n",
    "\n",
    "def fill_by_related (target, source, method='mode'):\n",
    "    \n",
    "    \"\"\"Заполнение пропусков по связи с другим параметром\n",
    "    \n",
    "    Аргументы: \n",
    "    target -- целевой параметр\n",
    "    source -- параметр на основе которого группируем выборки целевого параметра\n",
    "    method -- применяемый метод заполнения (по умолчанию - мода):\n",
    "                - mode: мода\n",
    "                - median: медиана (только для численных параметров)\n",
    "                - freq: набор значений, сгенерированный на основе исходного распределения\n",
    "                \n",
    "    \n",
    "    \"\"\"\n",
    "    \n",
    "    # цикл по значениям параметра, по которому группируем значения в колонке\n",
    "    for source_value in df[source].dropna().unique():\n",
    "        \n",
    "        \n",
    "        to_fill = df.loc[(df[source] == source_value) & df[target].isnull()].index\n",
    "        sample = df[df[source] == source_value][target].dropna()\n",
    "           \n",
    "        if method == 'mode':\n",
    "            df.loc[to_fill, target] = sample.mode()[0]\n",
    "            \n",
    "        elif method == 'median':\n",
    "            try: # контроль на случай, если не числовой параметр\n",
    "                df.loc[to_fill, target] = sample.median()\n",
    "            except Exception as e:\n",
    "                print('сбой при попытке посчитать медиану', e)\n",
    "                \n",
    "        elif method == 'freq':\n",
    "             df.loc[to_fill, target] = fill_by_frequency(target, to_fill,  sample)\n",
    "                \n",
    "        else:\n",
    "            raise ValueError('некорректно задан метод', method)\n",
    "            \n",
    "        \n",
    "    return None   \n"
   ]
  },
  {
   "cell_type": "markdown",
   "metadata": {},
   "source": [
    "Кроме того, есть отдельный случай - \"скрытый ноль\", когда на первичном этапе сбора информации поле в форме (электронной или бумажной) остается пустым, потому что тот, кто заполнял не утруждал себя заполнением \"нулевого\" ответа (как правило - собственно ноль, \"нет\", возможно \"иное\" и т.п.).\n",
    "\n",
    "У нас имеется довольно большая группа бинарных признаков \"да/нет\", в которых пропуски могут быть как раз скрытыми нулями и означать \"нет\" "
   ]
  },
  {
   "cell_type": "code",
   "execution_count": 19,
   "metadata": {},
   "outputs": [
    {
     "name": "stdout",
     "output_type": "stream",
     "text": [
      "Пропуски в 8 колонках:\n",
      "schools_up : 9 (2.31%)\n",
      "fams_up    : 38 (9.77%)\n",
      "paid       : 39 (10.03%)\n",
      "activities : 14 (3.60%)\n",
      "nursery    : 15 (3.86%)\n",
      "higher     : 20 (5.14%)\n",
      "internet   : 34 (8.74%)\n",
      "romantic   : 31 (7.97%)\n",
      "всего пропусков: 200 (6.43%)\n",
      "всего строк с пропусками: 172: (44.22%)\n"
     ]
    },
    {
     "data": {
      "text/html": [
       "<div>\n",
       "<style scoped>\n",
       "    .dataframe tbody tr th:only-of-type {\n",
       "        vertical-align: middle;\n",
       "    }\n",
       "\n",
       "    .dataframe tbody tr th {\n",
       "        vertical-align: top;\n",
       "    }\n",
       "\n",
       "    .dataframe thead th {\n",
       "        text-align: right;\n",
       "    }\n",
       "</style>\n",
       "<table border=\"1\" class=\"dataframe\">\n",
       "  <thead>\n",
       "    <tr style=\"text-align: right;\">\n",
       "      <th></th>\n",
       "      <th>schools_up</th>\n",
       "      <th>fams_up</th>\n",
       "      <th>paid</th>\n",
       "      <th>activities</th>\n",
       "      <th>nursery</th>\n",
       "      <th>higher</th>\n",
       "      <th>internet</th>\n",
       "      <th>romantic</th>\n",
       "    </tr>\n",
       "  </thead>\n",
       "  <tbody>\n",
       "    <tr>\n",
       "      <td>count</td>\n",
       "      <td>380</td>\n",
       "      <td>351</td>\n",
       "      <td>350</td>\n",
       "      <td>375</td>\n",
       "      <td>374</td>\n",
       "      <td>369</td>\n",
       "      <td>355</td>\n",
       "      <td>358</td>\n",
       "    </tr>\n",
       "    <tr>\n",
       "      <td>unique</td>\n",
       "      <td>2</td>\n",
       "      <td>2</td>\n",
       "      <td>2</td>\n",
       "      <td>2</td>\n",
       "      <td>2</td>\n",
       "      <td>2</td>\n",
       "      <td>2</td>\n",
       "      <td>2</td>\n",
       "    </tr>\n",
       "    <tr>\n",
       "      <td>top</td>\n",
       "      <td>no</td>\n",
       "      <td>yes</td>\n",
       "      <td>no</td>\n",
       "      <td>yes</td>\n",
       "      <td>yes</td>\n",
       "      <td>yes</td>\n",
       "      <td>yes</td>\n",
       "      <td>no</td>\n",
       "    </tr>\n",
       "    <tr>\n",
       "      <td>freq</td>\n",
       "      <td>331</td>\n",
       "      <td>216</td>\n",
       "      <td>197</td>\n",
       "      <td>192</td>\n",
       "      <td>297</td>\n",
       "      <td>350</td>\n",
       "      <td>300</td>\n",
       "      <td>235</td>\n",
       "    </tr>\n",
       "  </tbody>\n",
       "</table>\n",
       "</div>"
      ],
      "text/plain": [
       "       schools_up fams_up paid activities nursery higher internet romantic\n",
       "count         380     351  350        375     374    369      355      358\n",
       "unique          2       2    2          2       2      2        2        2\n",
       "top            no     yes   no        yes     yes    yes      yes       no\n",
       "freq          331     216  197        192     297    350      300      235"
      ]
     },
     "execution_count": 19,
     "metadata": {},
     "output_type": "execute_result"
    }
   ],
   "source": [
    "yay_or_nay = [x for x in df.columns if set(df[x].dropna().unique()) == {'yes','no'}]\n",
    "count_missing(df[yay_or_nay])\n",
    "df[yay_or_nay].describe()\n"
   ]
  },
  {
   "cell_type": "markdown",
   "metadata": {},
   "source": [
    "Поскольку мы работаем в поле совершенно открытом с т.з. гипотез о предыстории данных, эта гипотеза видится вполне приемлемой. Ну и одновременно сконвертируем \"да/нет\" в бинарный код. \n"
   ]
  },
  {
   "cell_type": "code",
   "execution_count": 20,
   "metadata": {},
   "outputs": [],
   "source": [
    "df[yay_or_nay] = df[yay_or_nay].fillna('no')\n",
    "for column in yay_or_nay:\n",
    "    df[column] = df[column].str.contains('yes').astype('int')"
   ]
  },
  {
   "cell_type": "code",
   "execution_count": 21,
   "metadata": {},
   "outputs": [
    {
     "name": "stdout",
     "output_type": "stream",
     "text": [
      "Пропуски в 16 колонках:\n",
      "address         : 15 (3.86%)\n",
      "fam_size        : 27 (6.94%)\n",
      "p_status        : 45 (11.57%)\n",
      "m_edu           : 3 (0.77%)\n",
      "f_edu           : 24 (6.17%)\n",
      "m_job           : 19 (4.88%)\n",
      "f_job           : 36 (9.25%)\n",
      "reason          : 17 (4.37%)\n",
      "guardian        : 31 (7.97%)\n",
      "travel_time     : 28 (7.20%)\n",
      "study_time      : 7 (1.80%)\n",
      "study_time_gran : 7 (1.80%)\n",
      "fam_rel         : 27 (6.94%)\n",
      "free_time       : 9 (2.31%)\n",
      "go_out          : 7 (1.80%)\n",
      "health          : 15 (3.86%)\n",
      "всего пропусков: 317 (2.72%)\n",
      "всего строк с пропусками: 214: (55.01%)\n"
     ]
    }
   ],
   "source": [
    "count_missing()"
   ]
  },
  {
   "cell_type": "markdown",
   "metadata": {},
   "source": [
    "Сокращение списка сделало соседями параметры study_time и study_time_gran(ular), и сходство их названий дополнилось сходством по количеству пропусков..."
   ]
  },
  {
   "cell_type": "code",
   "execution_count": 22,
   "metadata": {},
   "outputs": [
    {
     "data": {
      "text/plain": [
       "-0.333333    382\n",
       "dtype: int64"
      ]
     },
     "execution_count": 22,
     "metadata": {},
     "output_type": "execute_result"
    }
   ],
   "source": [
    "df.study_time.corr(df.study_time_gran)\n",
    "(df.study_time/df.study_time_gran).value_counts()"
   ]
  },
  {
   "cell_type": "markdown",
   "metadata": {},
   "source": [
    "...как видим, не случайно. Очевдино, что study_time_gran - это масштабированный по каким-то соображениям параметр study_time. \n",
    "В ТЗ этот параметр не указан, и является относительно исходного избыточным. Исходник надо безусловно оставлять, потому что он трактуется однознозначно. Предположим, что масштабированный параметр реально нужен. Тогда мы сначала корректируем исходную колонку, потом по тому же принципу заполняем масштабированную. Лучше всего заполнить масштабированную путем вычисления от исходной - если вдруг изменим решение относительно метода заполнения, меньше придется переделывать в коде.\n"
   ]
  },
  {
   "cell_type": "code",
   "execution_count": 23,
   "metadata": {},
   "outputs": [
    {
     "data": {
      "image/png": "[encoded data removed]",
      "text/plain": [
       "<Figure size 864x288 with 2 Axes>"
      ]
     },
     "metadata": {
      "needs_background": "light"
     },
     "output_type": "display_data"
    },
    {
     "data": {
      "text/plain": [
       "count    382.000000\n",
       "mean       2.036649\n",
       "std        0.847239\n",
       "min        1.000000\n",
       "25%        1.000000\n",
       "50%        2.000000\n",
       "75%        2.000000\n",
       "max        4.000000\n",
       "Name: study_time, dtype: float64"
      ]
     },
     "execution_count": 23,
     "metadata": {},
     "output_type": "execute_result"
    }
   ],
   "source": [
    "hist_and_box(df.study_time)\n",
    "df.study_time.describe()"
   ]
  },
  {
   "cell_type": "markdown",
   "metadata": {},
   "source": [
    "Здесь в качесте заполнения напрашивается медиана, которая к тому же и с большим отрывом лидирует по частоте встречаемости."
   ]
  },
  {
   "cell_type": "code",
   "execution_count": 24,
   "metadata": {},
   "outputs": [
    {
     "name": "stdout",
     "output_type": "stream",
     "text": [
      "Пропуски в 14 колонках:\n",
      "address         : 15 (3.86%)\n",
      "fam_size        : 27 (6.94%)\n",
      "p_status        : 45 (11.57%)\n",
      "m_edu           : 3 (0.77%)\n",
      "f_edu           : 24 (6.17%)\n",
      "m_job           : 19 (4.88%)\n",
      "f_job           : 36 (9.25%)\n",
      "reason          : 17 (4.37%)\n",
      "guardian        : 31 (7.97%)\n",
      "travel_time     : 28 (7.20%)\n",
      "fam_rel         : 27 (6.94%)\n",
      "free_time       : 9 (2.31%)\n",
      "go_out          : 7 (1.80%)\n",
      "health          : 15 (3.86%)\n",
      "всего пропусков: 303 (2.60%)\n",
      "всего строк с пропусками: 213: (54.76%)\n"
     ]
    }
   ],
   "source": [
    "df.study_time = df.study_time.fillna(df.study_time.median()).astype('int')\n",
    "df.study_time_gran = df.study_time_gran.fillna(-3 * df.study_time).astype('int')\n",
    "count_missing()"
   ]
  },
  {
   "cell_type": "markdown",
   "metadata": {},
   "source": [
    "Можно предположить, что есть определенная связь между местом проживания учащихся и школой."
   ]
  },
  {
   "cell_type": "code",
   "execution_count": 25,
   "metadata": {},
   "outputs": [
    {
     "data": {
      "text/plain": [
       "school  address\n",
       "GP      U          273\n",
       "        R           60\n",
       "MS      R           23\n",
       "        U           18\n",
       "Name: address, dtype: int64"
      ]
     },
     "metadata": {},
     "output_type": "display_data"
    }
   ],
   "source": [
    "display(df.groupby(['school'])['address'].value_counts())"
   ]
  },
  {
   "cell_type": "markdown",
   "metadata": {},
   "source": [
    "Похоже, что так и есть. Заполним в соответствии с частотой распределения параметра в зависимости от школы."
   ]
  },
  {
   "cell_type": "code",
   "execution_count": 26,
   "metadata": {},
   "outputs": [],
   "source": [
    "fill_by_related('address', 'school', method='freq')"
   ]
  },
  {
   "cell_type": "markdown",
   "metadata": {},
   "source": [
    "Также можно предположить, что travel_time зависит о места проживания."
   ]
  },
  {
   "cell_type": "code",
   "execution_count": 27,
   "metadata": {},
   "outputs": [
    {
     "data": {
      "text/plain": [
       "address  travel_time\n",
       "R        1.0            0.443038\n",
       "         2.0            0.354430\n",
       "         3.0            0.151899\n",
       "         4.0            0.050633\n",
       "U        1.0            0.723404\n",
       "         2.0            0.234043\n",
       "         3.0            0.031915\n",
       "         4.0            0.010638\n",
       "Name: travel_time, dtype: float64"
      ]
     },
     "metadata": {},
     "output_type": "display_data"
    }
   ],
   "source": [
    "display(df.groupby(['address'])['travel_time'].value_counts(normalize=True))"
   ]
  },
  {
   "cell_type": "markdown",
   "metadata": {},
   "source": [
    "В городе явно в целом тратят меньше времени. Заполним медианным значением в зависимости от места проживания. Также надо ометить, что значение 4 встречается в очень маленьком проценте и на тестах может привести к искажениям. Поскольку в строках могут быть и полезные данные, переформулируем ранг 3, как \"от получаса и выше\" и уберем все четверки в него."
   ]
  },
  {
   "cell_type": "code",
   "execution_count": 28,
   "metadata": {},
   "outputs": [
    {
     "data": {
      "text/plain": [
       "1    255\n",
       "2    104\n",
       "3     30\n",
       "Name: travel_time, dtype: int64"
      ]
     },
     "execution_count": 28,
     "metadata": {},
     "output_type": "execute_result"
    }
   ],
   "source": [
    "fill_by_related('travel_time', 'address', method='freq')\n",
    "df.travel_time = df.travel_time.astype('int').replace(4,3)\n",
    "df.travel_time.value_counts()"
   ]
  },
  {
   "cell_type": "markdown",
   "metadata": {},
   "source": [
    "Поскольку семейные пары, как правило, образуются в рамках социокультурной общности, логично предположить, что уровни образования у отцов и матерей примерно совпадают."
   ]
  },
  {
   "cell_type": "code",
   "execution_count": 29,
   "metadata": {},
   "outputs": [
    {
     "data": {
      "image/png": "[encoded data removed]",
      "text/plain": [
       "<Figure size 864x288 with 2 Axes>"
      ]
     },
     "metadata": {
      "needs_background": "light"
     },
     "output_type": "display_data"
    },
    {
     "data": {
      "text/plain": [
       "0.6219813871588825"
      ]
     },
     "execution_count": 29,
     "metadata": {},
     "output_type": "execute_result"
    }
   ],
   "source": [
    "hist_and_box(df.m_edu - df.f_edu)\n",
    "df.m_edu.corr(df.f_edu)"
   ]
  },
  {
   "cell_type": "markdown",
   "metadata": {},
   "source": [
    "Вполне возможно заполнить пропуски  модой в зависимости от образования супруга."
   ]
  },
  {
   "cell_type": "code",
   "execution_count": 30,
   "metadata": {},
   "outputs": [
    {
     "name": "stdout",
     "output_type": "stream",
     "text": [
      "Пропуски в 10 колонках:\n",
      "fam_size        : 27 (6.94%)\n",
      "p_status        : 45 (11.57%)\n",
      "m_job           : 19 (4.88%)\n",
      "f_job           : 36 (9.25%)\n",
      "reason          : 17 (4.37%)\n",
      "guardian        : 31 (7.97%)\n",
      "fam_rel         : 27 (6.94%)\n",
      "free_time       : 9 (2.31%)\n",
      "go_out          : 7 (1.80%)\n",
      "health          : 15 (3.86%)\n",
      "всего пропусков: 233 (2.00%)\n",
      "всего строк с пропусками: 184: (47.30%)\n"
     ]
    }
   ],
   "source": [
    "fill_by_related('m_edu', 'f_edu', method='mode')\n",
    "fill_by_related('f_edu', 'm_edu', method='mode')\n",
    "df.f_edu = df.f_edu.astype('int')\n",
    "df.m_edu = df.m_edu.astype('int')\n",
    "count_missing()"
   ]
  },
  {
   "cell_type": "markdown",
   "metadata": {},
   "source": [
    "Оставшиеся ранговые переменные заполним просто медианой."
   ]
  },
  {
   "cell_type": "code",
   "execution_count": 31,
   "metadata": {},
   "outputs": [
    {
     "name": "stdout",
     "output_type": "stream",
     "text": [
      "Пропуски в 6 колонках:\n",
      "fam_size        : 27 (6.94%)\n",
      "p_status        : 45 (11.57%)\n",
      "m_job           : 19 (4.88%)\n",
      "f_job           : 36 (9.25%)\n",
      "reason          : 17 (4.37%)\n",
      "guardian        : 31 (7.97%)\n",
      "всего пропусков: 175 (1.50%)\n",
      "всего строк с пропусками: 150: (38.56%)\n"
     ]
    }
   ],
   "source": [
    "for column in ('fam_rel', 'free_time', 'go_out', 'health'):\n",
    "    df[column] = df[column].fillna(df[column].median()).astype('int')\n",
    "count_missing()"
   ]
  },
  {
   "cell_type": "markdown",
   "metadata": {},
   "source": [
    "Имеется два бинарных признака, у которых нет значений, которые могли бы привести к возникновению скрытых нулей."
   ]
  },
  {
   "cell_type": "code",
   "execution_count": 32,
   "metadata": {},
   "outputs": [
    {
     "data": {
      "text/plain": [
       "GT3    255\n",
       "LE3    107\n",
       "Name: fam_size, dtype: int64"
      ]
     },
     "metadata": {},
     "output_type": "display_data"
    },
    {
     "data": {
      "text/plain": [
       "T    308\n",
       "A     36\n",
       "Name: p_status, dtype: int64"
      ]
     },
     "metadata": {},
     "output_type": "display_data"
    }
   ],
   "source": [
    "display(df.fam_size.value_counts())\n",
    "display(df.p_status.value_counts())"
   ]
  },
  {
   "cell_type": "markdown",
   "metadata": {},
   "source": [
    "Их можно заполнить по частоте распределения."
   ]
  },
  {
   "cell_type": "code",
   "execution_count": 33,
   "metadata": {},
   "outputs": [
    {
     "name": "stdout",
     "output_type": "stream",
     "text": [
      "Пропуски в 4 колонках:\n",
      "m_job           : 19 (4.88%)\n",
      "f_job           : 36 (9.25%)\n",
      "reason          : 17 (4.37%)\n",
      "guardian        : 31 (7.97%)\n",
      "всего пропусков: 103 (0.88%)\n",
      "всего строк с пропусками: 97: (24.94%)\n"
     ]
    }
   ],
   "source": [
    "for column in ('fam_size', 'p_status'):\n",
    "    df[column].fillna(fill_by_frequency(column), inplace=True)\n",
    "\n",
    "count_missing()"
   ]
  },
  {
   "cell_type": "markdown",
   "metadata": {},
   "source": [
    "У оставшихся номинативных переменных есть теоретическая возможность того, что значение 'other' является скрытым нулем. Оно и само по себе неплохой заполнитель пустот, можно сказать, просится в пропуски. Для очистки совести, посмотрим, не выбивается ли оно из уровней образования родителей."
   ]
  },
  {
   "cell_type": "code",
   "execution_count": 34,
   "metadata": {},
   "outputs": [
    {
     "data": {
      "text/plain": [
       "2    59\n",
       "3    53\n",
       "1    46\n",
       "4    34\n",
       "0     2\n",
       "Name: f_edu, dtype: int64"
      ]
     },
     "metadata": {},
     "output_type": "display_data"
    },
    {
     "data": {
      "text/plain": [
       "2    44\n",
       "3    36\n",
       "1    24\n",
       "4    22\n",
       "0     1\n",
       "Name: m_edu, dtype: int64"
      ]
     },
     "metadata": {},
     "output_type": "display_data"
    },
    {
     "data": {
      "text/plain": [
       "at_home    2\n",
       "other      1\n",
       "Name: m_job, dtype: int64"
      ]
     },
     "metadata": {},
     "output_type": "display_data"
    },
    {
     "data": {
      "text/plain": [
       "other    2\n",
       "Name: f_job, dtype: int64"
      ]
     },
     "metadata": {},
     "output_type": "display_data"
    }
   ],
   "source": [
    "display(df[df.f_job == 'other'].f_edu.value_counts())\n",
    "display(df[df.m_job == 'other'].m_edu.value_counts())\n",
    "\n",
    "display(df[df.m_edu == 0].m_job.value_counts())\n",
    "display(df[df.f_edu == 0].f_job.value_counts())"
   ]
  },
  {
   "cell_type": "markdown",
   "metadata": {},
   "source": [
    "Совесть достаточно чиста, поэтому все оставшееся будет у нас \"прочим\". Но, в процессе мы обнаружили, что родители без образования у нас присутствуют в штучном количестве. Т.е. по факту это выброс, который сам по себе не репрезентабелен, и чреват внесением искажений в расчеты. Следуя принципу \"по возможности не удалять\", переформулируеум ранг 1, как \"начальное или никакого\" и уберем в него нули."
   ]
  },
  {
   "cell_type": "code",
   "execution_count": 35,
   "metadata": {},
   "outputs": [],
   "source": [
    "df.f_edu.replace(0, 1, inplace=True)\n",
    "df.m_edu.replace(0, 1, inplace=True)"
   ]
  },
  {
   "cell_type": "code",
   "execution_count": 36,
   "metadata": {},
   "outputs": [
    {
     "name": "stdout",
     "output_type": "stream",
     "text": [
      "<class 'pandas.core.frame.DataFrame'>\n",
      "Int64Index: 389 entries, 0 to 394\n",
      "Data columns (total 30 columns):\n",
      "school             389 non-null object\n",
      "sex                389 non-null object\n",
      "age                389 non-null int32\n",
      "address            389 non-null object\n",
      "fam_size           389 non-null object\n",
      "p_status           389 non-null object\n",
      "m_edu              389 non-null int32\n",
      "f_edu              389 non-null int32\n",
      "m_job              389 non-null object\n",
      "f_job              389 non-null object\n",
      "reason             389 non-null object\n",
      "guardian           389 non-null object\n",
      "travel_time        389 non-null int32\n",
      "study_time         389 non-null int32\n",
      "failures           389 non-null int32\n",
      "schools_up         389 non-null int32\n",
      "fams_up            389 non-null int32\n",
      "paid               389 non-null int32\n",
      "activities         389 non-null int32\n",
      "nursery            389 non-null int32\n",
      "study_time_gran    389 non-null int32\n",
      "higher             389 non-null int32\n",
      "internet           389 non-null int32\n",
      "romantic           389 non-null int32\n",
      "fam_rel            389 non-null int32\n",
      "free_time          389 non-null int32\n",
      "go_out             389 non-null int32\n",
      "health             389 non-null int32\n",
      "absences           389 non-null int32\n",
      "score              389 non-null int32\n",
      "dtypes: int32(21), object(9)\n",
      "memory usage: 72.3+ KB\n"
     ]
    }
   ],
   "source": [
    "df.fillna('other', inplace=True)\n",
    "df.info()"
   ]
  },
  {
   "cell_type": "markdown",
   "metadata": {},
   "source": [
    "Итого:\n",
    "* Имеем датасет из 383 строк с 30 колонками данных. \n",
    "* Все численные данные (21 признак) представлены целочисленным форматом\n",
    "* Из них к количественным без оговорок можно отнести три: ***score, abscences*** и ***age***\n",
    "* Восемь бинарных признаков \"0/1\" получены из фомата \"да/нет\"\n",
    "* Остальные численные признаки являются ранговыми.\n",
    "* Среди них обнаружено два абсолютно колинеарных признака ***study_time*** и ***study_time_gran*** (второй - масштабированный вариант первого). \n",
    "* Оставшиеся 9 признаков являются номинативными и представлены строковыми значениями.\n"
   ]
  },
  {
   "cell_type": "markdown",
   "metadata": {},
   "source": [
    "# 3. Анализ данных"
   ]
  },
  {
   "cell_type": "markdown",
   "metadata": {},
   "source": [
    "## 3.1 Корреляционный анализ.\n",
    "\n",
    "Количественных переменных, включая цель исследования у нас всего три (попробуем назначить на эту должность и ***age***, у которой количество значений хотя бы больше пяти), поэтому матрицу рассеяния можно не ужимать."
   ]
  },
  {
   "cell_type": "code",
   "execution_count": 37,
   "metadata": {},
   "outputs": [
    {
     "data": {
      "image/png": "[encoded data removed]",
      "text/plain": [
       "<Figure size 864x864 with 12 Axes>"
      ]
     },
     "metadata": {
      "needs_background": "light"
     },
     "output_type": "display_data"
    },
    {
     "name": "stdout",
     "output_type": "stream",
     "text": [
      "-0.15516384402634562\n",
      "0.05628379057435256\n"
     ]
    }
   ],
   "source": [
    "num_values=['score','age', 'absences']\n",
    "sns.style=('ticks')\n",
    "\n",
    "sns.pairplot(df[num_values] ,kind = 'reg', height=4)\n",
    "plt.show()\n",
    "print(df.score.corr(df.age))\n",
    "print(df.score.corr(df.absences))"
   ]
  },
  {
   "cell_type": "markdown",
   "metadata": {},
   "source": [
    "Прогулы коррелируют с итоговым баллом очень слабо (впрочем, при работе с выбросами уже были на это намеки).\n",
    "Чуть более выраженной, но все равно несущественной, является корреляция оценок с возрастом. Т.е. можно говорить, что чем дольше засисделся ученик в школьниках, тем больше шанс, что успеваемость у него будет хуже средней (а попросту, учиться надоедает). Но и только."
   ]
  },
  {
   "cell_type": "markdown",
   "metadata": {},
   "source": [
    "## 3.2 Анализ номинативных  и ранговых переменных.\n",
    "\n",
    "Поскольку у нас остается без малого три десятка переменных, автоматизируем их анализ и визуализацию таким образом, чтобы отчет был компактным."
   ]
  },
  {
   "cell_type": "code",
   "execution_count": 38,
   "metadata": {},
   "outputs": [],
   "source": [
    "def evaluate_dif(column, alpha=0.05):\n",
    "    \n",
    "    \"\"\" Проверка гипотезы о влиянии номинативной/ранговой переменной на исследуемый параметр\n",
    "    \n",
    "    column -- название колонки\n",
    "    alpha  -- уровень значимости, по умолчанию 5%\n",
    "    \n",
    "    \"\"\"\n",
    "    # список значений в колонке\n",
    "    values = df[column].unique()\n",
    "    \n",
    "    # уровень значимости с поправкой Бонферони\n",
    "    alpha_bonfy = 2*alpha/(len(values)*(len(values)-1))\n",
    "    \n",
    "    # цикл по парам значений\n",
    "    for one, two in combinations(values,2):\n",
    "        \n",
    "        set_one = df[df[column] == one]['score']\n",
    "        set_two = df[df[column] == two]['score']\n",
    "        \n",
    "        if ttest_ind(set_one, set_two).pvalue <= alpha_bonfy:\n",
    "            return True \n",
    "        \n",
    "    return False\n",
    "\n",
    "def multiple_boxes(columns, ncols=4, angle=0):\n",
    "    \n",
    "    \"\"\" Групповое построение боксплотов, визуализирующих степень зависимости исследуемого параметра\n",
    "    от значений других параметров\n",
    "    \n",
    "    columns -- список параметров\n",
    "    ncols   -- количество параметров в одном ряду графиков (по умолчанию 4)\n",
    "    angle   -- угол наклона подписей по оси X (по умолчанию 0) \"\"\"\n",
    "\n",
    "    total = len(columns)\n",
    "    nrows = math.ceil(total/ncols)\n",
    "    fig = plt.figure(figsize = (13, 4*nrows)) \n",
    "    \n",
    "    sns.set(style=\"whitegrid\")\n",
    "   \n",
    "    for i, column in enumerate (columns):\n",
    "        \n",
    "        ax = fig.add_subplot(nrows, ncols,i+1)\n",
    "        sns.boxplot(x=column, y='score', data=df, ax=ax)\n",
    "        dif = evaluate_dif(column)\n",
    "        ax.set_title('TTEST: '+str(dif))\n",
    "        plt.xticks(rotation=angle)\n",
    "        \n",
    "    fig.tight_layout(pad=3)\n",
    "    \n",
    "    return None"
   ]
  },
  {
   "cell_type": "markdown",
   "metadata": {},
   "source": [
    "По соображениям визуализации начнем с бинарных (численных и номинативных) признаков."
   ]
  },
  {
   "cell_type": "code",
   "execution_count": 39,
   "metadata": {},
   "outputs": [
    {
     "name": "stdout",
     "output_type": "stream",
     "text": [
      "13 ['school', 'sex', 'address', 'fam_size', 'p_status', 'schools_up', 'fams_up', 'paid', 'activities', 'nursery', 'higher', 'internet', 'romantic']\n"
     ]
    }
   ],
   "source": [
    "bin_vals = [x for x in df.columns if df[x].dropna().nunique() == 2]\n",
    "print(len(bin_vals),bin_vals)"
   ]
  },
  {
   "cell_type": "markdown",
   "metadata": {},
   "source": [
    "Их у нас простое число, 13, что неудобно для вывода, но у нас среди них есть и без анализа первый кандидат на вылет: ***school***. Исследование у нас под эгидой ЮНИСЕФ и вряд ли эта организация хочет предсказывать успеваемость в двух конкретных школах. Эта информация была полезна при заполнении пропусков, но более мы в ней не нуждаемся."
   ]
  },
  {
   "cell_type": "code",
   "execution_count": 40,
   "metadata": {},
   "outputs": [
    {
     "data": {
      "image/png": "[encoded data removed]",
      "text/plain": [
       "<Figure size 936x864 with 12 Axes>"
      ]
     },
     "metadata": {
      "needs_background": "light"
     },
     "output_type": "display_data"
    }
   ],
   "source": [
    "multiple_boxes(bin_vals[1:], ncols=4)"
   ]
  },
  {
   "cell_type": "markdown",
   "metadata": {},
   "source": [
    "Первым делом самолеты, ну а девушки/юноши потом. Тест прошли переменные ***higher*** и ***romantic***. Кто больще интересуется учебой и меньше романтикой, преуспеваем в первом больше. Но, кстати, можно видеть, что между мечтами/абициями и реальной мотивацией есть различия, судя по результатам. Есть еще один параметр - ***address***, который весьма чувствителен к заполнениям и в процессе отладки кода то проходил, то не проходил тест. Условно берем его в анализ. Выбросить никогда не поздно."
   ]
  },
  {
   "cell_type": "code",
   "execution_count": 41,
   "metadata": {},
   "outputs": [],
   "source": [
    "approved = ['score','higher', 'romantic', 'address']"
   ]
  },
  {
   "cell_type": "markdown",
   "metadata": {},
   "source": [
    "Далее рассмотрим все, что связано с семьей."
   ]
  },
  {
   "cell_type": "code",
   "execution_count": 42,
   "metadata": {},
   "outputs": [
    {
     "data": {
      "image/png": "[encoded data removed]",
      "text/plain": [
       "<Figure size 936x576 with 6 Axes>"
      ]
     },
     "metadata": {},
     "output_type": "display_data"
    }
   ],
   "source": [
    "parental = ['m_edu', 'f_edu', 'm_job', 'f_job', 'guardian', 'fam_rel']\n",
    "multiple_boxes(parental, ncols=3)"
   ]
  },
  {
   "cell_type": "markdown",
   "metadata": {},
   "source": [
    "Вполне предсказуемо влияет образование родителей. Несколько удивляет влияние работы родителей. Мама-учитель не дает видимого бонуса, хотя работа мамы влияет. Видимо дело не столько в самой профессии, сколько в количестве и качестве внимания. Работа отца вроде бы не влияет, но мы помним, что поправка Бонферони - довольно-таки жесткая, гарантирующая скорее отсев лишнего, чем сохранение нужного. Учитывая, как папа-учитель, выделяется на фоне, следовало бы сохранить и ***f_job***."
   ]
  },
  {
   "cell_type": "code",
   "execution_count": 43,
   "metadata": {},
   "outputs": [],
   "source": [
    "approved += ['f_edu', 'f_job', 'm_edu', 'm_job']"
   ]
  },
  {
   "cell_type": "markdown",
   "metadata": {},
   "source": [
    "Ну и окинем взглядом то, что осталось."
   ]
  },
  {
   "cell_type": "code",
   "execution_count": 44,
   "metadata": {},
   "outputs": [
    {
     "data": {
      "image/png": "[encoded data removed]",
      "text/plain": [
       "<Figure size 936x576 with 8 Axes>"
      ]
     },
     "metadata": {},
     "output_type": "display_data"
    }
   ],
   "source": [
    "columns_left = df.drop(columns=bin_vals+parental+num_values).columns\n",
    "multiple_boxes(columns_left, ncols=4, angle=45)"
   ]
  },
  {
   "cell_type": "markdown",
   "metadata": {},
   "source": [
    "Явную зависимость демонстрирует только количество провалов. Остальные факторы слишком неоднозначны. Например, болезный может иметь мало сил на учебу, а может кроме учебы ничем не заниматься, и в ней преуспеть. Или тот, кто много занимается, может быть прилежным и результативным, а может просто иметь низкий КПД. Таким образом дилемма насчет study_time_gran разрешилась сама собой.\n",
    "\n"
   ]
  },
  {
   "cell_type": "code",
   "execution_count": 45,
   "metadata": {},
   "outputs": [
    {
     "name": "stdout",
     "output_type": "stream",
     "text": [
      "<class 'pandas.core.frame.DataFrame'>\n",
      "Int64Index: 389 entries, 0 to 394\n",
      "Data columns (total 9 columns):\n",
      "score       389 non-null int32\n",
      "higher      389 non-null int32\n",
      "romantic    389 non-null int32\n",
      "address     389 non-null object\n",
      "f_edu       389 non-null int32\n",
      "f_job       389 non-null object\n",
      "m_edu       389 non-null int32\n",
      "m_job       389 non-null object\n",
      "failures    389 non-null int32\n",
      "dtypes: int32(6), object(3)\n",
      "memory usage: 31.3+ KB\n"
     ]
    }
   ],
   "source": [
    "approved += ['failures']\n",
    "df[approved].to_csv('new_stud_math.csv')\n",
    "df[approved].info()"
   ]
  },
  {
   "cell_type": "markdown",
   "metadata": {},
   "source": [
    "# 4. Заключение"
   ]
  },
  {
   "cell_type": "markdown",
   "metadata": {},
   "source": [
    "Рекомендуем к использованию существенно более компактный датасет, в котором кроме параметра ***score*** всего 7 переменных (из исходных 29):\n",
    "*  m_edu - образование матери ( 1 - от 0 до 4 классов , 2 - 5-9 классы, 3 - среднее специальное или 11 классов, 4 - высшее)\n",
    "*  f_edu - образование отца ( 1 - от 0 до 4 классов , 2 - 5-9 классы, 3 - среднее специальное или 11 классов, 4 - высшее)\n",
    "*  m_job - работа матери ('teacher' - учитель, 'health' - сфера здравоохранения, 'services' - гос служба, 'at_home' - не работает, 'other' - другое)\n",
    "*  f_job - работа отца ('teacher' - учитель, 'health' - сфера здравоохранения, 'services' - гос служба, 'at_home' - не работает, 'other' - другое)\n",
    "*  higher — хочет получить высшее образование (1 - да, 0 - нет)\n",
    "*  romantic — в романтических отношениях (1 - да, 0 - нет)\n",
    "*  failures — количество внеучебных неудач (от 0 до 3)\n",
    "\n",
    "Сам признак ***score*** требует дополнительного расследования касательно происхождения большого количества нулей и их трактовки.\n",
    "\n"
   ]
  }
 ],
 "metadata": {
  "kernelspec": {
   "display_name": "Python 3",
   "language": "python",
   "name": "python3"
  },
  "language_info": {
   "codemirror_mode": {
    "name": "ipython",
    "version": 3
   },
   "file_extension": ".py",
   "mimetype": "text/x-python",
   "name": "python",
   "nbconvert_exporter": "python",
   "pygments_lexer": "ipython3",
   "version": "3.7.6"
  }
 },
 "nbformat": 4,
 "nbformat_minor": 2
}

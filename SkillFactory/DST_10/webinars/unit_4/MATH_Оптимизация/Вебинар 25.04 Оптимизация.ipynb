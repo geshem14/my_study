{
 "cells": [
  {
   "cell_type": "markdown",
   "metadata": {},
   "source": [
    "# Задача 1"
   ]
  },
  {
   "cell_type": "markdown",
   "metadata": {},
   "source": [
    "Вы сотрудник коммерческой фирмы и отвечаете за рекламу. Затраты на рекламу в месяц не должны превышать 10 000 денежных единиц (д.е). Минута радиорекламы стоит 5 д.е., а телерекламы 90 д.е. Фирма намерена использовать радиорекламу в три раза чаще чем телерекламу. Практика показывает, что 1 минута телерекламы обеспечивает объём продаж в 30 раз больший чем 1 минута радиорекламы.\n"
   ]
  },
  {
   "cell_type": "markdown",
   "metadata": {},
   "source": [
    "30x1+x2 –увеличение продаж от рекламы\n",
    "\n",
    "90x1+5x2 <=10 000 – ограничение средств\n",
    "\n",
    "x2=3x1 – соотношение времён радио и теле рекламы.\n"
   ]
  },
  {
   "cell_type": "code",
   "execution_count": 11,
   "metadata": {},
   "outputs": [
    {
     "name": "stdout",
     "output_type": "stream",
     "text": [
      "     con: array([-3.33784556e-10])\n",
      "     fun: -3142.8571423296826\n",
      " message: 'Optimization terminated successfully.'\n",
      "     nit: 5\n",
      "   slack: array([1.67888902e-06])\n",
      "  status: 0\n",
      " success: True\n",
      "       x: array([ 95.23809522, 285.71428567])\n",
      "Время :\n",
      "0.019932031631469727\n"
     ]
    }
   ],
   "source": [
    "from scipy.optimize import linprog\n",
    "import time\n",
    "start = time.time()\n",
    "c = [-30,-1] #Функция цели\n",
    "A_ub = [[90,5]]  #'1'   \n",
    "b_ub = [10000]#'1'   \n",
    "A_eq = [[3,-1]] #'2'   \n",
    "b_eq = [0] #'2'   \n",
    "print (linprog(c, A_ub, b_ub, A_eq, b_eq))\n",
    "stop = time.time()\n",
    "print (\"Время :\")\n",
    "print(stop - start)"
   ]
  },
  {
   "cell_type": "markdown",
   "metadata": {},
   "source": [
    "# Транспортная задача"
   ]
  },
  {
   "cell_type": "markdown",
   "metadata": {},
   "source": [
    "Вы сотрудник коммерческой фирмы, которая оказывает транспортные услуги. Есть поставщики товара со складами в разных трёх городах, причём объёмы однородной продукции на этих складах соответственно равны a1, a2, a3. Есть и потребители в других трёх городах которым нужно привести товар от поставщиков в объёмах b1, b2, b3 соответственно. Известны также стоимости доставки с1÷с9 товаров от поставщиков к потребителям, согласно таблице."
   ]
  },
  {
   "cell_type": "markdown",
   "metadata": {},
   "source": [
    "Если обозначить через x1…xn количество перевозимого груза, тогда общая стоимость перевозки:\n",
    "\n",
    "F(x)=c1*x1+c2*x2+c3*x3+c4*x4+c5*x5+c6*x6+c7*x7+c8*x8+c9*x9"
   ]
  },
  {
   "cell_type": "markdown",
   "metadata": {},
   "source": [
    "x1+x2+x3<=20 – больше чем есть у поставщика не получится взять\n",
    "\n",
    "\n",
    "x4+x5+x6<=45\n",
    "\n",
    "\n",
    "x7+x8+x9<=30"
   ]
  },
  {
   "cell_type": "markdown",
   "metadata": {},
   "source": [
    "x1+x4+x7=14\n",
    "x2+x5+x8=40\n",
    "x3+x6+x9=42"
   ]
  },
  {
   "cell_type": "code",
   "execution_count": 1,
   "metadata": {},
   "outputs": [
    {
     "name": "stdout",
     "output_type": "stream",
     "text": [
      "     con: array([2.21124452e-09, 5.46310730e-09, 3.51201024e-09])\n",
      "     fun: 303.9999999680455\n",
      " message: 'Optimization terminated successfully.'\n",
      "     nit: 6\n",
      "   slack: array([1.53865543e-09, 1.00000000e+00, 5.33654543e-09])\n",
      "  status: 0\n",
      " success: True\n",
      "       x: array([1.63855817e-10, 1.40000000e+01, 1.42837366e-10, 4.48097587e+00,\n",
      "       4.51902413e+00, 3.00000000e+01, 1.55190241e+01, 2.64809759e+01,\n",
      "       1.32009748e-10])\n",
      "Время :\n",
      "0.3146538734436035\n"
     ]
    }
   ],
   "source": [
    "from scipy.optimize import linprog\n",
    "import time\n",
    "start = time.time()\n",
    "c = [7, 3, 6,4,8,2,1,5,9]\n",
    "A_ub = [[1,1,1,0,0,0,0,0,0],\n",
    "               [0,0,0,1,1,1,0,0,0],\n",
    "               [0,0,0,0,0,0,1,1,1]] \n",
    "b_ub = [14,40,42] \n",
    "A_eq = [[1,0,0,1,0,0,1,0,0],\n",
    "               [0,1,0,0,1,0,0,1,0],\n",
    "               [0,0,1,0,0,1,0,0,1]] \n",
    "b_eq = [20,45,30] \n",
    "print(linprog(c, A_ub, b_ub, A_eq, b_eq))\n",
    "stop = time.time()\n",
    "print (\"Время :\")\n",
    "print(stop - start)"
   ]
  },
  {
   "cell_type": "code",
   "execution_count": null,
   "metadata": {},
   "outputs": [],
   "source": []
  }
 ],
 "metadata": {
  "kernelspec": {
   "display_name": "Python 3",
   "language": "python",
   "name": "python3"
  },
  "language_info": {
   "codemirror_mode": {
    "name": "ipython",
    "version": 3
   },
   "file_extension": ".py",
   "mimetype": "text/x-python",
   "name": "python",
   "nbconvert_exporter": "python",
   "pygments_lexer": "ipython3",
   "version": "3.7.4"
  }
 },
 "nbformat": 4,
 "nbformat_minor": 4
}

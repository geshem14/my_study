{
  "nbformat": 4,
  "nbformat_minor": 0,
  "metadata": {
    "kernelspec": {
      "display_name": "Python 3",
      "language": "python",
      "name": "python3"
    },
    "language_info": {
      "codemirror_mode": {
        "name": "ipython",
        "version": 3
      },
      "file_extension": ".py",
      "mimetype": "text/x-python",
      "name": "python",
      "nbconvert_exporter": "python",
      "pygments_lexer": "ipython3",
      "version": "3.7.3"
    },
    "colab": {
      "name": "Log_regr_CHD.ipynb",
      "provenance": []
    }
  },
  "cells": [
    {
      "cell_type": "code",
      "metadata": {
        "id": "wr2l1eRirQcC",
        "colab_type": "code",
        "colab": {}
      },
      "source": [
        "import pandas as pd\n",
        "from sklearn import linear_model\n",
        "from sklearn.linear_model import LogisticRegression\n",
        "from sklearn.model_selection import train_test_split\n",
        "from sklearn import metrics\n",
        "import matplotlib.pyplot as plt\n",
        "import seaborn as sn\n",
        "import matplotlib.mlab as mlab\n",
        "%matplotlib inline"
      ],
      "execution_count": 0,
      "outputs": []
    },
    {
      "cell_type": "code",
      "metadata": {
        "id": "Kv178wp_rQdO",
        "colab_type": "code",
        "colab": {}
      },
      "source": [
        "# Импортируем датасет и избавимся от нулевых строк\n",
        "df = pd.read_csv('framingham.csv')\n",
        "df.dropna(axis=0,inplace=True) #избавляемся от строчек с пропущенными значениями"
      ],
      "execution_count": 0,
      "outputs": []
    },
    {
      "cell_type": "markdown",
      "metadata": {
        "id": "VhTUGb7CrQfK",
        "colab_type": "text"
      },
      "source": [
        "Задача 1:\n",
        "\n",
        "прогноз риска ишемичсекой болезни сердца в 10 летней перспективе в зависимости от всех имеющихся параметров"
      ]
    },
    {
      "cell_type": "code",
      "metadata": {
        "id": "2lxswKA7rQfi",
        "colab_type": "code",
        "colab": {}
      },
      "source": [
        "# разбиваем датафрейм на две части, dfx - параметры, dfy - целевая переменная. \n",
        "dfx = df.drop('TenYearCHD', axis = 1)\n",
        "dfy = df[['TenYearCHD']] "
      ],
      "execution_count": 0,
      "outputs": []
    },
    {
      "cell_type": "code",
      "metadata": {
        "id": "seVyhXyyrQgJ",
        "colab_type": "code",
        "colab": {}
      },
      "source": [
        "# разбиваем датасет на train и test выборку в соотношениии 80% train / 20% test случайным образом\n",
        "X_train, X_test, y_train, y_test = train_test_split(dfx, dfy, test_size=0.2) "
      ],
      "execution_count": 0,
      "outputs": []
    },
    {
      "cell_type": "code",
      "metadata": {
        "id": "cWQX5AQvrQgw",
        "colab_type": "code",
        "colab": {}
      },
      "source": [
        "# используем логистическую регрессию из sklearn. Имя lm - для краткости записи\n",
        "lm = linear_model.LogisticRegression(solver='liblinear') \n",
        "# solver='liblinear' задает алгоритм поиска максимума функции правдоподобия. "
      ],
      "execution_count": 0,
      "outputs": []
    },
    {
      "cell_type": "code",
      "metadata": {
        "id": "PC2IsP1erQhh",
        "colab_type": "code",
        "colab": {}
      },
      "source": [
        "# функция fit обучает регрессию - подбирает коэффициенты\n",
        "model = lm.fit(X_train, y_train.values.ravel()) "
      ],
      "execution_count": 0,
      "outputs": []
    },
    {
      "cell_type": "code",
      "metadata": {
        "id": "cnrKkZqBrQiH",
        "colab_type": "code",
        "colab": {}
      },
      "source": [
        "# выведем коэффициенты модели\n",
        "model.coef_"
      ],
      "execution_count": 0,
      "outputs": []
    },
    {
      "cell_type": "code",
      "metadata": {
        "id": "TrlRuJSSrQjP",
        "colab_type": "code",
        "colab": {}
      },
      "source": [
        "# выведем коэффициент при константе\n",
        "model.intercept_"
      ],
      "execution_count": 0,
      "outputs": []
    },
    {
      "cell_type": "code",
      "metadata": {
        "id": "6C8L9RxUrQkz",
        "colab_type": "code",
        "colab": {}
      },
      "source": [
        "# возьмем одного пациента из тестовой выборки и сделаем для него прогноз\n",
        "X_test[:1]"
      ],
      "execution_count": 0,
      "outputs": []
    },
    {
      "cell_type": "code",
      "metadata": {
        "id": "GxkXwyBdrQma",
        "colab_type": "code",
        "colab": {}
      },
      "source": [
        "# прогноз вероятности отнесения к каждому классу (0 - нет риска, 1 - есть риск)\n",
        "# первый элемент массива - вероятность класса 0, второй - вероятность класса 1\n",
        "lm.predict_proba(X_test[:1])"
      ],
      "execution_count": 0,
      "outputs": []
    },
    {
      "cell_type": "code",
      "metadata": {
        "id": "yjQKi-U9rQnP",
        "colab_type": "code",
        "colab": {}
      },
      "source": [
        "# классификация (0 - нет риска, 1 - есть риск)\n",
        "lm.predict(X_test[:1])"
      ],
      "execution_count": 0,
      "outputs": []
    },
    {
      "cell_type": "code",
      "metadata": {
        "id": "kgfe2JsirQoK",
        "colab_type": "code",
        "colab": {}
      },
      "source": [
        "# сделаем prediction классов на всей тестовой выборке\n",
        "y_pred = lm.predict(X_test)\n",
        "y_pred"
      ],
      "execution_count": 0,
      "outputs": []
    },
    {
      "cell_type": "code",
      "metadata": {
        "id": "hlBnC6-4rQoy",
        "colab_type": "code",
        "colab": {}
      },
      "source": [
        "y_pred.sum()"
      ],
      "execution_count": 0,
      "outputs": []
    },
    {
      "cell_type": "code",
      "metadata": {
        "id": "TygXkVxErQpo",
        "colab_type": "code",
        "colab": {}
      },
      "source": [
        " # смотрим accuracy модели\n",
        "lm.score(X_test, y_test)"
      ],
      "execution_count": 0,
      "outputs": []
    },
    {
      "cell_type": "code",
      "metadata": {
        "id": "mvouNHY0rQqq",
        "colab_type": "code",
        "colab": {}
      },
      "source": [
        "# смотрим confusion matrix - таблицу правильных и неправильных предсказаний\n",
        "cnf_matrix = metrics.confusion_matrix(y_test, y_pred)\n",
        "cnf_matrix "
      ],
      "execution_count": 0,
      "outputs": []
    },
    {
      "cell_type": "code",
      "metadata": {
        "id": "mlkIIz37rQrn",
        "colab_type": "code",
        "colab": {}
      },
      "source": [
        "y_test['TenYearCHD'].value_counts()"
      ],
      "execution_count": 0,
      "outputs": []
    },
    {
      "cell_type": "code",
      "metadata": {
        "id": "ZYTjZa7GrQsB",
        "colab_type": "code",
        "colab": {}
      },
      "source": [
        "y_pred.sum()"
      ],
      "execution_count": 0,
      "outputs": []
    },
    {
      "cell_type": "code",
      "metadata": {
        "scrolled": false,
        "id": "jydCFa2prQsr",
        "colab_type": "code",
        "colab": {}
      },
      "source": [
        "# строим тепловую карту\n",
        "# Обратите внимание - по строкам расположены настоящие значения классов, а по столбцам - предсказанные\n",
        "sn.heatmap(cnf_matrix, annot=True)"
      ],
      "execution_count": 0,
      "outputs": []
    },
    {
      "cell_type": "markdown",
      "metadata": {
        "id": "VejC02TerQtL",
        "colab_type": "text"
      },
      "source": [
        "Выводы:\n",
        "Наша модель хорошо работает на \"здоровых\" пациентах и плохо на \"больных\":\n",
        "Из 100 (примерно) пациентов группы риска модель нашла около 10 (примерно), это значит, что вероятность ошибки второго рода высока. Для медицинского теста это плохо, поэтому нам нужно более аккуратно выбирать параметры."
      ]
    },
    {
      "cell_type": "markdown",
      "metadata": {
        "id": "8HgbwE9VrQtZ",
        "colab_type": "text"
      },
      "source": [
        "Задача 2\n",
        "\n",
        "прогноз риска ишемической болезни сердца в 10 летней перспективе в зависимости только от пола\n",
        "\n",
        "Делаем те же самые шаги, но с новыми переменными"
      ]
    },
    {
      "cell_type": "code",
      "metadata": {
        "id": "z3u8i8X7rQtt",
        "colab_type": "code",
        "colab": {}
      },
      "source": [
        "list_col=['male']\n",
        "dfx1 = df[list_col]\n",
        "dfy1 = df[['TenYearCHD']]\n",
        "\n",
        "X_train1, X_test1, y_train1, y_test1 = train_test_split(dfx1, dfy1, test_size=0.2)\n",
        "lm1 = linear_model.LogisticRegression(solver='liblinear') \n",
        "model1 = lm1.fit(X_train1, y_train1.values.ravel())"
      ],
      "execution_count": 0,
      "outputs": []
    },
    {
      "cell_type": "code",
      "metadata": {
        "id": "Ck7ds8ulrQuB",
        "colab_type": "code",
        "colab": {}
      },
      "source": [
        "# Выведем коэффициенты модели. \n",
        "model1.coef_"
      ],
      "execution_count": 0,
      "outputs": []
    },
    {
      "cell_type": "code",
      "metadata": {
        "id": "9atlIGpGrQuQ",
        "colab_type": "code",
        "colab": {}
      },
      "source": [
        "# выведем коэффициент при константе\n",
        "model1.intercept_"
      ],
      "execution_count": 0,
      "outputs": []
    },
    {
      "cell_type": "code",
      "metadata": {
        "id": "s84DI-eyrQvR",
        "colab_type": "code",
        "colab": {}
      },
      "source": [
        "# Сделаем предсказания класса для всей тестовой выборки и вычислим accuracy модели\n",
        "\n",
        "y_pred1 = lm1.predict(X_test1) \n",
        "lm1.score(X_test1, y_test1)"
      ],
      "execution_count": 0,
      "outputs": []
    },
    {
      "cell_type": "code",
      "metadata": {
        "id": "aftu8Dz7rQvy",
        "colab_type": "code",
        "colab": {}
      },
      "source": [
        "# Посмотрим на ошибки предсказания более детально:\n",
        "cnf_matrix2 = metrics.confusion_matrix(y_test1, y_pred1)\n",
        "cnf_matrix2"
      ],
      "execution_count": 0,
      "outputs": []
    },
    {
      "cell_type": "code",
      "metadata": {
        "id": "nfx_FeWlrQwc",
        "colab_type": "code",
        "colab": {}
      },
      "source": [
        "sn.heatmap(cnf_matrix2, annot=True)"
      ],
      "execution_count": 0,
      "outputs": []
    },
    {
      "cell_type": "markdown",
      "metadata": {
        "id": "kvofzWGtrQxC",
        "colab_type": "text"
      },
      "source": [
        "Выводы:\n",
        "Acuuracy модели довольно высока, но если присмотреться, нас ждет сюрприз:\n",
        "Внезапно модель считает всех пациентов здоровыми. Таким образом, пол сам по себе - бесполезный фактор для классификации."
      ]
    },
    {
      "cell_type": "code",
      "metadata": {
        "id": "CFAt_rlwrQxL",
        "colab_type": "code",
        "colab": {}
      },
      "source": [
        ""
      ],
      "execution_count": 0,
      "outputs": []
    }
  ]
}
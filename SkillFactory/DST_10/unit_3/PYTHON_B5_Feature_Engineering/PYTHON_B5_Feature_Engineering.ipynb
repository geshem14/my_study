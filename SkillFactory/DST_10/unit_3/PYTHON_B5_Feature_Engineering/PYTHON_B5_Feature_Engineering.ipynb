{
 "cells": [
  {
   "cell_type": "markdown",
   "metadata": {},
   "source": [
    "# PYTHON-B5. Feature Engineering \n",
    "## Юнит 3. Введение в машинное обучение \n",
    "### Skillfactory: DST-10\n",
    "---\n",
    "### 5.1 Пропущенные значения"
   ]
  },
  {
   "cell_type": "code",
   "execution_count": 2,
   "metadata": {},
   "outputs": [
    {
     "output_type": "stream",
     "name": "stdout",
     "text": "['log.csv', 'users.csv']\n"
    }
   ],
   "source": [
    "import pandas as pd\n",
    "import numpy as np\n",
    "import os\n",
    "print(os.listdir('../PYTHON_B5_Feature_Engineering/data'))"
   ]
  },
  {
   "cell_type": "code",
   "execution_count": 3,
   "metadata": {},
   "outputs": [],
   "source": [
    "PATH_to_file = '../PYTHON_B5_Feature_Engineering/data/'\n",
    "log = pd.read_csv(PATH_to_file+'log.csv', header=None, encoding=\"utf-8\")"
   ]
  },
  {
   "cell_type": "code",
   "execution_count": 4,
   "metadata": {},
   "outputs": [
    {
     "output_type": "display_data",
     "data": {
      "text/plain": "                                  0                     1   2   3\n0  Запись пользователя № - user_919  [2019-01-01 14:06:51 NaN NaN\n1  Запись пользователя № - user_973  [2019-01-01 14:51:16 NaN NaN\n2  Запись пользователя № - user_903  [2019-01-01 16:31:16 NaN NaN\n3  Запись пользователя № - user_954  [2019-01-01 17:17:51 NaN NaN\n4  Запись пользователя № - user_954  [2019-01-01 21:31:18 NaN NaN",
      "text/html": "<div>\n<style scoped>\n    .dataframe tbody tr th:only-of-type {\n        vertical-align: middle;\n    }\n\n    .dataframe tbody tr th {\n        vertical-align: top;\n    }\n\n    .dataframe thead th {\n        text-align: right;\n    }\n</style>\n<table border=\"1\" class=\"dataframe\">\n  <thead>\n    <tr style=\"text-align: right;\">\n      <th></th>\n      <th>0</th>\n      <th>1</th>\n      <th>2</th>\n      <th>3</th>\n    </tr>\n  </thead>\n  <tbody>\n    <tr>\n      <th>0</th>\n      <td>Запись пользователя № - user_919</td>\n      <td>[2019-01-01 14:06:51</td>\n      <td>NaN</td>\n      <td>NaN</td>\n    </tr>\n    <tr>\n      <th>1</th>\n      <td>Запись пользователя № - user_973</td>\n      <td>[2019-01-01 14:51:16</td>\n      <td>NaN</td>\n      <td>NaN</td>\n    </tr>\n    <tr>\n      <th>2</th>\n      <td>Запись пользователя № - user_903</td>\n      <td>[2019-01-01 16:31:16</td>\n      <td>NaN</td>\n      <td>NaN</td>\n    </tr>\n    <tr>\n      <th>3</th>\n      <td>Запись пользователя № - user_954</td>\n      <td>[2019-01-01 17:17:51</td>\n      <td>NaN</td>\n      <td>NaN</td>\n    </tr>\n    <tr>\n      <th>4</th>\n      <td>Запись пользователя № - user_954</td>\n      <td>[2019-01-01 21:31:18</td>\n      <td>NaN</td>\n      <td>NaN</td>\n    </tr>\n  </tbody>\n</table>\n</div>"
     },
     "metadata": {}
    }
   ],
   "source": [
    "pd.option_context('display.max_rows', None)\n",
    "display(log.head())"
   ]
  },
  {
   "cell_type": "code",
   "execution_count": 5,
   "metadata": {},
   "outputs": [
    {
     "output_type": "display_data",
     "data": {
      "text/plain": "                                    0                    1        2        3\n995  Запись пользователя № - user_984  [2019-04-20 9:59:58   9754.0      NaN\n996                            #error                  NaN  10054.0  29265.0\n997                            #error                  NaN  10454.0      NaN\n998                            #error                  NaN   1000.0      NaN\n999                            #error                  NaN  10754.0      NaN",
      "text/html": "<div>\n<style scoped>\n    .dataframe tbody tr th:only-of-type {\n        vertical-align: middle;\n    }\n\n    .dataframe tbody tr th {\n        vertical-align: top;\n    }\n\n    .dataframe thead th {\n        text-align: right;\n    }\n</style>\n<table border=\"1\" class=\"dataframe\">\n  <thead>\n    <tr style=\"text-align: right;\">\n      <th></th>\n      <th>0</th>\n      <th>1</th>\n      <th>2</th>\n      <th>3</th>\n    </tr>\n  </thead>\n  <tbody>\n    <tr>\n      <th>995</th>\n      <td>Запись пользователя № - user_984</td>\n      <td>[2019-04-20 9:59:58</td>\n      <td>9754.0</td>\n      <td>NaN</td>\n    </tr>\n    <tr>\n      <th>996</th>\n      <td>#error</td>\n      <td>NaN</td>\n      <td>10054.0</td>\n      <td>29265.0</td>\n    </tr>\n    <tr>\n      <th>997</th>\n      <td>#error</td>\n      <td>NaN</td>\n      <td>10454.0</td>\n      <td>NaN</td>\n    </tr>\n    <tr>\n      <th>998</th>\n      <td>#error</td>\n      <td>NaN</td>\n      <td>1000.0</td>\n      <td>NaN</td>\n    </tr>\n    <tr>\n      <th>999</th>\n      <td>#error</td>\n      <td>NaN</td>\n      <td>10754.0</td>\n      <td>NaN</td>\n    </tr>\n  </tbody>\n</table>\n</div>"
     },
     "metadata": {}
    }
   ],
   "source": [
    "display(log.tail())"
   ]
  },
  {
   "cell_type": "code",
   "execution_count": 6,
   "metadata": {},
   "outputs": [],
   "source": [
    "# Функция возращает очищенный user_id без слов до слова user\n",
    "# На случай ошибок записи лога, не используется метод slice,\n",
    "# а находится точное вхождение слова user кроме это очищается от\n",
    "# пробельных символов в конце\n",
    "\n",
    "def fixColumnUsed_id(s):\n",
    "    if 'Запись пользователя' in s:\n",
    "        return s[s.find(\"user\"):].rstrip()\n",
    "    else:\n",
    "        return s\n",
    "\n",
    "log.columns = ['user_id', 'time', 'bet', 'win']\n",
    "# добавим названия колонок user_id, time, bet, win\n",
    "\n",
    "log.user_id = log.user_id.apply(lambda x: fixColumnUsed_id(x))\n",
    "# оставим в user_id только значения идентификатора\n",
    "\n",
    "log.time = log.time.apply(lambda x: x[1:] if type(x) == str else x)\n",
    "# уберём начальную скобку из поля time"
   ]
  },
  {
   "cell_type": "code",
   "execution_count": 7,
   "metadata": {},
   "outputs": [
    {
     "output_type": "display_data",
     "data": {
      "text/plain": "    user_id                 time  bet  win\n0  user_919  2019-01-01 14:06:51  NaN  NaN\n1  user_973  2019-01-01 14:51:16  NaN  NaN\n2  user_903  2019-01-01 16:31:16  NaN  NaN\n3  user_954  2019-01-01 17:17:51  NaN  NaN\n4  user_954  2019-01-01 21:31:18  NaN  NaN",
      "text/html": "<div>\n<style scoped>\n    .dataframe tbody tr th:only-of-type {\n        vertical-align: middle;\n    }\n\n    .dataframe tbody tr th {\n        vertical-align: top;\n    }\n\n    .dataframe thead th {\n        text-align: right;\n    }\n</style>\n<table border=\"1\" class=\"dataframe\">\n  <thead>\n    <tr style=\"text-align: right;\">\n      <th></th>\n      <th>user_id</th>\n      <th>time</th>\n      <th>bet</th>\n      <th>win</th>\n    </tr>\n  </thead>\n  <tbody>\n    <tr>\n      <th>0</th>\n      <td>user_919</td>\n      <td>2019-01-01 14:06:51</td>\n      <td>NaN</td>\n      <td>NaN</td>\n    </tr>\n    <tr>\n      <th>1</th>\n      <td>user_973</td>\n      <td>2019-01-01 14:51:16</td>\n      <td>NaN</td>\n      <td>NaN</td>\n    </tr>\n    <tr>\n      <th>2</th>\n      <td>user_903</td>\n      <td>2019-01-01 16:31:16</td>\n      <td>NaN</td>\n      <td>NaN</td>\n    </tr>\n    <tr>\n      <th>3</th>\n      <td>user_954</td>\n      <td>2019-01-01 17:17:51</td>\n      <td>NaN</td>\n      <td>NaN</td>\n    </tr>\n    <tr>\n      <th>4</th>\n      <td>user_954</td>\n      <td>2019-01-01 21:31:18</td>\n      <td>NaN</td>\n      <td>NaN</td>\n    </tr>\n  </tbody>\n</table>\n</div>"
     },
     "metadata": {}
    }
   ],
   "source": [
    "display(log.head())"
   ]
  },
  {
   "cell_type": "markdown",
   "metadata": {},
   "source": [
    "### Задание 5.1.1\n",
    "Посчитайте количество пропусков в столбце time. Метод isna() есть не только у DataFrame, но и у Series. Это значит, что применять его можно не только ко всей таблице, но и к каждому столбцу отдельно."
   ]
  },
  {
   "cell_type": "code",
   "execution_count": 8,
   "metadata": {},
   "outputs": [
    {
     "output_type": "stream",
     "name": "stdout",
     "text": "Ответ к заданию 5.1.1\nколичество пропусков в столбце time := 15\n"
    }
   ],
   "source": [
    "temp = len(log[log['time'].isna()])\n",
    "\n",
    "task = \"5.1.1\"\n",
    "print(f\"Ответ к заданию {task}\")\n",
    "print(f\"количество пропусков в столбце time := {round(temp,0)}\")"
   ]
  },
  {
   "cell_type": "markdown",
   "metadata": {},
   "source": [
    "### Задание 5.1.2\n",
    "Удалите все столбцы, где есть пропуски. Запишите в поле, сколько осталось столбцов в данных после этого.\n",
    "Используйте оригинальный датасет log.csv."
   ]
  },
  {
   "cell_type": "code",
   "execution_count": 9,
   "metadata": {},
   "outputs": [
    {
     "output_type": "stream",
     "name": "stdout",
     "text": "Ответ к заданию 5.1.2\nколичество пропусков в столбце time := 1\n"
    }
   ],
   "source": [
    "log = pd.read_csv(PATH_to_file+'log.csv', header=None, encoding=\"utf-8\")\n",
    "\n",
    "temp = len(log.dropna(axis=1).columns)\n",
    "\n",
    "task = \"5.1.2\"\n",
    "print(f\"Ответ к заданию {task}\")\n",
    "print(f\"количество пропусков в столбце time := {round(temp,0)}\")"
   ]
  },
  {
   "cell_type": "markdown",
   "metadata": {},
   "source": [
    "### Задание 5.1.3\n",
    "Удалите все строки, где есть пропуски. Запишите в поле, сколько осталось строк в данных после этого. Используйте оригинальный датасет log.csv."
   ]
  },
  {
   "cell_type": "code",
   "execution_count": 10,
   "metadata": {},
   "outputs": [
    {
     "output_type": "stream",
     "name": "stdout",
     "text": "Ответ к заданию 5.1.3\nосталось  := 133 строк\n"
    }
   ],
   "source": [
    "log = pd.read_csv(PATH_to_file+'log.csv', header=None, encoding=\"utf-8\")\n",
    "temp = len(log.dropna())\n",
    "\n",
    "task = \"5.1.3\"\n",
    "print(f\"Ответ к заданию {task}\")\n",
    "print(f\"осталось  := {round(temp,0)} строк\")"
   ]
  },
  {
   "cell_type": "markdown",
   "metadata": {},
   "source": [
    "### Задание 5.1.4\n",
    "Используйте оригинальный датасет log.csv.  \n",
    "С данными в столбцах bet и win мы разберемся позже: пропуски в этих столбцах требуют особого подхода.  \n",
    "А сейчас:  \n",
    "если есть пропуски в столбце user_id - удалите столбец user_id,  \n",
    "если есть пропуски в столбце time - удалите столбец time.  \n",
    "Запишите в поле ответа, количество оставшихся столбцов в данных, после этих действий."
   ]
  },
  {
   "cell_type": "code",
   "execution_count": 11,
   "metadata": {},
   "outputs": [
    {
     "output_type": "stream",
     "name": "stdout",
     "text": "Ответ к заданию 5.1.4\nколичество оставшихся столбцов  := 3\n"
    }
   ],
   "source": [
    "log = pd.read_csv(PATH_to_file+'log.csv', header=None, encoding=\"utf-8\")\n",
    "new = log.loc[:,[0,1]]\n",
    "\n",
    "temp = len(log.drop(columns=new.columns[new.isna().sum() >0]).columns)\n",
    "\n",
    "task = \"5.1.4\"\n",
    "print(f\"Ответ к заданию {task}\")\n",
    "print(f\"количество оставшихся столбцов  := {round(temp,0)}\")"
   ]
  },
  {
   "cell_type": "code",
   "execution_count": null,
   "metadata": {},
   "outputs": [],
   "source": []
  },
  {
   "cell_type": "markdown",
   "metadata": {},
   "source": [
    "### Задание 5.1.5  \n",
    "К каким объектам можно применять метод isna()?  \n",
    "\n",
    "***Ответ:***  \n",
    "- Строки в pd.DataFrame\n",
    "- Таблицы в pandas (pd.DataFrame)\n",
    "- Столбцы в pd.DataFrame"
   ]
  },
  {
   "cell_type": "markdown",
   "metadata": {},
   "source": [
    "### 5.2. Дубли\n",
    "---\n",
    "### Задание 5.2.1  \n",
    "Удалите дубли среди столбцов user_id и time. Запишите в поле ниже, сколько осталось строк после удаления дублей. Используйте оригинальный датасет log.csv."
   ]
  },
  {
   "cell_type": "code",
   "execution_count": 12,
   "metadata": {},
   "outputs": [
    {
     "output_type": "stream",
     "name": "stdout",
     "text": "Ответ к заданию 5.2.1\nколичество оставшихся столбцов  := 986\n"
    }
   ],
   "source": [
    "log = pd.read_csv(PATH_to_file+'log.csv', header=None, encoding=\"utf-8\")\n",
    "log.columns = ['user_id', 'time', 'bet', 'win']\n",
    "# добавим названия колонок user_id, time, bet, win\n",
    "temp = len(log.drop_duplicates(subset=['user_id','time']))\n",
    "\n",
    "task = \"5.2.1\"\n",
    "print(f\"Ответ к заданию {task}\")\n",
    "print(f\"количество оставшихся столбцов  := {round(temp,0)}\")"
   ]
  },
  {
   "cell_type": "markdown",
   "metadata": {},
   "source": [
    "### 5.3 Преобразование к datetime\n",
    "---\n",
    "### Задание 5.3.1\n",
    "Уберите лишний символ, преобразуйте признак time к datetime. После этого найдите наибольшую дату и выведите ее без времени.  \n",
    "Подсказка: можно применить метод max() к получившемуся столбцу со временем.  \n",
    "Не забудьте избавиться от пропусков.  \n",
    "Запишите ответ в формате \"YYYY-MM-DD\"."
   ]
  },
  {
   "cell_type": "code",
   "execution_count": 13,
   "metadata": {},
   "outputs": [
    {
     "output_type": "stream",
     "name": "stdout",
     "text": "Ответ к заданию 5.3.1\nнаибольшая дата := 2019-04-20 12:55:41\n"
    }
   ],
   "source": [
    "log = pd.read_csv(PATH_to_file+'log.csv', header=None, encoding=\"utf-8\")\n",
    "log.columns = ['user_id', 'time', 'bet', 'win']\n",
    "log.time = log.time.apply(lambda x: x[1:] if type(x) == str else x)\n",
    "log.dropna(inplace=True)\n",
    "log.drop_duplicates(inplace=True)\n",
    "\n",
    "temp = pd.to_datetime(log.time).max()\n",
    "\n",
    "task = \"5.3.1\"\n",
    "print(f\"Ответ к заданию {task}\")\n",
    "print(f\"наибольшая дата := {temp}\")"
   ]
  },
  {
   "cell_type": "markdown",
   "metadata": {},
   "source": [
    "### Задание 5.3.2\n",
    "Посмотрите на изображение и код выше. Какую строчку надо написать вместо пропущенной строки, чтобы получить вывод как на изображении?"
   ]
  },
  {
   "cell_type": "code",
   "execution_count": 14,
   "metadata": {},
   "outputs": [
    {
     "output_type": "execute_result",
     "data": {
      "text/plain": "14     57\n29     59\n151    54\n189    34\n205    26\nName: time, dtype: int64"
     },
     "metadata": {},
     "execution_count": 14
    }
   ],
   "source": [
    "log = pd.read_csv(PATH_to_file+'log.csv', header=None)\n",
    "log.dropna(inplace=True)  \n",
    "log.columns = ['user_id', 'time', 'bet', 'win']  \n",
    "log['time'] = log['time'].apply(lambda x: x[1:])  \n",
    "log['time'] = pd.to_datetime(log['time']) \n",
    "# # # два варианта правильных (+ тот что в комментарии)\n",
    "log.time = log.time.apply(lambda x: x.minute)\n",
    "# log['time'] = log.time.apply(lambda x: x.minute)\n",
    "# # # \n",
    "log['time'].head() "
   ]
  },
  {
   "cell_type": "markdown",
   "metadata": {},
   "source": [
    "### 5.4 Извлечение признаков времени\n",
    "---\n",
    "### задание 5.4.1 \n",
    "Найдите минуту, которая встречалась в данных чаще всего"
   ]
  },
  {
   "cell_type": "code",
   "execution_count": 15,
   "metadata": {},
   "outputs": [
    {
     "output_type": "stream",
     "name": "stdout",
     "text": "Ответ к заданию 5.4.1\nминута, которая встречалась в данных чаще всего := 36\n"
    }
   ],
   "source": [
    "log = pd.read_csv(PATH_to_file+'log.csv', header=None)\n",
    "log.dropna(inplace=True) \n",
    "log.columns = ['user_id', 'time', 'bet', 'win']  \n",
    "log['time'] = log['time'].apply(lambda x: x[1:])  \n",
    "log['time'] = pd.to_datetime(log['time'])  \n",
    "\n",
    "temp = log.time.apply(lambda x: x.minute).value_counts().index[0]\n",
    "\n",
    "task = \"5.4.1\"\n",
    "print(f\"Ответ к заданию {task}\")\n",
    "print(f\"минута, которая встречалась в данных чаще всего := {temp}\")"
   ]
  },
  {
   "cell_type": "markdown",
   "metadata": {},
   "source": [
    "### Задание 5.4.2\n",
    "Используйте оригинальные данные log.csv, столбец time.  \n",
    "Подсказка: можно использовать value_counts().  \n",
    "Найдите месяц, который встречался в данных реже всего. "
   ]
  },
  {
   "cell_type": "code",
   "execution_count": 16,
   "metadata": {},
   "outputs": [
    {
     "output_type": "stream",
     "name": "stdout",
     "text": "Ответ к заданию 5.4.2\nмесяц, который встречался в данных реже всего := 4\n"
    }
   ],
   "source": [
    "log = pd.read_csv(PATH_to_file+'log.csv', header=None)\n",
    "log.columns = ['user_id', 'time', 'bet', 'win']  \n",
    "log = log.loc[~log.time.isna()]\n",
    "log['time'] = log['time'].apply(lambda x: x[1:])  \n",
    "log['time'] = pd.to_datetime(log['time']) \n",
    "log.month = log.time.apply(lambda x: x.month)\n",
    "\n",
    "temp = log.month.value_counts().index[-1]\n",
    "\n",
    "task = \"5.4.2\"\n",
    "print(f\"Ответ к заданию {task}\")\n",
    "print(f\"месяц, который встречался в данных реже всего := {temp}\")"
   ]
  },
  {
   "cell_type": "markdown",
   "metadata": {},
   "source": [
    "## Задание 5.4.3*\n",
    "Используйте оригинальные данные log.csv, столбец time.  \n",
    "Подсказка: можно использовать sum().  \n",
    "Посчитайте, сколько дней в данных являются выходными (то есть субботой или воскресеньем)."
   ]
  },
  {
   "cell_type": "code",
   "execution_count": 17,
   "metadata": {},
   "outputs": [
    {
     "output_type": "stream",
     "name": "stdout",
     "text": "Ответ к заданию 5.4.3*\nмесяц, который встречался в данных реже всего := 283\n"
    }
   ],
   "source": [
    "log = pd.read_csv(PATH_to_file+'log.csv', header=None)\n",
    "log.columns = ['user_id', 'time', 'bet', 'win']  \n",
    "log = log.loc[~log.time.isna()]\n",
    "log['time'] = log['time'].apply(lambda x: x[1:])  \n",
    "log['time'] = pd.to_datetime(log['time']) \n",
    "\n",
    "temp = log.time.dt.weekday.apply(lambda x: 1 if x in [5,6] else 0).sum()\n",
    "\n",
    "task = \"5.4.3*\"\n",
    "print(f\"Ответ к заданию {task}\")\n",
    "print(f\"месяц, который встречался в данных реже всего := {temp}\")"
   ]
  },
  {
   "cell_type": "markdown",
   "metadata": {},
   "source": [
    "### Задание 5.4.4*\n",
    "Используйте оригинальные данные log.csv, столбец time.  \n",
    "Подсказка: можно использовать value_counts(). Кроме этого, потребуется написать функцию, которая преобразует дату во время дня.  \n",
    "Договоримся, что с 0 до 5 часов - ночь, с 6 до 11 - утро, с 12 до 17 - день, с 18 до 23 - вечер.  \n",
    "Важно: для выполнения задания вам нужно будет избавиться от пропусков только в столбце time. Вспомните, как избавиться от пропусков только по конкретному признаку.  \n",
    "\n",
    "Посчитайте, какое время дня встречается в данных реже всего. Введите ответ в поле ниже: ночь, утро, день или вечер."
   ]
  },
  {
   "cell_type": "code",
   "execution_count": 18,
   "metadata": {},
   "outputs": [
    {
     "output_type": "stream",
     "name": "stdout",
     "text": "Ответ к заданию 5.4.4*\nвремя дня, которое встречается в данных реже всего := вечер\n"
    }
   ],
   "source": [
    "def nameTimeOfDay (d_x):\n",
    "    if 0 <= d_x <= 5:\n",
    "        return \"ночь\"\n",
    "    elif 6 <= d_x <= 11:\n",
    "        return \"утро\"\n",
    "    elif 12 <= d_x <= 17:\n",
    "        return \"день\"\n",
    "    else:\n",
    "        return \"вечер\"\n",
    "\n",
    "log = pd.read_csv(PATH_to_file+'log.csv', header=None)\n",
    "log.columns = ['user_id', 'time', 'bet', 'win']  \n",
    "log = log.loc[~log.time.isna()]\n",
    "log['time'] = log['time'].apply(lambda x: x[1:])  \n",
    "log['time'] = pd.to_datetime(log['time'])\n",
    "\n",
    "temp = log.time.apply(lambda x: nameTimeOfDay(x.hour)).value_counts().index[-1]\n",
    "task = \"5.4.4*\"\n",
    "print(f\"Ответ к заданию {task}\")\n",
    "print(f\"время дня, которое встречается в данных реже всего := {temp}\")"
   ]
  },
  {
   "cell_type": "markdown",
   "metadata": {},
   "source": [
    "### задание 5.4.5 \n",
    "Напишите код, который создаст признак hour из признака time в датасете log.csv.   \n",
    "Для этого:  \n",
    "1. загрузите датасет log.csv в переменную log, дальше работать будем с ней;  \n",
    "2. установите имена столбцов: ['user_id', 'time', 'bet', 'win'];  \n",
    "3. избавьтесь от пропусков в log;  \n",
    "4. приведите переменную time к подходящему для извлечения признаков виду;  \n",
    "5. получите значение часа для каждой строки в переменной time и запишите в столбец hour в log.  \n",
    "Результатом будет таблица log со столбцом hour внутри.  \n",
    "\n",
    "***Ответ ниже***"
   ]
  },
  {
   "cell_type": "code",
   "execution_count": 19,
   "metadata": {},
   "outputs": [],
   "source": [
    "log = pd.read_csv(PATH_to_file+'log.csv', header=None)\n",
    "log.columns = ['user_id', 'time', 'bet', 'win']\n",
    "log.dropna(inplace=True)\n",
    "log.time = log.time.apply(lambda x: x[1:])\n",
    "log['time'] = pd.to_datetime(log['time'])\n",
    "log['hour'] = log.time.apply(lambda x: x.hour)"
   ]
  },
  {
   "cell_type": "markdown",
   "metadata": {},
   "source": [
    "### 5.5 Снова смотрим на пропуски\n",
    "---\n",
    "### Задание 5.5.1\n",
    "Используйте оригинальный датасет log.csv. Результат запишите числом в поле ниже.  \n",
    "Подсказка: можно использовать value_counts().  \n",
    "Посчитайте, сколько раз люди приходили, но не делали ставок. Для этого заполните пропуски в столбце bet значением 0 и посчитайте количество таких значений."
   ]
  },
  {
   "cell_type": "code",
   "execution_count": 20,
   "metadata": {},
   "outputs": [
    {
     "output_type": "stream",
     "name": "stdout",
     "text": "Ответ к заданию 5.5.1\nлюди приходили, но не делали ставок := 515 раз\n"
    }
   ],
   "source": [
    "log = pd.read_csv(PATH_to_file+'log.csv', header=None)\n",
    "log.columns = ['user_id', 'time', 'bet', 'win']\n",
    "log.bet = log['bet'].fillna(0)\n",
    "\n",
    "temp = len(log.loc[log.bet == 0])\n",
    "task = \"5.5.1\"\n",
    "print(f\"Ответ к заданию {task}\")\n",
    "print(f\"люди приходили, но не делали ставок := {temp} раз\")\n"
   ]
  },
  {
   "cell_type": "markdown",
   "metadata": {},
   "source": [
    "### задание 5.5.2 \n",
    "Используйте оригинальный датасет log.csv. Проделайте с ним действия из задания 5.5.1  \n",
    "Подсказка: можно использовать sum().  \n",
    "\n",
    "Посчитайте, сколько раз участники ставок проиграли деньги. То есть посчитайте количество строк, для которых в столбце win находится отрицательное значение."
   ]
  },
  {
   "cell_type": "code",
   "execution_count": 21,
   "metadata": {},
   "outputs": [
    {
     "output_type": "stream",
     "name": "stdout",
     "text": "Ответ к заданию 5.5.2\nучастники ставок проиграли деньги := 347 раз\n"
    }
   ],
   "source": [
    "log = pd.read_csv(PATH_to_file+'log.csv', header=None)\n",
    "log.columns = ['user_id','time', 'bet','win']\n",
    "log['bet']=log['bet'].fillna(0)\n",
    "\n",
    "def fillna_win(row):\n",
    "    if row.win > 0:\n",
    "        return row.win\n",
    "    elif row.bet==0:\n",
    "        row.win=0\n",
    "        return row.win\n",
    "    elif row.bet>0 and ~(row.win>0):\n",
    "        return - row.bet\n",
    "\n",
    "log.win = log.apply(lambda row: fillna_win(row), axis=1)\n",
    "\n",
    "temp = (log.win<0).sum()\n",
    "task = \"5.5.2\"\n",
    "print(f\"Ответ к заданию {task}\")\n",
    "print(f\"участники ставок проиграли деньги := {temp} раз\")"
   ]
  },
  {
   "cell_type": "markdown",
   "metadata": {},
   "source": [
    "### 5.6 Есть ли смысл играть?\n",
    "---\n",
    "### задание 5.6.1 \n",
    "Создайте признак net, хранящий сумму выигрыша с учетом ставки. Для этого из признака win поэлементно вычтите признак bet и запишите в новый столбец. После этого посчитайте, у скольких людей выигрыш положительный."
   ]
  },
  {
   "cell_type": "code",
   "execution_count": 22,
   "metadata": {},
   "outputs": [
    {
     "output_type": "stream",
     "name": "stdout",
     "text": "Ответ к заданию 5.6.1\nвыигрыш положительный у := 138 людей\n\nвыигрыш отрицательный у := 347 людей\nвыигрыш равен нулю у := 515 людей\n"
    }
   ],
   "source": [
    "log['net'] = log['win'] - log['bet']\n",
    "(log.net >0).sum()\n",
    "temp = (log.net >0).sum()\n",
    "task = \"5.6.1\"\n",
    "print(f\"Ответ к заданию {task}\")\n",
    "print(f\"выигрыш положительный у := {temp} людей\")\n",
    "print()\n",
    "print(f\"выигрыш отрицательный у := {(log.net <0).sum()} людей\")\n",
    "print(f\"выигрыш равен нулю у := {(log.net ==0).sum()} людей\")"
   ]
  },
  {
   "cell_type": "markdown",
   "metadata": {},
   "source": [
    "### Задание 5.6.2\n",
    "Используйте датасет log.csv, получившийся в результате выполнения предыдущего задания.  \n",
    "**Посчитайте среднее значение выигрыша (из столбца net) в тех случаях, когда выигрыш больше 0**. Результат округлите до целого, отбросив дробную часть.  \n",
    "Подсказка: можно использовать mean()."
   ]
  },
  {
   "cell_type": "code",
   "execution_count": 23,
   "metadata": {},
   "outputs": [
    {
     "output_type": "stream",
     "name": "stdout",
     "text": "Ответ к заданию 5.6.2\nсреднее значение выигрыша (из столбца net) в тех случаях, когда выигрыш больше 0 := 80253.0 \n"
    }
   ],
   "source": [
    "temp = log.net.loc[log.net >0].mean()\n",
    "task = \"5.6.2\"\n",
    "print(f\"Ответ к заданию {task}\")\n",
    "print(f\"среднее значение выигрыша (из столбца net) в тех случаях, когда выигрыш больше 0 := {round(temp,0)} \")"
   ]
  },
  {
   "cell_type": "markdown",
   "metadata": {},
   "source": [
    "### Задание 5.6.3\n",
    "Используйте датасет log.csv, получившийся в результате выполнения первого задания этого блока. **Посчитайте медианное значение выигрыша (из столбца net) в тех случаях, когда выигрыш больше 0**. Результат округлите до целого, отбросив дробную часть.\n",
    "\n",
    "Подсказка: можно использовать median()."
   ]
  },
  {
   "cell_type": "code",
   "execution_count": 24,
   "metadata": {},
   "outputs": [
    {
     "output_type": "stream",
     "name": "stdout",
     "text": "Ответ к заданию 5.6.3\nсреднее значение выигрыша (из столбца net) в тех случаях, когда выигрыш больше 0 := 5347.0 \n"
    }
   ],
   "source": [
    "temp = log.net.loc[log.net >0].median()\n",
    "task = \"5.6.3\"\n",
    "print(f\"Ответ к заданию {task}\")\n",
    "print(f\"среднее значение выигрыша (из столбца net) в тех случаях, когда выигрыш больше 0 := {round(temp,0)} \")"
   ]
  },
  {
   "cell_type": "markdown",
   "metadata": {},
   "source": [
    "### Задание 5.6.4\n",
    "Как можно посчитать среднее значение для столбца bet, не учитывая при подсчете пропуски?  \n",
    "***Ответ:***  \n",
    "- верно - log.bet.mean()\n",
    "  - ***не верно*** - log.bet.mean(skipna=False)\n",
    "  - ***не верно*** - pd.mean(log['bet'[)\n",
    "- верно - log.bet.sum() / log.bet.dropna().shape[0[\n",
    "- верно - np.mean(log.bet)\n",
    "- верно - log['bet'[.dropna().mean()"
   ]
  },
  {
   "cell_type": "markdown",
   "metadata": {},
   "source": [
    "### 5.7 Сколько можно выиграть/проиграть?\n",
    "---\n",
    "### задание 5.7.1\n",
    "Используйте модифицированный исходный датасет log.csv.  \n",
    "При модификации датасета log.csv, пропущенные значения в столбцах bet и win замените на 0, cоздайте столбец net, хранящий сумму выигрыша с учетом ставки (для этого из столбца win поэлементно вычтите столбец bet и запишите в новый столбец).  \n",
    "Посчитайте, какой процент посещений букмекерской конторы оборачивался ставкой. Для этого поделите количество ставок (значений больше 0) на общее количество посещений конторы.  \n",
    "Результат округлите до одного знака после запятой."
   ]
  },
  {
   "cell_type": "code",
   "execution_count": 25,
   "metadata": {},
   "outputs": [
    {
     "output_type": "stream",
     "name": "stdout",
     "text": "Ответ к заданию 5.7.1\nпроцент посещений букмекерской конторы оборачивался ставкой := 48.5%\n"
    }
   ],
   "source": [
    "log = pd.read_csv(PATH_to_file+'log.csv', header=None)\n",
    "log.columns = ['user_id','time', 'bet','win']\n",
    "log['bet']=log['bet'].fillna(0)\n",
    "log['win']=log['win'].fillna(0)\n",
    "log['net'] = log.win-log.bet\n",
    "\n",
    "temp = (log.bet>0).mean()\n",
    "task = \"5.7.1\"\n",
    "print(f\"Ответ к заданию {task}\")\n",
    "print(f\"процент посещений букмекерской конторы оборачивался ставкой := {round(temp*100,1)}%\")"
   ]
  },
  {
   "cell_type": "markdown",
   "metadata": {},
   "source": [
    "### Задание 5.7.2\n",
    "Используйте датасет log.csv, получившийся в результате модификации при выполнении первого задания этого блока.  \n",
    "Посчитайте среднее значение ставки (из столбца bet) в тех случаях, когда ставка была сделана. Результат округлите до целого, отбросив дробную часть.\n",
    "Подсказка: можно использовать mean()."
   ]
  },
  {
   "cell_type": "code",
   "execution_count": 26,
   "metadata": {},
   "outputs": [
    {
     "output_type": "stream",
     "name": "stdout",
     "text": "Ответ к заданию 5.7.2\nпроцент посещений букмекерской конторы оборачивался ставкой := 6785\n"
    }
   ],
   "source": [
    "temp = int(log[log.bet > 0].bet.mean())\n",
    "task = \"5.7.2\"\n",
    "print(f\"Ответ к заданию {task}\")\n",
    "print(f\"процент посещений букмекерской конторы оборачивался ставкой := {round(temp,0)}\")"
   ]
  },
  {
   "cell_type": "markdown",
   "metadata": {},
   "source": [
    "### Задание 5.7.3\n",
    "Используйте датасет log.csv, получившийся в результате модификации при выполнении первого задания этого блока.  \n",
    "Посчитайте средний выигрыш (из столбца **net**) в тех случаях, когда ставка была сделана. Результат округлите до целого, отбросив дробную часть.  \n",
    "Пояснение: выигрыш в данном случае означает изменение количества денег и может быть отрицательным. В таком случае это проигрыш.  \n",
    "Подсказка: можно использовать mean()."
   ]
  },
  {
   "cell_type": "code",
   "execution_count": 27,
   "metadata": {},
   "outputs": [
    {
     "output_type": "stream",
     "name": "stdout",
     "text": "Ответ к заданию 5.7.3\nсредний выигрыш (из столбца net) в тех случаях, когда ставка была сделана := 20421\n"
    }
   ],
   "source": [
    "temp = int(log[(log.bet > 0)].net.mean())\n",
    "\n",
    "task = \"5.7.3\"\n",
    "print(f\"Ответ к заданию {task}\")\n",
    "print(f\"средний выигрыш (из столбца net) в тех случаях, когда ставка была сделана := {temp}\")"
   ]
  },
  {
   "cell_type": "markdown",
   "metadata": {},
   "source": [
    "### Задание 5.7.4  \n",
    "Используйте датасет log.csv, получившийся в результате модификации при выполнении первого задания этого блока.  \n",
    "Посчитайте среднюю сумму потерь при проигрыше (из столбца net). Результат округлите до целого, отбросив дробную часть.  \n",
    "Пояснение: ответ должен быть дан в виде отрицательного числа.  \n",
    "Подсказка: можно использовать mean()."
   ]
  },
  {
   "cell_type": "code",
   "execution_count": 28,
   "metadata": {},
   "outputs": [
    {
     "output_type": "stream",
     "name": "stdout",
     "text": "Ответ к заданию 5.7.4\nсредний выигрыш (из столбца net) в тех случаях, когда ставка была сделана := -3372\n"
    }
   ],
   "source": [
    "temp = int(log[log.net < 0].net.mean())\n",
    "\n",
    "task = \"5.7.4\"\n",
    "print(f\"Ответ к заданию {task}\")\n",
    "print(f\"средний выигрыш (из столбца net) в тех случаях, когда ставка была сделана := {temp}\")"
   ]
  },
  {
   "cell_type": "markdown",
   "metadata": {},
   "source": [
    "### Задание 5.7.5\n",
    "Посчитайте, какой процент ставок заканчивается выигрышем, а какой - проигрышем. Сравните эти значения и ответьте, какое из них больше.  \n",
    "Выберите пункт из списка ниже.  \n",
    "***Ответ:*** Проигрыш\n"
   ]
  },
  {
   "cell_type": "code",
   "execution_count": 32,
   "metadata": {},
   "outputs": [
    {
     "output_type": "stream",
     "name": "stdout",
     "text": "Ответ к заданию 5.7.5\nкол-во ставок заканчивается выигрышем 138 раз\nкол-во ставок заканчивается проигрышем 347 раз\n"
    }
   ],
   "source": [
    "temp1 = len(log[(log.bet > 0) & (log.net>0)])\n",
    "temp2 = len(log[(log.bet > 0) & (log.net<0)])\n",
    "task = \"5.7.5\"\n",
    "print(f\"Ответ к заданию {task}\")\n",
    "print(f\"кол-во ставок заканчивается выигрышем {temp1} раз\")\n",
    "print(f\"кол-во ставок заканчивается проигрышем {temp2} раз\")"
   ]
  },
  {
   "cell_type": "markdown",
   "metadata": {},
   "source": [
    "### задание 5.7.6*\n",
    "Давайте повторим то, что мы прошли в этой секции. Напишите код, который узнает, чему была равна минимальная ставка и сколько людей сделали такую ставку. Для этого:  \n",
    "1. загрузите датасет log.csv;  \n",
    "2. посчитайте, чему равна минимальная ставка;  \n",
    "3. посчитайте, сколько раз была сделана минимальная ставка, и запишите результат в переменную min_bet_amount в виде целого числа."
   ]
  },
  {
   "cell_type": "code",
   "execution_count": 75,
   "metadata": {},
   "outputs": [],
   "source": [
    "# ответ для задачи 5.7.6*\n",
    "# не забывайте добавлять путь PATH_to_file+ при тестировании на своем компьютере\n",
    "log = pd.read_csv('log.csv', header=None)\n",
    "log.columns = ['user_id', 'time', 'bet', 'win']\n",
    "min_bet = log.min()[1]\n",
    "min_bet_amount = int(len(log[log.bet == min_bet]))"
   ]
  },
  {
   "cell_type": "markdown",
   "metadata": {},
   "source": [
    "### 5.8 Повторение merge/groupby\n",
    "---"
   ]
  },
  {
   "cell_type": "code",
   "execution_count": 37,
   "metadata": {},
   "outputs": [],
   "source": [
    "# обработка датасета из задачи 5.7.1\n",
    "log = pd.read_csv(PATH_to_file+'log.csv', header=None)\n",
    "log.columns = ['user_id', 'time', 'bet', 'win']\n",
    "log.bet = log['bet'].fillna(0)\n",
    "log.win = log['win'].fillna(0)\n",
    "log['net'] = log.win-log.bet\n",
    "\n",
    "# теперь мы снова будем использовать log.csv и users.csv вместе\n",
    "us = pd.read_csv(PATH_to_file+'users.csv', sep=\"\\t\", encoding=\"KOI8-R\")\n",
    "us.columns = ['user_id', \"email\", \"geo\"]\n",
    "\n",
    "# повторим часть предобработки, которую мы должны были выполнить ранее\n",
    "# приведем признак user_id к одному формату в обоих датасетах  \n",
    "us.user_id = us.user_id.apply(lambda x: x.lower())  \n",
    "\n",
    "# Избавимся от ошибок в user_id  \n",
    "log = log[log.user_id != '#error']  \n",
    "log.user_id = log.user_id.str.split(' - ').apply(lambda x: x[1]) \n",
    "df = pd.merge(us, log, on='user_id') "
   ]
  },
  {
   "cell_type": "markdown",
   "metadata": {},
   "source": [
    "### Задание 5.8.1\n",
    "Объедините датасеты log.csv и users.csv по признаку user_id по примеру выше. Ответ запишите в поле ниже.  \n",
    "Запишите количество строк в получившейся таблице."
   ]
  },
  {
   "cell_type": "code",
   "execution_count": 38,
   "metadata": {
    "scrolled": true
   },
   "outputs": [
    {
     "output_type": "stream",
     "name": "stdout",
     "text": "Ответ к заданию 5.8.1\nколичество стро 975\n"
    }
   ],
   "source": [
    "temp = len(df)\n",
    "task = \"5.8.1\"\n",
    "print(f\"Ответ к заданию {task}\")\n",
    "print(f\"количество стро {temp}\")"
   ]
  },
  {
   "cell_type": "code",
   "execution_count": 39,
   "metadata": {},
   "outputs": [
    {
     "output_type": "execute_result",
     "data": {
      "text/plain": "0.0"
     },
     "metadata": {},
     "execution_count": 39
    }
   ],
   "source": [
    "df.groupby('user_id').win.median().median()\n",
    "# В данном случае мы группируем данные по признаку user_id.\n",
    "# После этого мы в каждой группе выбираем признак win.\n",
    "# Затем мы берем медиану каждой группы по признаку win и на выходе получаем таблицу, \n",
    "# в которой индексом является признак user_id. \n",
    "# В этой таблице единственный столбец - медиана по каждой группе \n",
    "# (то есть по каждому пользователю).Наконец, последний вызов median() дает нам \n",
    "# медиану по предыдущему столбцу, то есть возвращает одно число"
   ]
  },
  {
   "cell_type": "markdown",
   "metadata": {},
   "source": [
    "### 5.9 Анализ по пользователям\n",
    "---\n",
    "### задание 5.9.1\n",
    "Используйте датасет, который получился в результате всех преобразований выше (в том числе, заполнение пропусков). Ответ запишите в поле ниже в виде целого числа (отбросьте дробную часть).  \n",
    "Посчитайте медиану баланса по каждому пользователю. Для этого сгруппируйте по пользователям, возьмите признак net, просуммируйте по каждому пользователю и получите медиану."
   ]
  },
  {
   "cell_type": "code",
   "execution_count": 40,
   "metadata": {},
   "outputs": [
    {
     "output_type": "stream",
     "name": "stdout",
     "text": "Ответ к заданию 5.9.1\nмедиана баланса по каждому пользователю := 1986\n"
    }
   ],
   "source": [
    "temp = int(df.groupby('user_id').net.sum().median())\n",
    "\n",
    "task = \"5.9.1\"\n",
    "print(f\"Ответ к заданию {task}\")\n",
    "print(f\"медиана баланса по каждому пользователю := {temp}\")"
   ]
  },
  {
   "cell_type": "markdown",
   "metadata": {},
   "source": [
    "### задание 5.9.2*\n",
    "Используйте датасет, который получился в результате всех преобразований выше (в том числе, заполнение пропусков). Ответ запишите в поле ниже в виде целого числа (отбросьте дробную часть).  \n",
    "Сколько раз в среднем каждый человек приходит, не делая ставок, при условии, что у этого человека все-таки есть хотя бы одна ставка? Например: Человек посетил букмекерскую контору 5 раз из них 1 раз сделал ставку, 4 раза нет - условие выполняется. Человек посетил букмекерскую контору 5 раз из них ни разу ставку не сделал - условие не выполняется. Для того, чтобы узнать это, просуммируйте в каждой группе количество записей со ставкой, равной 0, и поделите на общее количество групп. Если при этом в группе нет записей со ставкой больше 0, считаем количество записей в данной группе равным 0."
   ]
  },
  {
   "cell_type": "code",
   "execution_count": 43,
   "metadata": {},
   "outputs": [
    {
     "output_type": "stream",
     "name": "stdout",
     "text": "Ответ к заданию 5.9.2\nсреднем каждый человек приходит, не делая ставок, при условии, что у этого человека все-таки есть хотя бы одна ставка := 5 раз\n"
    }
   ],
   "source": [
    "# суммируйте в каждой группе количество записей со ставкой, равной 0\n",
    "temp1 = df[df.bet == 0].groupby('user_id').bet.count().sum()\n",
    "\n",
    "# общее количество групп\n",
    "temp2 = df['user_id'].nunique()\n",
    "\n",
    "temp = int(temp1/temp2)\n",
    "\n",
    "task = \"5.9.2\"\n",
    "print(f\"Ответ к заданию {task}\")\n",
    "print(f\"среднем каждый человек приходит, не делая ставок, при условии, что у этого человека все-таки есть хотя бы одна ставка := {temp} раз\")"
   ]
  },
  {
   "cell_type": "markdown",
   "metadata": {},
   "source": [
    "### задание 5.9.3**\n",
    "Используйте датасет, который получился в результате всех преобразований выше (в том числе, заполнение пропусков). Ответ запишите в поле ниже в виде целого числа - количества дней.  \n",
    "Сколько в среднем времени проходит между появлением человека в сервисе и первой ставкой? Считать нужно только тех, кто делал ставку. Для того, чтобы узнать это, напишите метод, считающий минимальное время среди ставок, равных 0, и минимальное время среди ставок больше 0. После этого верните разницу между вторым и первым числом. Пройдитесь по всем группам в цикле. Если в группе нет ставок больше 0, пропустите эту группу. Просуммируйте разницу во времени для каждой группы (с помощью метода, описанного выше) и поделите на количество групп, которые вы не пропустили."
   ]
  },
  {
   "cell_type": "code",
   "execution_count": 44,
   "metadata": {},
   "outputs": [
    {
     "output_type": "stream",
     "name": "stdout",
     "text": "Ответ к заданию 5.9.2\nв среднем проходит между появлением человека в сервисе и первой ставкой := 46 дней\n"
    }
   ],
   "source": [
    "# уберём начальную скобку из поля time\n",
    "df.time = df.time.apply(lambda x: x[1:] if type(x) == str else x)\n",
    "\n",
    "# переведем в формат времени\n",
    "df['time'] = pd.to_datetime(df['time'])\n",
    "\n",
    "# создадим датафрейм с минимальным временем по группам с нулевыми ставками\n",
    "df_minTime_betIsNull = df[df.bet == 0].groupby('user_id').time.min()\n",
    "\n",
    "# создадим датафрейм с минимальным временем по группам с НЕнулевыми ставками\n",
    "df_minTime_betIsNotNull = df[df.bet > 0].groupby('user_id').time.min()\n",
    "\n",
    "# сливаем \n",
    "df_time = pd.merge(df_minTime_betIsNull, df_minTime_betIsNotNull, on='user_id')\n",
    "\n",
    "# создаем новый столбец с разницей по времени\n",
    "df_time['diff_time'] = df_time['time_y'] - df_time['time_x']\n",
    "\n",
    "# считаем среднее по разнице в днях\n",
    "temp = df_time.diff_time.mean().days\n",
    "\n",
    "task = \"5.9.2\"\n",
    "print(f\"Ответ к заданию {task}\")\n",
    "print(f\"в среднем проходит между появлением человека в сервисе и первой ставкой := {temp} дней\")"
   ]
  },
  {
   "cell_type": "markdown",
   "metadata": {},
   "source": [
    "### 5.10 Анализ по городам\n",
    "---\n",
    "### Задание 5.10.1\n",
    "Используйте датасет, который получился в результате всех преобразований в прошлой секции (в том числе, заполнение пропусков).  \n",
    "Ответ запишите в поле ниже в виде одного слова, с большой буквы.  \n",
    "Наибольший суммарный выигрыш среди всех городов имеет Москва. Посчитайте следующий за ней город. Для этого сгруппируйте по городам, возьмите признак win, просуммируйте по каждому городу, отсортируйте и получите второй город."
   ]
  },
  {
   "cell_type": "code",
   "execution_count": 48,
   "metadata": {},
   "outputs": [
    {
     "output_type": "stream",
     "name": "stdout",
     "text": "Ответ к заданию 5.10.1\nследующий за Москвой город := Воронеж \n"
    }
   ],
   "source": [
    "temp = df.groupby('geo').win.sum().sort_values(ascending=False).index[1]\n",
    "\n",
    "task = \"5.10.1\"\n",
    "print(f\"Ответ к заданию {task}\")\n",
    "print(f\"следующий за Москвой город := {temp} \")"
   ]
  },
  {
   "cell_type": "markdown",
   "metadata": {},
   "source": [
    "### задание 5.10.2*\n",
    "Используйте датасет, который получился в результате всех преобразований в прошлой секции (в том числе, заполнение пропусков).  \n",
    "Ответ запишите в поле ниже в виде целого числа (нужно отбросить дробную часть).  \n",
    "Подсказка: можно использовать методы min() и max().  \n",
    "Во сколько раз различаются в среднем максимальная и минимальная ставки по городам? Для того, чтобы это посчитать, нужно сгруппировать по городам, взять среднее от признака bet, найти максимальное и минимальное значения, затем поделить одно на другое."
   ]
  },
  {
   "cell_type": "code",
   "execution_count": 55,
   "metadata": {},
   "outputs": [
    {
     "output_type": "stream",
     "name": "stdout",
     "text": "Ответ к заданию 5.10.2\nв среднем максимальная и минимальная ставки по городам различаются в := 227 раз\n"
    }
   ],
   "source": [
    "minMeanBet = df.groupby('geo').bet.mean().min()\n",
    "maxMeanBet = df.groupby('geo').bet.mean().max()\n",
    "temp = int(maxMeanBet/minMeanBet)\n",
    "\n",
    "task = \"5.10.2\"\n",
    "print(f\"Ответ к заданию {task}\")\n",
    "print(f\"в среднем максимальная и минимальная ставки по городам различаются в := {temp} раз\")"
   ]
  },
  {
   "cell_type": "markdown",
   "metadata": {},
   "source": [
    "### задание 5.10.3\n",
    "Давайте повторим все, что мы прошли в этой секции. Напишите код, который посчитает, сколько раз пользователи приходили в букмекерскую контору в каждом городе. Для этого:  \n",
    "1. загрузите датасеты log.csv и users.csv;  \n",
    "2. удалите user_id с ошибкой (#error) и приведите признак user_id к одному виду в обоих датасетах;  \n",
    "3. слейте два датасета в один по признаку user_id;  \n",
    "4. сгруппируйте данные по правильному признаку (какому - вам нужно понять самим), затем выберите user_id и воспользуйтесь функцией count() для подсчета наблюдений в каждой группе;  \n",
    "5. результат (таблицу) запишите в sample2."
   ]
  },
  {
   "cell_type": "code",
   "execution_count": 165,
   "metadata": {},
   "outputs": [],
   "source": [
    "# ответ для задачи 5.10.3\n",
    "# не забывайте добавлять путь PATH_to_file+ при тестировании на своем компьютере\n",
    "log = pd.read_csv('log.csv', header=None)\n",
    "log.columns = ['user_id', 'time', 'bet', 'win']\n",
    "log.bet = log['bet'].fillna(0)\n",
    "log.win = log['win'].fillna(0)\n",
    "log['net'] = log.win -log.bet\n",
    "\n",
    "us = pd.read_csv('users.csv', sep=\"\\t\", encoding=\"KOI8-R\")\n",
    "us.columns = ['user_id', \"email\", \"geo\"]\n",
    "\n",
    "us.user_id = us.user_id.apply(lambda x: x.lower())    \n",
    "log = log[log.user_id != '#error']  \n",
    "log.user_id = log.user_id.str.split(' - ').apply(lambda x: x[1])  \n",
    "\n",
    "df = pd.merge(us, log, on='user_id')\n",
    "\n",
    "sample2 = df.groupby('geo').user_id.count()"
   ]
  },
  {
   "cell_type": "markdown",
   "metadata": {},
   "source": [
    "### 5.12 Итоговый тест\n",
    "---\n",
    "### Задание 1\n",
    "Какой метод в pandas используется для поиска пропусков?  \n",
    "***Ответ:*** isna()  \n",
    "### Задание 2\n",
    "В методе dropna() можно удалять пропуски, двигаясь по конкретной оси. Какое значение параметра axis нужно задать, чтобы удалить все строки с пропусками?   \n",
    "***Ответ:*** axis=0  \n",
    "### Задание 3\n",
    "В pandas мы используем метод pd.drop_duplicates() для удаления дублей. Если мы хотим удалить дубли только по конкретным столбцам, что мы должны передать в параметр subset?  \n",
    "***Ответ:*** Названия столбцов, которые нужно удалить\n",
    "### Задание 4\n",
    "Как можно превратить столбец с датами (уже преобразованными с помощью to_datetime) в столбец с месяцами?  \n",
    "***Ответ:*** \n",
    "- log['time'[.apply(lambda pandas_dataframe: pandas_dataframe.month)\n",
    "- log.time.dt.month \n",
    "### Задание 5\n",
    "В каком порядке value_counts() сортирует значения на выходе?  \n",
    "***Ответ:*** По убыванию \n",
    "### Задание 6\n",
    "С помощью какого метода можно заполнить пропуски константой?  \n",
    "***Ответ:*** fillna() \n",
    "### Задание 7\n",
    "Зачем нужен метод merge?  \n",
    "***Ответ:*** Чтобы объединить таблицы (в стиле join из SQL) по признаку в параметре on \n",
    "### Задание 8\n",
    "Зачем нужен метод groupby()?  \n",
    "***Ответ:*** Метод groupby() нужен, чтобы сгруппировать данные по какому-то признаку, который передается как аргумент в этот метод \n"
   ]
  },
  {
   "cell_type": "code",
   "execution_count": null,
   "metadata": {},
   "outputs": [],
   "source": []
  }
 ],
 "metadata": {
  "kernelspec": {
   "display_name": "Python 3",
   "language": "python",
   "name": "python3"
  },
  "language_info": {
   "codemirror_mode": {
    "name": "ipython",
    "version": 3
   },
   "file_extension": ".py",
   "mimetype": "text/x-python",
   "name": "python",
   "nbconvert_exporter": "python",
   "pygments_lexer": "ipython3",
   "version": "3.7.4-final"
  }
 },
 "nbformat": 4,
 "nbformat_minor": 2
}
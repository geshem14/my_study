{
 "cells": [
  {
   "cell_type": "markdown",
   "metadata": {},
   "source": [
    "# ноутбук с часто используемым кодом\n",
    "## по результатам учебы в\n",
    "### Skillfactory: DST-10\n",
    "---"
   ]
  },
  {
   "cell_type": "code",
   "execution_count": 1,
   "metadata": {},
   "outputs": [],
   "source": [
    "# вывод всех столбцов датафрейма\n",
    "pandas.set_option('display.max_columns', None)\n",
    "\n",
    "# вывод всех строк датафрейма\n",
    "pandas.set_option('display.max_rows', None)"
   ]
  },
  {
   "cell_type": "code",
   "execution_count": null,
   "metadata": {},
   "outputs": [],
   "source": [
    "# вывод списка файлов в папке data корневого (рабочего) каталога и присвоение имени пути до файлов\n",
    "import os\n",
    "print(os.listdir('./data/'))\n",
    "PATH_to_file = './data/'"
   ]
  },
  {
   "cell_type": "code",
   "execution_count": null,
   "metadata": {},
   "outputs": [],
   "source": [
    "# позволяет закрепить random_state во всей ячейке исполнения\n",
    "np.random.seed(42)"
   ]
  },
  {
   "cell_type": "code",
   "execution_count": 11,
   "metadata": {
    "tags": []
   },
   "outputs": [
    {
     "output_type": "stream",
     "name": "stdout",
     "text": "будет добавлено новых фич в кол-ве:= 21\nиз них типа:\n- фича в квадрате:= 6\n  и выглядят они так:= [(1, 1), (2, 2), (3, 3), (4, 4), (5, 5), (6, 6)]\nиз них типа:\n- фича на другую фичу:= 15\n  и выглядят они так:= [(1, 2), (1, 3), (1, 4), (1, 5), (1, 6), (2, 3), (2, 4), (2, 5), (2, 6), (3, 4), (3, 5), (3, 6), (4, 5), (4, 6), (5, 6)]\nвсего после добавления новых фич получим:= 27 фич\n"
    }
   ],
   "source": [
    "# допустим у вас n переменных (признаков, фич) и вы хотите узнать сколько признаков получится после того как вы примените PolynomialFeatures (то есть попарно перемножите все переменные)\n",
    "import itertools\n",
    "\n",
    "def combinations(n,k):\n",
    "    return list(itertools.combinations(range(1, n+1), k))\n",
    "\n",
    "def C(n, k):\n",
    "    return len(combinations(n,k))\n",
    "\n",
    "n = 6  # кол-во переменных\n",
    "k = 2  # порядок полинома\n",
    "\n",
    "temp1 = C(n, k)+n\n",
    "print(f'будет добавлено новых фич в кол-ве:= {temp1}')\n",
    "print(f'из них типа:\\n- фича в квадрате:= {n}')\n",
    "print(f'  и выглядят они так:= {[(x,x) for x in range(1, n+1)]}')\n",
    "print(f'из них типа:\\n- фича на другую фичу:= {C(n, k)}')\n",
    "print(f'  и выглядят они так:= {combinations(n,k)}')\n",
    "print(f'всего после добавления новых фич получим:= {temp1+n} фич')"
   ]
  },
  {
   "cell_type": "code",
   "execution_count": null,
   "metadata": {},
   "outputs": [],
   "source": []
  },
  {
   "cell_type": "markdown",
   "metadata": {},
   "source": [
    "конец модуля"
   ]
  },
  {
   "cell_type": "code",
   "execution_count": null,
   "metadata": {},
   "outputs": [],
   "source": []
  }
 ],
 "metadata": {
  "kernelspec": {
   "display_name": "Python 3",
   "language": "python",
   "name": "python3"
  },
  "language_info": {
   "codemirror_mode": {
    "name": "ipython",
    "version": 3
   },
   "file_extension": ".py",
   "mimetype": "text/x-python",
   "name": "python",
   "nbconvert_exporter": "python",
   "pygments_lexer": "ipython3",
   "version": "3.7.4-final"
  }
 },
 "nbformat": 4,
 "nbformat_minor": 4
}
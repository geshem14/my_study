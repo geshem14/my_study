{
 "cells": [
  {
   "cell_type": "markdown",
   "metadata": {},
   "source": [
    "Решение для задания 3.4.3\n",
    "### Задание 3.4.3\n",
    "Для какой модели коэффициент детерминации будет больше? Обе модели построены методом OLS.\n",
    "\n"
   ]
  },
  {
   "cell_type": "code",
   "execution_count": null,
   "metadata": {},
   "outputs": [],
   "source": [
    "np.random.seed(3)\n",
    "razbros = 5\n",
    "random_arr1 = np.random.rand(30)\n",
    "random_arr2 = np.random.rand(30)\n",
    "\n",
    "X = np.array([random_arr1*30]).T\n",
    "# X.reshape(30,1)\n",
    "vec_razbrosa1 = np.array([2*razbros*random_arr2 -razbros]).T\n",
    "y = 0.23332374*X + 10+vec_razbrosa1\n",
    "\n",
    "model = LinearRegression() #Обозначаем, что наша модель - линейная регрессия\n",
    "model.fit(X,y)\n",
    "a = model.coef_[0][0]\n",
    "b = model.intercept_[0]\n",
    "\n",
    "y_pred = model.predict(X)\n",
    "R_2 = metrics.r2_score(y, y_pred)\n",
    "\n",
    "\n",
    "plt.style.use('seaborn-paper')\n",
    "\n",
    "fig = plt.figure()\n",
    "ax = plt.axes(xlim=(-1.5, 31.5), ylim=(6, 20))\n",
    "\n",
    "p_x = np.linspace(0, 30, 1000)\n",
    "p_y = b+a*p_x\n",
    "ax.plot(p_x, p_y, lw=6)\n",
    "\n",
    "y_mean = y.mean()\n",
    "p_y_mean = np.ones(1000)*y_mean\n",
    "ax.plot(p_x, p_y_mean, lw=1, color='orange', label = 'mean')\n",
    "text_razbros = ax.text(0.02, 0.95, '', transform=ax.transAxes)\n",
    "text_y_hat = ax.text(0.02, 0.90, '', transform=ax.transAxes)\n",
    "text_R_2 = ax.text(0.02, 0.85, '', transform=ax.transAxes)\n",
    "text_y_mean = ax.text(0.02, 0.80, '', transform=ax.transAxes)\n",
    "text_SS_tot = ax.text(0.02, 0.75, '', transform=ax.transAxes)\n",
    "text_SS_res = ax.text(0.02, 0.70, '', transform=ax.transAxes)\n",
    "ax.scatter (X, y, color='orange', s=100, marker='o')\n",
    "# text_alpha.set_text(f'шаг (alfa) = {round(alpha,3)}')\n",
    "\n",
    "text_R_2_t = ax.text(0.50, 0.10, 'коэффициент детерминации', transform=ax.transAxes)\n",
    "text_R_2_t2 = ax.text(0.50, 0.03, '', transform=ax.transAxes, size=16, color = 'red')\n",
    "# text_func1 = ax.text(0.65, 0.15, '', transform=ax.transAxes)\n",
    "# text_grad_w_0_iter1 = ax.text(0.65, 0.10, '', transform=ax.transAxes)\n",
    "# text_grad_w_1_iter1= ax.text(0.65, 0.05, '', transform=ax.transAxes)\n",
    "text_razbros.set_text(f'разброс = {razbros}')\n",
    "text_y_hat.set_text(f'y_hat = {round(a,3)}*x + {round(b,3)}')\n",
    "text_R_2.set_text(f'R_2 = {round(R_2,3)}')\n",
    "text_y_mean.set_text(f'y_mean = {round(y.mean(),3)}')\n",
    "text_SS_tot.set_text(f'SS_tot = {round(((y-y.mean())*(y-y.mean())).sum(),3)}')\n",
    "text_SS_res.set_text(f'SS_res = {round(((y-y_pred)*(y-y_pred)).sum(),3)}')\n",
    "text_R_2_t2.set_text(f'R_2 = {round(R_2,3)}')"
   ]
  }
 ],
 "metadata": {
  "language_info": {
   "codemirror_mode": {
    "name": "ipython",
    "version": 3
   },
   "file_extension": ".py",
   "mimetype": "text/x-python",
   "name": "python",
   "nbconvert_exporter": "python",
   "pygments_lexer": "ipython3",
   "version": 3
  },
  "orig_nbformat": 2
 },
 "nbformat": 4,
 "nbformat_minor": 2
}
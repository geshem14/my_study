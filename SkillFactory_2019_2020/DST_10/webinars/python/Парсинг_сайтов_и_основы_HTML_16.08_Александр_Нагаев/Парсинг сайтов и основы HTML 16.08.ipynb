{
  "nbformat": 4,
  "nbformat_minor": 0,
  "metadata": {
    "kernelspec": {
      "display_name": "Python 3",
      "language": "python",
      "name": "python3"
    },
    "language_info": {
      "codemirror_mode": {
        "name": "ipython",
        "version": 3
      },
      "file_extension": ".py",
      "mimetype": "text/x-python",
      "name": "python",
      "nbconvert_exporter": "python",
      "pygments_lexer": "ipython3",
      "version": "3.7.4"
    },
    "colab": {
      "name": "парсинг сайтов.ipynb",
      "provenance": []
    }
  },
  "cells": [
    {
      "cell_type": "markdown",
      "metadata": {
        "id": "1vJhpNYN5m1z",
        "colab_type": "text"
      },
      "source": [
        "# Парсинг сайтов и основы HTML\n",
        "\n",
        "1) Сервер и клиент\n",
        "\n",
        "2) HTTP\n",
        "\n",
        "3) HTML и CSS\n",
        "\n",
        "4) Requests & responses\n",
        "\n",
        "5) Библиотека requests и простейшие запросы\n",
        "\n",
        "6) beautiful soup и парсинг сайтов\n",
        "\n",
        "7) selenium для более сложных кейсов"
      ]
    },
    {
      "cell_type": "markdown",
      "metadata": {
        "id": "aHeHsEez5m13",
        "colab_type": "text"
      },
      "source": [
        "Модули которые пригодятся нам в работе:\n",
        "\n",
        "requests (идет в комплекте)\n",
        "\n",
        "beautifulsoup4 (pip install beautifulsoup4)\n",
        "\n",
        "selenium (pip install selenium)"
      ]
    },
    {
      "cell_type": "code",
      "metadata": {
        "id": "xrJGeq_05m17",
        "colab_type": "code",
        "colab": {
          "base_uri": "https://localhost:8080/",
          "height": 34
        },
        "outputId": "1364cb68-ff4c-4d42-fd85-d1727b6fd250"
      },
      "source": [
        "!pip install beautifulsoup4"
      ],
      "execution_count": null,
      "outputs": [
        {
          "output_type": "stream",
          "text": [
            "Requirement already satisfied: beautifulsoup4 in /usr/local/lib/python3.6/dist-packages (4.6.3)\n"
          ],
          "name": "stdout"
        }
      ]
    },
    {
      "cell_type": "markdown",
      "metadata": {
        "id": "INjajt9z5m2V",
        "colab_type": "text"
      },
      "source": [
        "## Введение в контекст сетевой архитектуры\n",
        "\n",
        "Сервером в данном случае мы считаем абстрактную машину в сети, способную получить HTTP-запрос, обработать его и вернуть корректный ответ. \n",
        "\n",
        "Клиентом тоже может быть все, что угодно, что способно сформировать и отправить HTTP-запрос.\n",
        "\n",
        "«Клиент — сервер» (англ. client–server) — вычислительная или сетевая архитектура, в которой задания или сетевая нагрузка распределены между поставщиками услуг, называемыми серверами, и заказчиками услуг, называемыми клиентами. \n",
        "\n",
        "Фактически клиент и сервер — это программное обеспечение. \n",
        "\n",
        "Обычно эти программы расположены на разных вычислительных машинах и взаимодействуют между собой через вычислительную сеть посредством сетевых протоколов, но они могут быть расположены также и на одной машине. \n",
        "\n",
        "![Foo](https://raw.githubusercontent.com/alnagaev/reni_land/master/http1-request-response.png)\n"
      ]
    },
    {
      "cell_type": "markdown",
      "metadata": {
        "id": "9QOUsFdF5m2Y",
        "colab_type": "text"
      },
      "source": [
        "### Протокол HTTP\n",
        "\n",
        "Протокол передачи гипертекста (Hypertext Transfer Protocol - HTTP) - это прикладной протокол для передачи гипертекстовых документов, таких как HTML. \n",
        "\n",
        "Он создан для связи между веб-браузерами и веб-серверами, хотя в принципе HTTP может использоваться и для других целей. \n",
        "\n",
        "Протокол следует классической клиент-серверной модели, когда клиент открывает соединение для создания запроса, а затем ждет ответа. \n",
        "\n",
        "HTTP - это протокол без сохранения состояния, то есть сервер не сохраняет никаких данных (состояние) между двумя парами \"запрос-ответ\"."
      ]
    },
    {
      "cell_type": "markdown",
      "metadata": {
        "id": "7XFITDM25m2b",
        "colab_type": "text"
      },
      "source": [
        "\n",
        "Сердцевиной веб-общения является запрос, который отправляется через Единый указатель ресурсов (URL).\n",
        "\n",
        "Структура URL очень проста и состоит из следующих компонентов\n",
        "\n",
        "![f](https://sitechecker.pro/wp-content/uploads/2017/12/url-structure.jpg)\n",
        "\n",
        "`https://` это протокол. Он отображает, какой протокол браузер должен использовать. Обычно это HTTP-протокол или его безопасная версия - HTTPS. \n",
        "\n",
        "`sitechecker.pro/` это доменное имя. Оно означает, какой веб-сервер должен быть запрошен. В качестве альтернативы может быть использован и IP-адрес, но это делается редко, поскольку запоминать IP сложнее, и это не популярно в интернете.\n",
        "Подробнее про IP и домены https://ru.wikipedia.org/wiki/DNS\n",
        "\n",
        "\n",
        "`/path/to/myfile.html` это адрес ресурса на веб-сервере. В прошлом, адрес отображал местоположение реального файла в реальной директории на веб-сервере. В наши дни это чаще всего абстракция, позволяющая обрабатывать адреса и отображать тот или иной контент из баз данных.\n",
        "\n",
        "`?name=article&topic=seo` это дополнительные параметры, которые браузер сообщает веб-серверу. Эти параметры - список пар ключ/значение, которые разделены символом &. Веб-сервер может использовать эти параметры для исполнения дополнительных команд перед тем как отдать ресурс. \n",
        "\n",
        "`#top` это якорь на другую часть того же самого ресурса. Якорь представляет собой вид \"закладки\" внутри ресурса, которая переадресовывает браузер на \"заложенную\" часть ресурса. В HTML-документе, например, браузер может переместиться в точку, где установлен якорь\n",
        "http://tehnopost.info/html/10-yakor-ankor-na-veb-stranice.html#ssilka_na_drugom_domene\n",
        "\n",
        "Стартовые строки для запроса и ответа имеют различный формат — нам интересна только стартовая строка запроса, которая выглядит так:\n",
        "\n",
        "METHOD URI HTTP/VERSION,\n",
        "\n",
        "где METHOD — это как раз метод HTTP-запроса, URI — идентификатор ресурса, VERSION — версия протокола (на данный момент актуальна версия 1.1).\n",
        "\n",
        "Заголовки — это набор пар имя-значение, разделенных двоеточием. В заголовках передается различная служебная информация: кодировка сообщения, название и версия браузера, адрес, с которого пришел клиент (Referrer) и так далее.\n",
        "\n",
        "Тело сообщения — это, собственно, передаваемые данные. В ответе передаваемыми данными, как правило, является html-страница, которую запросил браузер, а в запросе, например, в теле сообщения передается содержимое файлов, загружаемых на сервер. Но как правило, тело сообщения в запросе вообще отсутствует."
      ]
    },
    {
      "cell_type": "markdown",
      "metadata": {
        "id": "Z4lTcPzH5m2e",
        "colab_type": "text"
      },
      "source": [
        "### Методы запросов\n",
        "\n",
        "HTTP методы\n",
        "\n",
        "Для того, чтобы указать серверу на то, какое действие мы хотим произвести с ресурсом, используется тип HTTP-запроса, который также называется HTTP метод. Существует несколько HTTP методов, которые описывают действия с ресурсами. Наиболее часто используемыми являются GET и POST. \n",
        "\n",
        "### GET — получение ресурса\n",
        "\n",
        "Метод GET запрашивает информацию из указанного источника и не влияет на его содержимое. Запрос доступен для кеширования данных и добавления в закладки. Длина запроса ограничена (макс. длина URL - 2048).\n",
        "\n",
        "Примечание: Строка запроса (имя/значение) отправляется в URL \n",
        "\n",
        "``/login-check.php?argument1=value1&argument2=value2``\n",
        "\n",
        "### POST — создание ресурса\n",
        "\n",
        "Метод POST используется для отправки данных, что может оказывать влияние на содержимое ресурса. В отличие от метода GET запросы POST не могут быть кешированы, они не остаются в истории браузера и их нельзя добавить в закладки. Запросы POST не ограничиваются в объеме.\n",
        "\n",
        "Примечание: Отправляемые данные содержатся в теле запроса. \n",
        "\n",
        "https://developer.mozilla.org/ru/docs/Web/HTTP/Methods"
      ]
    },
    {
      "cell_type": "markdown",
      "metadata": {
        "id": "BI3F2u7g5m2g",
        "colab_type": "text"
      },
      "source": [
        "### Пример запроса/ответа\n",
        "\n",
        "Запрос:\n",
        "\n",
        "`\n",
        "GET /tutorials/other/top-20-mysql-best-practices/ HTTP/1.1\n",
        "Host: net.tutsplus.com\n",
        "User-Agent: Mozilla/5.0 (Windows; U; Windows NT 6.1; en-US; rv:1.9.1.5) Gecko/20091102 Firefox/3.5.5 (.NET CLR 3.5.30729)\n",
        "Accept: text/html,application/xhtml+xml,application/xml;q=0.9,*/*;q=0.8\n",
        "Accept-Language: en-us,en;q=0.5\n",
        "Accept-Encoding: gzip,deflate\n",
        "Accept-Charset: ISO-8859-1,utf-8;q=0.7,*;q=0.7\n",
        "Keep-Alive: 300\n",
        "Connection: keep-alive\n",
        "Cookie: PHPSESSID=r2t5uvjq435r4q7ib3vtdjq120\n",
        "Pragma: no-cache\n",
        "Cache-Control: no-cache\n",
        "`\n",
        "\n",
        "\n",
        "\n",
        "\n"
      ]
    },
    {
      "cell_type": "markdown",
      "metadata": {
        "id": "eNLfpSbi5m2i",
        "colab_type": "text"
      },
      "source": [
        "\n",
        "Ответ:\n",
        "<code>\n",
        "    HTTP/1.x 200 OK\n",
        "    Transfer-Encoding: chunked\n",
        "    Date: Sat, 28 Nov 2009 04:36:25 GMT\n",
        "    Server: LiteSpeed\n",
        "    Connection: close\n",
        "    X-Powered-By: W3 Total Cache/0.8\n",
        "    Pragma: public\n",
        "    Expires: Sat, 28 Nov 2009 05:36:25 GMT\n",
        "    Etag: \"pub1259380237;gz\"\n",
        "    Cache-Control: max-age=3600, public\n",
        "    Content-Type: text/html; charset=UTF-8\n",
        "    Last-Modified: Sat, 28 Nov 2009 03:50:37 GMT\n",
        "    X-Pingback: https://net.tutsplus.com/xmlrpc.php\n",
        "    Content-Encoding: gzip\n",
        "    Vary: Accept-Encoding, Cookie, User-Agent\n",
        "\n",
        "    <!DOCTYPE html PUBLIC \"-//W3C//DTD XHTML 1.0 Strict//EN\" \"http://www.w3.org/TR/xhtml1/DTD/xhtml1-strict.dtd\">\n",
        "    <html xmlns=\"http://www.w3.org/1999/xhtml\">\n",
        "    <head>\n",
        "    <meta http-equiv=\"Content-Type\" content=\"text/html; charset=utf-8\" />\n",
        "    <title>Top 20+ MySQL Best Practices - Nettuts+</title>\n",
        "<code>\n",
        "    \n",
        "Подробнее: https://code.tutsplus.com/ru/tutorials/http-headers-for-dummies--net-8039"
      ]
    },
    {
      "cell_type": "markdown",
      "metadata": {
        "id": "s-kcNrwr5m2k",
        "colab_type": "text"
      },
      "source": [
        "Вот мы получили HTML от сервера. А что это? Это файл, устроенный по определенному принципу.\n",
        "\n",
        "HTML (от англ. HyperText Markup Language — «язык гипертекстовой разметки») — стандартизированный язык разметки документов во Всемирной паутине.\n",
        "\n",
        "Большинство веб-страниц содержат описание разметки на языке HTML (или XHTML).\n",
        "\n",
        "Язык HTML интерпретируется браузерами; полученный в результате интерпретации форматированный текст отображается на экране монитора компьютера или мобильного устройства.\n",
        "\n",
        "Дальнейшая информация взята отсюда: https://html5book.ru/osnovy-html/\n"
      ]
    },
    {
      "cell_type": "markdown",
      "metadata": {
        "id": "goa_X9vD5m2n",
        "colab_type": "text"
      },
      "source": [
        "HTML-документ состоит из дерева HTML-элементов и текста. \n",
        "\n",
        "Каждый элемент обозначается в исходном документе начальным (открывающим) и конечным (закрывающим) тегом (за редким исключением). \n",
        "\n",
        "**Начальный** тег показывает, где начинается элемент, конечный — где заканчивается. \n",
        "\n",
        "**Закрывающий** тег образуется путем добавления слэша / перед именем тега: <имя тега>…</имя тега>. \n",
        "\n",
        "Между начальным и закрывающим тегами находится содержимое тега — контент.\n",
        "\n",
        "Одиночные теги не могут хранить в себе содержимого напрямую, оно прописывается как значение атрибута, например, тег \n",
        "`<input type=\"button\" value=\"Кнопка\">` создаст кнопку с текстом Кнопка внутри. <input type=\"button\" value=\"Кнопка\">\n",
        "\n"
      ]
    },
    {
      "cell_type": "markdown",
      "metadata": {
        "id": "kx9jC6wa5m2p",
        "colab_type": "text"
      },
      "source": [
        "Теги могут вкладываться друг в друга, например:\n",
        "\n",
        "`<p><i>Текст</i></p>` <p><i>Текст</i></p>\n",
        "\n",
        "При вложении следует соблюдать порядок их закрытия (принцип «матрёшки»), например, следующая запись будет неверной (но все равно рабочей): \n",
        "\n",
        "`<p><i>Текст</p></i>` <p><i>Текст</p></i>"
      ]
    },
    {
      "cell_type": "markdown",
      "metadata": {
        "id": "tfj06p7e5m2q",
        "colab_type": "text"
      },
      "source": [
        "Каждому элементу можно присвоить несколько значений class и только одно значение id. \n",
        "\n",
        "Множественные значения class записываются через пробел `<div class=\"nav_top\">`\n",
        "    \n",
        "Значения class и id должны состоять только из букв, цифр, дефисов и нижних подчеркиваний и должны начинаться только с букв или цифр."
      ]
    },
    {
      "cell_type": "markdown",
      "metadata": {
        "id": "JENQnMsf5m2s",
        "colab_type": "text"
      },
      "source": [
        "Браузер просматривает (интерпретирует) HTML-документ \n",
        "\n",
        "выстраивая его структуру **DOM** и отображая ее в соответствии с инструкциями включенными в этот файл (таблицы стилей, скрипты)\n",
        "\n",
        "Если разметка правильная, то в окне браузера будет отображена HTML-страница содержащая HTML-элементы — заголовки, таблицы, изображения и т.д"
      ]
    },
    {
      "cell_type": "markdown",
      "metadata": {
        "id": "9JP9JehM5m2t",
        "colab_type": "text"
      },
      "source": [
        "DOCTYPE отвечает за корректное отображение веб-страницы браузером. \n",
        "DOCTYPE определяет не только версию HTML (например, html), но и соответствующий DTD-файл в Интернете.\n",
        "\n",
        "Элементы, находящиеся внутри тега `<html>`, \n",
        "образуют дерево документа, так называемую объектную модель документа,\n",
        "DOM (document object model). При этом элемент `<html>` является корневым элементом.\n",
        "\n",
        "\n",
        "![](https://html5book.ru/wp-content/uploads/2014/10/DOM.png)\n",
        "\n",
        "Чтобы разобраться во взаимодействии элементов веб-страницы, необходимо рассмотреть так называемые «родственные отношения» между элементами. Отношения между множественными вложенными элементами подразделяются на родительские, дочерние и сестринские.\n",
        "\n",
        "**Предок** — элемент, который заключает в себе другие элементы. На рисунке 1 предком для всех элементов является `<html>`. В то же время элемент `<body>` является предком для всех содержащихся в нем тегов: `<h1>`, `<p>`, `<span>`, `<nav>` и т.д.\n",
        "\n",
        "**Потомок** — элемент, расположенный внутри одного или более типов элементов. Например, `<body>` является потомком `<html>`, а элемент `<p>` является потомком одновременно для `<body>` и `<html>`"
      ]
    },
    {
      "cell_type": "markdown",
      "metadata": {
        "id": "mkeXGMQ15m2v",
        "colab_type": "text"
      },
      "source": [
        "**Основы CSS**\n",
        "\n",
        "CSS (Cascading Style Sheets) — язык таблиц стилей, который позволяет прикреплять стиль (например, шрифты и цвет) к структурированным документам (например, документам HTML и приложениям XML). \n",
        "\n",
        "Обычно CSS-стили используются для создания и изменения стиля элементов веб-страниц и пользовательских интерфейсов, написанных на языках HTML и XHTML, но также могут быть применены к любому виду XML-документа, в том числе XML, SVG и XUL.\n",
        "\n",
        "Отделяя стиль представления документов от содержимого документов, CSS упрощает создание веб-страниц и обслуживание сайтов.\n",
        "\n",
        "Объявление стиля состоит из двух частей: селектора и объявления. В HTML имена элементов нечувствительны к регистру, поэтому «h1» работает так же, как и «H1». \n",
        "\n",
        "Объявление состоит из двух частей: имя свойства (например, color) и значение свойства (grey). \n",
        "\n",
        "Селектор сообщает браузеру, какой именно элемент форматировать, а в блоке объявления (код в фигурных скобках) перечисляются форматирующие команды — свойства и их значения.\n",
        "\n",
        "![](https://html5book.ru/wp-content/uploads/2014/12/css_osnovy.png)\n",
        "\n",
        "`<h1 class=\"headline\">Инструкция пользования персональным компьютером</h1>`"
      ]
    },
    {
      "cell_type": "markdown",
      "metadata": {
        "id": "Qu7plEuO5m2x",
        "colab_type": "text"
      },
      "source": [
        "`<h1 class=\"headline\" id = \"one\">Инструкция пользования персональным компьютером</h1>`"
      ]
    },
    {
      "cell_type": "markdown",
      "metadata": {
        "id": "X8Gy-Jfk5m2z",
        "colab_type": "text"
      },
      "source": [
        "h1{}\n",
        "\n",
        ".headline{}\n",
        "\n",
        "#one{}"
      ]
    },
    {
      "cell_type": "markdown",
      "metadata": {
        "id": "_HWQVSTt5m21",
        "colab_type": "text"
      },
      "source": [
        "### Теперь к делу, начинаем парсить\n",
        "(парсинг - это когда мы собираем открытую информацию с веб-сайтов программными методами)"
      ]
    },
    {
      "cell_type": "code",
      "metadata": {
        "scrolled": true,
        "id": "rBN3mzsy5m23",
        "colab_type": "code",
        "colab": {}
      },
      "source": [
        "import requests #Основная библиотека для отправки http запросов. \n",
        "r = requests.get('https://ru.wikipedia.org/wiki/%D0%A1%D0%BF%D0%B8%D1%81%D0%BE%D0%BA_%D0%BA%D0%BE%D0%B4%D0%BE%D0%B2_%D1%81%D0%BE%D1%81%D1%82%D0%BE%D1%8F%D0%BD%D0%B8%D1%8F_HTTP')\n",
        "r.text\n",
        "#https://developer.mozilla.org/ru/docs/Web/HTTP/Status\n"
      ],
      "execution_count": null,
      "outputs": []
    },
    {
      "cell_type": "code",
      "metadata": {
        "scrolled": true,
        "id": "UqaaKvwj5m3C",
        "colab_type": "code",
        "colab": {}
      },
      "source": [
        "r = requests.get(f'http://openngopublicapi.h5.crftr.net/v1/org/?page=1&regionCode=63')\n",
        "r.json()\n"
      ],
      "execution_count": null,
      "outputs": []
    },
    {
      "cell_type": "markdown",
      "metadata": {
        "id": "0BFHg8it5m3L",
        "colab_type": "text"
      },
      "source": [
        "Json - переводится как java script object notation.\n",
        "\n",
        "Это удобный способ организации данных, часто используемый в вебе. Ближайший аналог - питоновский словарь\n",
        "\n",
        "Подробнее https://www.json.org/json-ru.html"
      ]
    },
    {
      "cell_type": "code",
      "metadata": {
        "scrolled": true,
        "id": "ZQsXS6yi5m3M",
        "colab_type": "code",
        "colab": {},
        "outputId": "b2a6bab4-c296-4841-ed50-2dac9e0acaac"
      },
      "source": [
        "r = requests.post('https://httpbin.org/post', data = {'key':'value'})\n",
        "r.json()"
      ],
      "execution_count": null,
      "outputs": [
        {
          "output_type": "execute_result",
          "data": {
            "text/plain": [
              "{'args': {},\n",
              " 'data': '',\n",
              " 'files': {},\n",
              " 'form': {'key': 'value'},\n",
              " 'headers': {'Accept': '*/*',\n",
              "  'Accept-Encoding': 'gzip, deflate',\n",
              "  'Content-Length': '9',\n",
              "  'Content-Type': 'application/x-www-form-urlencoded',\n",
              "  'Host': 'httpbin.org',\n",
              "  'User-Agent': 'python-requests/2.22.0',\n",
              "  'X-Amzn-Trace-Id': 'Root=1-5edc09c3-5169cd540d8b0d98da405810'},\n",
              " 'json': None,\n",
              " 'origin': '95.27.44.232',\n",
              " 'url': 'https://httpbin.org/post'}"
            ]
          },
          "metadata": {
            "tags": []
          },
          "execution_count": 2
        }
      ]
    },
    {
      "cell_type": "code",
      "metadata": {
        "scrolled": false,
        "id": "XtK5Troz5m3W",
        "colab_type": "code",
        "colab": {},
        "outputId": "5e6c5c6e-ecf6-4c71-bba5-7982bb25bec2"
      },
      "source": [
        "url = 'https://api.github.com/some/endpoint'\n",
        "payload = {'some': 'data'}\n",
        "\n",
        "r = requests.post(url, json=payload)\n",
        "r.json()"
      ],
      "execution_count": null,
      "outputs": [
        {
          "output_type": "execute_result",
          "data": {
            "text/plain": [
              "{'message': 'Not Found',\n",
              " 'documentation_url': 'https://developer.github.com/v3'}"
            ]
          },
          "metadata": {
            "tags": []
          },
          "execution_count": 3
        }
      ]
    },
    {
      "cell_type": "code",
      "metadata": {
        "id": "5kBHEFcn5m3g",
        "colab_type": "code",
        "colab": {}
      },
      "source": [
        "Установка beautifulsoup4 - библиотеки для разбора html"
      ],
      "execution_count": null,
      "outputs": []
    },
    {
      "cell_type": "code",
      "metadata": {
        "id": "dPyXXRek5m3o",
        "colab_type": "code",
        "colab": {
          "base_uri": "https://localhost:8080/",
          "height": 34
        },
        "outputId": "fac59591-c407-45ff-de09-24286da69ca2"
      },
      "source": [
        "!pip install beautifulsoup4"
      ],
      "execution_count": null,
      "outputs": [
        {
          "output_type": "stream",
          "text": [
            "Requirement already satisfied: beautifulsoup4 in /usr/local/lib/python3.6/dist-packages (4.6.3)\n"
          ],
          "name": "stdout"
        }
      ]
    },
    {
      "cell_type": "markdown",
      "metadata": {
        "id": "x7YvR78my0Ks",
        "colab_type": "text"
      },
      "source": [
        "Пишем небольшой парсер для сайта olz.uz"
      ]
    },
    {
      "cell_type": "code",
      "metadata": {
        "id": "nwDMqKMQISIr",
        "colab_type": "code",
        "colab": {
          "base_uri": "https://localhost:8080/",
          "height": 106
        },
        "outputId": "c3e7c0c8-ad35-4070-cbef-875859b1d0a4"
      },
      "source": [
        "import requests\n",
        "from bs4 import BeautifulSoup\n",
        "\n",
        "url = 'https://www.olx.uz/hobbi-otdyh-i-sport/sport-otdyh/q-%D0%B2%D0%B5%D0%BB%D0%BE%D1%81%D0%B8%D0%BF%D0%B5%D0%B4/'\n",
        "r = requests.get(url)\n",
        "soup = BeautifulSoup(r.text)\n",
        "\n",
        "soup.select_one('.detailsLink')"
      ],
      "execution_count": null,
      "outputs": [
        {
          "output_type": "execute_result",
          "data": {
            "text/plain": [
              "<a class=\"thumb vtop inlblk rel tdnone linkWithHash scale4 detailsLink \" href=\"https://www.olx.uz/obyavlenie/velosiped-sotaman-yangi-ID26Wml.html#159d7b7e24\" title=\"\">\n",
              "<img alt=\"Велосипед сотаман. Янги\" class=\"fleft\" src=\"https://apollo-olx.cdnvideo.ru:443/v1/files/0ytgmk8gwwe92-UZ/image;s=644x461\"/>\n",
              "<span class=\"inlblk icon paid type2 abs zi2\" title=\"ТОП\"></span>\n",
              "</a>"
            ]
          },
          "metadata": {
            "tags": []
          },
          "execution_count": 21
        }
      ]
    },
    {
      "cell_type": "code",
      "metadata": {
        "id": "bJpE-6zlJ4JL",
        "colab_type": "code",
        "colab": {}
      },
      "source": [
        "links = soup.select('.detailsLink')\n",
        "hrefs = set([x['href'] for x in links if 'promoted' not in x['href']])\n",
        "hrefs"
      ],
      "execution_count": null,
      "outputs": []
    },
    {
      "cell_type": "code",
      "metadata": {
        "id": "Z8RBdAGQLL3K",
        "colab_type": "code",
        "colab": {}
      },
      "source": [
        "r = requests.get('https://www.olx.uz/obyavlenie/srochno-prodayu-velosiped-ID29Xw7.html#7fa9b46823')\n",
        "\n",
        "soup = BeautifulSoup(r.text)\n"
      ],
      "execution_count": null,
      "outputs": []
    },
    {
      "cell_type": "code",
      "metadata": {
        "id": "EsjZ8pv2LgI8",
        "colab_type": "code",
        "colab": {
          "base_uri": "https://localhost:8080/",
          "height": 781
        },
        "outputId": "22b9a64d-87d7-433f-ddbd-9cdb711824f1"
      },
      "source": [
        "prices = []\n",
        "for link in hrefs:\n",
        "  r = requests.get(link)\n",
        "  soup = BeautifulSoup(r.text)\n",
        "  value = soup.select_one('.pricelabel__value').string\n",
        "  prices.append(value)\n",
        "\n",
        "prices"
      ],
      "execution_count": null,
      "outputs": [
        {
          "output_type": "execute_result",
          "data": {
            "text/plain": [
              "['500 000 сум',\n",
              " '1 500 000 сум',\n",
              " '1 500 000 сум',\n",
              " '1 350 000 сум',\n",
              " '500 000 сум',\n",
              " '950 000 сум',\n",
              " '1 500 000 сум',\n",
              " '1 000 000 сум',\n",
              " '795 у.е.',\n",
              " '700 000 сум',\n",
              " '950 000 сум',\n",
              " '1 550 000 сум',\n",
              " '500 000 сум',\n",
              " '1 750 000 сум',\n",
              " '200 у.е.',\n",
              " '1 500 000 сум',\n",
              " '750 000 сум',\n",
              " '2 950 000 сум',\n",
              " '1 950 000 сум',\n",
              " '950 000 сум',\n",
              " '1 450 000 сум',\n",
              " '1 500 000 сум',\n",
              " '1 500 000 сум',\n",
              " '2 300 000 сум',\n",
              " '600 000 сум',\n",
              " '2 500 000 сум',\n",
              " '1 500 000 сум',\n",
              " '795 у.е.',\n",
              " '25 000 сум',\n",
              " '1 300 000 сум',\n",
              " '350 000 сум',\n",
              " '450 000 сум',\n",
              " '1 000 000 сум',\n",
              " '1 100 000 сум',\n",
              " '130 000 сум',\n",
              " '280 у.е.',\n",
              " '6 336 400 сум',\n",
              " '600 000 сум',\n",
              " '770 000 сум',\n",
              " '250 у.е.',\n",
              " '1 150 000 сум',\n",
              " '1 500 000 сум',\n",
              " '2 200 000 сум',\n",
              " '200 000 сум']"
            ]
          },
          "metadata": {
            "tags": []
          },
          "execution_count": 31
        }
      ]
    },
    {
      "cell_type": "code",
      "metadata": {
        "id": "gooUcc8mNnmB",
        "colab_type": "code",
        "colab": {}
      },
      "source": [
        "for i in range(25):\n",
        "  r = requests.get(f'https://www.olx.uz/hobbi-otdyh-i-sport/sport-otdyh/q-%D0%B2%D0%B5%D0%BB%D0%BE%D1%81%D0%B8%D0%BF%D0%B5%D0%B4/?page={i}')\n",
        "  "
      ],
      "execution_count": null,
      "outputs": []
    },
    {
      "cell_type": "code",
      "metadata": {
        "id": "kN5wC07FMW_n",
        "colab_type": "code",
        "colab": {
          "base_uri": "https://localhost:8080/",
          "height": 1000
        },
        "outputId": "fe0ee336-45d8-4cf1-d714-03341661c27f"
      },
      "source": [
        "import pandas as pd\n",
        "\n",
        "df = pd.DataFrame({'link': list(hrefs), 'price': prices})\n",
        "df"
      ],
      "execution_count": null,
      "outputs": [
        {
          "output_type": "execute_result",
          "data": {
            "text/html": [
              "<div>\n",
              "<style scoped>\n",
              "    .dataframe tbody tr th:only-of-type {\n",
              "        vertical-align: middle;\n",
              "    }\n",
              "\n",
              "    .dataframe tbody tr th {\n",
              "        vertical-align: top;\n",
              "    }\n",
              "\n",
              "    .dataframe thead th {\n",
              "        text-align: right;\n",
              "    }\n",
              "</style>\n",
              "<table border=\"1\" class=\"dataframe\">\n",
              "  <thead>\n",
              "    <tr style=\"text-align: right;\">\n",
              "      <th></th>\n",
              "      <th>link</th>\n",
              "      <th>price</th>\n",
              "    </tr>\n",
              "  </thead>\n",
              "  <tbody>\n",
              "    <tr>\n",
              "      <th>0</th>\n",
              "      <td>https://www.olx.uz/obyavlenie/philips-velosipe...</td>\n",
              "      <td>500 000 сум</td>\n",
              "    </tr>\n",
              "    <tr>\n",
              "      <th>1</th>\n",
              "      <td>https://www.olx.uz/obyavlenie/velosiped-skoros...</td>\n",
              "      <td>1 500 000 сум</td>\n",
              "    </tr>\n",
              "    <tr>\n",
              "      <th>2</th>\n",
              "      <td>https://www.olx.uz/obyavlenie/prodaetsya-novyy...</td>\n",
              "      <td>1 500 000 сум</td>\n",
              "    </tr>\n",
              "    <tr>\n",
              "      <th>3</th>\n",
              "      <td>https://www.olx.uz/obyavlenie/srochno-prodaem-...</td>\n",
              "      <td>1 350 000 сум</td>\n",
              "    </tr>\n",
              "    <tr>\n",
              "      <th>4</th>\n",
              "      <td>https://www.olx.uz/obyavlenie/velosiped-ID29Xr...</td>\n",
              "      <td>500 000 сум</td>\n",
              "    </tr>\n",
              "    <tr>\n",
              "      <th>5</th>\n",
              "      <td>https://www.olx.uz/obyavlenie/prodam-velosiped...</td>\n",
              "      <td>950 000 сум</td>\n",
              "    </tr>\n",
              "    <tr>\n",
              "      <th>6</th>\n",
              "      <td>https://www.olx.uz/obyavlenie/velosiped-26-ful...</td>\n",
              "      <td>1 500 000 сум</td>\n",
              "    </tr>\n",
              "    <tr>\n",
              "      <th>7</th>\n",
              "      <td>https://www.olx.uz/obyavlenie/prodaetsya-velos...</td>\n",
              "      <td>1 000 000 сум</td>\n",
              "    </tr>\n",
              "    <tr>\n",
              "      <th>8</th>\n",
              "      <td>https://www.olx.uz/obyavlenie/luchshiy-velosip...</td>\n",
              "      <td>795 у.е.</td>\n",
              "    </tr>\n",
              "    <tr>\n",
              "      <th>9</th>\n",
              "      <td>https://www.olx.uz/obyavlenie/velosiped-ural-I...</td>\n",
              "      <td>700 000 сум</td>\n",
              "    </tr>\n",
              "    <tr>\n",
              "      <th>10</th>\n",
              "      <td>https://www.olx.uz/obyavlenie/prodayu-gornyy-s...</td>\n",
              "      <td>950 000 сум</td>\n",
              "    </tr>\n",
              "    <tr>\n",
              "      <th>11</th>\n",
              "      <td>https://www.olx.uz/obyavlenie/novye-velosipedy...</td>\n",
              "      <td>1 550 000 сум</td>\n",
              "    </tr>\n",
              "    <tr>\n",
              "      <th>12</th>\n",
              "      <td>https://www.olx.uz/obyavlenie/srochno-prodayu-...</td>\n",
              "      <td>500 000 сум</td>\n",
              "    </tr>\n",
              "    <tr>\n",
              "      <th>13</th>\n",
              "      <td>https://www.olx.uz/obyavlenie/toshkenda-dostav...</td>\n",
              "      <td>1 750 000 сум</td>\n",
              "    </tr>\n",
              "    <tr>\n",
              "      <th>14</th>\n",
              "      <td>https://www.olx.uz/obyavlenie/velosiped-novyy-...</td>\n",
              "      <td>200 у.е.</td>\n",
              "    </tr>\n",
              "    <tr>\n",
              "      <th>15</th>\n",
              "      <td>https://www.olx.uz/obyavlenie/optm-velosiped-2...</td>\n",
              "      <td>1 500 000 сум</td>\n",
              "    </tr>\n",
              "    <tr>\n",
              "      <th>16</th>\n",
              "      <td>https://www.olx.uz/obyavlenie/toshkenda-optom-...</td>\n",
              "      <td>750 000 сум</td>\n",
              "    </tr>\n",
              "    <tr>\n",
              "      <th>17</th>\n",
              "      <td>https://www.olx.uz/obyavlenie/velosiped-nemets...</td>\n",
              "      <td>2 950 000 сум</td>\n",
              "    </tr>\n",
              "    <tr>\n",
              "      <th>18</th>\n",
              "      <td>https://www.olx.uz/obyavlenie/toshkenda-usa-26...</td>\n",
              "      <td>1 950 000 сум</td>\n",
              "    </tr>\n",
              "    <tr>\n",
              "      <th>19</th>\n",
              "      <td>https://www.olx.uz/obyavlenie/velosiped-kama-I...</td>\n",
              "      <td>950 000 сум</td>\n",
              "    </tr>\n",
              "    <tr>\n",
              "      <th>20</th>\n",
              "      <td>https://www.olx.uz/obyavlenie/germanskiy-velos...</td>\n",
              "      <td>1 450 000 сум</td>\n",
              "    </tr>\n",
              "    <tr>\n",
              "      <th>21</th>\n",
              "      <td>https://www.olx.uz/obyavlenie/velosiped-26-ful...</td>\n",
              "      <td>1 500 000 сум</td>\n",
              "    </tr>\n",
              "    <tr>\n",
              "      <th>22</th>\n",
              "      <td>https://www.olx.uz/obyavlenie/velosiped-26-ful...</td>\n",
              "      <td>1 500 000 сум</td>\n",
              "    </tr>\n",
              "    <tr>\n",
              "      <th>23</th>\n",
              "      <td>https://www.olx.uz/obyavlenie/velosipedy-iz-ge...</td>\n",
              "      <td>2 300 000 сум</td>\n",
              "    </tr>\n",
              "    <tr>\n",
              "      <th>24</th>\n",
              "      <td>https://www.olx.uz/obyavlenie/velosiped-sotila...</td>\n",
              "      <td>600 000 сум</td>\n",
              "    </tr>\n",
              "    <tr>\n",
              "      <th>25</th>\n",
              "      <td>https://www.olx.uz/obyavlenie/velosiped-sotila...</td>\n",
              "      <td>2 500 000 сум</td>\n",
              "    </tr>\n",
              "    <tr>\n",
              "      <th>26</th>\n",
              "      <td>https://www.olx.uz/obyavlenie/velosiped-ful-ka...</td>\n",
              "      <td>1 500 000 сум</td>\n",
              "    </tr>\n",
              "    <tr>\n",
              "      <th>27</th>\n",
              "      <td>https://www.olx.uz/obyavlenie/luchshiy-velosip...</td>\n",
              "      <td>795 у.е.</td>\n",
              "    </tr>\n",
              "    <tr>\n",
              "      <th>28</th>\n",
              "      <td>https://www.olx.uz/obyavlenie/zapchast-velosip...</td>\n",
              "      <td>25 000 сум</td>\n",
              "    </tr>\n",
              "    <tr>\n",
              "      <th>29</th>\n",
              "      <td>https://www.olx.uz/obyavlenie/germanskiy-proch...</td>\n",
              "      <td>1 300 000 сум</td>\n",
              "    </tr>\n",
              "    <tr>\n",
              "      <th>30</th>\n",
              "      <td>https://www.olx.uz/obyavlenie/velosiped-sotila...</td>\n",
              "      <td>350 000 сум</td>\n",
              "    </tr>\n",
              "    <tr>\n",
              "      <th>31</th>\n",
              "      <td>https://www.olx.uz/obyavlenie/prodaetsya-velos...</td>\n",
              "      <td>450 000 сум</td>\n",
              "    </tr>\n",
              "    <tr>\n",
              "      <th>32</th>\n",
              "      <td>https://www.olx.uz/obyavlenie/sportivnyy-velos...</td>\n",
              "      <td>1 000 000 сум</td>\n",
              "    </tr>\n",
              "    <tr>\n",
              "      <th>33</th>\n",
              "      <td>https://www.olx.uz/obyavlenie/srochno-prodaets...</td>\n",
              "      <td>1 100 000 сум</td>\n",
              "    </tr>\n",
              "    <tr>\n",
              "      <th>34</th>\n",
              "      <td>https://www.olx.uz/obyavlenie/prodam-zapchasti...</td>\n",
              "      <td>130 000 сум</td>\n",
              "    </tr>\n",
              "    <tr>\n",
              "      <th>35</th>\n",
              "      <td>https://www.olx.uz/obyavlenie/germanskiy-velos...</td>\n",
              "      <td>280 у.е.</td>\n",
              "    </tr>\n",
              "    <tr>\n",
              "      <th>36</th>\n",
              "      <td>https://www.olx.uz/obyavlenie/elektro-velosipe...</td>\n",
              "      <td>6 336 400 сум</td>\n",
              "    </tr>\n",
              "    <tr>\n",
              "      <th>37</th>\n",
              "      <td>https://www.olx.uz/obyavlenie/velosiped-ID29Xg...</td>\n",
              "      <td>600 000 сум</td>\n",
              "    </tr>\n",
              "    <tr>\n",
              "      <th>38</th>\n",
              "      <td>https://www.olx.uz/obyavlenie/velosiped-ural-I...</td>\n",
              "      <td>770 000 сум</td>\n",
              "    </tr>\n",
              "    <tr>\n",
              "      <th>39</th>\n",
              "      <td>https://www.olx.uz/obyavlenie/cheshskiy-velosi...</td>\n",
              "      <td>250 у.е.</td>\n",
              "    </tr>\n",
              "    <tr>\n",
              "      <th>40</th>\n",
              "      <td>https://www.olx.uz/obyavlenie/velosiped-sotama...</td>\n",
              "      <td>1 150 000 сум</td>\n",
              "    </tr>\n",
              "    <tr>\n",
              "      <th>41</th>\n",
              "      <td>https://www.olx.uz/obyavlenie/velosiped-26-ID2...</td>\n",
              "      <td>1 500 000 сум</td>\n",
              "    </tr>\n",
              "    <tr>\n",
              "      <th>42</th>\n",
              "      <td>https://www.olx.uz/obyavlenie/velosiped-26-shi...</td>\n",
              "      <td>2 200 000 сум</td>\n",
              "    </tr>\n",
              "    <tr>\n",
              "      <th>43</th>\n",
              "      <td>https://www.olx.uz/obyavlenie/srochno-prodayu-...</td>\n",
              "      <td>200 000 сум</td>\n",
              "    </tr>\n",
              "  </tbody>\n",
              "</table>\n",
              "</div>"
            ],
            "text/plain": [
              "                                                 link          price\n",
              "0   https://www.olx.uz/obyavlenie/philips-velosipe...    500 000 сум\n",
              "1   https://www.olx.uz/obyavlenie/velosiped-skoros...  1 500 000 сум\n",
              "2   https://www.olx.uz/obyavlenie/prodaetsya-novyy...  1 500 000 сум\n",
              "3   https://www.olx.uz/obyavlenie/srochno-prodaem-...  1 350 000 сум\n",
              "4   https://www.olx.uz/obyavlenie/velosiped-ID29Xr...    500 000 сум\n",
              "5   https://www.olx.uz/obyavlenie/prodam-velosiped...    950 000 сум\n",
              "6   https://www.olx.uz/obyavlenie/velosiped-26-ful...  1 500 000 сум\n",
              "7   https://www.olx.uz/obyavlenie/prodaetsya-velos...  1 000 000 сум\n",
              "8   https://www.olx.uz/obyavlenie/luchshiy-velosip...       795 у.е.\n",
              "9   https://www.olx.uz/obyavlenie/velosiped-ural-I...    700 000 сум\n",
              "10  https://www.olx.uz/obyavlenie/prodayu-gornyy-s...    950 000 сум\n",
              "11  https://www.olx.uz/obyavlenie/novye-velosipedy...  1 550 000 сум\n",
              "12  https://www.olx.uz/obyavlenie/srochno-prodayu-...    500 000 сум\n",
              "13  https://www.olx.uz/obyavlenie/toshkenda-dostav...  1 750 000 сум\n",
              "14  https://www.olx.uz/obyavlenie/velosiped-novyy-...       200 у.е.\n",
              "15  https://www.olx.uz/obyavlenie/optm-velosiped-2...  1 500 000 сум\n",
              "16  https://www.olx.uz/obyavlenie/toshkenda-optom-...    750 000 сум\n",
              "17  https://www.olx.uz/obyavlenie/velosiped-nemets...  2 950 000 сум\n",
              "18  https://www.olx.uz/obyavlenie/toshkenda-usa-26...  1 950 000 сум\n",
              "19  https://www.olx.uz/obyavlenie/velosiped-kama-I...    950 000 сум\n",
              "20  https://www.olx.uz/obyavlenie/germanskiy-velos...  1 450 000 сум\n",
              "21  https://www.olx.uz/obyavlenie/velosiped-26-ful...  1 500 000 сум\n",
              "22  https://www.olx.uz/obyavlenie/velosiped-26-ful...  1 500 000 сум\n",
              "23  https://www.olx.uz/obyavlenie/velosipedy-iz-ge...  2 300 000 сум\n",
              "24  https://www.olx.uz/obyavlenie/velosiped-sotila...    600 000 сум\n",
              "25  https://www.olx.uz/obyavlenie/velosiped-sotila...  2 500 000 сум\n",
              "26  https://www.olx.uz/obyavlenie/velosiped-ful-ka...  1 500 000 сум\n",
              "27  https://www.olx.uz/obyavlenie/luchshiy-velosip...       795 у.е.\n",
              "28  https://www.olx.uz/obyavlenie/zapchast-velosip...     25 000 сум\n",
              "29  https://www.olx.uz/obyavlenie/germanskiy-proch...  1 300 000 сум\n",
              "30  https://www.olx.uz/obyavlenie/velosiped-sotila...    350 000 сум\n",
              "31  https://www.olx.uz/obyavlenie/prodaetsya-velos...    450 000 сум\n",
              "32  https://www.olx.uz/obyavlenie/sportivnyy-velos...  1 000 000 сум\n",
              "33  https://www.olx.uz/obyavlenie/srochno-prodaets...  1 100 000 сум\n",
              "34  https://www.olx.uz/obyavlenie/prodam-zapchasti...    130 000 сум\n",
              "35  https://www.olx.uz/obyavlenie/germanskiy-velos...       280 у.е.\n",
              "36  https://www.olx.uz/obyavlenie/elektro-velosipe...  6 336 400 сум\n",
              "37  https://www.olx.uz/obyavlenie/velosiped-ID29Xg...    600 000 сум\n",
              "38  https://www.olx.uz/obyavlenie/velosiped-ural-I...    770 000 сум\n",
              "39  https://www.olx.uz/obyavlenie/cheshskiy-velosi...       250 у.е.\n",
              "40  https://www.olx.uz/obyavlenie/velosiped-sotama...  1 150 000 сум\n",
              "41  https://www.olx.uz/obyavlenie/velosiped-26-ID2...  1 500 000 сум\n",
              "42  https://www.olx.uz/obyavlenie/velosiped-26-shi...  2 200 000 сум\n",
              "43  https://www.olx.uz/obyavlenie/srochno-prodayu-...    200 000 сум"
            ]
          },
          "metadata": {
            "tags": []
          },
          "execution_count": 37
        }
      ]
    },
    {
      "cell_type": "code",
      "metadata": {
        "id": "_ocj5lnbMr5Q",
        "colab_type": "code",
        "colab": {
          "base_uri": "https://localhost:8080/",
          "height": 1000
        },
        "outputId": "48f5ccc9-9252-4311-fafc-e16f144831d6"
      },
      "source": [
        "df[df['price'].str.contains('сум')]"
      ],
      "execution_count": null,
      "outputs": [
        {
          "output_type": "execute_result",
          "data": {
            "text/html": [
              "<div>\n",
              "<style scoped>\n",
              "    .dataframe tbody tr th:only-of-type {\n",
              "        vertical-align: middle;\n",
              "    }\n",
              "\n",
              "    .dataframe tbody tr th {\n",
              "        vertical-align: top;\n",
              "    }\n",
              "\n",
              "    .dataframe thead th {\n",
              "        text-align: right;\n",
              "    }\n",
              "</style>\n",
              "<table border=\"1\" class=\"dataframe\">\n",
              "  <thead>\n",
              "    <tr style=\"text-align: right;\">\n",
              "      <th></th>\n",
              "      <th>link</th>\n",
              "      <th>price</th>\n",
              "    </tr>\n",
              "  </thead>\n",
              "  <tbody>\n",
              "    <tr>\n",
              "      <th>0</th>\n",
              "      <td>https://www.olx.uz/obyavlenie/philips-velosipe...</td>\n",
              "      <td>500 000 сум</td>\n",
              "    </tr>\n",
              "    <tr>\n",
              "      <th>1</th>\n",
              "      <td>https://www.olx.uz/obyavlenie/velosiped-skoros...</td>\n",
              "      <td>1 500 000 сум</td>\n",
              "    </tr>\n",
              "    <tr>\n",
              "      <th>2</th>\n",
              "      <td>https://www.olx.uz/obyavlenie/prodaetsya-novyy...</td>\n",
              "      <td>1 500 000 сум</td>\n",
              "    </tr>\n",
              "    <tr>\n",
              "      <th>3</th>\n",
              "      <td>https://www.olx.uz/obyavlenie/srochno-prodaem-...</td>\n",
              "      <td>1 350 000 сум</td>\n",
              "    </tr>\n",
              "    <tr>\n",
              "      <th>4</th>\n",
              "      <td>https://www.olx.uz/obyavlenie/velosiped-ID29Xr...</td>\n",
              "      <td>500 000 сум</td>\n",
              "    </tr>\n",
              "    <tr>\n",
              "      <th>5</th>\n",
              "      <td>https://www.olx.uz/obyavlenie/prodam-velosiped...</td>\n",
              "      <td>950 000 сум</td>\n",
              "    </tr>\n",
              "    <tr>\n",
              "      <th>6</th>\n",
              "      <td>https://www.olx.uz/obyavlenie/velosiped-26-ful...</td>\n",
              "      <td>1 500 000 сум</td>\n",
              "    </tr>\n",
              "    <tr>\n",
              "      <th>7</th>\n",
              "      <td>https://www.olx.uz/obyavlenie/prodaetsya-velos...</td>\n",
              "      <td>1 000 000 сум</td>\n",
              "    </tr>\n",
              "    <tr>\n",
              "      <th>9</th>\n",
              "      <td>https://www.olx.uz/obyavlenie/velosiped-ural-I...</td>\n",
              "      <td>700 000 сум</td>\n",
              "    </tr>\n",
              "    <tr>\n",
              "      <th>10</th>\n",
              "      <td>https://www.olx.uz/obyavlenie/prodayu-gornyy-s...</td>\n",
              "      <td>950 000 сум</td>\n",
              "    </tr>\n",
              "    <tr>\n",
              "      <th>11</th>\n",
              "      <td>https://www.olx.uz/obyavlenie/novye-velosipedy...</td>\n",
              "      <td>1 550 000 сум</td>\n",
              "    </tr>\n",
              "    <tr>\n",
              "      <th>12</th>\n",
              "      <td>https://www.olx.uz/obyavlenie/srochno-prodayu-...</td>\n",
              "      <td>500 000 сум</td>\n",
              "    </tr>\n",
              "    <tr>\n",
              "      <th>13</th>\n",
              "      <td>https://www.olx.uz/obyavlenie/toshkenda-dostav...</td>\n",
              "      <td>1 750 000 сум</td>\n",
              "    </tr>\n",
              "    <tr>\n",
              "      <th>15</th>\n",
              "      <td>https://www.olx.uz/obyavlenie/optm-velosiped-2...</td>\n",
              "      <td>1 500 000 сум</td>\n",
              "    </tr>\n",
              "    <tr>\n",
              "      <th>16</th>\n",
              "      <td>https://www.olx.uz/obyavlenie/toshkenda-optom-...</td>\n",
              "      <td>750 000 сум</td>\n",
              "    </tr>\n",
              "    <tr>\n",
              "      <th>17</th>\n",
              "      <td>https://www.olx.uz/obyavlenie/velosiped-nemets...</td>\n",
              "      <td>2 950 000 сум</td>\n",
              "    </tr>\n",
              "    <tr>\n",
              "      <th>18</th>\n",
              "      <td>https://www.olx.uz/obyavlenie/toshkenda-usa-26...</td>\n",
              "      <td>1 950 000 сум</td>\n",
              "    </tr>\n",
              "    <tr>\n",
              "      <th>19</th>\n",
              "      <td>https://www.olx.uz/obyavlenie/velosiped-kama-I...</td>\n",
              "      <td>950 000 сум</td>\n",
              "    </tr>\n",
              "    <tr>\n",
              "      <th>20</th>\n",
              "      <td>https://www.olx.uz/obyavlenie/germanskiy-velos...</td>\n",
              "      <td>1 450 000 сум</td>\n",
              "    </tr>\n",
              "    <tr>\n",
              "      <th>21</th>\n",
              "      <td>https://www.olx.uz/obyavlenie/velosiped-26-ful...</td>\n",
              "      <td>1 500 000 сум</td>\n",
              "    </tr>\n",
              "    <tr>\n",
              "      <th>22</th>\n",
              "      <td>https://www.olx.uz/obyavlenie/velosiped-26-ful...</td>\n",
              "      <td>1 500 000 сум</td>\n",
              "    </tr>\n",
              "    <tr>\n",
              "      <th>23</th>\n",
              "      <td>https://www.olx.uz/obyavlenie/velosipedy-iz-ge...</td>\n",
              "      <td>2 300 000 сум</td>\n",
              "    </tr>\n",
              "    <tr>\n",
              "      <th>24</th>\n",
              "      <td>https://www.olx.uz/obyavlenie/velosiped-sotila...</td>\n",
              "      <td>600 000 сум</td>\n",
              "    </tr>\n",
              "    <tr>\n",
              "      <th>25</th>\n",
              "      <td>https://www.olx.uz/obyavlenie/velosiped-sotila...</td>\n",
              "      <td>2 500 000 сум</td>\n",
              "    </tr>\n",
              "    <tr>\n",
              "      <th>26</th>\n",
              "      <td>https://www.olx.uz/obyavlenie/velosiped-ful-ka...</td>\n",
              "      <td>1 500 000 сум</td>\n",
              "    </tr>\n",
              "    <tr>\n",
              "      <th>28</th>\n",
              "      <td>https://www.olx.uz/obyavlenie/zapchast-velosip...</td>\n",
              "      <td>25 000 сум</td>\n",
              "    </tr>\n",
              "    <tr>\n",
              "      <th>29</th>\n",
              "      <td>https://www.olx.uz/obyavlenie/germanskiy-proch...</td>\n",
              "      <td>1 300 000 сум</td>\n",
              "    </tr>\n",
              "    <tr>\n",
              "      <th>30</th>\n",
              "      <td>https://www.olx.uz/obyavlenie/velosiped-sotila...</td>\n",
              "      <td>350 000 сум</td>\n",
              "    </tr>\n",
              "    <tr>\n",
              "      <th>31</th>\n",
              "      <td>https://www.olx.uz/obyavlenie/prodaetsya-velos...</td>\n",
              "      <td>450 000 сум</td>\n",
              "    </tr>\n",
              "    <tr>\n",
              "      <th>32</th>\n",
              "      <td>https://www.olx.uz/obyavlenie/sportivnyy-velos...</td>\n",
              "      <td>1 000 000 сум</td>\n",
              "    </tr>\n",
              "    <tr>\n",
              "      <th>33</th>\n",
              "      <td>https://www.olx.uz/obyavlenie/srochno-prodaets...</td>\n",
              "      <td>1 100 000 сум</td>\n",
              "    </tr>\n",
              "    <tr>\n",
              "      <th>34</th>\n",
              "      <td>https://www.olx.uz/obyavlenie/prodam-zapchasti...</td>\n",
              "      <td>130 000 сум</td>\n",
              "    </tr>\n",
              "    <tr>\n",
              "      <th>36</th>\n",
              "      <td>https://www.olx.uz/obyavlenie/elektro-velosipe...</td>\n",
              "      <td>6 336 400 сум</td>\n",
              "    </tr>\n",
              "    <tr>\n",
              "      <th>37</th>\n",
              "      <td>https://www.olx.uz/obyavlenie/velosiped-ID29Xg...</td>\n",
              "      <td>600 000 сум</td>\n",
              "    </tr>\n",
              "    <tr>\n",
              "      <th>38</th>\n",
              "      <td>https://www.olx.uz/obyavlenie/velosiped-ural-I...</td>\n",
              "      <td>770 000 сум</td>\n",
              "    </tr>\n",
              "    <tr>\n",
              "      <th>40</th>\n",
              "      <td>https://www.olx.uz/obyavlenie/velosiped-sotama...</td>\n",
              "      <td>1 150 000 сум</td>\n",
              "    </tr>\n",
              "    <tr>\n",
              "      <th>41</th>\n",
              "      <td>https://www.olx.uz/obyavlenie/velosiped-26-ID2...</td>\n",
              "      <td>1 500 000 сум</td>\n",
              "    </tr>\n",
              "    <tr>\n",
              "      <th>42</th>\n",
              "      <td>https://www.olx.uz/obyavlenie/velosiped-26-shi...</td>\n",
              "      <td>2 200 000 сум</td>\n",
              "    </tr>\n",
              "    <tr>\n",
              "      <th>43</th>\n",
              "      <td>https://www.olx.uz/obyavlenie/srochno-prodayu-...</td>\n",
              "      <td>200 000 сум</td>\n",
              "    </tr>\n",
              "  </tbody>\n",
              "</table>\n",
              "</div>"
            ],
            "text/plain": [
              "                                                 link          price\n",
              "0   https://www.olx.uz/obyavlenie/philips-velosipe...    500 000 сум\n",
              "1   https://www.olx.uz/obyavlenie/velosiped-skoros...  1 500 000 сум\n",
              "2   https://www.olx.uz/obyavlenie/prodaetsya-novyy...  1 500 000 сум\n",
              "3   https://www.olx.uz/obyavlenie/srochno-prodaem-...  1 350 000 сум\n",
              "4   https://www.olx.uz/obyavlenie/velosiped-ID29Xr...    500 000 сум\n",
              "5   https://www.olx.uz/obyavlenie/prodam-velosiped...    950 000 сум\n",
              "6   https://www.olx.uz/obyavlenie/velosiped-26-ful...  1 500 000 сум\n",
              "7   https://www.olx.uz/obyavlenie/prodaetsya-velos...  1 000 000 сум\n",
              "9   https://www.olx.uz/obyavlenie/velosiped-ural-I...    700 000 сум\n",
              "10  https://www.olx.uz/obyavlenie/prodayu-gornyy-s...    950 000 сум\n",
              "11  https://www.olx.uz/obyavlenie/novye-velosipedy...  1 550 000 сум\n",
              "12  https://www.olx.uz/obyavlenie/srochno-prodayu-...    500 000 сум\n",
              "13  https://www.olx.uz/obyavlenie/toshkenda-dostav...  1 750 000 сум\n",
              "15  https://www.olx.uz/obyavlenie/optm-velosiped-2...  1 500 000 сум\n",
              "16  https://www.olx.uz/obyavlenie/toshkenda-optom-...    750 000 сум\n",
              "17  https://www.olx.uz/obyavlenie/velosiped-nemets...  2 950 000 сум\n",
              "18  https://www.olx.uz/obyavlenie/toshkenda-usa-26...  1 950 000 сум\n",
              "19  https://www.olx.uz/obyavlenie/velosiped-kama-I...    950 000 сум\n",
              "20  https://www.olx.uz/obyavlenie/germanskiy-velos...  1 450 000 сум\n",
              "21  https://www.olx.uz/obyavlenie/velosiped-26-ful...  1 500 000 сум\n",
              "22  https://www.olx.uz/obyavlenie/velosiped-26-ful...  1 500 000 сум\n",
              "23  https://www.olx.uz/obyavlenie/velosipedy-iz-ge...  2 300 000 сум\n",
              "24  https://www.olx.uz/obyavlenie/velosiped-sotila...    600 000 сум\n",
              "25  https://www.olx.uz/obyavlenie/velosiped-sotila...  2 500 000 сум\n",
              "26  https://www.olx.uz/obyavlenie/velosiped-ful-ka...  1 500 000 сум\n",
              "28  https://www.olx.uz/obyavlenie/zapchast-velosip...     25 000 сум\n",
              "29  https://www.olx.uz/obyavlenie/germanskiy-proch...  1 300 000 сум\n",
              "30  https://www.olx.uz/obyavlenie/velosiped-sotila...    350 000 сум\n",
              "31  https://www.olx.uz/obyavlenie/prodaetsya-velos...    450 000 сум\n",
              "32  https://www.olx.uz/obyavlenie/sportivnyy-velos...  1 000 000 сум\n",
              "33  https://www.olx.uz/obyavlenie/srochno-prodaets...  1 100 000 сум\n",
              "34  https://www.olx.uz/obyavlenie/prodam-zapchasti...    130 000 сум\n",
              "36  https://www.olx.uz/obyavlenie/elektro-velosipe...  6 336 400 сум\n",
              "37  https://www.olx.uz/obyavlenie/velosiped-ID29Xg...    600 000 сум\n",
              "38  https://www.olx.uz/obyavlenie/velosiped-ural-I...    770 000 сум\n",
              "40  https://www.olx.uz/obyavlenie/velosiped-sotama...  1 150 000 сум\n",
              "41  https://www.olx.uz/obyavlenie/velosiped-26-ID2...  1 500 000 сум\n",
              "42  https://www.olx.uz/obyavlenie/velosiped-26-shi...  2 200 000 сум\n",
              "43  https://www.olx.uz/obyavlenie/srochno-prodayu-...    200 000 сум"
            ]
          },
          "metadata": {
            "tags": []
          },
          "execution_count": 39
        }
      ]
    },
    {
      "cell_type": "code",
      "metadata": {
        "scrolled": true,
        "id": "gFb2zem75m3w",
        "colab_type": "code",
        "colab": {}
      },
      "source": [
        "#avito\n",
        "import requests\n",
        "from bs4 import BeautifulSoup\n",
        "\n",
        "r = requests.get('https://www.avito.ru/moskva/velosipedy?geoCoords=55.764802392342986%2C37.6385320596512&pmax=10000&pmin=5000&radius=1&q=%D0%B2%D0%B5%D0%BB%D0%BE%D1%81%D0%B8%D0%BF%D0%B5%D0%B4')\n",
        "soup = BeautifulSoup(r.text)\n",
        "soup\n"
      ],
      "execution_count": null,
      "outputs": []
    },
    {
      "cell_type": "code",
      "metadata": {
        "id": "Br416yMl5m4F",
        "colab_type": "code",
        "colab": {}
      },
      "source": [
        "boards = soup.select('.snippet-link')"
      ],
      "execution_count": null,
      "outputs": []
    },
    {
      "cell_type": "code",
      "metadata": {
        "scrolled": true,
        "id": "9u3bWf_d5m4S",
        "colab_type": "code",
        "colab": {}
      },
      "source": [
        "hrefs = [x['href'] for x in boards]\n",
        "links = ['https://www.avito.ru' + x for x in hrefs]\n",
        "links"
      ],
      "execution_count": null,
      "outputs": []
    },
    {
      "cell_type": "code",
      "metadata": {
        "scrolled": true,
        "id": "2P5HALhk5m4a",
        "colab_type": "code",
        "colab": {}
      },
      "source": [
        "cont = [x.get('title') for x in boards] #когда мы парсим, мы используем \"осторожные методы\" работы с данными\n",
        "cont"
      ],
      "execution_count": null,
      "outputs": []
    },
    {
      "cell_type": "markdown",
      "metadata": {
        "id": "nnyLUwKHzOmW",
        "colab_type": "text"
      },
      "source": [
        "Порой во время парсинга наш IP адрес блокирует сервер, так как на многих сайтах установлена защита от такой формы взаимодействия. Мы можем попробовать \"поиграться\" с бесплатными прокси"
      ]
    },
    {
      "cell_type": "code",
      "metadata": {
        "id": "RYviGZfY5m4f",
        "colab_type": "code",
        "colab": {
          "base_uri": "https://localhost:8080/",
          "height": 139
        },
        "outputId": "685441e6-40ec-4a59-f43d-027b2ff321bc"
      },
      "source": [
        "from bs4 import BeautifulSoup\n",
        "r = requests.get('https://sockslist.net/list/proxy-socks-5-list/')\n",
        "soup = BeautifulSoup(r.text)\n",
        "ips_list = list(map(lambda x: x.text, soup.select('.t_ip')))\n",
        "ips_list"
      ],
      "execution_count": null,
      "outputs": [
        {
          "output_type": "execute_result",
          "data": {
            "text/plain": [
              "['78.157.40.102',\n",
              " '172.104.47.242',\n",
              " '52.207.229.227',\n",
              " '50.62.61.96',\n",
              " '103.240.160.21',\n",
              " '116.203.128.117',\n",
              " '209.97.182.201']"
            ]
          },
          "metadata": {
            "tags": []
          },
          "execution_count": 38
        }
      ]
    },
    {
      "cell_type": "markdown",
      "metadata": {
        "id": "fVSnTcws5m4q",
        "colab_type": "text"
      },
      "source": [
        "А дальше изучайте этот вопрос вот тут:\n",
        "\n",
        "\n",
        "https://requests.readthedocs.io/en/master/user/advanced/#proxies\n",
        "    \n",
        "https://qna.habr.com/q/649336"
      ]
    },
    {
      "cell_type": "markdown",
      "metadata": {
        "id": "g6Ki_QAV5m4x",
        "colab_type": "text"
      },
      "source": [
        "Находим цену!"
      ]
    },
    {
      "cell_type": "code",
      "metadata": {
        "id": "cIOSdgg25m4z",
        "colab_type": "code",
        "colab": {},
        "outputId": "b8bace64-ff07-452c-fdbf-43f4b30eba34"
      },
      "source": [
        "price_list = []\n",
        "r = requests.get('https://www.avito.ru/moskva/velosipedy/velosiped_velosipedy_1928255626')\n",
        "soup = BeautifulSoup(r.text)\n",
        "price = soup.select('.js-item-price')[0]['content']\n",
        "price"
      ],
      "execution_count": null,
      "outputs": [
        {
          "output_type": "execute_result",
          "data": {
            "text/plain": [
              "'9998'"
            ]
          },
          "metadata": {
            "tags": []
          },
          "execution_count": 22
        }
      ]
    },
    {
      "cell_type": "markdown",
      "metadata": {
        "id": "1RjyTpcizjSS",
        "colab_type": "text"
      },
      "source": [
        "В качестве дополнительной меры \"успокоения\" мы можем установить задержку перед каждым запросом на сервер с помощью метода `sleep`. Она может быть статичной, а может быть случайной. Для этого мы используем в следующем блоке модуль `random` "
      ]
    },
    {
      "cell_type": "code",
      "metadata": {
        "id": "9wCXWko_5m44",
        "colab_type": "code",
        "colab": {},
        "outputId": "05b4a631-81ea-41ed-991b-97f7c8af8d60"
      },
      "source": [
        "from random import randint\n",
        "from time import sleep\n",
        "\n",
        "price_list = []\n",
        "for link in links[:10]:\n",
        "    r = requests.get(link)\n",
        "    soup = BeautifulSoup(r.text)\n",
        "    try:\n",
        "        price = soup.select('.js-item-price')[0]['content']\n",
        "    except IndexError:\n",
        "        price = 0\n",
        "    price_list.append(int(price))\n",
        "    sleep(randint(1,3))\n",
        "\n",
        "price_list"
      ],
      "execution_count": null,
      "outputs": [
        {
          "output_type": "execute_result",
          "data": {
            "text/plain": [
              "[9998, 7000, 9900, 9998, 9690, 9000, 9900, 9998, 9690, 9690]"
            ]
          },
          "metadata": {
            "tags": []
          },
          "execution_count": 25
        }
      ]
    },
    {
      "cell_type": "code",
      "metadata": {
        "id": "8X7fVRKJ5m4_",
        "colab_type": "code",
        "colab": {},
        "outputId": "093dc40c-3402-4dc9-f68e-94cb4b69e379"
      },
      "source": [
        "randint(1,3)"
      ],
      "execution_count": null,
      "outputs": [
        {
          "output_type": "execute_result",
          "data": {
            "text/plain": [
              "3"
            ]
          },
          "metadata": {
            "tags": []
          },
          "execution_count": 23
        }
      ]
    },
    {
      "cell_type": "code",
      "metadata": {
        "id": "XNc-sFuf5m5F",
        "colab_type": "code",
        "colab": {}
      },
      "source": [
        "dct = {'Product' : cont[:10], 'link': links[:10], 'price' : price_list}"
      ],
      "execution_count": null,
      "outputs": []
    },
    {
      "cell_type": "code",
      "metadata": {
        "id": "v9spozTX5m5K",
        "colab_type": "code",
        "colab": {},
        "outputId": "7def81b2-280f-4bc8-d672-c8de9632207d"
      },
      "source": [
        "import pandas as pd  \n",
        "pd.set_option('max_colwidth', 800)\n",
        "df = pd.DataFrame(dct) \n",
        "df"
      ],
      "execution_count": null,
      "outputs": [
        {
          "output_type": "execute_result",
          "data": {
            "text/html": [
              "<div>\n",
              "<style scoped>\n",
              "    .dataframe tbody tr th:only-of-type {\n",
              "        vertical-align: middle;\n",
              "    }\n",
              "\n",
              "    .dataframe tbody tr th {\n",
              "        vertical-align: top;\n",
              "    }\n",
              "\n",
              "    .dataframe thead th {\n",
              "        text-align: right;\n",
              "    }\n",
              "</style>\n",
              "<table border=\"1\" class=\"dataframe\">\n",
              "  <thead>\n",
              "    <tr style=\"text-align: right;\">\n",
              "      <th></th>\n",
              "      <th>Product</th>\n",
              "      <th>link</th>\n",
              "      <th>price</th>\n",
              "    </tr>\n",
              "  </thead>\n",
              "  <tbody>\n",
              "    <tr>\n",
              "      <th>0</th>\n",
              "      <td>Велосипед Велосипеды в Москве</td>\n",
              "      <td>https://www.avito.ru/moskva/velosipedy/velosiped_velosipedy_1928255626</td>\n",
              "      <td>9998</td>\n",
              "    </tr>\n",
              "    <tr>\n",
              "      <th>1</th>\n",
              "      <td>Велосипеды в Москве</td>\n",
              "      <td>https://www.avito.ru/moskva/velosipedy/velosipedy_1938823020</td>\n",
              "      <td>7000</td>\n",
              "    </tr>\n",
              "    <tr>\n",
              "      <th>2</th>\n",
              "      <td>Велосипед в Москве</td>\n",
              "      <td>https://www.avito.ru/moskva/velosipedy/velosiped_1943845858</td>\n",
              "      <td>9900</td>\n",
              "    </tr>\n",
              "    <tr>\n",
              "      <th>3</th>\n",
              "      <td>Велосипед Велосипеды в Москве</td>\n",
              "      <td>https://www.avito.ru/moskva/velosipedy/velosiped_velosipedy_1928678730</td>\n",
              "      <td>9998</td>\n",
              "    </tr>\n",
              "    <tr>\n",
              "      <th>4</th>\n",
              "      <td>Велосипед велосипеды в Москве</td>\n",
              "      <td>https://www.avito.ru/moskva/velosipedy/velosiped_velosipedy_1940028684</td>\n",
              "      <td>9690</td>\n",
              "    </tr>\n",
              "    <tr>\n",
              "      <th>5</th>\n",
              "      <td>Велосипед в Москве</td>\n",
              "      <td>https://www.avito.ru/moskva/velosipedy/velosiped_1947519853</td>\n",
              "      <td>9000</td>\n",
              "    </tr>\n",
              "    <tr>\n",
              "      <th>6</th>\n",
              "      <td>Велосипед велосипеды в Москве</td>\n",
              "      <td>https://www.avito.ru/moskva/velosipedy/velosiped_velosipedy_1943168747</td>\n",
              "      <td>9900</td>\n",
              "    </tr>\n",
              "    <tr>\n",
              "      <th>7</th>\n",
              "      <td>Велосипед Велосипеды в Москве</td>\n",
              "      <td>https://www.avito.ru/moskva/velosipedy/velosiped_velosipedy_1928228710</td>\n",
              "      <td>9998</td>\n",
              "    </tr>\n",
              "    <tr>\n",
              "      <th>8</th>\n",
              "      <td>Велосипед велосипеды в Москве</td>\n",
              "      <td>https://www.avito.ru/moskva/velosipedy/velosiped_velosipedy_1940195521</td>\n",
              "      <td>9690</td>\n",
              "    </tr>\n",
              "    <tr>\n",
              "      <th>9</th>\n",
              "      <td>Велосипед велосипеды в Москве</td>\n",
              "      <td>https://www.avito.ru/moskva/velosipedy/velosiped_velosipedy_1940460135</td>\n",
              "      <td>9690</td>\n",
              "    </tr>\n",
              "  </tbody>\n",
              "</table>\n",
              "</div>"
            ],
            "text/plain": [
              "                         Product  \\\n",
              "0  Велосипед Велосипеды в Москве   \n",
              "1            Велосипеды в Москве   \n",
              "2             Велосипед в Москве   \n",
              "3  Велосипед Велосипеды в Москве   \n",
              "4  Велосипед велосипеды в Москве   \n",
              "5             Велосипед в Москве   \n",
              "6  Велосипед велосипеды в Москве   \n",
              "7  Велосипед Велосипеды в Москве   \n",
              "8  Велосипед велосипеды в Москве   \n",
              "9  Велосипед велосипеды в Москве   \n",
              "\n",
              "                                                                     link  \\\n",
              "0  https://www.avito.ru/moskva/velosipedy/velosiped_velosipedy_1928255626   \n",
              "1            https://www.avito.ru/moskva/velosipedy/velosipedy_1938823020   \n",
              "2             https://www.avito.ru/moskva/velosipedy/velosiped_1943845858   \n",
              "3  https://www.avito.ru/moskva/velosipedy/velosiped_velosipedy_1928678730   \n",
              "4  https://www.avito.ru/moskva/velosipedy/velosiped_velosipedy_1940028684   \n",
              "5             https://www.avito.ru/moskva/velosipedy/velosiped_1947519853   \n",
              "6  https://www.avito.ru/moskva/velosipedy/velosiped_velosipedy_1943168747   \n",
              "7  https://www.avito.ru/moskva/velosipedy/velosiped_velosipedy_1928228710   \n",
              "8  https://www.avito.ru/moskva/velosipedy/velosiped_velosipedy_1940195521   \n",
              "9  https://www.avito.ru/moskva/velosipedy/velosiped_velosipedy_1940460135   \n",
              "\n",
              "   price  \n",
              "0   9998  \n",
              "1   7000  \n",
              "2   9900  \n",
              "3   9998  \n",
              "4   9690  \n",
              "5   9000  \n",
              "6   9900  \n",
              "7   9998  \n",
              "8   9690  \n",
              "9   9690  "
            ]
          },
          "metadata": {
            "tags": []
          },
          "execution_count": 27
        }
      ]
    },
    {
      "cell_type": "markdown",
      "metadata": {
        "id": "W_VXZBZz5m5X",
        "colab_type": "text"
      },
      "source": [
        "Подробнее про селекторы или локаторы\n",
        "\n",
        "XPath (XML path) - это язык для нодов (nodes) в XML документе.\n",
        "Так как многие браузеры поддерживают XHTML, то мы можем использовать XPath для нахождения элементов на web страницах.\n",
        "\n",
        "Важным различием между CSS и XPath локаторами является то, что, используя XPath, мы можем производить перемещение как в глубину DOM иерархии, так и возвращаться назад. \n",
        "Что же касается CSS, то тут мы можем двигаться только в глубину. Это значит, что с XPath можем найти родительский элемент, по дочернему.\n",
        "\n",
        "https://comaqa.gitbook.io/selenium-webdriver-lectures/selenium-webdriver.-slozhnye-voprosy./lokatory.-css-xpath-jquery.\n",
        "    "
      ]
    },
    {
      "cell_type": "markdown",
      "metadata": {
        "id": "xZuJ3HeN5m5X",
        "colab_type": "text"
      },
      "source": [
        "### Парcинг сайтов с помощью **selenium**\n",
        "https://selenium-python.readthedocs.io/installation.html\n",
        "\n",
        "https://selenium-python.com/install-geckodriver\n",
        "\n",
        "Когда нужен? \n",
        "\n",
        "1) Когда нужна авторизация\n",
        "\n",
        "2) Когда нам нужно пройти AJAX сценарий\n",
        "\n",
        "AJAX, Ajax (ˈeɪdʒæks, от англ. Asynchronous Javascript and XML — «асинхронный JavaScript и XML») — подход к построению интерактивных пользовательских интерфейсов веб-приложений, заключающийся в «фоновом» обмене данными браузера с веб-сервером. В результате, при обновлении данных веб-страница не перезагружается полностью, и веб-приложения становятся быстрее и удобнее. По-русски иногда произносится транслитом как «аякс». У аббревиатуры AJAX нет устоявшегося аналога на кириллице. \n",
        "\n",
        "\n"
      ]
    },
    {
      "cell_type": "code",
      "metadata": {
        "id": "g2FSTKh45m5Y",
        "colab_type": "code",
        "colab": {}
      },
      "source": [
        "from selenium import webdriver\n",
        "from selenium.webdriver.common.keys import Keys\n",
        "from bs4 import BeautifulSoup\n",
        "\n",
        "\n",
        "driver = webdriver.Firefox()\n",
        "driver.get(\"http://zpp.rospotrebnadzor.ru/Forum/Appeals\")\n",
        "source = driver.page_source\n",
        "soup = BeautifulSoup(source)\n",
        "\n",
        "\n"
      ],
      "execution_count": null,
      "outputs": []
    },
    {
      "cell_type": "code",
      "metadata": {
        "id": "2WS7R7Gi5m5g",
        "colab_type": "code",
        "colab": {}
      },
      "source": [
        "button = driver.find_element_by_xpath(\"//a[@onclick='PagerNextClick()']\") \n",
        "button.click()"
      ],
      "execution_count": null,
      "outputs": []
    },
    {
      "cell_type": "code",
      "metadata": {
        "id": "l8INt6cM5m5n",
        "colab_type": "code",
        "colab": {},
        "outputId": "3c2a05e3-5414-4968-ae62-6b36d7bfd8c7"
      },
      "source": [
        "from time import sleep\n",
        "while True:\n",
        "    button = driver.find_element_by_xpath(\"//a[@onclick='PagerNextClick()']\") \n",
        "    button.click()\n",
        "    sleep(1)"
      ],
      "execution_count": null,
      "outputs": [
        {
          "output_type": "error",
          "ename": "KeyboardInterrupt",
          "evalue": "",
          "traceback": [
            "\u001b[0;31m---------------------------------------------------------------------------\u001b[0m",
            "\u001b[0;31mKeyboardInterrupt\u001b[0m                         Traceback (most recent call last)",
            "\u001b[0;32m<ipython-input-34-bbc86016f68b>\u001b[0m in \u001b[0;36m<module>\u001b[0;34m\u001b[0m\n\u001b[1;32m      3\u001b[0m     \u001b[0mbutton\u001b[0m \u001b[0;34m=\u001b[0m \u001b[0mdriver\u001b[0m\u001b[0;34m.\u001b[0m\u001b[0mfind_element_by_xpath\u001b[0m\u001b[0;34m(\u001b[0m\u001b[0;34m\"//a[@onclick='PagerNextClick()']\"\u001b[0m\u001b[0;34m)\u001b[0m\u001b[0;34m\u001b[0m\u001b[0;34m\u001b[0m\u001b[0m\n\u001b[1;32m      4\u001b[0m     \u001b[0mbutton\u001b[0m\u001b[0;34m.\u001b[0m\u001b[0mclick\u001b[0m\u001b[0;34m(\u001b[0m\u001b[0;34m)\u001b[0m\u001b[0;34m\u001b[0m\u001b[0;34m\u001b[0m\u001b[0m\n\u001b[0;32m----> 5\u001b[0;31m     \u001b[0msleep\u001b[0m\u001b[0;34m(\u001b[0m\u001b[0;36m1\u001b[0m\u001b[0;34m)\u001b[0m\u001b[0;34m\u001b[0m\u001b[0;34m\u001b[0m\u001b[0m\n\u001b[0m",
            "\u001b[0;31mKeyboardInterrupt\u001b[0m: "
          ]
        }
      ]
    },
    {
      "cell_type": "markdown",
      "metadata": {
        "id": "S_Qu5vHGPLUi",
        "colab_type": "text"
      },
      "source": [
        "https://www.crummy.com/software/BeautifulSoup/bs4/doc.ru/bs4ru.html"
      ]
    }
  ]
}
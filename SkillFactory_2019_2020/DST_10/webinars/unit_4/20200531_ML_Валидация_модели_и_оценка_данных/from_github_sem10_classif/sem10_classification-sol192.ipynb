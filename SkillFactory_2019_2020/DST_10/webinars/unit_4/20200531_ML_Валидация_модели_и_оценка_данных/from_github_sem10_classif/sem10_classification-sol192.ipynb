{
 "cells": [
  {
   "cell_type": "markdown",
   "metadata": {},
   "source": [
    "# Семинар 10: Классификация\n",
    "\n",
    "В прошлый раз мы говорили про регрессию: мы пытались по выборке предсказать значение непрерывной переменной, количество лайков под постом. В этот раз мы поговорим про задачу классификации. __Вы же ещё не забыли чем отличаются друг от друга эти задачи?__ "
   ]
  },
  {
   "cell_type": "code",
   "execution_count": 1,
   "metadata": {},
   "outputs": [],
   "source": [
    "import pandas as pd               # уже знакомый вам пакет для работы с таблицами\n",
    "import numpy as np                # смутно знакомый вам пакет для работы с матрицами\n",
    "\n",
    "import matplotlib.pyplot as plt   # уже смутно знакомый вам пакет для картинок :3\n",
    "import matplotlib\n",
    "import seaborn as sns             # ещё один пакет для картинок \n",
    "plt.style.use('ggplot')           # правильный (очень красивый) стиль у графиков\n",
    "\n",
    "%matplotlib inline"
   ]
  },
  {
   "cell_type": "markdown",
   "metadata": {},
   "source": [
    "# 1. Данные и пропуски \n",
    "\n",
    "На одном из предыдущих семинаров мы строили с вами визуализации для клипов с youtube. Сегодня мы продолжим с ним работать и попробуем предсказывать жарн видео по его параметрам. "
   ]
  },
  {
   "cell_type": "code",
   "execution_count": 2,
   "metadata": {},
   "outputs": [
    {
     "data": {
      "text/html": [
       "<div>\n",
       "<style scoped>\n",
       "    .dataframe tbody tr th:only-of-type {\n",
       "        vertical-align: middle;\n",
       "    }\n",
       "\n",
       "    .dataframe tbody tr th {\n",
       "        vertical-align: top;\n",
       "    }\n",
       "\n",
       "    .dataframe thead th {\n",
       "        text-align: right;\n",
       "    }\n",
       "</style>\n",
       "<table border=\"1\" class=\"dataframe\">\n",
       "  <thead>\n",
       "    <tr style=\"text-align: right;\">\n",
       "      <th></th>\n",
       "      <th>title</th>\n",
       "      <th>caption</th>\n",
       "      <th>categoryId</th>\n",
       "      <th>commentCount</th>\n",
       "      <th>definition</th>\n",
       "      <th>description</th>\n",
       "      <th>dislikeCount</th>\n",
       "      <th>duration</th>\n",
       "      <th>license</th>\n",
       "      <th>licensedContent</th>\n",
       "      <th>...</th>\n",
       "      <th>comment_mean_len_symbol</th>\n",
       "      <th>comment_mean_len_word</th>\n",
       "      <th>comment_negative_mean_prob</th>\n",
       "      <th>comment_negative_share</th>\n",
       "      <th>commentators_uniq</th>\n",
       "      <th>comments_emoji_max</th>\n",
       "      <th>comments_emoji_mean</th>\n",
       "      <th>comments_emoji_share</th>\n",
       "      <th>comments_obscene_cnt</th>\n",
       "      <th>words_obscene_cnt</th>\n",
       "    </tr>\n",
       "  </thead>\n",
       "  <tbody>\n",
       "    <tr>\n",
       "      <th>0</th>\n",
       "      <td>\"#2Маши \"Свободные линии\"</td>\n",
       "      <td>False</td>\n",
       "      <td>10</td>\n",
       "      <td>34.0</td>\n",
       "      <td>hd</td>\n",
       "      <td>ITUNES - https://itun.es/ru/0YzI_</td>\n",
       "      <td>43.0</td>\n",
       "      <td>PT3M30S</td>\n",
       "      <td>youtube</td>\n",
       "      <td>True</td>\n",
       "      <td>...</td>\n",
       "      <td>59.440000</td>\n",
       "      <td>8.840000</td>\n",
       "      <td>0.635410</td>\n",
       "      <td>0.480000</td>\n",
       "      <td>24.0</td>\n",
       "      <td>9.0</td>\n",
       "      <td>1.000000</td>\n",
       "      <td>0.320000</td>\n",
       "      <td>0.0</td>\n",
       "      <td>0.0</td>\n",
       "    </tr>\n",
       "    <tr>\n",
       "      <th>1</th>\n",
       "      <td>\"ALARM\" СЕРГЕЙ ЛАЗАРЕВ ( SERGEY LAZAREV )</td>\n",
       "      <td>False</td>\n",
       "      <td>10</td>\n",
       "      <td>NaN</td>\n",
       "      <td>sd</td>\n",
       "      <td>NEW OFFICIAL VIDEO\\r\\n2010</td>\n",
       "      <td>690.0</td>\n",
       "      <td>PT3M42S</td>\n",
       "      <td>youtube</td>\n",
       "      <td>False</td>\n",
       "      <td>...</td>\n",
       "      <td>NaN</td>\n",
       "      <td>NaN</td>\n",
       "      <td>NaN</td>\n",
       "      <td>NaN</td>\n",
       "      <td>NaN</td>\n",
       "      <td>NaN</td>\n",
       "      <td>NaN</td>\n",
       "      <td>NaN</td>\n",
       "      <td>NaN</td>\n",
       "      <td>NaN</td>\n",
       "    </tr>\n",
       "    <tr>\n",
       "      <th>2</th>\n",
       "      <td>\"EARTH SONG\"  SERGEY LAZAREV. DEDICATED TO MIC...</td>\n",
       "      <td>False</td>\n",
       "      <td>10</td>\n",
       "      <td>26.0</td>\n",
       "      <td>sd</td>\n",
       "      <td>Посвящается Майклу Джексону...\\r\\nCover-versio...</td>\n",
       "      <td>10.0</td>\n",
       "      <td>PT5M46S</td>\n",
       "      <td>youtube</td>\n",
       "      <td>False</td>\n",
       "      <td>...</td>\n",
       "      <td>120.000000</td>\n",
       "      <td>19.291667</td>\n",
       "      <td>0.725987</td>\n",
       "      <td>0.750000</td>\n",
       "      <td>23.0</td>\n",
       "      <td>13.0</td>\n",
       "      <td>0.666667</td>\n",
       "      <td>0.125000</td>\n",
       "      <td>0.0</td>\n",
       "      <td>0.0</td>\n",
       "    </tr>\n",
       "    <tr>\n",
       "      <th>3</th>\n",
       "      <td>\"Earth song\" премия МУЗ-тВ 2010 (LIVE)</td>\n",
       "      <td>False</td>\n",
       "      <td>10</td>\n",
       "      <td>12.0</td>\n",
       "      <td>sd</td>\n",
       "      <td>Сергей Лазарев, La Toya Jackson,  Ани Лорак, Т...</td>\n",
       "      <td>7.0</td>\n",
       "      <td>PT6M16S</td>\n",
       "      <td>youtube</td>\n",
       "      <td>False</td>\n",
       "      <td>...</td>\n",
       "      <td>81.818182</td>\n",
       "      <td>11.545455</td>\n",
       "      <td>0.736776</td>\n",
       "      <td>0.727273</td>\n",
       "      <td>11.0</td>\n",
       "      <td>13.0</td>\n",
       "      <td>1.181818</td>\n",
       "      <td>0.090909</td>\n",
       "      <td>0.0</td>\n",
       "      <td>0.0</td>\n",
       "    </tr>\n",
       "    <tr>\n",
       "      <th>4</th>\n",
       "      <td>\"FAKE\" СЕРГЕЙ ЛАЗАРЕВ (SERGEY)</td>\n",
       "      <td>False</td>\n",
       "      <td>10</td>\n",
       "      <td>46.0</td>\n",
       "      <td>sd</td>\n",
       "      <td>official video</td>\n",
       "      <td>19.0</td>\n",
       "      <td>PT3M</td>\n",
       "      <td>youtube</td>\n",
       "      <td>True</td>\n",
       "      <td>...</td>\n",
       "      <td>43.735294</td>\n",
       "      <td>8.617647</td>\n",
       "      <td>0.596008</td>\n",
       "      <td>0.441176</td>\n",
       "      <td>33.0</td>\n",
       "      <td>23.0</td>\n",
       "      <td>0.794118</td>\n",
       "      <td>0.088235</td>\n",
       "      <td>1.0</td>\n",
       "      <td>1.0</td>\n",
       "    </tr>\n",
       "  </tbody>\n",
       "</table>\n",
       "<p>5 rows × 30 columns</p>\n",
       "</div>"
      ],
      "text/plain": [
       "                                               title  caption  categoryId  \\\n",
       "0                          \"#2Маши \"Свободные линии\"    False          10   \n",
       "1          \"ALARM\" СЕРГЕЙ ЛАЗАРЕВ ( SERGEY LAZAREV )    False          10   \n",
       "2  \"EARTH SONG\"  SERGEY LAZAREV. DEDICATED TO MIC...    False          10   \n",
       "3             \"Earth song\" премия МУЗ-тВ 2010 (LIVE)    False          10   \n",
       "4                     \"FAKE\" СЕРГЕЙ ЛАЗАРЕВ (SERGEY)    False          10   \n",
       "\n",
       "   commentCount definition                                        description  \\\n",
       "0          34.0         hd                  ITUNES - https://itun.es/ru/0YzI_   \n",
       "1           NaN         sd                         NEW OFFICIAL VIDEO\\r\\n2010   \n",
       "2          26.0         sd  Посвящается Майклу Джексону...\\r\\nCover-versio...   \n",
       "3          12.0         sd  Сергей Лазарев, La Toya Jackson,  Ани Лорак, Т...   \n",
       "4          46.0         sd                                     official video   \n",
       "\n",
       "   dislikeCount duration  license  licensedContent  ...  \\\n",
       "0          43.0  PT3M30S  youtube             True  ...   \n",
       "1         690.0  PT3M42S  youtube            False  ...   \n",
       "2          10.0  PT5M46S  youtube            False  ...   \n",
       "3           7.0  PT6M16S  youtube            False  ...   \n",
       "4          19.0     PT3M  youtube             True  ...   \n",
       "\n",
       "   comment_mean_len_symbol comment_mean_len_word comment_negative_mean_prob  \\\n",
       "0                59.440000              8.840000                   0.635410   \n",
       "1                      NaN                   NaN                        NaN   \n",
       "2               120.000000             19.291667                   0.725987   \n",
       "3                81.818182             11.545455                   0.736776   \n",
       "4                43.735294              8.617647                   0.596008   \n",
       "\n",
       "   comment_negative_share commentators_uniq comments_emoji_max  \\\n",
       "0                0.480000              24.0                9.0   \n",
       "1                     NaN               NaN                NaN   \n",
       "2                0.750000              23.0               13.0   \n",
       "3                0.727273              11.0               13.0   \n",
       "4                0.441176              33.0               23.0   \n",
       "\n",
       "  comments_emoji_mean  comments_emoji_share  comments_obscene_cnt  \\\n",
       "0            1.000000              0.320000                   0.0   \n",
       "1                 NaN                   NaN                   NaN   \n",
       "2            0.666667              0.125000                   0.0   \n",
       "3            1.181818              0.090909                   0.0   \n",
       "4            0.794118              0.088235                   1.0   \n",
       "\n",
       "   words_obscene_cnt  \n",
       "0                0.0  \n",
       "1                NaN  \n",
       "2                0.0  \n",
       "3                0.0  \n",
       "4                1.0  \n",
       "\n",
       "[5 rows x 30 columns]"
      ]
     },
     "execution_count": 2,
     "metadata": {},
     "output_type": "execute_result"
    }
   ],
   "source": [
    "data = pd.read_csv('../data/youtube_data.csv', sep = '\\t')\n",
    "data.head()"
   ]
  },
  {
   "cell_type": "code",
   "execution_count": 3,
   "metadata": {},
   "outputs": [
    {
     "name": "stdout",
     "output_type": "stream",
     "text": [
      "<class 'pandas.core.frame.DataFrame'>\n",
      "RangeIndex: 19124 entries, 0 to 19123\n",
      "Data columns (total 30 columns):\n",
      "title                         19124 non-null object\n",
      "caption                       19124 non-null bool\n",
      "categoryId                    19124 non-null int64\n",
      "commentCount                  18914 non-null float64\n",
      "definition                    19124 non-null object\n",
      "description                   18339 non-null object\n",
      "dislikeCount                  18850 non-null float64\n",
      "duration                      19124 non-null object\n",
      "license                       19124 non-null object\n",
      "licensedContent               19124 non-null bool\n",
      "likeCount                     18850 non-null float64\n",
      "music_style                   19124 non-null object\n",
      "performer                     19124 non-null object\n",
      "publicStatsViewable           19124 non-null bool\n",
      "publishedAt                   19124 non-null object\n",
      "tags                          17806 non-null object\n",
      "video_id                      19124 non-null object\n",
      "viewCount                     19123 non-null float64\n",
      "comment_max_len_symbol        12314 non-null float64\n",
      "comment_max_len_word          12314 non-null float64\n",
      "comment_mean_len_symbol       12314 non-null float64\n",
      "comment_mean_len_word         12314 non-null float64\n",
      "comment_negative_mean_prob    12314 non-null float64\n",
      "comment_negative_share        12314 non-null float64\n",
      "commentators_uniq             12314 non-null float64\n",
      "comments_emoji_max            12314 non-null float64\n",
      "comments_emoji_mean           12314 non-null float64\n",
      "comments_emoji_share          12314 non-null float64\n",
      "comments_obscene_cnt          12314 non-null float64\n",
      "words_obscene_cnt             12314 non-null float64\n",
      "dtypes: bool(3), float64(16), int64(1), object(10)\n",
      "memory usage: 4.0+ MB\n"
     ]
    }
   ],
   "source": [
    "data.info()"
   ]
  },
  {
   "cell_type": "markdown",
   "metadata": {},
   "source": [
    "Можно заметить, что некоторые данные у нас отсутствуют. Давайте посмотрим на заполненность нашей таблички на картинке. "
   ]
  },
  {
   "cell_type": "code",
   "execution_count": 6,
   "metadata": {},
   "outputs": [
    {
     "data": {
      "image/png": "[encoded data removed]",
      "text/plain": [
       "<Figure size 1440x864 with 1 Axes>"
      ]
     },
     "metadata": {
      "needs_background": "light"
     },
     "output_type": "display_data"
    }
   ],
   "source": [
    "fig, ax = plt.subplots(figsize=(20,12))\n",
    "sns_heatmap = sns.heatmap(data.sample(1000).isnull(), yticklabels=False, cbar=False, cmap='viridis')"
   ]
  },
  {
   "cell_type": "markdown",
   "metadata": {},
   "source": [
    "Что мы говорим пропускам в данных? Не сегодня. С пропусками нужно бороться. Алгоритмы оцениваются на числах и не любят пропуски (некоторые настроены к пропускам нейтрально, так как умеют их обрабатывать). \n",
    "\n",
    "Первое решение: выбросить все наблюдения с пропусками. Проблема такого подхода в том, что другие то переменные для этих наблюдений не пропущены. Значит, выбросив строчки, соответствующие пропускам, мы потеряем кучу информации. Полезной информации. Информацию и без всех наших преобразований легко потерять, сложно найти и невозможно забыть, а мы её ещё и выкинуть хотим. \n",
    "\n",
    "Обычно, если пропусков в переменной не очень много, их заполняют чем-нибудь нейтральным. Например, средними или медианами. Когда алгоритм будет натыкаться на них, он будет думать: \"Хммм, ну тут ничего особенного, всё как в среднем по выборке, пойду посмотрю другую переменную\". И тогда всё будет хорошо. "
   ]
  },
  {
   "cell_type": "markdown",
   "metadata": {},
   "source": [
    "Для удобства создаём список из непрерывных переменных. Дальше будем работать только с ними."
   ]
  },
  {
   "cell_type": "code",
   "execution_count": 7,
   "metadata": {},
   "outputs": [],
   "source": [
    "real_variables = [\"commentCount\",              # число комментов под видосом\n",
    "                  \"dislikeCount\",              # число дисолайков \n",
    "                  \"likeCount\",                 # лайки \n",
    "                  \"viewCount\",                 # просмотры \n",
    "                  \"comment_max_len_symbol\",    # максимальная длинна комента \n",
    "                  \"comment_max_len_word\",      # максимальное число слов в коменте \n",
    "                  \"comment_mean_len_symbol\",   # средняя длина комента\n",
    "                  \"comment_mean_len_word\",     # среднее число слов в коменте \n",
    "                  \"comment_negative_share\",    # средяя доля негатива в коментах \n",
    "                  \"comment_negative_mean_prob\",# ещё одна переменная, отвечающая за негатив\n",
    "                  \"commentators_uniq\",         # число уникальных коментаторов \n",
    "                  \"comments_emoji_max\",        # максимальное число эмодзи в коменте\n",
    "                  \"comments_emoji_mean\",       # среднее число эмодзи \n",
    "                  \"comments_emoji_share\",      # доля коментов с эмодзи \n",
    "                  \"comments_obscene_cnt\",      # число матерных коментов \n",
    "                  \"words_obscene_cnt\"          # число матерных слов под видосом\n",
    "                 ]"
   ]
  },
  {
   "cell_type": "markdown",
   "metadata": {},
   "source": [
    "Давайте заполним во всех непрерывных переменных пропуски средними. "
   ]
  },
  {
   "cell_type": "code",
   "execution_count": 11,
   "metadata": {},
   "outputs": [],
   "source": [
    "for column in real_variables:\n",
    "    mn = data[column].mean()\n",
    "    data[column] = data[column].fillna(mn)"
   ]
  },
  {
   "cell_type": "code",
   "execution_count": 12,
   "metadata": {},
   "outputs": [
    {
     "data": {
      "image/png": "[encoded data removed]",
      "text/plain": [
       "<Figure size 1440x864 with 1 Axes>"
      ]
     },
     "metadata": {
      "needs_background": "light"
     },
     "output_type": "display_data"
    }
   ],
   "source": [
    "fig, ax = plt.subplots(figsize=(20,12))\n",
    "sns_heatmap = sns.heatmap(data.sample(1000).isnull(), yticklabels=False, cbar=False, cmap='viridis')"
   ]
  },
  {
   "cell_type": "markdown",
   "metadata": {},
   "source": [
    "# 2. Что будем предсказывать? \n",
    "\n",
    "Предсказывать будем жанр видео. Давайте посмотрим какие у нас есть жанры в данных. "
   ]
  },
  {
   "cell_type": "code",
   "execution_count": 19,
   "metadata": {},
   "outputs": [
    {
     "data": {
      "image/png": "[encoded data removed]",
      "text/plain": [
       "<Figure size 432x288 with 1 Axes>"
      ]
     },
     "metadata": {
      "needs_background": "light"
     },
     "output_type": "display_data"
    }
   ],
   "source": [
    "data['music_style'].value_counts().plot(kind = 'bar');"
   ]
  },
  {
   "cell_type": "markdown",
   "metadata": {},
   "source": [
    "Давайте для простоты оставим в данных только два жанра. Например, рэпчик и эстраду (Киркоров и компания). Попробуем заставить машины разбираться что за видос перед ними. "
   ]
  },
  {
   "cell_type": "code",
   "execution_count": 23,
   "metadata": {},
   "outputs": [],
   "source": [
    "data = data[data['music_style'].apply(lambda w: w in {'rap', 'estrada'})]"
   ]
  },
  {
   "cell_type": "markdown",
   "metadata": {},
   "source": [
    "Разбиваем выборку на обучающую, в которой мы будем находить закономерности, и тестовую выборку, на которой мы будем проверять выявленные закономерности."
   ]
  },
  {
   "cell_type": "code",
   "execution_count": 45,
   "metadata": {},
   "outputs": [
    {
     "name": "stdout",
     "output_type": "stream",
     "text": [
      "Размер обучающей выборки: (4943, 30)\n",
      "Размер тестовой выборки: (1236, 30)\n"
     ]
    }
   ],
   "source": [
    "from sklearn.model_selection import train_test_split\n",
    "\n",
    "train, test = train_test_split(data, test_size = 0.2, random_state=201905, stratify=data['music_style'])\n",
    "\n",
    "print(\"Размер обучающей выборки:\", train.shape)\n",
    "print(\"Размер тестовой выборки:\", test.shape)"
   ]
  },
  {
   "cell_type": "markdown",
   "metadata": {},
   "source": [
    "Убедимся, что мы не нарушили пропорции жанров при делении выборки на тренировочную и тестову. __Как думаете, зачем это нужно?__ "
   ]
  },
  {
   "cell_type": "code",
   "execution_count": 46,
   "metadata": {},
   "outputs": [
    {
     "data": {
      "text/plain": [
       "estrada    0.671859\n",
       "rap        0.328141\n",
       "Name: music_style, dtype: float64"
      ]
     },
     "execution_count": 46,
     "metadata": {},
     "output_type": "execute_result"
    }
   ],
   "source": [
    "train['music_style'].value_counts()/train.shape[0]"
   ]
  },
  {
   "cell_type": "code",
   "execution_count": 47,
   "metadata": {},
   "outputs": [
    {
     "data": {
      "text/plain": [
       "estrada    0.671521\n",
       "rap        0.328479\n",
       "Name: music_style, dtype: float64"
      ]
     },
     "execution_count": 47,
     "metadata": {},
     "output_type": "execute_result"
    }
   ],
   "source": [
    "test['music_style'].value_counts()/test.shape[0]"
   ]
  },
  {
   "cell_type": "markdown",
   "metadata": {},
   "source": [
    "Вроде бы всё нормально. Сейчас в нашем датасете все жанры записаны в текстовом виде. Мы с вами постоянно повторяем, как прописную истину то, что __модели поедают только цифры.__ Давайте переработаем жанры в дамми-переменную. Будем обозначать рэпчик за $1$, попсу за $0$. "
   ]
  },
  {
   "cell_type": "code",
   "execution_count": 48,
   "metadata": {},
   "outputs": [
    {
     "data": {
      "text/plain": [
       "array([1, 1, 1, ..., 1, 0, 0])"
      ]
     },
     "execution_count": 48,
     "metadata": {},
     "output_type": "execute_result"
    }
   ],
   "source": [
    "y_train = 1*(train['music_style'] == 'rap').values\n",
    "y_train"
   ]
  },
  {
   "cell_type": "code",
   "execution_count": 49,
   "metadata": {},
   "outputs": [
    {
     "data": {
      "text/plain": [
       "array([0, 0, 0, ..., 1, 0, 0])"
      ]
     },
     "execution_count": 49,
     "metadata": {},
     "output_type": "execute_result"
    }
   ],
   "source": [
    "y_test = 1*(test['music_style'] == 'rap').values\n",
    "y_test"
   ]
  },
  {
   "cell_type": "markdown",
   "metadata": {},
   "source": [
    "# 3. Моделирование! \n",
    "\n",
    "Давайте строить прогнозные модели! "
   ]
  },
  {
   "cell_type": "markdown",
   "metadata": {},
   "source": [
    "## 3.1 k Nearest Neighbours (метод ближайших соседей) \n",
    "\n",
    "**KNN** - один из базовых и максимально наглядных алгоритмов. Среди уже известных нам объектов находятся $k$ максимально похожих на наш неизвестный объект (соседей). Неизвестному объекту проставляется тот класс, который наиболее широко представлен среди его соседей. "
   ]
  },
  {
   "cell_type": "markdown",
   "metadata": {},
   "source": [
    "Возьмем все числовые данные из нашего набора."
   ]
  },
  {
   "cell_type": "code",
   "execution_count": 51,
   "metadata": {},
   "outputs": [
    {
     "data": {
      "text/plain": [
       "array([[0.00000000e+00, 0.00000000e+00, 4.00000000e+00, ...,\n",
       "        1.01481817e-01, 8.95289914e+00, 1.12933247e+01],\n",
       "       [2.00000000e+00, 1.00000000e+00, 1.60000000e+01, ...,\n",
       "        5.00000000e-01, 0.00000000e+00, 0.00000000e+00],\n",
       "       [0.00000000e+00, 1.00000000e+00, 3.00000000e+00, ...,\n",
       "        1.01481817e-01, 8.95289914e+00, 1.12933247e+01],\n",
       "       ...,\n",
       "       [3.56000000e+02, 1.44000000e+03, 1.80500000e+03, ...,\n",
       "        3.07692308e-03, 5.50000000e+01, 6.50000000e+01],\n",
       "       [3.00000000e+00, 5.60000000e+01, 4.17000000e+02, ...,\n",
       "        0.00000000e+00, 0.00000000e+00, 0.00000000e+00],\n",
       "       [0.00000000e+00, 1.00000000e+00, 1.10000000e+01, ...,\n",
       "        1.01481817e-01, 8.95289914e+00, 1.12933247e+01]])"
      ]
     },
     "execution_count": 51,
     "metadata": {},
     "output_type": "execute_result"
    }
   ],
   "source": [
    "X_train = train[real_variables].to_numpy()\n",
    "X_test = test[real_variables].to_numpy()\n",
    "\n",
    "X_test"
   ]
  },
  {
   "cell_type": "code",
   "execution_count": 52,
   "metadata": {},
   "outputs": [
    {
     "data": {
      "text/plain": [
       "['commentCount',\n",
       " 'dislikeCount',\n",
       " 'likeCount',\n",
       " 'viewCount',\n",
       " 'comment_max_len_symbol',\n",
       " 'comment_max_len_word',\n",
       " 'comment_mean_len_symbol',\n",
       " 'comment_mean_len_word',\n",
       " 'comment_negative_share',\n",
       " 'comment_negative_mean_prob',\n",
       " 'commentators_uniq',\n",
       " 'comments_emoji_max',\n",
       " 'comments_emoji_mean',\n",
       " 'comments_emoji_share',\n",
       " 'comments_obscene_cnt',\n",
       " 'words_obscene_cnt']"
      ]
     },
     "execution_count": 52,
     "metadata": {},
     "output_type": "execute_result"
    }
   ],
   "source": [
    "real_variables"
   ]
  },
  {
   "cell_type": "markdown",
   "metadata": {},
   "source": [
    "Внутри метода ближайшего соседа мы будем измерять похожесть между объектами с помощью какого-то расстояния. На примеры таких расстояний мы смотрели на паре по математике для анализа данных. \n",
    "\n",
    "Давайте посмотрим на слудущую проблему. Пусть у нас есть два человека: Вася и Петя. Вася весит $90$ кг. Петя $60$ кг. У Васи рост $1.9$ метра. У Пети $1.7$ метра. Посчитаем расстояние между парнями: \n",
    "\n",
    "$$\n",
    "\\rho(\\text{Вася}, \\text{Петя}) = \\sqrt{(1.9 - 1.7)^2 + (90 - 60)^2} = \\sqrt{0.04 + 900}. \n",
    "$$\n",
    "\n",
    "Какой из признаков вносит больший вклад в расстояние? Рост. Просто из-за того, что он измерен в другой шкале. Это будет путать алгоритм, когда он будет искать расстояния. Чтобы избежать такой путанницы, данные нужно отскалировать. То есть привести к одной шкале. Например, с помощью `Min-max scaler` (попробуйте догадаться, что он делает) "
   ]
  },
  {
   "cell_type": "code",
   "execution_count": 62,
   "metadata": {},
   "outputs": [],
   "source": [
    "from sklearn.preprocessing import MinMaxScaler  # класс для скалирования! \n",
    "\n",
    "# Он сам будет считать максимумы, минимумы и делить! \n",
    "\n",
    "# Объеявили скалировшик \n",
    "scaler = MinMaxScaler( )\n",
    "\n",
    "# Обучили его на тренировочной выборке (он само посчитал все максимумы, минимумы, поделил)\n",
    "scaler.fit(X_train) \n",
    "\n",
    "# Теперь применяем его к нашим данным \n",
    "X_train_norm = scaler.transform(X_train) \n",
    "X_test_norm = scaler.transform(X_test)"
   ]
  },
  {
   "cell_type": "code",
   "execution_count": 65,
   "metadata": {},
   "outputs": [
    {
     "data": {
      "text/plain": [
       "272047706.0"
      ]
     },
     "execution_count": 65,
     "metadata": {},
     "output_type": "execute_result"
    }
   ],
   "source": [
    "X_train.max()"
   ]
  },
  {
   "cell_type": "code",
   "execution_count": 64,
   "metadata": {},
   "outputs": [
    {
     "data": {
      "text/plain": [
       "1.0"
      ]
     },
     "execution_count": 64,
     "metadata": {},
     "output_type": "execute_result"
    }
   ],
   "source": [
    "X_train_norm.max()"
   ]
  },
  {
   "cell_type": "code",
   "execution_count": 66,
   "metadata": {},
   "outputs": [
    {
     "data": {
      "text/plain": [
       "1.1590909090909092"
      ]
     },
     "execution_count": 66,
     "metadata": {},
     "output_type": "execute_result"
    }
   ],
   "source": [
    "X_test_norm.max()"
   ]
  },
  {
   "cell_type": "markdown",
   "metadata": {},
   "source": [
    "Наконец-то мы можем начать учить модели. Подгружаем метод ближайших соседей из пакета. \n",
    "\n",
    "У модельки нас интересуют два метода: \n",
    "* `fit`- обучить модельку\n",
    "* `predict`- применить модельку (получить предсказание)"
   ]
  },
  {
   "cell_type": "code",
   "execution_count": 67,
   "metadata": {},
   "outputs": [],
   "source": [
    "from sklearn.neighbors import KNeighborsClassifier\n",
    "\n",
    "# объявляем метод 9 ближайших соседей\n",
    "knn = KNeighborsClassifier(n_neighbors = 9)\n",
    "\n",
    "# обучаем его по выборке \n",
    "knn.fit(X_train_norm, y_train)\n",
    "\n",
    "# строим для тестовой выборки прогнозы \n",
    "y_pred = knn.predict(X_test_norm)\n",
    "\n",
    "p_pred = knn.predict_proba(X_test_norm)"
   ]
  },
  {
   "cell_type": "markdown",
   "metadata": {},
   "source": [
    "Взглянем на прогнозы. "
   ]
  },
  {
   "cell_type": "code",
   "execution_count": 68,
   "metadata": {},
   "outputs": [
    {
     "data": {
      "text/plain": [
       "array([0, 0, 0, ..., 1, 0, 0])"
      ]
     },
     "execution_count": 68,
     "metadata": {},
     "output_type": "execute_result"
    }
   ],
   "source": [
    "y_pred"
   ]
  },
  {
   "cell_type": "code",
   "execution_count": 69,
   "metadata": {},
   "outputs": [
    {
     "data": {
      "text/plain": [
       "array([[1.        , 0.        ],\n",
       "       [1.        , 0.        ],\n",
       "       [1.        , 0.        ],\n",
       "       ...,\n",
       "       [0.        , 1.        ],\n",
       "       [0.88888889, 0.11111111],\n",
       "       [1.        , 0.        ]])"
      ]
     },
     "execution_count": 69,
     "metadata": {},
     "output_type": "execute_result"
    }
   ],
   "source": [
    "p_pred"
   ]
  },
  {
   "cell_type": "code",
   "execution_count": 70,
   "metadata": {},
   "outputs": [],
   "source": [
    "p_pred = p_pred[:,1]"
   ]
  },
  {
   "cell_type": "markdown",
   "metadata": {},
   "source": [
    "Интересно было бы узнать насколько качественной у нас получилась модель. Давайте посмотрим на какую-нибудь метрику качества, например на `accuracy`.  __Как думаете, это хорошая идея?__ "
   ]
  },
  {
   "cell_type": "code",
   "execution_count": 71,
   "metadata": {},
   "outputs": [
    {
     "data": {
      "text/plain": [
       "0.8446601941747572"
      ]
     },
     "execution_count": 71,
     "metadata": {},
     "output_type": "execute_result"
    }
   ],
   "source": [
    "from sklearn.metrics import accuracy_score\n",
    "\n",
    "# считаем долю верно построенных прогнозов \n",
    "accuracy_score(y_test, y_pred)"
   ]
  },
  {
   "cell_type": "markdown",
   "metadata": {},
   "source": [
    "Давайте попробуем посчитать ещё и другую метрику. Например, площадь под roc-кривой. "
   ]
  },
  {
   "cell_type": "code",
   "execution_count": 72,
   "metadata": {},
   "outputs": [
    {
     "data": {
      "text/plain": [
       "0.8979909786930975"
      ]
     },
     "execution_count": 72,
     "metadata": {},
     "output_type": "execute_result"
    }
   ],
   "source": [
    "from sklearn.metrics import roc_auc_score\n",
    "\n",
    "# считаем долю верно построенных прогнозов \n",
    "roc_auc_score(y_test, p_pred)"
   ]
  },
  {
   "cell_type": "markdown",
   "metadata": {},
   "source": [
    "Окей. Хотим улучшить качество. Возможно нам стоит попробовать по разному учитывать соседей: более близкие соседи должны давать больший вклад, чем удаленные. Для этого у метода есть опция `distance`. "
   ]
  },
  {
   "cell_type": "code",
   "execution_count": 10,
   "metadata": {},
   "outputs": [
    {
     "data": {
      "text/plain": [
       "'\\n<YOUR CODE HERE!>\\n'"
      ]
     },
     "execution_count": 10,
     "metadata": {},
     "output_type": "execute_result"
    }
   ],
   "source": [
    "# снова объявили метод ближайших соседей\n",
    "knn = KNeighborsClassifier(n_neighbors = 9, weights='distance')\n",
    "\n",
    "# обучили его \n",
    "'''\n",
    "<YOUR CODE HERE!>\n",
    "'''\n",
    "\n",
    "# построили прогноз \n",
    "'''\n",
    "<YOUR CODE HERE!>\n",
    "'''\n",
    "\n",
    "# посчитали долю верных ответов\n",
    "'''\n",
    "<YOUR CODE HERE!>\n",
    "'''"
   ]
  },
  {
   "cell_type": "markdown",
   "metadata": {},
   "source": [
    "Чуточку лучше. Для того, чтобы построить хорошую модель иногда нужно перебрать довольно много разных параметров модели. Давайте попробуем немного поперибирать. "
   ]
  },
  {
   "cell_type": "code",
   "execution_count": 22,
   "metadata": {},
   "outputs": [
    {
     "data": {
      "text/plain": [
       "GridSearchCV(cv=3, error_score='raise-deprecating',\n",
       "       estimator=KNeighborsClassifier(algorithm='auto', leaf_size=30, metric='minkowski',\n",
       "           metric_params=None, n_jobs=None, n_neighbors=5, p=2,\n",
       "           weights='uniform'),\n",
       "       fit_params=None, iid='warn', n_jobs=None,\n",
       "       param_grid={'n_neighbors': range(5, 16), 'weights': ['uniform', 'distance']},\n",
       "       pre_dispatch='2*n_jobs', refit=True, return_train_score='warn',\n",
       "       scoring='roc_auc', verbose=0)"
      ]
     },
     "execution_count": 22,
     "metadata": {},
     "output_type": "execute_result"
    }
   ],
   "source": [
    "# Решётка для перебора \n",
    "from sklearn.model_selection import GridSearchCV\n",
    "\n",
    "# параметры, которые мы будем перебирать \n",
    "parameters = {\n",
    "     'n_neighbors':range(5, 16),         # число соседей от 5 до 15\n",
    "     'weights':['uniform', 'distance']   # надо ли более близких соседей учитывать с большим весом\n",
    "             }\n",
    "\n",
    "# объявили модель\n",
    "knn_clf = KNeighborsClassifier()\n",
    "\n",
    "# завернули её в решётку для поиска параметров\n",
    "grid_knn = GridSearchCV(knn_clf, parameters, cv=3, scoring=\"roc_auc\")\n",
    "\n",
    "# Обратите внимание на аргументы решчетого поиска: \n",
    "#       1. Сначала модель\n",
    "#       2. Какие параметры перебирать \n",
    "#       3. Число фолдов для кросс-валидации (подробнее с ней вы поработаете в домашке)\n",
    "#       4. Метрика, по которой нужно считать качество модели (можно указать accuracy и любую другую)\n",
    "\n",
    "# обучаем нашу решётку (если мы хотим перебрать много параметров, обучение будет идти долго) \n",
    "'''\n",
    "<YOUR CODE HERE!>\n",
    "'''"
   ]
  },
  {
   "cell_type": "code",
   "execution_count": 23,
   "metadata": {},
   "outputs": [
    {
     "name": "stdout",
     "output_type": "stream",
     "text": [
      "KNeighborsClassifier(algorithm='auto', leaf_size=30, metric='minkowski',\n",
      "           metric_params=None, n_jobs=None, n_neighbors=15, p=2,\n",
      "           weights='distance')\n",
      "0.9091696333257173\n"
     ]
    }
   ],
   "source": [
    "# смотрим какие параметры дали наибольшее качество\n",
    "print(grid_knn.best_estimator_)\n",
    "\n",
    "# а также смотрим на качество этого классификатора\n",
    "print(grid_knn.best_score_)"
   ]
  },
  {
   "cell_type": "markdown",
   "metadata": {},
   "source": [
    "А вот такое улучшение качества уже повесомее, $15$ соседей и алгоритм, учитывающий разные расстояния. \n",
    "\n",
    "__Задание (если в конце пары будет время):__  Попробуйте улучшить качество модели ещё сильнее."
   ]
  },
  {
   "cell_type": "code",
   "execution_count": 11,
   "metadata": {},
   "outputs": [
    {
     "data": {
      "text/plain": [
       "'\\n<YOUR CODE HERE!>\\n'"
      ]
     },
     "execution_count": 11,
     "metadata": {},
     "output_type": "execute_result"
    }
   ],
   "source": [
    "'''\n",
    "<YOUR CODE HERE!>\n",
    "'''"
   ]
  },
  {
   "cell_type": "markdown",
   "metadata": {},
   "source": [
    "## 3.2 Решающие деревья \n",
    "\n",
    "<img src = \"http://res.cloudinary.com/dyd911kmh/image/upload/f_auto,q_auto:best/v1528907338/classification-tree_ygvats.png\">\n",
    "\n",
    "В листьях дерево - конечные принимаемые решения, в разветвлениях функции от отдельного признака. Давайте посмотрим как обучить дерево в питоне. "
   ]
  },
  {
   "cell_type": "code",
   "execution_count": 25,
   "metadata": {},
   "outputs": [
    {
     "name": "stdout",
     "output_type": "stream",
     "text": [
      "accuracy: 0.8656957928802589\n",
      "roc_auc: 0.8457972582972584\n"
     ]
    }
   ],
   "source": [
    "# Подшружаем дерево \n",
    "from sklearn.tree import DecisionTreeClassifier\n",
    "\n",
    "# Объявляем дерево \n",
    "tree = DecisionTreeClassifier( )\n",
    "\n",
    "# учим дерево \n",
    "'''\n",
    "<YOUR CODE HERE!>\n",
    "'''\n",
    "\n",
    "# предсказываем на тестовой выборке результаты \n",
    "'''\n",
    "<YOUR CODE HERE!>\n",
    "'''\n",
    "\n",
    "# посчитали долю верных ответов\n",
    "'''\n",
    "<YOUR CODE HERE!>\n",
    "'''"
   ]
  },
  {
   "cell_type": "markdown",
   "metadata": {},
   "source": [
    "Дерево хорошо своей простотой, но по факту, чем выше наше дерево, тем более оно склонно к переобучению.\n",
    "Как быть? Построить много невысоких деревьев. Много деревьев - это лес, алгоритм, принимающий решение на основе множества деревьев, так и называется.\n"
   ]
  },
  {
   "cell_type": "code",
   "execution_count": 26,
   "metadata": {},
   "outputs": [
    {
     "name": "stdout",
     "output_type": "stream",
     "text": [
      "accuracy: 0.912621359223301\n",
      "roc_auc: 0.8896645021645021\n"
     ]
    }
   ],
   "source": [
    "# Подшружаем случайный лес\n",
    "from sklearn.ensemble import RandomForestClassifier\n",
    "\n",
    "# объявляем его, будем учить 1000 деревьев\n",
    "forest = RandomForestClassifier(n_estimators=1000)\n",
    "\n",
    "# учим лес \n",
    "'''\n",
    "<YOUR CODE HERE!>\n",
    "'''\n",
    "\n",
    "# предсказываем на тестовой выборке результаты \n",
    "'''\n",
    "<YOUR CODE HERE!>\n",
    "'''\n",
    "\n",
    "# посчитали долю верных ответов\n",
    "'''\n",
    "<YOUR CODE HERE!>\n",
    "'''"
   ]
  },
  {
   "cell_type": "markdown",
   "metadata": {},
   "source": [
    "Качество получше, чем у отдельного дерева. Близкое к методу ближайших соседей. "
   ]
  },
  {
   "cell_type": "markdown",
   "metadata": {},
   "source": [
    "# 4. Метрики классификации \n",
    "\n",
    "Только что мы построили два алгоритма и построили для них разные метрики. Давайте попробуем посравнивать их между собой с помощью оставшихся метрик классификации. \n",
    "\n",
    "Разные метрики качества мы с вами разобрали ранее. Если вы не поняли их, можно [глянуть лекцию Жени Соколова.](https://www.coursera.org/learn/vvedenie-mashinnoe-obuchenie/lecture/IVuAc/mietriki-kachiestva-klassifikatsii-1)  Расскажите потом понятной она вам показалась или непонятной, если будете смотреть.\n",
    "\n",
    "Вкратце напомню о чём шла речь. Предсказывая отток, мы можем совершить ошибки двух видов: \n",
    "\n",
    "* Ошибка первого рода: мы предсказали человеку, что он уйдёт, а он остался.\n",
    "* Ошибка второго рода: мы предсказали, что человек останется, а он ушёл.\n",
    "\n",
    "В разных задачах критичны разные виды ошибок. На основе этих ошибок можно придумать много метрик. Мы с вами построили вот такую табличку  \n",
    "\n",
    "![](http://blog.exsilio.com/wp-content/uploads/2016/09/table-blog.png)\n",
    "\n",
    "и обсудили слудущие метрики качества: \n",
    "\n",
    "* Доля верно классифицированных объектов:\n",
    "\n",
    "$$Accuracy = \\frac{TP + TN}{TP + FP + TN + FN}$$\n",
    "\n",
    "Интуитивно понятная, очевидная и почти неиспользуемая метрика. Её главная проблема в том, что она бесполезна в задачах с неравными классами. Например, пусть у нас есть $50$ больных и $950$ здоровых. Мы хотим научиться их различать. Пусть наш алгоритм предсказывает, что все здоровы. В этом случае доля правильных ответов составит $95\\%$, но алгорим окажется абсолютно бесполезным. \n",
    "\n",
    "Чтобы избежать таких эксцессов, а также учитывать, что разные типы ошибок могут иметь разную цену, строят другие две метрики: точность и полноту. \n",
    "\n",
    "* Точность (precision): \n",
    "\n",
    "$$P = \\frac{TP}{TP + FP}$$\n",
    "\n",
    "Отражает то, насколько мы можем доверять алгоритму, если он спрогнозировал единичку. \n",
    "\n",
    "* Полнота (Recall): \n",
    "\n",
    "$$R = \\frac{TP}{TP + FN}$$\n",
    "\n",
    "Показывает, как много объектов первого класса наш алгоритм находит.\n",
    "\n",
    "Введение `Precision` не позволяет нам записывать все объекты в один класс, так как в этом случае мы получаем рост уровня `False Positive`. `Recall` демонстрирует способность алгоритма обнаруживать данный класс вообще, а `Precision` — способность отличать этот класс от других классов.\n",
    "\n",
    "Более высокая точность влечёт более низкую полноту. Баланс между этими характеристиками выбирается в зависимости от задачи. В случае поиска больных, на бы хотелось получить максимальную полноту. Нестрашно, если здоровый сдаст анализы, страшно если мы пропустим больного. В задаче выдаче кредитов, наоборот, важнее точность.\n",
    "\n",
    "Можно склеить эти две метрики, посчитав их среднее гармонческое и получить f-меру: \n",
    "\n",
    "* F-measure: \n",
    "\n",
    "$$F = \\frac{\\beta \\cdot precision \\cdot recall}{precision + recall}$$\n",
    "\n",
    "Параметр $\\beta$ в данном случае определяет вес точности в метрике. $\\beta = 1$ вносит точность и полноту с одинаковыми весами. Изменяя его, можно отдавать предпочтения либо одному либо другому. \n",
    "\n",
    "Все эти метрики уже есть в пакете sklearn. По уму надо бы реализовать их самостоятельно, чтобы лучше понять, но у нас на это нет особо времени, поэтому это домашнее задание :) \n",
    "\n",
    "Итак, посмотрим на наши чудо-метрики! Для начала подгрузим их. "
   ]
  },
  {
   "cell_type": "code",
   "execution_count": 27,
   "metadata": {},
   "outputs": [],
   "source": [
    "from sklearn.metrics import confusion_matrix, classification_report, precision_recall_curve\n",
    "from sklearn.metrics import roc_auc_score, roc_curve, auc"
   ]
  },
  {
   "cell_type": "markdown",
   "metadata": {},
   "source": [
    "__Внимание!__ В ячейке ниже будет несколько страшных функций для красивых картинок. Вы не обязаны разбираться в том, как они устроены. Но вот понимать что эти картинки обозначают и как метрики классификации работают, вы обязаны. "
   ]
  },
  {
   "cell_type": "code",
   "execution_count": 28,
   "metadata": {},
   "outputs": [],
   "source": [
    "import itertools\n",
    "\n",
    "# Функция для отрисовки roc-auc кривой    \n",
    "def roc_auc_pic(y_hat_test, y_test):    \n",
    "    fpr_test, tpr_test, thresholds_test = roc_curve(y_test, y_hat_test)\n",
    "    roc_auc_test = roc_auc_score(y_test, y_hat_test)\n",
    "\n",
    "    matplotlib.rcParams['figure.figsize'] = (8, 8)\n",
    "    plt.plot(fpr_test, tpr_test, label='Test ROC AUC {0}'.format(roc_auc_test))\n",
    "    plt.plot([0, 1], [0, 1], '--', color=(0.6, 0.6, 0.6))\n",
    "    plt.xlim([0, 1])\n",
    "    plt.ylim([0, 1])\n",
    "    plt.xlabel('False Positive Rate')\n",
    "    plt.ylabel('True Positive Rate')\n",
    "    plt.legend(loc='lower right')\n",
    "    plt.show() \n",
    "    pass\n",
    "\n",
    "\n",
    "# Картинки для PR-кривой, а-меры и прочих ништяков\n",
    "def plot_precision_recall_curve(y_pred_proba, y_test):\n",
    "    plt.figure(figsize=(10, 10))\n",
    "    f_scores = np.linspace(0.4, 0.9, num=6)\n",
    "    lines = []\n",
    "    labels = []\n",
    "    for f_score in f_scores:\n",
    "        x = np.linspace(0.01, 1)\n",
    "        y = f_score * x / (2 * x - f_score)\n",
    "        l, = plt.plot(x[y >= 0], y[y >= 0], color='gray', alpha=0.2)\n",
    "        plt.annotate('f1={0:0.2f}'.format(f_score), xy=(0.9, y[45] + 0.02))\n",
    "    precision, recall, _ =  precision_recall_curve(y_test, y_pred_proba)\n",
    "\n",
    "    plt.step(recall, precision, color='b', alpha=0.2, where='post')\n",
    "    plt.fill_between(recall, precision, step='post', alpha=0.2,\n",
    "                     color='b')\n",
    "    plt.xlabel('Recall', size=15)\n",
    "    plt.ylabel('Precision', size=15)\n",
    "    plt.title('Precision-Recall curve', size=18)\n",
    "    plt.xlim([0.0, 1.0])\n",
    "    plt.ylim([0.0, 1.05])\n",
    "    plt.show()"
   ]
  },
  {
   "cell_type": "markdown",
   "metadata": {},
   "source": [
    "__Внимание!__ Страшный кодище для картинок закончился. Начиная с этой строки, нужно снова начать понимать. У нас есть три функции: \n",
    "\n",
    "* `plot_confusion_matrix` строит матрицу ошибок\n",
    "* `roc_auc_pic` строит рок-кривую\n",
    "* `plot_precision_recall_curve` строит кривую точнось-полнота\n",
    "\n",
    "Начнём с моделей. Будем смотреть на две: случайный лес и ближайшие соседи. \n",
    "\n",
    "Здесь вместо `predict` мы будем использовать метод `predict_proba`, этот метод выдает вероятности принадлежности к каждому классу"
   ]
  },
  {
   "cell_type": "code",
   "execution_count": 29,
   "metadata": {},
   "outputs": [],
   "source": [
    "# Начнёмс с того, что построим прогнозы \n",
    "'''\n",
    "<YOUR CODE HERE!>\n",
    "'''"
   ]
  },
  {
   "cell_type": "markdown",
   "metadata": {},
   "source": [
    "Для каждой построим картинки и сравним их между собой. Начнём с roc-кривых. "
   ]
  },
  {
   "cell_type": "code",
   "execution_count": 30,
   "metadata": {},
   "outputs": [
    {
     "data": {
      "image/png": "[encoded data removed]",
      "text/plain": [
       "<Figure size 576x576 with 1 Axes>"
      ]
     },
     "metadata": {
      "needs_background": "light"
     },
     "output_type": "display_data"
    }
   ],
   "source": [
    "# Для леса\n",
    "roc_auc_pic(y_predict_forest, y_test)"
   ]
  },
  {
   "cell_type": "code",
   "execution_count": 31,
   "metadata": {},
   "outputs": [
    {
     "data": {
      "image/png": "[encoded data removed]",
      "text/plain": [
       "<Figure size 576x576 with 1 Axes>"
      ]
     },
     "metadata": {
      "needs_background": "light"
     },
     "output_type": "display_data"
    }
   ],
   "source": [
    "# Для knn\n",
    "roc_auc_pic(y_predict_knn, y_test)"
   ]
  },
  {
   "cell_type": "markdown",
   "metadata": {},
   "source": [
    "__Какая из моделей показывает более высокое качество по метрике roc_auc?__ \n",
    "\n",
    "Теперь сравним модели по площади под precision-recall кривой."
   ]
  },
  {
   "cell_type": "code",
   "execution_count": 32,
   "metadata": {},
   "outputs": [
    {
     "data": {
      "image/png": "[encoded data removed]",
      "text/plain": [
       "<Figure size 720x720 with 1 Axes>"
      ]
     },
     "metadata": {
      "needs_background": "light"
     },
     "output_type": "display_data"
    }
   ],
   "source": [
    "plot_precision_recall_curve(y_predict_forest, y_test)"
   ]
  },
  {
   "cell_type": "code",
   "execution_count": 33,
   "metadata": {},
   "outputs": [
    {
     "data": {
      "image/png": "[encoded data removed]",
      "text/plain": [
       "<Figure size 720x720 with 1 Axes>"
      ]
     },
     "metadata": {
      "needs_background": "light"
     },
     "output_type": "display_data"
    }
   ],
   "source": [
    "plot_precision_recall_curve(y_predict_knn, y_test)"
   ]
  },
  {
   "cell_type": "markdown",
   "metadata": {},
   "source": [
    "# 5. Feature Engineering (если есть время) \n",
    "\n",
    "В реальной жизни очевидных признаков всегда не хватает. Тогда приходится самостоятельно придумывать и извлекать новые признаки из сырых данных. Попробуем что-то придумать."
   ]
  },
  {
   "cell_type": "markdown",
   "metadata": {},
   "source": [
    "Первое, на что можно обратить внимание - это столбец `categoryId`. В нём находится числовой идентификатор категории. Попробуем для начала преобразовать его используя OHE"
   ]
  },
  {
   "cell_type": "code",
   "execution_count": 34,
   "metadata": {},
   "outputs": [
    {
     "name": "stderr",
     "output_type": "stream",
     "text": [
      "/usr/local/lib/python3.7/site-packages/sklearn/preprocessing/_encoders.py:371: FutureWarning: The handling of integer data will change in version 0.22. Currently, the categories are determined based on the range [0, max(values)], while in the future they will be determined based on the unique values.\n",
      "If you want the future behaviour and silence this warning, you can specify \"categories='auto'\".\n",
      "In case you used a LabelEncoder before this OneHotEncoder to convert the categories to integers, then you can now use the OneHotEncoder directly.\n",
      "  warnings.warn(msg, FutureWarning)\n"
     ]
    }
   ],
   "source": [
    "from sklearn.preprocessing import OneHotEncoder\n",
    "\n",
    "catEncoder = OneHotEncoder()\n",
    "catEncoder.fit(train.categoryId.values.reshape((len(train), 1)))\n",
    "cat_train = catEncoder.transform(train.categoryId.values.reshape((len(train), 1))).toarray()\n",
    "cat_test = catEncoder.transform(test.categoryId.values.reshape((len(test), 1))).toarray()"
   ]
  },
  {
   "cell_type": "markdown",
   "metadata": {},
   "source": [
    "Кроме того, мы можем использовать наиболее часто употребляемые теги:"
   ]
  },
  {
   "cell_type": "code",
   "execution_count": 35,
   "metadata": {},
   "outputs": [
    {
     "name": "stderr",
     "output_type": "stream",
     "text": [
      "/Users/maratakhm/Library/Python/3.7/lib/python/site-packages/pandas/core/generic.py:5096: SettingWithCopyWarning: \n",
      "A value is trying to be set on a copy of a slice from a DataFrame.\n",
      "Try using .loc[row_indexer,col_indexer] = value instead\n",
      "\n",
      "See the caveats in the documentation: http://pandas.pydata.org/pandas-docs/stable/indexing.html#indexing-view-versus-copy\n",
      "  self[name] = value\n"
     ]
    }
   ],
   "source": [
    "from ast import literal_eval\n",
    "\n",
    "#для начала уберем пустые значения\n",
    "train.tags = train.tags.apply(lambda tags: [] if pd.isnull(tags) else literal_eval(tags))\n",
    "test.tags = test.tags.apply(lambda tags: [] if pd.isnull(tags) else literal_eval(tags))"
   ]
  },
  {
   "cell_type": "code",
   "execution_count": 36,
   "metadata": {},
   "outputs": [],
   "source": [
    "from collections import defaultdict\n",
    "import operator\n",
    "\n",
    "tags_frequency = defaultdict(int)\n",
    "for tags in train.tags:\n",
    "    for tag in tags:\n",
    "        tags_frequency[tag.lower()] += 1\n",
    "tags_frequency = sorted(tags_frequency.items(), key=operator.itemgetter(1),reverse=True)"
   ]
  },
  {
   "cell_type": "markdown",
   "metadata": {},
   "source": [
    "Возьмём 50 наиболее популярных тэгов и бинаризуем их. "
   ]
  },
  {
   "cell_type": "code",
   "execution_count": 37,
   "metadata": {},
   "outputs": [],
   "source": [
    "'''\n",
    "<YOUR CODE HERE!>\n",
    "'''"
   ]
  },
  {
   "cell_type": "code",
   "execution_count": 38,
   "metadata": {},
   "outputs": [],
   "source": [
    "def tagsToFeatures(tags):\n",
    "    features = np.zeros(51)\n",
    "    for tag in tags:\n",
    "        index = tag_index.get(tag.lower(), -1)\n",
    "        features[index] = 1\n",
    "    return features[:50] "
   ]
  },
  {
   "cell_type": "code",
   "execution_count": 39,
   "metadata": {},
   "outputs": [],
   "source": [
    "'''\n",
    "<YOUR CODE HERE!>\n",
    "'''"
   ]
  },
  {
   "cell_type": "markdown",
   "metadata": {},
   "source": [
    "Теперь обучим новый лес"
   ]
  },
  {
   "cell_type": "code",
   "execution_count": 40,
   "metadata": {},
   "outputs": [],
   "source": [
    "'''\n",
    "<YOUR CODE HERE!>\n",
    "'''"
   ]
  },
  {
   "cell_type": "markdown",
   "metadata": {},
   "source": [
    "Попробуйте перебрать параметры и добиться более высокой точности для леса"
   ]
  },
  {
   "cell_type": "markdown",
   "metadata": {},
   "source": [
    "# Что мы сделали? \n",
    "\n",
    "1. Посмотрели на данные, поняли что хотим прогнозировать \n",
    "2. Посмотрели есть ли в данных пропуски, обработали их (выбросили либо заполнили)\n",
    "3. Проскалировали переменные \n",
    "4. Подготовили переменную для прогнозирования, посмотрели есть ли с ней проблемы \n",
    "5. Начали строить модели, смотрим насколько они хороши по метрикам \n",
    "6. Подбираем гиперпараметры для моделей и пытаемся улучшить их"
   ]
  }
 ],
 "metadata": {
  "kernelspec": {
   "display_name": "Python 3",
   "language": "python",
   "name": "python3"
  },
  "language_info": {
   "codemirror_mode": {
    "name": "ipython",
    "version": 3
   },
   "file_extension": ".py",
   "mimetype": "text/x-python",
   "name": "python",
   "nbconvert_exporter": "python",
   "pygments_lexer": "ipython3",
   "version": "3.7.2"
  }
 },
 "nbformat": 4,
 "nbformat_minor": 2
}

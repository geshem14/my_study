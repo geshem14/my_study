{
 "cells": [
  {
   "cell_type": "markdown",
   "metadata": {},
   "source": [
    "# PYTHON-B9. Работа с HTML страницами и API\n",
    "## Юнит 6. Основные алгоритмы машинного обучения. Часть II \n",
    "### Skillfactory: DST-10\n",
    "---\n",
    "### 9.1 Web-запросы\n",
    "---\n",
    "### 9.2 Библиотека requests\n",
    "---"
   ]
  },
  {
   "cell_type": "code",
   "execution_count": 1,
   "metadata": {
    "tags": []
   },
   "outputs": [
    {
     "output_type": "stream",
     "name": "stdout",
     "text": "<Response [200]>\n"
    }
   ],
   "source": [
    "import requests\n",
    "response = requests.get('https://www.cbr-xml-daily.ru/daily_json.js')\n",
    "print(response)"
   ]
  },
  {
   "cell_type": "code",
   "execution_count": 3,
   "metadata": {
    "tags": []
   },
   "outputs": [
    {
     "output_type": "stream",
     "name": "stdout",
     "text": "200\n"
    }
   ],
   "source": [
    "print(response.status_code)"
   ]
  },
  {
   "cell_type": "markdown",
   "metadata": {},
   "source": [
    "### Задание 1 (9.2.1) - Первый запрос\n",
    "Допустим, вы уже импортировали модуль requests в ваш код.   \n",
    "Какая команда сделает GET запрос к сайту https://www.cbr-xml-daily.ru/daily.xml и положит результат в переменную response?\n",
    "\n",
    "***Ответ:***\n",
    "```python\n",
    "response = requests.get('https://www.cbr-xml-daily.ru/daily.xml')\n",
    "```"
   ]
  },
  {
   "cell_type": "code",
   "execution_count": 11,
   "metadata": {
    "tags": []
   },
   "outputs": [
    {
     "output_type": "stream",
     "name": "stdout",
     "text": "200\n"
    }
   ],
   "source": [
    "# проверка кода для задания 1\n",
    "response = requests.get('https://www.cbr-xml-daily.ru/daily.xml')\n",
    "print(response.status_code)"
   ]
  },
  {
   "cell_type": "markdown",
   "metadata": {},
   "source": [
    "### 9.3 Читаем результат\n",
    "---"
   ]
  },
  {
   "cell_type": "code",
   "execution_count": 12,
   "metadata": {
    "tags": []
   },
   "outputs": [
    {
     "output_type": "stream",
     "name": "stdout",
     "text": "{\n    \"Date\": \"2020-08-26T11:30:00+03:00\",\n    \"PreviousDate\": \"2020-08-25T11:30:00+03:00\",\n    \"PreviousURL\": \"\\/\\/www.cbr-xml-daily.ru\\/archive\\/2020\\/08\\/25\\/daily_json.js\",\n    \"Timestamp\": \"2020-08-25T23:00:00+03:00\",\n    \"Valute\": {\n        \"AUD\": {\n            \"ID\": \"R01010\",\n            \"NumCode\": \"036\",\n            \"CharCode\": \"AUD\",\n            \"Nominal\": 1,\n            \"Name\": \"Австралийский доллар\",\n            \"Value\": 53.3585,\n            \"Previous\": 53.4473\n        },\n        \"AZN\": {\n            \"ID\": \"R01020A\",\n            \"NumCode\": \"944\",\n            \"CharCode\": \"AZN\",\n            \"Nominal\": 1,\n            \"Name\": \"Азербайджанский манат\",\n            \"Value\": 43.8567,\n            \"Previous\": 43.8013\n        },\n        \"GBP\": {\n            \"ID\": \"R01035\",\n            \"NumCode\": \"826\",\n            \"CharCode\": \"GBP\",\n            \"Nominal\": 1,\n            \"Name\": \"Фунт стерлингов Соединенного королевства\",\n            \"Value\": 97.5146,\n            \"Previous\": 97.3765\n        },\n        \"AMD\": {\n            \"ID\": \"R01060\",\n            \"NumCode\": \"051\",\n            \"CharCode\": \"AMD\",\n            \"Nominal\": 100,\n            \"Name\": \"Армянских драмов\",\n            \"Value\": 15.3255,\n            \"Previous\": 15.3124\n        },\n        \"BYN\": {\n            \"ID\": \"R01090B\",\n            \"NumCode\": \"933\",\n            \"CharCode\": \"BYN\",\n            \"Nominal\": 1,\n            \"Name\": \"Белорусский рубль\",\n            \"Value\": 28.5806,\n            \"Previous\": 29.0583\n        },\n        \"BGN\": {\n            \"ID\": \"R01100\",\n            \"NumCode\": \"975\",\n            \"CharCode\": \"BGN\",\n            \"Nominal\": 1,\n            \"Name\": \"Болгарский лев\",\n            \"Value\": 45.0309,\n            \"Previous\": 44.9549\n        },\n        \"BRL\": {\n            \"ID\": \"R01115\",\n            \"NumCode\": \"986\",\n            \"CharCode\": \"BRL\",\n            \"Nominal\": 1,\n            \"Name\": \"Бразильский реал\",\n            \"Value\": 13.2793,\n            \"Previous\": 13.2427\n        },\n        \"HUF\": {\n            \"ID\": \"R01135\",\n            \"NumCode\": \"348\",\n            \"CharCode\": \"HUF\",\n            \"Nominal\": 100,\n            \"Name\": \"Венгерских форинтов\",\n            \"Value\": 24.9373,\n            \"Previous\": 25.0276\n        },\n        \"HKD\": {\n            \"ID\": \"R01200\",\n            \"NumCode\": \"344\",\n            \"CharCode\": \"HKD\",\n            \"Nominal\": 10,\n            \"Name\": \"Гонконгских долларов\",\n            \"Value\": 96.1403,\n            \"Previous\": 96.0188\n        },\n        \"DKK\": {\n            \"ID\": \"R01215\",\n            \"NumCode\": \"208\",\n            \"CharCode\": \"DKK\",\n            \"Nominal\": 1,\n            \"Name\": \"Датская крона\",\n            \"Value\": 11.8347,\n            \"Previous\": 11.81\n        },\n        \"USD\": {\n            \"ID\": \"R01235\",\n            \"NumCode\": \"840\",\n            \"CharCode\": \"USD\",\n            \"Nominal\": 1,\n            \"Name\": \"Доллар США\",\n            \"Value\": 74.5126,\n            \"Previous\": 74.4184\n        },\n        \"EUR\": {\n            \"ID\": \"R01239\",\n            \"NumCode\": \"978\",\n            \"CharCode\": \"EUR\",\n            \"Nominal\": 1,\n            \"Name\": \"Евро\",\n            \"Value\": 88.059,\n            \"Previous\": 87.903\n        },\n        \"INR\": {\n            \"ID\": \"R01270\",\n            \"NumCode\": \"356\",\n            \"CharCode\": \"INR\",\n            \"Nominal\": 10,\n            \"Name\": \"Индийских рупий\",\n            \"Value\": 10.0256,\n            \"Previous\": 10.0126\n        },\n        \"KZT\": {\n            \"ID\": \"R01335\",\n            \"NumCode\": \"398\",\n            \"CharCode\": \"KZT\",\n            \"Nominal\": 100,\n            \"Name\": \"Казахстанских тенге\",\n            \"Value\": 17.7779,\n            \"Previous\": 17.7174\n        },\n        \"CAD\": {\n            \"ID\": \"R01350\",\n            \"NumCode\": \"124\",\n            \"CharCode\": \"CAD\",\n            \"Nominal\": 1,\n            \"Name\": \"Канадский доллар\",\n            \"Value\": 56.3465,\n            \"Previous\": 56.536\n        },\n        \"KGS\": {\n            \"ID\": \"R01370\",\n            \"NumCode\": \"417\",\n            \"CharCode\": \"KGS\",\n            \"Nominal\": 100,\n            \"Name\": \"Киргизских сомов\",\n            \"Value\": 95.6516,\n            \"Previous\": 95.4082\n        },\n        \"CNY\": {\n            \"ID\": \"R01375\",\n            \"NumCode\": \"156\",\n            \"CharCode\": \"CNY\",\n            \"Nominal\": 1,\n            \"Name\": \"Китайский юань\",\n            \"Value\": 10.7808,\n            \"Previous\": 10.7661\n        },\n        \"MDL\": {\n            \"ID\": \"R01500\",\n            \"NumCode\": \"498\",\n            \"CharCode\": \"MDL\",\n            \"Nominal\": 10,\n            \"Name\": \"Молдавских леев\",\n            \"Value\": 44.7846,\n            \"Previous\": 44.8709\n        },\n        \"NOK\": {\n            \"ID\": \"R01535\",\n            \"NumCode\": \"578\",\n            \"CharCode\": \"NOK\",\n            \"Nominal\": 10,\n            \"Name\": \"Норвежских крон\",\n            \"Value\": 83.065,\n            \"Previous\": 82.745\n        },\n        \"PLN\": {\n            \"ID\": \"R01565\",\n            \"NumCode\": \"985\",\n            \"CharCode\": \"PLN\",\n            \"Nominal\": 1,\n            \"Name\": \"Польский злотый\",\n            \"Value\": 20.0729,\n            \"Previous\": 19.9642\n        },\n        \"RON\": {\n            \"ID\": \"R01585F\",\n            \"NumCode\": \"946\",\n            \"CharCode\": \"RON\",\n            \"Nominal\": 1,\n            \"Name\": \"Румынский лей\",\n            \"Value\": 18.1996,\n            \"Previous\": 18.1615\n        },\n        \"XDR\": {\n            \"ID\": \"R01589\",\n            \"NumCode\": \"960\",\n            \"CharCode\": \"XDR\",\n            \"Nominal\": 1,\n            \"Name\": \"СДР (специальные права заимствования)\",\n            \"Value\": 105.261,\n            \"Previous\": 105.049\n        },\n        \"SGD\": {\n            \"ID\": \"R01625\",\n            \"NumCode\": \"702\",\n            \"CharCode\": \"SGD\",\n            \"Nominal\": 1,\n            \"Name\": \"Сингапурский доллар\",\n            \"Value\": 54.3967,\n            \"Previous\": 54.3279\n        },\n        \"TJS\": {\n            \"ID\": \"R01670\",\n            \"NumCode\": \"972\",\n            \"CharCode\": \"TJS\",\n            \"Nominal\": 10,\n            \"Name\": \"Таджикских сомони\",\n            \"Value\": 72.2371,\n            \"Previous\": 72.1283\n        },\n        \"TRY\": {\n            \"ID\": \"R01700J\",\n            \"NumCode\": \"949\",\n            \"CharCode\": \"TRY\",\n            \"Nominal\": 1,\n            \"Name\": \"Турецкая лира\",\n            \"Value\": 10.0993,\n            \"Previous\": 10.1145\n        },\n        \"TMT\": {\n            \"ID\": \"R01710A\",\n            \"NumCode\": \"934\",\n            \"CharCode\": \"TMT\",\n            \"Nominal\": 1,\n            \"Name\": \"Новый туркменский манат\",\n            \"Value\": 21.3198,\n            \"Previous\": 21.2928\n        },\n        \"UZS\": {\n            \"ID\": \"R01717\",\n            \"NumCode\": \"860\",\n            \"CharCode\": \"UZS\",\n            \"Nominal\": 10000,\n            \"Name\": \"Узбекских сумов\",\n            \"Value\": 72.6314,\n            \"Previous\": 72.4902\n        },\n        \"UAH\": {\n            \"ID\": \"R01720\",\n            \"NumCode\": \"980\",\n            \"CharCode\": \"UAH\",\n            \"Nominal\": 10,\n            \"Name\": \"Украинских гривен\",\n            \"Value\": 27.18,\n            \"Previous\": 27.1007\n        },\n        \"CZK\": {\n            \"ID\": \"R01760\",\n            \"NumCode\": \"203\",\n            \"CharCode\": \"CZK\",\n            \"Nominal\": 10,\n            \"Name\": \"Чешских крон\",\n            \"Value\": 33.7421,\n            \"Previous\": 33.6758\n        },\n        \"SEK\": {\n            \"ID\": \"R01770\",\n            \"NumCode\": \"752\",\n            \"CharCode\": \"SEK\",\n            \"Nominal\": 10,\n            \"Name\": \"Шведских крон\",\n            \"Value\": 85.0038,\n            \"Previous\": 84.905\n        },\n        \"CHF\": {\n            \"ID\": \"R01775\",\n            \"NumCode\": \"756\",\n            \"CharCode\": \"CHF\",\n            \"Nominal\": 1,\n            \"Name\": \"Швейцарский франк\",\n            \"Value\": 81.855,\n            \"Previous\": 81.7695\n        },\n        \"ZAR\": {\n            \"ID\": \"R01810\",\n            \"NumCode\": \"710\",\n            \"CharCode\": \"ZAR\",\n            \"Nominal\": 10,\n            \"Name\": \"Южноафриканских рэндов\",\n            \"Value\": 44.1462,\n            \"Previous\": 43.7331\n        },\n        \"KRW\": {\n            \"ID\": \"R01815\",\n            \"NumCode\": \"410\",\n            \"CharCode\": \"KRW\",\n            \"Nominal\": 1000,\n            \"Name\": \"Вон Республики Корея\",\n            \"Value\": 62.7839,\n            \"Previous\": 62.642\n        },\n        \"JPY\": {\n            \"ID\": \"R01820\",\n            \"NumCode\": \"392\",\n            \"CharCode\": \"JPY\",\n            \"Nominal\": 100,\n            \"Name\": \"Японских иен\",\n            \"Value\": 70.1064,\n            \"Previous\": 70.3288\n        }\n    }\n}\n"
    }
   ],
   "source": [
    "# Мы сделали запрос и получили ответ. Давайте теперь посмотрим, как считывать текст. \n",
    "# Адрес, по которому мы обращались, возвращает результат в json формате. Эти данные уже лежат в атрибуте text в полученном ответе response:\n",
    "response = requests.get('https://www.cbr-xml-daily.ru/daily_json.js')    \n",
    "print(response.text)  "
   ]
  },
  {
   "cell_type": "code",
   "execution_count": 17,
   "metadata": {
    "tags": []
   },
   "outputs": [
    {
     "output_type": "display_data",
     "data": {
      "text/plain": "{'Date': '2020-08-26T11:30:00+03:00',\n 'PreviousDate': '2020-08-25T11:30:00+03:00',\n 'PreviousURL': '//www.cbr-xml-daily.ru/archive/2020/08/25/daily_json.js',\n 'Timestamp': '2020-08-25T23:00:00+03:00',\n 'Valute': {'AUD': {'ID': 'R01010',\n   'NumCode': '036',\n   'CharCode': 'AUD',\n   'Nominal': 1,\n   'Name': 'Австралийский доллар',\n   'Value': 53.3585,\n   'Previous': 53.4473},\n  'AZN': {'ID': 'R01020A',\n   'NumCode': '944',\n   'CharCode': 'AZN',\n   'Nominal': 1,\n   'Name': 'Азербайджанский манат',\n   'Value': 43.8567,\n   'Previous': 43.8013},\n  'GBP': {'ID': 'R01035',\n   'NumCode': '826',\n   'CharCode': 'GBP',\n   'Nominal': 1,\n   'Name': 'Фунт стерлингов Соединенного королевства',\n   'Value': 97.5146,\n   'Previous': 97.3765},\n  'AMD': {'ID': 'R01060',\n   'NumCode': '051',\n   'CharCode': 'AMD',\n   'Nominal': 100,\n   'Name': 'Армянских драмов',\n   'Value': 15.3255,\n   'Previous': 15.3124},\n  'BYN': {'ID': 'R01090B',\n   'NumCode': '933',\n   'CharCode': 'BYN',\n   'Nominal': 1,\n   'Name': 'Белорусский рубль',\n   'Value': 28.5806,\n   'Previous': 29.0583},\n  'BGN': {'ID': 'R01100',\n   'NumCode': '975',\n   'CharCode': 'BGN',\n   'Nominal': 1,\n   'Name': 'Болгарский лев',\n   'Value': 45.0309,\n   'Previous': 44.9549},\n  'BRL': {'ID': 'R01115',\n   'NumCode': '986',\n   'CharCode': 'BRL',\n   'Nominal': 1,\n   'Name': 'Бразильский реал',\n   'Value': 13.2793,\n   'Previous': 13.2427},\n  'HUF': {'ID': 'R01135',\n   'NumCode': '348',\n   'CharCode': 'HUF',\n   'Nominal': 100,\n   'Name': 'Венгерских форинтов',\n   'Value': 24.9373,\n   'Previous': 25.0276},\n  'HKD': {'ID': 'R01200',\n   'NumCode': '344',\n   'CharCode': 'HKD',\n   'Nominal': 10,\n   'Name': 'Гонконгских долларов',\n   'Value': 96.1403,\n   'Previous': 96.0188},\n  'DKK': {'ID': 'R01215',\n   'NumCode': '208',\n   'CharCode': 'DKK',\n   'Nominal': 1,\n   'Name': 'Датская крона',\n   'Value': 11.8347,\n   'Previous': 11.81},\n  'USD': {'ID': 'R01235',\n   'NumCode': '840',\n   'CharCode': 'USD',\n   'Nominal': 1,\n   'Name': 'Доллар США',\n   'Value': 74.5126,\n   'Previous': 74.4184},\n  'EUR': {'ID': 'R01239',\n   'NumCode': '978',\n   'CharCode': 'EUR',\n   'Nominal': 1,\n   'Name': 'Евро',\n   'Value': 88.059,\n   'Previous': 87.903},\n  'INR': {'ID': 'R01270',\n   'NumCode': '356',\n   'CharCode': 'INR',\n   'Nominal': 10,\n   'Name': 'Индийских рупий',\n   'Value': 10.0256,\n   'Previous': 10.0126},\n  'KZT': {'ID': 'R01335',\n   'NumCode': '398',\n   'CharCode': 'KZT',\n   'Nominal': 100,\n   'Name': 'Казахстанских тенге',\n   'Value': 17.7779,\n   'Previous': 17.7174},\n  'CAD': {'ID': 'R01350',\n   'NumCode': '124',\n   'CharCode': 'CAD',\n   'Nominal': 1,\n   'Name': 'Канадский доллар',\n   'Value': 56.3465,\n   'Previous': 56.536},\n  'KGS': {'ID': 'R01370',\n   'NumCode': '417',\n   'CharCode': 'KGS',\n   'Nominal': 100,\n   'Name': 'Киргизских сомов',\n   'Value': 95.6516,\n   'Previous': 95.4082},\n  'CNY': {'ID': 'R01375',\n   'NumCode': '156',\n   'CharCode': 'CNY',\n   'Nominal': 1,\n   'Name': 'Китайский юань',\n   'Value': 10.7808,\n   'Previous': 10.7661},\n  'MDL': {'ID': 'R01500',\n   'NumCode': '498',\n   'CharCode': 'MDL',\n   'Nominal': 10,\n   'Name': 'Молдавских леев',\n   'Value': 44.7846,\n   'Previous': 44.8709},\n  'NOK': {'ID': 'R01535',\n   'NumCode': '578',\n   'CharCode': 'NOK',\n   'Nominal': 10,\n   'Name': 'Норвежских крон',\n   'Value': 83.065,\n   'Previous': 82.745},\n  'PLN': {'ID': 'R01565',\n   'NumCode': '985',\n   'CharCode': 'PLN',\n   'Nominal': 1,\n   'Name': 'Польский злотый',\n   'Value': 20.0729,\n   'Previous': 19.9642},\n  'RON': {'ID': 'R01585F',\n   'NumCode': '946',\n   'CharCode': 'RON',\n   'Nominal': 1,\n   'Name': 'Румынский лей',\n   'Value': 18.1996,\n   'Previous': 18.1615},\n  'XDR': {'ID': 'R01589',\n   'NumCode': '960',\n   'CharCode': 'XDR',\n   'Nominal': 1,\n   'Name': 'СДР (специальные права заимствования)',\n   'Value': 105.261,\n   'Previous': 105.049},\n  'SGD': {'ID': 'R01625',\n   'NumCode': '702',\n   'CharCode': 'SGD',\n   'Nominal': 1,\n   'Name': 'Сингапурский доллар',\n   'Value': 54.3967,\n   'Previous': 54.3279},\n  'TJS': {'ID': 'R01670',\n   'NumCode': '972',\n   'CharCode': 'TJS',\n   'Nominal': 10,\n   'Name': 'Таджикских сомони',\n   'Value': 72.2371,\n   'Previous': 72.1283},\n  'TRY': {'ID': 'R01700J',\n   'NumCode': '949',\n   'CharCode': 'TRY',\n   'Nominal': 1,\n   'Name': 'Турецкая лира',\n   'Value': 10.0993,\n   'Previous': 10.1145},\n  'TMT': {'ID': 'R01710A',\n   'NumCode': '934',\n   'CharCode': 'TMT',\n   'Nominal': 1,\n   'Name': 'Новый туркменский манат',\n   'Value': 21.3198,\n   'Previous': 21.2928},\n  'UZS': {'ID': 'R01717',\n   'NumCode': '860',\n   'CharCode': 'UZS',\n   'Nominal': 10000,\n   'Name': 'Узбекских сумов',\n   'Value': 72.6314,\n   'Previous': 72.4902},\n  'UAH': {'ID': 'R01720',\n   'NumCode': '980',\n   'CharCode': 'UAH',\n   'Nominal': 10,\n   'Name': 'Украинских гривен',\n   'Value': 27.18,\n   'Previous': 27.1007},\n  'CZK': {'ID': 'R01760',\n   'NumCode': '203',\n   'CharCode': 'CZK',\n   'Nominal': 10,\n   'Name': 'Чешских крон',\n   'Value': 33.7421,\n   'Previous': 33.6758},\n  'SEK': {'ID': 'R01770',\n   'NumCode': '752',\n   'CharCode': 'SEK',\n   'Nominal': 10,\n   'Name': 'Шведских крон',\n   'Value': 85.0038,\n   'Previous': 84.905},\n  'CHF': {'ID': 'R01775',\n   'NumCode': '756',\n   'CharCode': 'CHF',\n   'Nominal': 1,\n   'Name': 'Швейцарский франк',\n   'Value': 81.855,\n   'Previous': 81.7695},\n  'ZAR': {'ID': 'R01810',\n   'NumCode': '710',\n   'CharCode': 'ZAR',\n   'Nominal': 10,\n   'Name': 'Южноафриканских рэндов',\n   'Value': 44.1462,\n   'Previous': 43.7331},\n  'KRW': {'ID': 'R01815',\n   'NumCode': '410',\n   'CharCode': 'KRW',\n   'Nominal': 1000,\n   'Name': 'Вон Республики Корея',\n   'Value': 62.7839,\n   'Previous': 62.642},\n  'JPY': {'ID': 'R01820',\n   'NumCode': '392',\n   'CharCode': 'JPY',\n   'Nominal': 100,\n   'Name': 'Японских иен',\n   'Value': 70.1064,\n   'Previous': 70.3288}}}"
     },
     "metadata": {}
    }
   ],
   "source": [
    "### Сейчас текст хранится просто в строковой переменной. Далее мы можем превратить эту строку в словарь. Сделать это можно с помощью JSON-парсера python, либо воспользовавшись методом json, который уже встроен в объект ответа response:\n",
    "\n",
    "currencies = response.json()\n",
    "display(currencies)"
   ]
  },
  {
   "cell_type": "code",
   "execution_count": 18,
   "metadata": {},
   "outputs": [
    {
     "output_type": "execute_result",
     "data": {
      "text/plain": "{'ID': 'R01720',\n 'NumCode': '980',\n 'CharCode': 'UAH',\n 'Nominal': 10,\n 'Name': 'Украинских гривен',\n 'Value': 27.18,\n 'Previous': 27.1007}"
     },
     "metadata": {},
     "execution_count": 18
    }
   ],
   "source": [
    "# Теперь данные лежат в словаре, и мы можем легко получать необходимые нам значения:\n",
    "currencies['Valute']['UAH']"
   ]
  },
  {
   "cell_type": "markdown",
   "metadata": {},
   "source": [
    "### Задание 1 - (9.3.1)\n",
    "Повторите запросы, описанные в этой части, на своём компьютере. Что выведет на экран следующий код?\n",
    "```python\n",
    "print(currencies['Valute']['CZK']['Name'])\n",
    "```\n",
    "***Ответ:*** Чешских крон"
   ]
  },
  {
   "cell_type": "code",
   "execution_count": 19,
   "metadata": {
    "tags": []
   },
   "outputs": [
    {
     "output_type": "stream",
     "name": "stdout",
     "text": "Чешских крон\n"
    }
   ],
   "source": [
    "print(currencies['Valute']['CZK']['Name'])"
   ]
  },
  {
   "cell_type": "markdown",
   "metadata": {},
   "source": [
    "### 9.4 Оформляем функцию\n",
    "---"
   ]
  },
  {
   "cell_type": "code",
   "execution_count": 21,
   "metadata": {},
   "outputs": [],
   "source": [
    "# В завершение давайте оформим наши вычисления в отдельную функцию, которой будет удобно пользоваться. На вход она должна принимать два параметра:  \n",
    "# 1. Название валюты currency. Например, 'EUR' или 'USD'.  \n",
    "# 2. Формат ответа format. При значении 'full' будем отдавать все, что знаем о валюте. А при значении format = 'value' только значение ключа 'Value'.\n",
    "def exchange_rates(currency, format='full'):    \n",
    "    url = 'https://www.cbr-xml-daily.ru/daily_json.js'  \n",
    "    response = requests.get(url).json()['Valute']    \n",
    "    data = response[currency]     \n",
    "    if format == 'full':    \n",
    "        return data      \n",
    "    elif format == 'value':    \n",
    "        return data['Value']    "
   ]
  },
  {
   "cell_type": "markdown",
   "metadata": {},
   "source": [
    "### Задание 1 (9.4.1)\n",
    "Напишите функцию currency_name, которая по ID валюты возвращает ее название на русском языке.\n",
    "\n",
    "***Ответ:***\n",
    "```python\n",
    "def currency_name(id_currency):    \n",
    "    url = 'https://www.cbr-xml-daily.ru/daily_json.js'  \n",
    "    response = requests.get(url).json()['Valute']    \n",
    "    for elem in list(response.keys()):\n",
    "        if response[elem]['ID'] == id_currency:\n",
    "            return response[elem]['Name']\n",
    "```"
   ]
  },
  {
   "cell_type": "code",
   "execution_count": 22,
   "metadata": {},
   "outputs": [
    {
     "output_type": "execute_result",
     "data": {
      "text/plain": "'Турецкая лира'"
     },
     "metadata": {},
     "execution_count": 22
    }
   ],
   "source": [
    "# проверка кода\n",
    "def currency_name(id_currency):    \n",
    "    url = 'https://www.cbr-xml-daily.ru/daily_json.js'  \n",
    "    response = requests.get(url).json()['Valute']    \n",
    "    for elem in list(response.keys()):\n",
    "        if response[elem]['ID'] == id_currency:\n",
    "            return response[elem]['Name']\n",
    "\n",
    "currency_name('R01700J')"
   ]
  },
  {
   "cell_type": "markdown",
   "metadata": {},
   "source": [
    "### 9.5 HTML-страницы\n",
    "---\n",
    "Довольно часто приходится добывать информацию не из удобно форматированного json-файла, а прямо с HTML-страниц. Получить содержимое страницы в большинстве случаев несложно, труднее извлечь из HTML-кода нужную информацию. В качестве примера мы рассмотрим страницу новости, из которой будем доставать полезную информацию:  \n",
    "1) заголовок страницы;  \n",
    "2) дату публикации;  \n",
    "3) текст публикации;  \n",
    "4) ссылки на странице."
   ]
  },
  {
   "cell_type": "code",
   "execution_count": 24,
   "metadata": {
    "tags": []
   },
   "outputs": [
    {
     "output_type": "stream",
     "name": "stdout",
     "text": "200\n"
    }
   ],
   "source": [
    "# Получить html страницу можно так же, как мы получали до этого json: используем библиотеку requests и метод GET\n",
    "url = 'https://nplus1.ru/news/2019/06/04/slothbot'   \n",
    "response = requests.get(url)  \n",
    "  \n",
    "# Убедимся, что мы успешно получили ответ     \n",
    "print(response.status_code)  "
   ]
  },
  {
   "cell_type": "code",
   "execution_count": 25,
   "metadata": {
    "tags": [
     "outputPrepend"
    ]
   },
   "outputs": [
    {
     "output_type": "stream",
     "name": "stdout",
     "text": "arset=\"utf-8\">\n    <meta http-equiv=\"x-ua-compatible\" content=\"ie=edge\">\n    <meta name=\"viewport\" content=\"width=device-width, initial-scale=1\">\n        <meta name=\"apple-mobile-web-app-capable\" content=\"yes\">\n    <meta name=\"apple-mobile-web-app-status-bar-style\" content=\"black\">\n            \n    <link rel=\"canonical\" href=\"https://nplus1.ru/news/2019/06/04/slothbot\" />\n\n        <title>Робота-ленивца научили лазать по паутине из тросов</title>\n\n    \t    <meta itemprop=\"datePublished\" content=\"2019-06-04\"/>\n\t\n\t    <meta name=\"mediator_author\" content=\"Григорий Копиев\"/> \n\t\n        <!-- amp page -->\n    <link rel=\"amphtml\" href=\"https://nplus1.ru/news/2019/06/04/slothbot/amp\">\n    \n\n        <!-- for Google -->\n        <meta name=\"description\" content=\"Он сам добывает энергию с помощью солнечных панелей\" />\n        \n        <meta name=\"author\" content=\"Григорий Копиев\" />\n        <meta name=\"copyright\" content=\"\" />\n\n        <!-- for Facebook -->\n        <meta property=\"og:title\" content=\"Робота-ленивца научили лазать по паутине из тросов\" />\n                <meta property=\"og:image\" content=\"https://nplus1.ru/images/2019/06/04/000d995dad5ab0988b764af18abf6da5.jpeg\" />\n        <meta property=\"og:url\" content=\"https://nplus1.ru/news/2019/06/04/slothbot\" />\n        <meta property=\"og:description\" content=\"Он сам добывает энергию с помощью солнечных панелей\" />\n        <!-- for Twitter -->\n        <meta name=\"twitter:card\" content=\"summary_large_image\">\n        <meta name=\"twitter:site\" content=\"@nplusodin\" />\n        <meta name=\"twitter:title\" content=\"Робота-ленивца научили лазать по паутине из тросов\" />\n        <meta name=\"twitter:description\" content=\"Он сам добывает энергию с помощью солнечных панелей\" />\n        <meta name=\"twitter:image\" content=\"https://nplus1.ru/images/2019/06/04/000d995dad5ab0988b764af18abf6da5.jpeg\" />\n        \n        <meta name=\"yandex-verification\" content=\"8c90b02c84ac3b72\" />\n        \n\n        <link rel='alternate' type='application/rss+xml' title='RSS' href='https://nplus1.ru/rss'>\n\n    <link rel=\"stylesheet\" href=\"/css/font-awesome.min.css\">\n    <link rel=\"stylesheet\" href=\"/css/main.min.css?v=1594129211\">\n    <link rel=\"stylesheet\" href=\"/css/desktop.min.css?v=1452887696\">\n    <link rel=\"stylesheet\" href=\"/css/tablet.min.css?v=1499281342\">\n    <link rel=\"stylesheet\" href=\"/css/mobile.min.css?v=1567698280\">\n    \n    <script src=\"//ajax.googleapis.com/ajax/libs/jquery/1.11.2/jquery.min.js\"></script>\n\n    <script src=\"//cdnjs.cloudflare.com/ajax/libs/modernizr/2.8.3/modernizr.min.js\"></script>     \n    \n            <script type=\"text/javascript\" src=\"/js/lib/adfox.asyn.code.ver3.js\"> </script>\n\t\t<script type=\"text/javascript\" src=\"/js/lib/adfox.asyn.code.scroll.js\"> </script>\n\t    <script src=\"https://yastatic.net/pcode/adfox/loader.js\" crossorigin=\"anonymous\"></script>\n        <script async id=\"__lxGc__rtr\" type=\"text/javascript\" src=\"//s.clickiocdn.com/t/195458/360.js\"></script>\n        <script async type=\"text/javascript\" src=\"//s.luxupcdnc.com/t/common_402.js\"></script>\t\t\n\n\t\t<!--  ad -->\n\t\t<script type=\"text/javascript\">\n\t\t    var __colAdLoaded = false;\n\t\t    var __topAdLoaded = false;\n\t\t    \n\t\t    var __id = \"\";\n\t\t    \n\t\t    function detectAd(id){\n\t\t        var _ad = document.getElementById(\"AdFox_banner_\"+id);\n\t\t    \t    console.debug(_ad);\n\t\t        \n\t\t        __id = id;\n\t\t        if(_ad != null && _ad.innerHTML == \"\"){\n\t\t            $(\".col-ad\").remove();\n\t\t        }\n\t\t        __colAdLoaded = true;\n\t\t    }\n\t\t    function detectAdTop(id){\n\t\t        __topAdLoaded = true;\n\t\t    }\n\t\t</script>\n\t\t<!-- /ad -->\n\t\t\n\t\t\n\t\t    \n\n\n<script type=\"application/ld+json\"> { \"@context\": \"http://schema.org\", \"@type\": \"WebSite\", \"url\": \"https://nplus1.ru/news/2019/06/04/slothbot\", \"name\": \"Робота-ленивца научили лазать по паутине из тросов\", \"description\": \"Он сам добывает энергию с помощью солнечных панелей\", \"image\": \"https://nplus1.ru/images/2019/06/04/000d995dad5ab0988b764af18abf6da5.jpeg\", \"publisher\": { \"@type\": \"Organization\", \"name\": \"N+1\", \"logo\": { \"@type\":\"ImageObject\", \"url\": \"https://nplus1.ru/i/logo-alt.png\" }, \"sameAs\": [ \"https://www.facebook.com/nplusone\", \"https://twitter.com/nplusodin\", \"https://vk.com/nplusone\", \"https://ok.ru/nplus1\", \"https://soundcloud.com/nplus_1\", \"https://t.me/nplusone\" ] }, \"potentialAction\":{ \"@type\":\"SearchAction\", \"target\":\"https://nplus1.ru/search?q={search_term_string}\", \"query-input\":\"required name=search_term_string\" } } </script>\n</head>\n<body style=\"background-image:url(https://nplus1.ru/images/2019/06/04/b32b62189fb87cce895e229e1d6d27b4.jpeg)\" class=\"_inner  \">\n\n<link property='' rel='stylesheet' href='//s.luxupcdnc.com/cp/all/cookies_policy.css' />\n<script type='text/javascript'>_cookies_policy = {dark:0,bottom:1,text:'Этот сайт использует cookies для улучшения качества работы',link:'Подробнее',href:'https://nplus1.ru/cookies-policy',button:'Закрыть'};</script>\n<script async type='text/javascript' src='//s.luxupcdnc.com/cp/all/cookies_policy.js'></script>\n\n\n\n\n\n\n<div class=\"thx-rospechat\">Функционирует при финансовой поддержке Федерального агентства по печати и массовым коммуникациям (Роспечать)</div>\n\n    <div id=\"viewport\">\n\t<div id=\"shadow\"></div>\n        <div class=\"ad ad-top\">\n        \n                                                    \n                    \n    \n    \n                        \t    <!-- bh1 -->\n<!--AdFox START-->\n<!--nplus1_dir-->\n<!--Площадка: https://nplus1.ru/ / * / *-->\n<!--Тип баннера: Верхняя перетяжка 100%-->\n<!--Расположение: <верх страницы>-->\n<div id=\"adfox_15000335664353901\"></div>\n<script>\n    window.Ya.adfoxCode.create({\n        ownerId: 248569,\n        containerId: 'adfox_15000335664353901',\n        params: {\n            pp: 'g',\n            ps: 'cggm',\n            p2: 'fqtd',\n            puid1: ''\n        }\n    });\n</script>\n\t\t                        \n        </div>\n        <header id=\"header-mobile\">\n            \n            <div class=\"container\">\n                <a href=\"#\" class=\"action-menu pull-left\"><i class=\"icon icon-navicon\"></i></a>\n                <a href=\"/\" class=\"link-logo\"><img src=\"/i/logo-mobile.png\"/></a>\n                <a href=\"#\" class=\"action-search pull-right\"><i class=\"icon icon-search\"></i></a>\n                <form action=\"/search\" method=\"get\" class=\"form-search\">\n                    <div class=\"control\">\n                        <input type=\"text\" name=\"q\" placeholder=\"Найти\" value=\"\"/>\n                    </div>\n                    <a href=\"#\" class=\"action-search-close\">×</a>\n                </form>\n            </div>\n            <nav class=\"nav-rubrics\">\n    <ul>\n                <li>\n            <a href=\"/rubric/astronomy\" class=\"\">Астрономия</a>\n        </li>    \n                <li>\n            <a href=\"/rubric/physics\" class=\"\">Физика</a>\n        </li>    \n                <li>\n            <a href=\"/rubric/biology\" class=\"\">Биология</a>\n        </li>    \n                <li>\n            <a href=\"/rubric/robots-drones\" class=\"\">Роботы и дроны</a>\n        </li>    \n        \n                                    <li>\n                    <a href=\"/theme/explainatorium\" class=\"\">Давайте разберемся</a>\n                </li>\n                            <li>\n                    <a href=\"/theme/bookshelf\" class=\"\">Книжная полка</a>\n                </li>\n                            <li>\n                    <a href=\"/theme/Courses\" class=\"\">Курсы</a>\n                </li>\n                            <li>\n                    <a href=\"/theme/coronavirus-history\" class=\"\">Коронавирусные хроники</a>\n                </li>\n                    \n            </ul>\n</nav>\n\n        </header>\n        \n    \n        <div id=\"layout\" class=\"js-mediator-container\">\n            <!-- header -->\n                        <header id=\"header\" class=\"_middle\">\n    <div class=\"row\">\n        \n        <div class=\"col col-logo\">\n            <a href=\"/\" class=\"link-logo\"></a>\n        </div>\n        <div class=\"col col-nav-main\">\n            <form action=\"/search\" method=\"get\" class=\"form-search\">\n                <div class=\"control\">\n                    <input type=\"text\" name=\"q\" placeholder=\"Найти\" value=\"\"/>\n                </div>\n                <a href=\"#\" class=\"action-search-close\">×</a>\n            </form>\n            \n            <nav class=\"nav-rubrics\">\n    <ul>\n                <li>\n            <a href=\"/rubric/astronomy\" class=\"\">Астрономия</a>\n        </li>    \n                <li>\n            <a href=\"/rubric/physics\" class=\"\">Физика</a>\n        </li>    \n                <li>\n            <a href=\"/rubric/biology\" class=\"\">Биология</a>\n        </li>    \n                <li>\n            <a href=\"/rubric/robots-drones\" class=\"\">Роботы и дроны</a>\n        </li>    \n        \n        \n                <li>\n            <a href=\"#\" class=\"action-search\"><i class=\"icon icon-search\"></i></a>\n        </li>\n            </ul>\n</nav>            <nav class=\"nav-themes\">\n    <ul>\n                <li data-name=\"explainatorium\">\n            <a href=\"/theme/explainatorium\" class=\"\">Давайте разберемся</a>\n        </li>    \n                <li data-name=\"bookshelf\">\n            <a href=\"/theme/bookshelf\" class=\"\">Книжная полка</a>\n        </li>    \n                <li data-name=\"Courses\">\n            <a href=\"/theme/Courses\" class=\"\">Курсы</a>\n        </li>    \n                <li data-name=\"coronavirus-history\">\n            <a href=\"/theme/coronavirus-history\" class=\"\">Коронавирусные хроники</a>\n        </li>    \n            </ul>\n</nav>            \n        </div>\n    </div>\n        <div class=\"container line-up\">\n        <div class=\"line line-second\">\n                                            <a href=\"https://nplus1.ru/blog/2020/08/18/sma-drug-prices\" class=\"action-line-toggle\">\n                    <div class=\"heading\"><span></span></div>\n                </a>\n                                <a href=\"https://nplus1.ru/blog/2020/08/18/sma-drug-prices\" class=\"container-link\">\n                    <div class=\"heading\"><span>Давайте разберемся</span></div>\n                    <div class=\"link\"><span>Укол ценой два миллиона: что происходит с лекарствами от спинальной мышечной атрофии</span></div>\n                </a>\n                                <a href=\"https://nplus1.ru/blog/2020/08/13/the-story-of-an-unregulated-man\" class=\"container-link\">\n                    <div class=\"heading\"><span>Премия &laquo;Просветитель&raquo;</span></div>\n                    <div class=\"link\"><span>Василий Авченко, Алексей Коровашко &laquo;Олег Куваев: повесть о нерегламентированном человеке&raquo;</span></div>\n                </a>\n                                <a href=\"https://nplus1.ru/blog/2020/08/12/how-a-city-works\" class=\"container-link\">\n                    <div class=\"heading\"><span>Премия &laquo;Просветитель&raquo;</span></div>\n                    <div class=\"link\"><span>Григорий Ревзин &laquo;Как устроен город: 36 эссе по философии урбанистики&raquo;</span></div>\n                </a>\n                                <a href=\"https://nplus1.ru/blog/2020/08/11/read-the-manual\" class=\"container-link\">\n                    <div class=\"heading\"><span>Коронавирусные хроники</span></div>\n                    <div class=\"link\"><span>Первый пошел: читаем инструкцию к российской вакцине от COVID-19</span></div>\n                </a>\n                                <a href=\"https://nplus1.ru/blog/2020/08/11/the-age-of-decay\" class=\"container-link\">\n                    <div class=\"heading\"><span>Книжная полка</span></div>\n                    <div class=\"link\"><span>Артем Рондарев &laquo;Эпоха распада. Грандиозная история музыки в XX веке&raquo;</span></div>\n                </a>\n                                <a href=\"https://nplus1.ru/blog/2020/08/10/adventures-in-memory\" class=\"container-link\">\n                    <div class=\"heading\"><span>Книжная полка</span></div>\n                    <div class=\"link\"><span>Хильде Эстбю, Ильва Эстбю &laquo;Это мой конек: Наука запоминания и забывания&raquo;</span></div>\n                </a>\n                                <a href=\"https://nplus1.ru/blog/2020/08/07/hiroshima\" class=\"container-link\">\n                    <div class=\"heading\"><span>Книжная полка</span></div>\n                    <div class=\"link\"><span>Джон Херси &laquo;Хиросима&raquo;</span></div>\n                </a>\n                                <a href=\"https://nplus1.ru/blog/2020/08/06/3comma5-eleven\" class=\"container-link\">\n                    <div class=\"heading\"><span>Три с половиной</span></div>\n                    <div class=\"link\"><span>Беспилотный стендап, жужжание комаров и шкала Кинси</span></div>\n                </a>\n                                <a href=\"https://nplus1.ru/blog/2020/08/06/diptera\" class=\"container-link\">\n                    <div class=\"heading\"><span>Премия &laquo;Просветитель&raquo;</span></div>\n                    <div class=\"link\"><span>Никита Вихрев &laquo;Рассказы о двукрылых с обзором основных семейств отряда&raquo;</span></div>\n                </a>\n                                                \t\t           \t<a href=\"https://nplus1.ru/blog/2020/08/20/generation-y\" class=\"container-link active\">\n        \t        \t<div class=\"heading\"><span>Премия &laquo;Просветитель&raquo;</span></div>\n            \t    \t<div class=\"link\"><span>Вадим Радаев &laquo;Миллениалы: Как меняется российское общество&raquo;</span></div>\n\t\t            </a>\n\t                                </div>\n        \n    </div>\n    </header>                        <!-- /header -->\n            <!--  hero -->\n                            <!-- /hero -->\n            <!-- main section -->\n            <section id=\"main\">\n                \n                \n    <div class=\"container _middle\">\n        <div class=\"row\" data-adaptive=\"1\" data-tablet-class=\"row-wrap\" data-mobile-class=\"row-wrap\">\n            <div class=\"col col-3\" data-adaptive=\"1\" data-mobile-class=\"col-1\">\n\n                <article class=\"content\" id=\"article\" data-id=\"20774\" data-visit=\"1\" data-type=\"0\">\n                                        <div class=\"meta\">\n    <div class=\"tables\">\n        <p class=\"table\">\n                        <a data-rubric=\"robots-drones\" href=\"/rubric/robots-drones\">Роботы и дроны</a>\n                                            </p>\n        <p class=\"table\">\n            <a href=\"/news/2019/06/04\">\n                <time itemprop=\"datePublished\" content=\"2019-06-04\" data-unix=\"1559662033\">\n                    <span>18:27</span>\n                    <span>04 Июнь 2019</span>\n                </time>\n            </a>\n        </p>\n        <p class=\"table\">\n            <a href=\"/difficult/2.2\">\n                <span>Сложность</span>\n                <span class=\"difficult-value\">2.2</span>\n            </a>\n        </p>\n    </div>\n</div>\n<script type=\"text/javascript\">\n    var _dlData = {custom_rubric: []};\n        _dlData.custom_author = 'Григорий Копиев';\n        _dlData.custom_difficult = '2.2';\n        _dlData.custom_rubric.push('Роботы и дроны');\n                \n    window.dataLayer = window.dataLayer || [];\n    window.dataLayer.push(_dlData);\n</script>\n                                        <div class=\"share-mobile\">\n                        <nav class=\"nav-share\">\n    <ul class=\"social-likes\">\n\t\t<li class=\"facebook\"></li>\n\t\t<li class=\"twitter\"></li>\n\t\t<li class=\"vkontakte\"></li>\n\t\t<li class=\"odnoklassniki\"></li>\n    </ul>\n</nav>\n                    </div>\n\n                    <header class=\"hero hero-lite\">\n                        <div>\n                            <h1>Робота-ленивца научили лазать по паутине из тросов</h1>\n                        </div>\n                    </header>\n                                        <div class=\"body js-mediator-article\">\n                                                                                                                            <div class=\"article-image\">\n                            <figure>\n                                <img src=\"https://nplus1.ru/images/2019/06/04/b32b62189fb87cce895e229e1d6d27b4.jpeg\"/>\n                                                                <figcaption>\n                                    <p class=\"title\"></p>\n                                    <p class=\"credits\">Allison Carter, Georgia Tech</p>\n                                </figcaption>\n                                                            </figure>\n                        </div>\n                                                \n                                                    <!-- -->\n                                                        <!-- -->\n                            \n                                                                                            <p>Американские инженеры разработали робота-ленивца, способного лазать по&nbsp;тросам и&nbsp;перемещаться с&nbsp;одного троса на&nbsp;другой. Благодаря относительно малому потреблению энергии и&nbsp;использованию солнечных панелей подобного робота можно практически неограниченное время использовать для наблюдений на деревьях в лесу, рассказывают авторы <a href=\"https://ieeexplore.ieee.org/document/8642808\" target=\"_blank\" rel=\"nofollow\">статьи</a>, представленной на&nbsp;конференции ICRA 2019.</p>\n<p>Создание роботов, способных лазать по&nbsp;тросам&nbsp;— важная технологическая задача, наработки из&nbsp;которой потенциально применимы во&nbsp;многих областях. К&nbsp;примеру, в&nbsp;2016 году в&nbsp;России <a href=\"https://nplus1.ru/news/2016/09/28/robot\" target=\"_blank\">создали</a> робота для проверки высоковольтных линий электропередачи. Дрон спускает такого робота на&nbsp;грозозащитный трос, после чего тот самостоятельно перемещается вдоль основных проводов и&nbsp;осматривает&nbsp;их. Кроме того, потенциально таких роботов можно применять для исследований в&nbsp;густых лесах, в&nbsp;которых ветки соседних деревьев соприкасаются.</p>\n<p>Инженеры из&nbsp;Технологического института Джорджии под руководством Магнуса Эгерштедта (Magnus Egerstedt) вдохновились ленивцами и&nbsp;решили создать энергоэффективного робота, на&nbsp;основе которого можно было&nbsp;бы создать робота, способного лазать по&nbsp;веткам. Робот состоит из&nbsp;двух частей и передвигается благодаря колесу в&nbsp;каждой части, соприкасающемуся с&nbsp;тросом.<br></p>\n<p><iframe frameborder=\"0\" src=\"//www.youtube.com/embed/Sx-WL6BIK3s\" width=\"620\" height=\"349\" allowfullscreen=\"true\" class=\"embed-responsive-item\"></iframe><br></p>\n<p>Кроме того, в&nbsp;каждой части робота есть две полноценные шестерни и&nbsp;две связанные с&nbsp;ними, но&nbsp;с&nbsp;вырезанным сектором. Внутрь такой шестерни продет\nтрос. При движении вперед шестерня расположена таким образом, чтобы трос не&nbsp;мог выйти за&nbsp;ее&nbsp;пределы. Если&nbsp;же роботу необходимо перейти на&nbsp;смежный трос, шестерня поворачивается так, чтобы вырез располагался горизонтально. Перемещаться между смежными тросами роботу помогает еще один двигатель в&nbsp;петле, соединяющей две части.<br></p>\n<p><div class=\"incut incut-gallery \" data-id=\"20774\">\n    <div class=\"swiper-container\">\n        <div class=\"swiper-wrapper\">\n                        <div class=\"swiper-slide\">\n                <figure>\n                    <div class=\"img\">\n                        <img src=\"https://nplus1.ru/images/2019/06/04/e5fbb06230c74d541b319677af5ccd79.jpg\"/>\n                    </div>\n                    <figcaption>\n                    <p class=\"title\">Компоненты одной из двух частей робота</p>\n\n                                            \t    <p class=\"credits\">Gennaro Notomista et al. / IEEE Robotics and Automation Letters, 2019</p>\n                    \t\n                    </figcaption>\n                </figure>\n                <div class=\"share-incut\">\n<div class=\"title\"><i class=\"fa fa-share\"></i><span>Поделиться</span></div>\n<nav class=\"nav-share\">\n    <ul class=\"social-likes\" data-title=\"Робота-ленивца научили лазать по паутине из тросов\">\n\t\t<li class=\"facebook\" data-service='facebook' data-image='https://nplus1.ru/images/2019/06/04/e5fbb06230c74d541b319677af5ccd79.jpg', data-description='Gennaro Notomista et al. / IEEE Robotics and Automation Letters, 2019'></li>\n\t\t<li class=\"twitter\" data-service='twitter' data-image='https://nplus1.ru/images/2019/06/04/e5fbb06230c74d541b319677af5ccd79.jpg', data-description='Gennaro Notomista et al. / IEEE Robotics and Automation Letters, 2019'></li>\n\t\t<li class=\"vkontakte\" data-service='vkontakte' data-image='https://nplus1.ru/images/2019/06/04/e5fbb06230c74d541b319677af5ccd79.jpg', data-description='Gennaro Notomista et al. / IEEE Robotics and Automation Letters, 2019'></li>\n\t\t<li class=\"odnoklassniki\" data-service='odnoklassniki' data-image='https://nplus1.ru/images/2019/06/04/e5fbb06230c74d541b319677af5ccd79.jpg', data-description='Gennaro Notomista et al. / IEEE Robotics and Automation Letters, 2019'></li>\n            </ul>\n</nav>\n</div>\n            </div>\n                    </div>\n        <div class=\"pagination\">\n            <div class=\"swiper-button-prev\"></div>\n            <div class=\"swiper-counter\"></div>\n            <div class=\"swiper-button-next\"></div>\n        </div>\n    </div>\n</div>Для питания робот использует аккумулятор емкостью 1000 миллиампер-часов, а&nbsp;также две солнечные панели, располагающиеся по&nbsp;бокам одной из&nbsp;частей. Разработчики отмечают, что благодаря применению колес для движения по&nbsp;тросам, а&nbsp;также пассивному механизму удержания, робот имеет большую энергоэффективность, чем другие роботы, предназначенные для перемещения по&nbsp;тросам.<br></p>\n<p><div class=\"incut incut-gallery \" data-id=\"20774\">\n    <div class=\"swiper-container\">\n        <div class=\"swiper-wrapper\">\n                        <div class=\"swiper-slide\">\n                <figure>\n                    <div class=\"img\">\n                        <img src=\"https://nplus1.ru/images/2019/06/04/54a85341c9518ba141a7bbbf5e4566e4.jpg\"/>\n                    </div>\n                    <figcaption>\n                    <p class=\"title\">Механизм блокировки троса</p>\n\n                                            \t    <p class=\"credits\">Gennaro Notomista et al. / IEEE Robotics and Automation Letters, 2019</p>\n                    \t\n                    </figcaption>\n                </figure>\n                <div class=\"share-incut\">\n<div class=\"title\"><i class=\"fa fa-share\"></i><span>Поделиться</span></div>\n<nav class=\"nav-share\">\n    <ul class=\"social-likes\" data-title=\"Робота-ленивца научили лазать по паутине из тросов\">\n\t\t<li class=\"facebook\" data-service='facebook' data-image='https://nplus1.ru/images/2019/06/04/54a85341c9518ba141a7bbbf5e4566e4.jpg', data-description='Gennaro Notomista et al. / IEEE Robotics and Automation Letters, 2019'></li>\n\t\t<li class=\"twitter\" data-service='twitter' data-image='https://nplus1.ru/images/2019/06/04/54a85341c9518ba141a7bbbf5e4566e4.jpg', data-description='Gennaro Notomista et al. / IEEE Robotics and Automation Letters, 2019'></li>\n\t\t<li class=\"vkontakte\" data-service='vkontakte' data-image='https://nplus1.ru/images/2019/06/04/54a85341c9518ba141a7bbbf5e4566e4.jpg', data-description='Gennaro Notomista et al. / IEEE Robotics and Automation Letters, 2019'></li>\n\t\t<li class=\"odnoklassniki\" data-service='odnoklassniki' data-image='https://nplus1.ru/images/2019/06/04/54a85341c9518ba141a7bbbf5e4566e4.jpg', data-description='Gennaro Notomista et al. / IEEE Robotics and Automation Letters, 2019'></li>\n            </ul>\n</nav>\n</div>\n            </div>\n                    </div>\n        <div class=\"pagination\">\n            <div class=\"swiper-button-prev\"></div>\n            <div class=\"swiper-counter\"></div>\n            <div class=\"swiper-button-next\"></div>\n        </div>\n    </div>\n</div>Кроме создания аппаратной платформы инженеры также написали для робота программное обеспечение, позволяющее ему самому прокладывать путь по&nbsp;тросам. Пользователь может указать точку, за&nbsp;которой необходимо наблюдать, после чего робот, имея карту системы тросов, самостоятельно рассчитает путь до&nbsp;наиболее близкой к заданной точке наблюдательной позиции.</p>\n<p>Ранее инженеры из&nbsp;Технологического института Джорджии <a href=\"https://nplus1.ru/news/2017/04/13/tarzan\" target=\"_blank\" title=\"Link: https://nplus1.ru/news/2017/04/13/tarzan\">создали</a> другого робота-ленивца для работы на&nbsp;тросе. Он&nbsp;так&nbsp;же состоит из&nbsp;двух частей, но&nbsp;имеет совершенно другую конструкцию и&nbsp;принцип работы. Он&nbsp;способен зацепляться концом одной части за&nbsp;трос и&nbsp;раскачивать другую, чтобы затем зацепиться&nbsp;ей. После этого он&nbsp;может отпустить первую часть и&nbsp;снова начать раскачиваться для того, чтобы двигаться дальше.<br></p>\n<p><i>Григорий Копиев</i></p>\n                            \n                            \n                                                \n                        \n                                            </div>\n                </article>\n\n                \n\t\t\t\t    <!-- ba1 -->\n<!--AdFox START-->\n<!--nplus1_dir-->\n<!--Площадка: https://nplus1.ru/ / * / *-->\n<!--Тип баннера: CLICKIO html5-->\n<!--Расположение: мобильный-->\n<div id=\"adfox_155980540701252236\"></div>\n<script>\n    window.Ya.adfoxCode.createAdaptive({\n        ownerId: 248569,\n        containerId: 'adfox_155980540701252236',\n        params: {\n            pp: 'ssg',\n            ps: 'cggm',\n            p2: 'fpum',\n            puid1: ''\n        }\n    }, ['phone'], {\n        tabletWidth: 1024,\n        phoneWidth: 767,\n        isAutoReloads: false\n    });\n</script>\n\n\t\t                <meter class=\"bottom\"></meter>\n            </div>\n            <div class=\"col col-1 sidebar\" data-adaptive=\"1\" data-tablet-class=\"col-full\">\n                                <nav class=\"nav-share\">\n    <ul class=\"social-likes\">\n\t\t<li class=\"facebook\"></li>\n\t\t<li class=\"twitter\"></li>\n\t\t<li class=\"vkontakte\"></li>\n\t\t<li class=\"odnoklassniki\"></li>\n    </ul>\n</nav>\n                \t\t\t\t\n                <meter class=\"top\"></meter>\n                                        <div id=\"latest\" data-adaptive=\"1\" data-tablet-class=\"fixed\" data-mobile-class=\"fixed\">\n\n                <div class=\"ad\">\n                                                                \t                            \t<!-- ba2 -->\n<!--AdFox START-->\n<!--nplus1_dir-->\n<!--Площадка: https://nplus1.ru/ / * / *-->\n<!--Тип баннера: CLICKIO html5-->\n<!--Расположение: <верх страницы>-->\n<div id=\"adfox_153934342663011746\"></div>\n<script>\n    (function(w, n) {\n    w[n] = w[n] || [];\n    w[n].push({\n        ownerId: 248569,\n        containerId: 'adfox_153934342663011746',\n        params: {\n            pp: 'g',\n            ps: 'cggm',\n            p2: 'fpum',\n            puid1: ''\n        }\n    });})(window, 'adfoxAsyncParams');\n</script>\n\n\t\n                    \t                                                                </div>\n\n\n                        <h2 class=\"_tablet-hidden _mobile-hidden\">Свежее</h2>\n                        <div class=\"latest-container\">\n                        <article class=\"item item-news item-news-latest-first  _exist-image\" data-relevance=\"\" data-image=\"\" >\n\n    <a href=\"/news/2020/08/26/birds-droughts\" data-id=\"26195\" >\n        <div class=\"caption\">\n                                                                    \t                \t\t<img src=\"https://nplus1.ru/images/2020/08/25/afd114d2a1e716dc719ba514115521d6.jpg\"/>\n                \t                                \n                \n                                \n                                    <div>\n                        <div class=\"date\">\n                            <span class=\"name\" title=\"2020-08-26\">10:14</span>\n                        </div>\n                        <h3>Долгоживущие воробьиные птицы из тропических лесов отказались размножаться в засушливый год</h3>\n                    </div>\n                                \n                \n                \n                \n                \n                                                </div>\n    </a>\n    </article>                                                                                <article class=\"item item-news item-news-  _exist-image\" data-relevance=\"\" data-image=\"\" >\n\n    <a href=\"/news/2020/08/26/sea-mines\" data-id=\"26200\" >\n        <div class=\"caption\">\n                                                                    \n                \n                                <div class=\"date\">\n                    <span class=\"name\" title=\"2020-08-26\">09:23</span>\n                </div>\n                                \n                                    <h3>Для американских ВМС разработают летающие морские мины</h3>\n                                \n                \n                \n                \n                \n                                                </div>\n    </a>\n    </article>                                                        <article class=\"item item-news item-news-  _exist-image\" data-relevance=\"\" data-image=\"\" >\n\n    <a href=\"/news/2020/08/25/james-webb-test-groun-segment\" data-id=\"26186\" >\n        <div class=\"caption\">\n                                                                    \n                \n                                <div class=\"date\">\n                    <span class=\"name\" title=\"2020-08-25\">вчера</span>\n                </div>\n                                \n                                    <h3>&laquo;Джеймс Уэбб&raquo; отозвался на тестовые команды ЦУПа</h3>\n                                \n                \n                \n                \n                \n                                                </div>\n    </a>\n    </article>                                                        <article class=\"item item-news item-news-  _exist-image\" data-relevance=\"\" data-image=\"\" >\n\n    <a href=\"/news/2020/08/25/lensless-light-field\" data-id=\"26194\" >\n        <div class=\"caption\">\n                                                                    \n                \n                                <div class=\"date\">\n                    <span class=\"name\" title=\"2020-08-25\">вчера</span>\n                </div>\n                                \n                                    <h3>Физики избавились от объектива в камере светового поля</h3>\n                                \n                \n                \n                \n                \n                                                </div>\n    </a>\n    </article>                                                        <article class=\"item item-news item-news-  _exist-image\" data-relevance=\"\" data-image=\"\" >\n\n    <a href=\"/news/2020/08/25/stroke-blood-exchange\" data-id=\"26190\" >\n        <div class=\"caption\">\n                                                                    \n                \n                                <div class=\"date\">\n                    <span class=\"name\" title=\"2020-08-25\">вчера</span>\n                </div>\n                                \n                                    <h3>Переливание крови спасло мышей от последствий инсульта</h3>\n                                \n                \n                \n                \n                \n                                                </div>\n    </a>\n    </article>                                                </div>\n\n\n\n\n\n\n                    </div>\n\n                    \n\n                </div>\n                                \n                <footer class=\"article-footer\">\n                    <div class=\"row\">\n                        <div class=\"col col-3\" data-adaptive=\"1\" data-mobile-class=\"col-1\">\n                            <p>Нашли опечатку? Выделите фрагмент и нажмите Ctrl+Enter.</p>\n                        </div>\n                        <div class=\"col col-1 _mobile-hidden _tablet-hidden\">\n                            <nav class=\"nav-share\">\n    <ul class=\"social-likes\">\n\t\t<li class=\"facebook\"></li>\n\t\t<li class=\"twitter\"></li>\n\t\t<li class=\"vkontakte\"></li>\n\t\t<li class=\"odnoklassniki\"></li>\n    </ul>\n</nav>\n                        </div>\n                    </div>\n                </footer>\n\n                <div class=\"ad ad-footer\">\n                    \t\t\t                                                                                        </div>\n                \n                \n            </div>\n\n                                        \n            <div class=\"row row-wrap\">\n                            </div>\n            <div class=\"row row-wrap\">\n                <div class=\"col col-full\" data-adaptive=\"1\"  data-mobile-class=\"col-1\">\n                                        \n                                    </div>\n            </div>\n            <div class=\"row\" data-adaptive=\"1\" data-tablet-class=\"row-wrap\" data-mobile-class=\"row-wrap\" data-type=\"also\">\n                <div class=\"col col-3\" data-adaptive=\"1\" data-mobile-class=\"col-1\">\n                    \n                                        <section id=\"also\">\n                                                <h4 class=\"pull-left\">Читайте также</h4>\n                        <div class=\"col col-also\">\n                                                            <article class=\"item item-news item-news-ill  _exist-image\" data-relevance=\"\" data-image=\"\" >\n\n    <a href=\"/news/2020/08/25/no-tanks\" data-id=\"26183\" >\n        <div class=\"caption\">\n                            <div style=\"background-image:url(https://nplus1.ru/images/2020/08/25/6dcf6f3297265f5a672ab48fe6b54f73.jpg)\" class=\"ill\"></div>\n                                                                    \n                \n                                \n                                    <h3>Британцы задумались об отказе от танков</h3>\n                                \n                \n                \n                \n                \n                                                </div>\n    </a>\n    </article>                                                            <article class=\"item item-news item-news-ill  _exist-image\" data-relevance=\"\" data-image=\"\" >\n\n    <a href=\"/news/2020/08/26/birds-droughts\" data-id=\"26195\" >\n        <div class=\"caption\">\n                            <div style=\"background-image:url(https://nplus1.ru/images/2020/08/25/afd114d2a1e716dc719ba514115521d6.jpg)\" class=\"ill\"></div>\n                                                                    \n                \n                                \n                                    <h3>Долгоживущие воробьиные птицы из тропических лесов отказались размножаться в засушливый год</h3>\n                                \n                \n                \n                \n                \n                                                </div>\n    </a>\n    </article>                                                            <article class=\"item item-news item-news-ill  _exist-image\" data-relevance=\"\" data-image=\"\" >\n\n    <a href=\"/news/2020/08/25/safety-in-numbers\" data-id=\"26177\" >\n        <div class=\"caption\">\n                            <div style=\"background-image:url(https://nplus1.ru/images/2020/08/25/4c2b63f370567ea79cfe76ff8df71cab.jpg)\" class=\"ill\"></div>\n                                                                    \n                \n                                \n                                    <h3>Мухи почувствовали себя безопаснее в компании слепых сородичей и магнитов</h3>\n                                \n                \n                \n                \n                \n                                                </div>\n    </a>\n    </article>                                                    </div>\n\n                    </section>\n                                    </div>\n                <div class=\"col col-1\" data-adaptive=\"1\" data-tablet-class=\"col-full _indent-bottom\">\n                    <section id=\"next\">\n                        <div class=\"col col-1\" data-adaptive=\"1\" data-tablet-class=\"col-2\">\n                                                        <article class=\"item item-article item-article-secondary  _exist-image\" data-relevance=\"\" data-image=\"https://nplus1.ru/images/2020/08/25/c66d05ffcad1cd705e66b35083c7a828.jpg\" style=background-image:url(https://nplus1.ru/images/2020/08/25/676394fcb61c99f8dba59473e1cfb401.jpg)>\n\n    <a href=\"/material/2020/08/25/shihans\" data-id=\"26188\" >\n        <div class=\"caption\">\n                                                                                    <h3>Большой башкирский риф</h3>\n                    <p class=\"subtitle\">Как стерлитамакские шиханы оказались &laquo;вратами&raquo; на дно Палеоуральского океана</p>\n                                    </div>\n    </a>\n        <nav class=\"nav-rubricator\">\n        <ul>\n            \n                        <li>\n                <a class=\"link-rubric\" href=\"/rubric/paleontology\">Палеонтология</a>\n            </li>\n                                </ul>\n    </nav>\n    </article>                                                    </div>\n                    </section>\n                </div>\n            </div>\n        </div>\n    <!--/div-->\n    \n    <div id=\"_mistake\">\n        <input type=\"hidden\" name=\"_token\" value=\"YW5YmOitihxmbytpUNfo0a25UAx06QhijMJ7Dyfg\">\n        <input type=\"hidden\" name=\"id_news\" value=\"20774\">\n        <input type=\"hidden\" name=\"id_author\" value=\"102\">\n        <input type=\"hidden\" name=\"id_editor\" value=\"0\">\n    </div>\n    <div id=\"_post\">\n        <input type=\"hidden\" name=\"_token\" value=\"YW5YmOitihxmbytpUNfo0a25UAx06QhijMJ7Dyfg\">\n        <input type=\"hidden\" name=\"id_news\" value=\"20774\">\n    </div>\n            </section>\n            <!-- / main section -->\n            \n\n            <div id=\"wrapper-footer\">\n            <section id=\"difficult\" class=\"_middle\">\n    <!-- Slider main container -->\n    <div class=\"swiper-container\">\n        <!-- Additional required wrapper -->\n        <div class=\"swiper-wrapper\">\n                        <div class=\"swiper-slide\">\n                <div class=\"heading\">\n                    <div class=\"num\">\n                        <div class=\"value\">7.9</div>\n                    </div>\n                    <p>Коэффициент сложности</p>\n                </div>\n                <h3><a href=\"/news/2020/08/18/kerrcats\">Физики предложили кодировать кубиты котами Шредингера</a></h3>\n            </div>\n                        <div class=\"swiper-slide\">\n                <div class=\"heading\">\n                    <div class=\"num\">\n                        <div class=\"value\">7.1</div>\n                    </div>\n                    <p>Коэффициент сложности</p>\n                </div>\n                <h3><a href=\"/news/2020/08/19/josephson-effect-in-time-crystals\">Физики впервые заставили временные кристаллы провзаимодействовать</a></h3>\n            </div>\n                        <div class=\"swiper-slide\">\n                <div class=\"heading\">\n                    <div class=\"num\">\n                        <div class=\"value\">6.9</div>\n                    </div>\n                    <p>Коэффициент сложности</p>\n                </div>\n                <h3><a href=\"/news/2020/08/19/photon-exciton\">Фотоны связали электроны и дырки в полупроводнике</a></h3>\n            </div>\n                        <div class=\"swiper-slide\">\n                <div class=\"heading\">\n                    <div class=\"num\">\n                        <div class=\"value\">6.8</div>\n                    </div>\n                    <p>Коэффициент сложности</p>\n                </div>\n                <h3><a href=\"/material/2020/08/20/demonology\">Работай, черт</a></h3>\n            </div>\n                        <div class=\"swiper-slide\">\n                <div class=\"heading\">\n                    <div class=\"num\">\n                        <div class=\"value\">6.1</div>\n                    </div>\n                    <p>Коэффициент сложности</p>\n                </div>\n                <h3><a href=\"/news/2020/08/24/humanly-traversable-wormholes\">Крупные устья кротовых нор позволят человеку пережить приливные силы</a></h3>\n            </div>\n                        <div class=\"swiper-slide\">\n                <div class=\"heading\">\n                    <div class=\"num\">\n                        <div class=\"value\">6.1</div>\n                    </div>\n                    <p>Коэффициент сложности</p>\n                </div>\n                <h3><a href=\"/news/2020/08/17/hello-cybersecure-world\">Флаги наших спецов</a></h3>\n            </div>\n                        <div class=\"swiper-slide\">\n                <div class=\"heading\">\n                    <div class=\"num\">\n                        <div class=\"value\">5.9</div>\n                    </div>\n                    <p>Коэффициент сложности</p>\n                </div>\n                <h3><a href=\"/material/2020/08/19/y-trouble\">Полураспад Адама</a></h3>\n            </div>\n                        <div class=\"swiper-slide\">\n                <div class=\"heading\">\n                    <div class=\"num\">\n                        <div class=\"value\">5.5</div>\n                    </div>\n                    <p>Коэффициент сложности</p>\n                </div>\n                <h3><a href=\"/news/2020/08/19/nanouranium\">Магнетит помог урану образовать оксидные нанокристаллы</a></h3>\n            </div>\n                        <div class=\"swiper-slide\">\n                <div class=\"heading\">\n                    <div class=\"num\">\n                        <div class=\"value\">5.1</div>\n                    </div>\n                    <p>Коэффициент сложности</p>\n                </div>\n                <h3><a href=\"/news/2020/08/20/bacterial-pomp\">Биологи уличили анаэробные бактерии в клеточном дыхании с помощью Rnf-насоса</a></h3>\n            </div>\n                        <div class=\"swiper-slide\">\n                <div class=\"heading\">\n                    <div class=\"num\">\n                        <div class=\"value\">5</div>\n                    </div>\n                    <p>Коэффициент сложности</p>\n                </div>\n                <h3><a href=\"/news/2020/08/25/birds-genes-agression\">Суперген сделал белошейных зонотрихий агрессивнее</a></h3>\n            </div>\n                        \n        </div>\n        <!-- If we need pagination -->\n        <div class=\"swiper-pagination\"></div>\n        <div class=\"swiper-button-prev\"></div>\n        <div class=\"swiper-button-next\"></div>\n    </div>\n    <h6>Самое сложное</h6>\n</section>\n\n\n            <div class=\"ad ad-col border\">\n                    \t    </div>\n\n            <!-- footer -->\n            <footer id=\"footer\">\n    <div class=\"row\" data-adaptive=\"1\" data-middle-class=\"row-wrap\" data-tablet-class=\"row-wrap\" data-mobile-class=\"row-wrap\">\n        <div class=\"col col-logo\">\n            <a href=\"/\" class=\"link-logo\"><img src=\"/i/logo-alt.png\"/></a>\n        </div>\n        <div class=\"col col-footer-desc\">\n            <nav class=\"nav-pages\">\n                <ul>\n                    <li>\n                        <a href=\"/about\">О нас</a>\n                    </li>\n                    <li>\n                        <a href=\"/adv\">Рекламодателям</a>\n                    </li>\n                    <li>\n                        <a href=\"/rules\">Наши материалы</a>\n                    </li>\n                    <li>\n                        <a href=\"/vacancy\">Вакансии</a>\n                    </li>\n                    <li>\n                        <a href=\"/difficult\">Сложность</a>\n                    </li>\n                </ul>\n            </nav>\n            <div class=\"desc\">\n                <p>&copy; 2020 N+1 Интернет-издание &nbsp; Свидетельство о регистрации СМИ Эл № ФС77-67614</p>\n                                \n                    <p>Использование всех текстовых материалов без изменений в некоммерческих целях разрешается со ссылкой на N+1. \n                        Все аудиовизуальные произведения являются собственностью своих авторов и правообладателей и используются \n                        только в образовательных и информационных целях. Если вы являетесь собственником того или иного произведения \n                        и не согласны с его размещением на нашем сайте, пожалуйста, напишите на kirill@nplus1.ru</p>\n                    <p>Материалы, опубликованные в разделе «Блоги», отражают позиции их авторов, которые могут не совпадать с мнением редакции.</p>\n                    <p>Сайт может содержать контент, не предназначенный для лиц младше 18 лет.</p>\n                    <p>\n                        <a href=\"https://nplus1.ru/personal-data-policy\" class=\"pd\">Политика обработки персональных данных пользователей сайта</a>\n                    </p>\n                    <p>\n                        <script async type=\"text/javascript\" src=\"//s.luxupcdnc.com/t/consent_195458.js\"></script> \n                        <a href=\"#\" onclick=\"if(window.__lxG__consent__ !== undefined) {window.__lxG__consent__.showConsent()} else {alert('This function works only for users from the European Economic Area (EEA).')}; return false\">Change privacy settings</a>\n                    </p>\n                \n                <p>\n                                    </p>\n            </div>\n        </div>\n        <div class=\"col col-1 pull-right\">\n            <nav class=\"nav-social\">\n                <ul>\n                    <li>\n                        <a href=\"https://t.me/nplusone\"><i class=\"fa fa-telegram\"></i></a>\n                    </li>\n                    <li>\n                        <a href=\"http://vk.com/nplusone\"><i class=\"fa fa-vk\"></i></a>\n                    </li>\n                    <li>\n                        <a href=\"https://www.facebook.com/nplusone\"><i class=\"fa fa-facebook\"></i></a>\n                    </li>\n                    <li>\n                        <a href=\"https://twitter.com/nplusodin\"><i class=\"fa fa-twitter\"></i></a>\n                    </li>\n                    <li>\n                        <a href=\"https://ok.ru/nplus1\"><i class=\"fa fa-odnoklassniki\"></i></a>\n                    </li>\n                    <li>\n                        <a href=\"https://soundcloud.com/nplus_1\"><i class=\"fa fa-soundcloud\"></i></a>\n                    </li>\n                    <li>\n                        <a href=\"/rss\"><i class=\"fa fa-rss\"></i></a>\n                    </li>\n                </ul>\n            </nav>\n            <div class=\"partners\">\n                \t\t\t\t\t\t\t\t\t\t\t\t\n\t\t\t\t\n                <!-- Rating@Mail.ru counter -->\n<script type=\"text/javascript\">\nvar _tmr = window._tmr || (window._tmr = []);\n_tmr.push({id: \"3084572\", type: \"pageView\", start: (new Date()).getTime()});\n(function (d, w, id) {\n  if (d.getElementById(id)) return;\n  var ts = d.createElement(\"script\"); ts.type = \"text/javascript\"; ts.async = true; ts.id = id;\n  ts.src = \"https://top-fwz1.mail.ru/js/code.js\";\n  var f = function () {var s = d.getElementsByTagName(\"script\")[0]; s.parentNode.insertBefore(ts, s);};\n  if (w.opera == \"[object Opera]\") { d.addEventListener(\"DOMContentLoaded\", f, false); } else { f(); }\n})(document, window, \"topmailru-code\");\n</script><noscript><div>\n<img src=\"https://top-fwz1.mail.ru/counter?id=3084572;js=na\" style=\"border:0;position:absolute;left:-9999px;\" alt=\"Top.Mail.Ru\" />\n</div></noscript>\n<!-- //Rating@Mail.ru counter -->\n\n\n\n            </div>\n        </div>\n    </div>\n</footer>            <!-- / footer -->\n            </div>\n        </div>\n    \n    </div>\n    \n\n<!-- Google Tag Manager -->\n<script>(function(w,d,s,l,i){w[l]=w[l]||[];w[l].push({'gtm.start':\nnew Date().getTime(),event:'gtm.js'});var f=d.getElementsByTagName(s)[0],\nj=d.createElement(s),dl=l!='dataLayer'?'&l='+l:'';j.async=true;j.src=\n'https://www.googletagmanager.com/gtm.js?id='+i+dl;f.parentNode.insertBefore(j,f);\n})(window,document,'script','dataLayer','GTM-MNJC58');</script>\n<!-- End Google Tag Manager -->\n\n<!-- Google Tag Manager (noscript) -->\n<noscript><iframe src=\"https://www.googletagmanager.com/ns.html?id=GTM-MNJC58\"\nheight=\"0\" width=\"0\" style=\"display:none;visibility:hidden\"></iframe></noscript>\n<!-- End Google Tag Manager (noscript) -->\n\n\n\n    <noscript><div><img src=\"//mc.yandex.ru/watch/29654565\" style=\"position:absolute; left:-9999px;\" alt=\"\" /></div></noscript>\n\t\t\n\t\n\t</div>\n\n\n\n<script src=\"/js/lib/js.cookie.js\"></script>\n<script src=\"/js/lib/jquery.swap.js\"></script>\n<script src=\"/js/lib/swiper.jquery.min.js\"></script>\n<script src=\"/js/lib/svg.js\"></script>\n<script src=\"/js/lib/jquery.mobile-events.min.js\"></script>\n<script src=\"/js/lib/social-likes.min.js\"></script>\n<script src=\"/js/lib/jquery.sticky.js\"></script>\n\n\n<script src=\"/js/lib/ts.js\"></script>\n<script src=\"/js/lib/js.cookie.js\"></script>\n<script type=\"text/javascript\" async src=\"https://relap.io/api/v6/head.js?token=sTVMyshMYp9i7-rv\"></script>\n\n\n<script async src=\"https://cdn.onthe.io/io.js/QCyUUwp6IVuR\"></script>\n<script>\nwindow._io_config = window._io_config || {};\nwindow._io_config[\"0.2.0\"] = window._io_config[\"0.2.0\"] || [];\nwindow._io_config[\"0.2.0\"].push({\n    page_url: document.location.toString(),\n    page_url_canonical: document.querySelector('link[rel=\"canonical\"]').href,\n    page_title: document.querySelector('title').innerHTML,\n    page_type: \"article\",\n    page_language: \"ru\",\n    article_authors: [document.querySelector('meta[name=\"author\"]').content || ''],\n    article_publication_date: (new Date(document.querySelector('meta[itemprop=\"datePublished\"]').content).toUTCString()).toString()\n});\n</script>\n\n<!--   project scripts -->\n<script src=\"/js/main.min.js?v=1592278962\"></script>\n<!-- / project scripts -->\n\n\n\n\n<!-- Quantcast Tag -->\n<script type=\"text/javascript\">\nvar _qevents = _qevents || [];\n\n(function() {\nvar elem = document.createElement('script');\nelem.src = (document.location.protocol == \"https:\" ? \"https://secure\" : \"http://edge\") + \".quantserve.com/quant.js\";\nelem.async = true;\nelem.type = \"text/javascript\";\nvar scpt = document.getElementsByTagName('script')[0];\nscpt.parentNode.insertBefore(elem, scpt);\n})();\n\n_qevents.push({\nqacct:\"p-s3ftDEFzEW5x7\"\n});\n</script>\n\n<noscript>\n<div style=\"display:none;\">\n<img src=\"//pixel.quantserve.com/pixel/p-s3ftDEFzEW5x7.gif\" border=\"0\" height=\"1\" width=\"1\" alt=\"Quantcast\"/>\n</div>\n</noscript>\n<!-- End Quantcast tag -->\n</body>\n</html>\n"
    }
   ],
   "source": [
    "# Выведем полученные данные    \n",
    "print(response.text)"
   ]
  },
  {
   "cell_type": "markdown",
   "metadata": {},
   "source": [
    "### 9.6 Основы HTML\n",
    "---\n",
    "### 9.7 Библиотека BeautifulSoup\n",
    "---"
   ]
  },
  {
   "cell_type": "code",
   "execution_count": 28,
   "metadata": {
    "tags": []
   },
   "outputs": [
    {
     "output_type": "stream",
     "name": "stdout",
     "text": "<title>Робота-ленивца научили лазать по паутине из тросов</title>\n"
    },
    {
     "output_type": "execute_result",
     "data": {
      "text/plain": "'Робота-ленивца научили лазать по паутине из тросов'"
     },
     "metadata": {},
     "execution_count": 28
    }
   ],
   "source": [
    "# Импортируем наши библиотеки    \n",
    "from bs4 import BeautifulSoup    \n",
    "    \n",
    "# Получаем данные, как и ранее    \n",
    "url = 'https://nplus1.ru/news/2019/06/04/slothbot'   \n",
    "response = requests.get(url)    \n",
    "    \n",
    "# Теперь создадим объект BeautifulSoup, указывая html парсер    \n",
    "page = BeautifulSoup(response.text, 'html.parser')    \n",
    "    \n",
    "# Всё готово, чтобы получать данные из страницы    \n",
    "# Для начала получим title, отображающийся на закладках браузера    \n",
    "print(page.title)\n",
    "    \n",
    "# Мы получили тэг. Чтобы достать из него текст, вызовем атрибут text    \n",
    "page.title.text"
   ]
  },
  {
   "cell_type": "markdown",
   "metadata": {},
   "source": [
    "### Задание 2 (9.7.2) - Текст тайтла\n",
    "У вас переменная soup с объектом BeautifulSoup для html-страницы. Введите строку, которая вернёт текст для тайтла (title) страницы\n",
    "\n",
    "***Ответ:***\n",
    "```python\n",
    "soup.title.text\n",
    "```  \n",
    "\n",
    "### 9.8 Данные со страницы\n",
    "---"
   ]
  },
  {
   "cell_type": "code",
   "execution_count": 30,
   "metadata": {},
   "outputs": [
    {
     "output_type": "execute_result",
     "data": {
      "text/plain": "'Робота-ленивца научили лазать по паутине из тросов'"
     },
     "metadata": {},
     "execution_count": 30
    }
   ],
   "source": [
    "# Мы получили данные из title, но как нам забрать текст с самой страницы? Мы можем сделать это, запросив содержимое определённых тэгов. \n",
    "# Пусть мы знаем, что заголовок статьи находится в тэге h1. Тогда мы можем получить его текст с помощью метода find\n",
    "page.find('h1').text"
   ]
  },
  {
   "cell_type": "code",
   "execution_count": 31,
   "metadata": {
    "tags": []
   },
   "outputs": [
    {
     "output_type": "stream",
     "name": "stdout",
     "text": "\n18:27\n04 Июнь 2019\n\n"
    }
   ],
   "source": [
    "# Как узнать, какой именно тэг нужен? Проще всего это сделать с помощью \"инструментов разработчика\", которые есть во всех современных браузерах. Открыть их можно двумя способами:\n",
    "# 1. Можно нажать на желаемый элемент правой кнопкой мыши и выбрать \"Inspect\" из выпадающего списка. \n",
    "# 2.  Нажать горячие клавиши (ctrl-shift-i в chrome или ctrl-shift-c в firefox), которые откроют эту же панель и дальше найти элемент.\n",
    "# Воспользовавшись этим подходом, давайте получим время написания статьи. Смотрим, в каком она тэге. Видим, что это тэг time. Получим данные.\n",
    "\n",
    "print(page.find('time').text)"
   ]
  },
  {
   "cell_type": "markdown",
   "metadata": {},
   "source": [
    "### Задание 1 (9.8.1) - Заголовок в Википедии\n",
    "Используя инструменты для разработчиков в браузере, определите, в каком тэге лежит большой заголовок на странице в википедии\n",
    "\n",
    "***Ответ:*** - h1\n",
    "\n",
    "### Задание 2 (9.8.2) - Автоматический сбор заголовков\n",
    "Напишите функцию wiki_header, которая по адресу страницы возвращает заголовок для статей на википедии\n",
    "\n",
    "***Ответ:*** \n",
    "```python\n",
    "def wiki_header(d_url):\n",
    "    response = requests.get(d_url)\n",
    "    page = BeautifulSoup(response.text, 'html.parser')\n",
    "    return page.h1.text\n",
    "```"
   ]
  },
  {
   "cell_type": "code",
   "execution_count": 32,
   "metadata": {},
   "outputs": [
    {
     "output_type": "execute_result",
     "data": {
      "text/plain": "'Operating system'"
     },
     "metadata": {},
     "execution_count": 32
    }
   ],
   "source": [
    "# проверка кода\n",
    "def wiki_header(d_url):\n",
    "    response = requests.get(d_url)\n",
    "    page = BeautifulSoup(response.text, 'html.parser')\n",
    "    return page.h1.text\n",
    "\n",
    "wiki_header('https://en.wikipedia.org/wiki/Operating_system') "
   ]
  },
  {
   "cell_type": "markdown",
   "metadata": {},
   "source": [
    "### 9.9 Больше данных\n",
    "---\n",
    "Мы рассмотрели базовый поиск конкретного элемента. Могут встречаться другие вариации:  \n",
    "- когда нам нужно получить много похожих элементов; \n",
    "- когда тэг атрибута неуникальный, тогда нам нужно использовать атрибуты (id, class), либо использовать вложенность.  \n",
    "\n",
    "Посмотрим на практике, что делать в случае, когда тэг элемента неуникальный. Пусть мы хотим получить сам текст статьи про ***Робота-ленивца***. Мы видим, что он находится в тэге div"
   ]
  },
  {
   "cell_type": "code",
   "execution_count": 33,
   "metadata": {
    "tags": []
   },
   "outputs": [
    {
     "output_type": "stream",
     "name": "stdout",
     "text": "Функционирует при финансовой поддержке Федерального агентства по печати и массовым коммуникациям (Роспечать)\n"
    }
   ],
   "source": [
    "# Тэги div очень распространённые, их много на странице. Если мы просто используем find, то получим первый попавшийся, но это не то, что нам надо.\n",
    "print(page.find('div').text)"
   ]
  },
  {
   "cell_type": "code",
   "execution_count": 35,
   "metadata": {
    "tags": []
   },
   "outputs": [
    {
     "output_type": "stream",
     "name": "stdout",
     "text": "\n\n\n\n\n\nAllison Carter, Georgia Tech\n\n\n\n\n\nАмериканские инженеры разработали робота-ленивца, способного лазать по тросам и перемещаться с одного троса на другой. Благодаря относительно малому потреблению энергии и использованию солнечных панелей подобного робота можно практически неограниченное время использовать для наблюдений на деревьях в лесу, рассказывают авторы статьи, представленной на конференции ICRA 2019.\nСоздание роботов, способных лазать по тросам — важная технологическая задача, наработки из которой потенциально применимы во многих областях. К примеру, в 2016 году в России создали робота для проверки высоковольтных линий электропередачи. Дрон спускает такого робота на грозозащитный трос, после чего тот самостоятельно перемещается вдоль основных проводов и осматривает их. Кроме того, потенциально таких роботов можно применять для исследований в густых лесах, в которых ветки соседних деревьев соприкасаются.\nИнженеры из Технологического института Джорджии под руководством Магнуса Эгерштедта (Magnus Egerstedt) вдохновились ленивцами и решили создать энергоэффективного робота, на основе которого можно было бы создать робота, способного лазать по веткам. Робот состоит из двух частей и передвигается благодаря колесу в каждой части, соприкасающемуся с тросом.\n\nКроме того, в каждой части робота есть две полноценные шестерни и две связанные с ними, но с вырезанным сектором. Внутрь такой шестерни продет\nтрос. При движении вперед шестерня расположена таким образом, чтобы трос не мог выйти за ее пределы. Если же роботу необходимо перейти на смежный трос, шестерня поворачивается так, чтобы вырез располагался горизонтально. Перемещаться между смежными тросами роботу помогает еще один двигатель в петле, соединяющей две части.\n\n\n\n\n\n\n\n\n\nКомпоненты одной из двух частей робота\nGennaro Notomista et al. / IEEE Robotics and Automation Letters, 2019\n\n\n\nПоделиться\n\n\n\n\n\n\n\n\n\n\n\n\n\n\n\n\n\nДля питания робот использует аккумулятор емкостью 1000 миллиампер-часов, а также две солнечные панели, располагающиеся по бокам одной из частей. Разработчики отмечают, что благодаря применению колес для движения по тросам, а также пассивному механизму удержания, робот имеет большую энергоэффективность, чем другие роботы, предназначенные для перемещения по тросам.\n\n\n\n\n\n\n\n\n\nМеханизм блокировки троса\nGennaro Notomista et al. / IEEE Robotics and Automation Letters, 2019\n\n\n\nПоделиться\n\n\n\n\n\n\n\n\n\n\n\n\n\n\n\n\n\nКроме создания аппаратной платформы инженеры также написали для робота программное обеспечение, позволяющее ему самому прокладывать путь по тросам. Пользователь может указать точку, за которой необходимо наблюдать, после чего робот, имея карту системы тросов, самостоятельно рассчитает путь до наиболее близкой к заданной точке наблюдательной позиции.\nРанее инженеры из Технологического института Джорджии создали другого робота-ленивца для работы на тросе. Он так же состоит из двух частей, но имеет совершенно другую конструкцию и принцип работы. Он способен зацепляться концом одной части за трос и раскачивать другую, чтобы затем зацепиться ей. После этого он может отпустить первую часть и снова начать раскачиваться для того, чтобы двигаться дальше.\nГригорий Копиев\n\n"
    }
   ],
   "source": [
    "# Тут мы можем заметить, что у искомого текста есть свой класс GeneralMaterial-body. Воспользуемся этим:  в метод find можно передать аргумент class_\n",
    "print(page.find('div', class_='body').text)"
   ]
  },
  {
   "cell_type": "markdown",
   "metadata": {},
   "source": [
    "### Задание 1. (9.9.1) Поиск элемента\n",
    "У вас есть переменная page, в которой хранится содержимое html-страницы. На странице есть элемент в тэге span, у которого атрибут id равен 'target'. Напишите строчку кода, которая присвоит текст этого элемента переменной value.  \n",
    "Запишите ваш код в одну строку без пробелов. Используйте апострофы для передачи параметров, содержащих значение тэга и его id.\n",
    "\n",
    "***Ответ:***\n",
    "```python\n",
    "value = page.find('span', id='target').text\n",
    "```"
   ]
  },
  {
   "cell_type": "code",
   "execution_count": 37,
   "metadata": {},
   "outputs": [],
   "source": [
    "# проверку кода выполнить не удается потому что это вымыленная задача не привязанная к page\n",
    "# value = page.find('span', id='target').text\n",
    "# print(value)"
   ]
  },
  {
   "cell_type": "markdown",
   "metadata": {},
   "source": [
    "### 9.10 Сбор нескольких элементов\n",
    "---\n",
    "Рассмотрим случай, когда нам нужно сразу много элементов. Пусть мы хотим получить название всех ссылок на странице в википедии про языки программирования."
   ]
  },
  {
   "cell_type": "code",
   "execution_count": 38,
   "metadata": {},
   "outputs": [
    {
     "output_type": "execute_result",
     "data": {
      "text/plain": "<a id=\"top\"></a>"
     },
     "metadata": {},
     "execution_count": 38
    }
   ],
   "source": [
    "# Для ссылок существует тэг <a></a>.  Давайте попробуем использовать find\n",
    "url = 'https://en.wikipedia.org/wiki/List_of_programming_languages'  \n",
    "  \n",
    "response = requests.get(url)  \n",
    "page = BeautifulSoup(response.text, 'html.parser')  \n",
    "page.find('a')"
   ]
  },
  {
   "cell_type": "code",
   "execution_count": 40,
   "metadata": {
    "tags": []
   },
   "outputs": [
    {
     "output_type": "stream",
     "name": "stdout",
     "text": "кол-во ссылок:=926\n['Oxygene', 'Oz', 'edit', 'P', 'P4', 'P′′', 'ParaSail (programming language)', 'PARI/GP', 'Pascal', 'Pascal Script']\n"
    }
   ],
   "source": [
    "# Что-то пошло не так, и мы получили только одну ссылку, хотя на странице их явно больше. Это происходит, потому что метод find возвращает только первый подходящий элемент. Если нам надо их больше, нужно воспользоваться методом find_all\n",
    "links = page.find_all('a')  \n",
    "# Посмотрим, сколько всего мы получили  \n",
    "print(f'кол-во ссылок:={len(links)}')  \n",
    "# => 937\n",
    "  \n",
    "# Посмотрим на некоторые из ссылок (например с 500-ой по 510)  \n",
    "print([link.text for link in links[500:510]])  "
   ]
  },
  {
   "cell_type": "code",
   "execution_count": 41,
   "metadata": {
    "tags": []
   },
   "outputs": [
    {
     "output_type": "stream",
     "name": "stdout",
     "text": "['A.NET', 'A-0 System', 'A+', 'ABAP', 'ABC', 'ABC ALGOL', 'ACC', 'Accent', 'Ace DASL (Distributed Application Specification Language)', 'Action!']\n"
    }
   ],
   "source": [
    "# Ещё одна полезная вещь:  последовательный поиск, т.е. мы можем найти сначала один элемент, а потом сделать внутри него второй поиск. Давайте выведем названия всех ссылок для языков программирования, которые начинаются на цифру \"1\".\n",
    "\n",
    "# Получаем элемент первого блока со ссылками  \n",
    "first_block = page.find('div', class_='div-col')  \n",
    "  \n",
    "# Берём оттуда ссылки (ограничимся первыми десятью)  \n",
    "links = first_block.find_all('a')  \n",
    "print([link.text for link in links[:10]]) "
   ]
  },
  {
   "cell_type": "markdown",
   "metadata": {},
   "source": [
    "### Задание 1 (9.10.1) - Актёры\n",
    "Напишите функцию get_actors, которая по ссылке на страницу фильма на кинопоиске возвращает список актёров из колонки справа\n",
    "\n",
    "***Ответ:***\n",
    "```python\n",
    "def get_actors(d_url):\n",
    "    d_response = requests.get(d_url)\n",
    "\n",
    "    if d_response.status_code == 200:\n",
    "        d_page = BeautifulSoup(d_response.text, 'html.parser')\n",
    "\n",
    "        d_links = d_page.find_all('li', itemprop = 'actors')\n",
    "    else:\n",
    "        print(f'запрос вернулся с ошибкой:= {d_response.status_code}')\n",
    "    return [link.text for link in d_links]\n",
    "```"
   ]
  },
  {
   "cell_type": "code",
   "execution_count": 46,
   "metadata": {},
   "outputs": [
    {
     "output_type": "execute_result",
     "data": {
      "text/plain": "[]"
     },
     "metadata": {},
     "execution_count": 46
    }
   ],
   "source": [
    "# проверка кода\n",
    "def get_actors(d_url):\n",
    "    d_response = requests.get(d_url)\n",
    "\n",
    "    if d_response.status_code == 200:\n",
    "        d_page = BeautifulSoup(d_response.text, 'html.parser')\n",
    "\n",
    "        d_links = d_page.find_all('li', itemprop = 'actors')\n",
    "    else:\n",
    "        print(f'запрос вернулся с ошибкой:= {d_response.status_code}')\n",
    "    return [link.text for link in d_links]\n",
    "get_actors('https://www.kinopoisk.ru/film/42326/')"
   ]
  },
  {
   "cell_type": "markdown",
   "metadata": {},
   "source": [
    "### 9.11 HTML-таблицы\n",
    "---\n",
    "Постановка задачи\n",
    "При работе с web-страницами было бы здорово получать содержимое  таблиц в виде датафрейма. Рассмотрим страницу ключевых показателей Центрального банка РФ cbr.ru. Наша задача будет состоять в том, чтобы получить одну из таблиц виджетов в виде датафрейма. Например, таблицу цен на драгоценные металлы."
   ]
  },
  {
   "cell_type": "code",
   "execution_count": 62,
   "metadata": {},
   "outputs": [
    {
     "output_type": "display_data",
     "data": {
      "text/plain": "                 0           1\n0  рублей за грамм  26.08.2020\n1       Золото  Au     4612.67\n2      Серебро  Ag       63.47\n3      Платина  Pt     2208.77\n4     Палладий  Pd     5188.94",
      "text/html": "<div>\n<style scoped>\n    .dataframe tbody tr th:only-of-type {\n        vertical-align: middle;\n    }\n\n    .dataframe tbody tr th {\n        vertical-align: top;\n    }\n\n    .dataframe thead th {\n        text-align: right;\n    }\n</style>\n<table border=\"1\" class=\"dataframe\">\n  <thead>\n    <tr style=\"text-align: right;\">\n      <th></th>\n      <th>0</th>\n      <th>1</th>\n    </tr>\n  </thead>\n  <tbody>\n    <tr>\n      <th>0</th>\n      <td>рублей за грамм</td>\n      <td>26.08.2020</td>\n    </tr>\n    <tr>\n      <th>1</th>\n      <td>Золото  Au</td>\n      <td>4612.67</td>\n    </tr>\n    <tr>\n      <th>2</th>\n      <td>Серебро  Ag</td>\n      <td>63.47</td>\n    </tr>\n    <tr>\n      <th>3</th>\n      <td>Платина  Pt</td>\n      <td>2208.77</td>\n    </tr>\n    <tr>\n      <th>4</th>\n      <td>Палладий  Pd</td>\n      <td>5188.94</td>\n    </tr>\n  </tbody>\n</table>\n</div>"
     },
     "metadata": {}
    }
   ],
   "source": [
    "import pandas as pd  \n",
    "url = 'https://www.cbr.ru/key-indicators/'  \n",
    "\n",
    "# Таблица с драгметаллами оказалась второй по счёту  \n",
    "display(pd.read_html(url, thousands =\" \", decimal = \",\")[1])"
   ]
  },
  {
   "cell_type": "markdown",
   "metadata": {},
   "source": [
    "### Задание 1 (9.11.1) - Курсы валют через read_html\n",
    "Попробуйте запустить pandas для заданного выше url. Какая строчка вернёт таблицу с курсами валют?\n",
    "\n",
    "***Ответ:***\n",
    "```python\n",
    "pd.read_html(url)[0]\n",
    "```"
   ]
  },
  {
   "cell_type": "code",
   "execution_count": 66,
   "metadata": {},
   "outputs": [
    {
     "output_type": "display_data",
     "data": {
      "text/plain": "                 0           1           2\n0           валюта  25.08.2020  26.08.2020\n1  Доллар США  USD      744184      745126\n2        Евро  EUR      879030      880590",
      "text/html": "<div>\n<style scoped>\n    .dataframe tbody tr th:only-of-type {\n        vertical-align: middle;\n    }\n\n    .dataframe tbody tr th {\n        vertical-align: top;\n    }\n\n    .dataframe thead th {\n        text-align: right;\n    }\n</style>\n<table border=\"1\" class=\"dataframe\">\n  <thead>\n    <tr style=\"text-align: right;\">\n      <th></th>\n      <th>0</th>\n      <th>1</th>\n      <th>2</th>\n    </tr>\n  </thead>\n  <tbody>\n    <tr>\n      <th>0</th>\n      <td>валюта</td>\n      <td>25.08.2020</td>\n      <td>26.08.2020</td>\n    </tr>\n    <tr>\n      <th>1</th>\n      <td>Доллар США  USD</td>\n      <td>744184</td>\n      <td>745126</td>\n    </tr>\n    <tr>\n      <th>2</th>\n      <td>Евро  EUR</td>\n      <td>879030</td>\n      <td>880590</td>\n    </tr>\n  </tbody>\n</table>\n</div>"
     },
     "metadata": {}
    }
   ],
   "source": [
    "# провекрка кода\n",
    "display(pd.read_html(url)[0])"
   ]
  },
  {
   "cell_type": "markdown",
   "metadata": {},
   "source": [
    "*Поиск таблицы с помощью BeautifulSoup*  \n",
    "Более надёжным решением является сначала получить только текст таблицы и передавать в pandas только её. Так же, как и в предыдущем разделе, используем requests и BeautifulSoup, чтобы получить данные со страницы.  \n",
    "\n",
    "А теперь — внимание! В случае работы с сайтом Центробанка нам нужно будет учесть ещё один нюанс. С недавнего времени администраторы стали блокировать обращения к сайту, поступающие не от «живых» пользователей, а от компьютерных программ (в том числе от той, которую мы собираемся написать прямо сейчас). Есть ли шанс в таких условиях всё-таки получить данные, не открывая страницу в браузере?  \n",
    "\n",
    "Безусловно, это возможно. Безвыходных положений вообще не бывает, особенно в программировании! Один из способов справиться с ситуацией — «притвориться» браузером :).  \n",
    "\n",
    "Каждый запрос, отправляемый с помощью команды get, имеет заголовок. Если заголовок не задан явно, то он создаётся автоматически, и туда добавляется информация в том числе о том, кто является субъектом (или источником) запроса — человек или программа. Чтобы «притвориться» браузером, нам просто нужно вручную дописать нужные сведения в этот заголовок. Подробнее о таком подходе можно почитать в этой статье."
   ]
  },
  {
   "cell_type": "code",
   "execution_count": 67,
   "metadata": {},
   "outputs": [],
   "source": [
    "from bs4 import BeautifulSoup\n",
    "import pandas as pd\n",
    "import requests\n",
    "\n",
    "url = 'https://www.cbr.ru/key-indicators/'\n",
    "soup = BeautifulSoup(requests.get(url, headers={'User-Agent': 'Mozilla/5.0'}).text, 'html.parser')"
   ]
  },
  {
   "cell_type": "code",
   "execution_count": 68,
   "metadata": {},
   "outputs": [],
   "source": [
    "all_blocks = soup.find_all('div', class_='key-indicator_content offset-md-2')\n",
    "# Данные таблицы с драгметаллами находятся во втором блоке\n",
    "data = all_blocks[1].find('table') "
   ]
  },
  {
   "cell_type": "code",
   "execution_count": 69,
   "metadata": {},
   "outputs": [
    {
     "output_type": "execute_result",
     "data": {
      "text/plain": "                 0           1\n0  рублей за грамм  26.08.2020\n1        Золото Au    4 612,67\n2       Серебро Ag        6347\n3       Платина Pt    2 208,77\n4      Палладий Pd    5 188,94",
      "text/html": "<div>\n<style scoped>\n    .dataframe tbody tr th:only-of-type {\n        vertical-align: middle;\n    }\n\n    .dataframe tbody tr th {\n        vertical-align: top;\n    }\n\n    .dataframe thead th {\n        text-align: right;\n    }\n</style>\n<table border=\"1\" class=\"dataframe\">\n  <thead>\n    <tr style=\"text-align: right;\">\n      <th></th>\n      <th>0</th>\n      <th>1</th>\n    </tr>\n  </thead>\n  <tbody>\n    <tr>\n      <th>0</th>\n      <td>рублей за грамм</td>\n      <td>26.08.2020</td>\n    </tr>\n    <tr>\n      <th>1</th>\n      <td>Золото Au</td>\n      <td>4 612,67</td>\n    </tr>\n    <tr>\n      <th>2</th>\n      <td>Серебро Ag</td>\n      <td>6347</td>\n    </tr>\n    <tr>\n      <th>3</th>\n      <td>Платина Pt</td>\n      <td>2 208,77</td>\n    </tr>\n    <tr>\n      <th>4</th>\n      <td>Палладий Pd</td>\n      <td>5 188,94</td>\n    </tr>\n  </tbody>\n</table>\n</div>"
     },
     "metadata": {},
     "execution_count": 69
    }
   ],
   "source": [
    "df = pd.read_html(str(data))[0]  \n",
    "df  "
   ]
  },
  {
   "cell_type": "markdown",
   "metadata": {},
   "source": [
    "### Задание 2 (9.11.2) - Рейтинг банков  \n",
    "Напишите программу, которая забирает данные из таблицы рейтинга банков с https://www.banki.ru/banks/ratings/, делает из него датафрейм и сохраняет его в переменую df.\n",
    "\n",
    "***Ответ:***\n",
    "```python\n",
    "url = 'https://www.banki.ru/banks/ratings/'  \n",
    "soup = BeautifulSoup(requests.get(url, headers={'User-Agent': 'Mozilla/5.0'}).text, 'html.parser')\n",
    "\n",
    "data = soup.find(class_=\"standard-table standard-table--row-highlight margin-bottom-small margin-top-x-small\")\n",
    "\n",
    "df = pd.read_html(str(data))[0]\n",
    "```"
   ]
  },
  {
   "cell_type": "code",
   "execution_count": 74,
   "metadata": {},
   "outputs": [
    {
     "output_type": "execute_result",
     "data": {
      "text/plain": "  место               название банка лицензия №, Регион               1  \\\n0     1  Сбербанк России лицензия № 1481, Москва и обл.  31 415 098 095   \n1     2     ВТБ лицензия № 1000, Санкт-Петербург и обл.  15 269 639 853   \n\n  показатель, тыс. рублей             2 изменение  \n0          30 759 269 658  +655 828 437    +2,13%  \n1          15 029 152 247  +240 487 606    +1,60%  ",
      "text/html": "<div>\n<style scoped>\n    .dataframe tbody tr th:only-of-type {\n        vertical-align: middle;\n    }\n\n    .dataframe tbody tr th {\n        vertical-align: top;\n    }\n\n    .dataframe thead th {\n        text-align: right;\n    }\n</style>\n<table border=\"1\" class=\"dataframe\">\n  <thead>\n    <tr style=\"text-align: right;\">\n      <th></th>\n      <th>место</th>\n      <th>название банка лицензия №, Регион</th>\n      <th>1</th>\n      <th>показатель, тыс. рублей</th>\n      <th>2</th>\n      <th>изменение</th>\n    </tr>\n  </thead>\n  <tbody>\n    <tr>\n      <th>0</th>\n      <td>1</td>\n      <td>Сбербанк России лицензия № 1481, Москва и обл.</td>\n      <td>31 415 098 095</td>\n      <td>30 759 269 658</td>\n      <td>+655 828 437</td>\n      <td>+2,13%</td>\n    </tr>\n    <tr>\n      <th>1</th>\n      <td>2</td>\n      <td>ВТБ лицензия № 1000, Санкт-Петербург и обл.</td>\n      <td>15 269 639 853</td>\n      <td>15 029 152 247</td>\n      <td>+240 487 606</td>\n      <td>+1,60%</td>\n    </tr>\n  </tbody>\n</table>\n</div>"
     },
     "metadata": {},
     "execution_count": 74
    }
   ],
   "source": [
    "# проверка кода\n",
    "\n",
    "url = 'https://www.banki.ru/banks/ratings/'  \n",
    "soup = BeautifulSoup(requests.get(url, headers={'User-Agent': 'Mozilla/5.0'}).text, 'html.parser')\n",
    "\n",
    "data = soup.find(class_=\"standard-table standard-table--row-highlight margin-bottom-small margin-top-x-small\")\n",
    "\n",
    "df = pd.read_html(str(data))[0]\n",
    "\n",
    "df.columns = ['место','название банка лицензия №, Регион', '1','показатель, тыс. рублей', '2', 'изменение']\n",
    "\n",
    "df.head(2)"
   ]
  },
  {
   "cell_type": "markdown",
   "metadata": {},
   "source": [
    "### 9.12 Введение в API\n",
    "---\n",
    "В предыдущих разделах мы собирали полезную информацию с различных сайтов с выделением правильных тэгов – это довольно трудоёмкая задача. Кроме того, подобные программы могут ломаться в случаях, когда меняется дизайн сайта, его разметка, или владельцы сайтов защищаются от ботов капчей. \n",
    "\n",
    "К счастью, многие крупные сайты предоставляют доступ к так называемым API (application programming interface, программный интерфейс приложения). Это специальные разделы сайта, где информацию можно получать без разметки, формат запросов – ответов зафиксирован, и они созданы специально, чтобы облегчить жизнь сторонним разработчикам.\n",
    "\n",
    "Мы уже видели, как https://www.cbr-xml-daily.ru возвращает данные о валютах в json-формате, и это может считаться API. В этом разделе мы на примере ВКонтакте посмотрим особенности API, характерные для более крупных сайтов.\n",
    "\n",
    "### Задание 1 (9.12.1) - Создание токена\n",
    "Создайте свой токен для доступа к API вконтакте. Для ответа в этом задании введите первые его 10 символов.  \n",
    "***Ответ:*** - c39265f3c3"
   ]
  },
  {
   "cell_type": "markdown",
   "metadata": {},
   "source": [
    "### 9.13 Запрос к API\n",
    "---\n",
    "Для примера работы с API мы будем получать данные для статистических отчетов произвольной группы, например:  \n",
    "- соотношение мужчин и женщин в группе;\n",
    "- статистика географии пользователей;\n",
    "- другие данные для аналитики групп конкурентов.  \n",
    "\n",
    "Сначала рассмотрим работу API на простом примере, на основе которого работают многие системы.   \n",
    "Перейдите по следующей ссылке в браузере, подставив вместо слова \"TOKEN\" сервисный токен из прошлого шага:  \n",
    "https://api.vk.com/method/users.get?user_id=1&v=5.95&access_token=TOKEN\n",
    "\n",
    "Получим в браузере\n",
    "Результат:\n",
    "```\n",
    "{\"response\":[{\"id\":1,\"first_name\":\"Павел\",\"last_name\":\"Дуров\",\"is_closed\":false,\"can_access_closed\":true}]}\n",
    "```\n",
    "\n",
    "Сейчас мы сделали GET-запрос к API ВКонтакте, который состоит из следующих частей:\n",
    "\n",
    "- https://api.vk.com/method — домен и URL запроса API: обычно не меняется; \n",
    "- users.get — название метода, который отдает определенный отчет; нашем случае это метод для получения информации о пользователе; \n",
    "- user_id и v — параметры запроса: идентификатор пользователя, о котором хотим получить информацию, и номер версии API; \n",
    "- token, который выдается только пользователям, имеющим право просматривать определенные данные, например, показания счетчиков Яндекс, метрики вашего проекта: на все остальные запросы без корректного токена система отвечает отказом.  \n",
    "\n",
    "Если мы посмотрим документацию метода users.get, то увидим, что в ней описано множество других параметров, которые можно получить о пользователе: дата рождения, пол, родной город и другие."
   ]
  },
  {
   "cell_type": "markdown",
   "metadata": {},
   "source": [
    "### Задание 1 (9.13.1) - ID страны\n",
    "Какое значение ID у страны, указанной в профиле Павла Дурова (ID отдается вместе с названием страны)? Укажите ответ в виде целого числа.\n",
    "\n",
    "***Ответ:*** - 1  \n",
    "\n",
    "Комментарий для получения ответа можно использовать следующий запрос в брайзере\n",
    "```\n",
    "https://api.vk.com/method/users.get?user_id=1&v=5.95&fields=sex,bdate,country&access_token=TOKEN\n",
    "```"
   ]
  },
  {
   "cell_type": "markdown",
   "metadata": {},
   "source": [
    "### 9.14 Запрос к API из кода\n",
    "---\n"
   ]
  },
  {
   "cell_type": "code",
   "execution_count": 79,
   "metadata": {},
   "outputs": [
    {
     "output_type": "execute_result",
     "data": {
      "text/plain": "'{\"response\":[{\"id\":1,\"first_name\":\"Павел\",\"last_name\":\"Дуров\",\"is_closed\":false,\"can_access_closed\":true,\"sex\":2,\"bdate\":\"10.10.1984\"}]}'"
     },
     "metadata": {},
     "execution_count": 79
    }
   ],
   "source": [
    "# Мы делали запрос в браузере, теперь давайте сделаем запрос из кода. Будем пользоваться всё той же библиотекой requests.\n",
    "url = 'https://api.vk.com/method/users.get'   \n",
    "params = {'user_id': 1, 'v': 5.95, 'fields': 'sex,bdate', 'access_token': 'c39265f3c3', 'lang': 'ru'}  \n",
    "  \n",
    "# Мы можем выставить параметры запроса через аргумент params  \n",
    "response = requests.get(url, params=params)  \n",
    "response.text"
   ]
  },
  {
   "cell_type": "markdown",
   "metadata": {},
   "source": [
    "Примечание: значение 2 у параметра 'sex' означает мужской пол. "
   ]
  },
  {
   "cell_type": "code",
   "execution_count": 80,
   "metadata": {
    "tags": []
   },
   "outputs": [
    {
     "output_type": "stream",
     "name": "stdout",
     "text": "{'response': [{'bdate': '10.10.1984',\n               'can_access_closed': True,\n               'first_name': 'Павел',\n               'id': 1,\n               'is_closed': False,\n               'last_name': 'Дуров',\n               'sex': 2}]}\n"
    }
   ],
   "source": [
    "# Мы получили строку в формате JSON. Как мы помним по первому разделу, её можно преобразовать в словарь методом json и после этого обращаться к различным полям. Кроме того, такие большие вложенные словари нагляднее выводить с помощью функции pprint (~pretty print, красивый вывод), которым мы и воспользуемся\n",
    "\n",
    "from pprint import pprint  \n",
    "  \n",
    "pprint(response.json())  "
   ]
  },
  {
   "cell_type": "code",
   "execution_count": 84,
   "metadata": {
    "tags": []
   },
   "outputs": [
    {
     "output_type": "stream",
     "name": "stdout",
     "text": "дата рождения:= 10.10.1984\nимя:= Павел\n"
    }
   ],
   "source": [
    "user = response.json()['response'][0]  \n",
    "  \n",
    "# Выведем дату рождения  \n",
    "print(f'дата рождения:=', user['bdate'])  \n",
    "# Выведем имя\n",
    "print(f'имя:=', user['first_name'])  \n"
   ]
  },
  {
   "cell_type": "code",
   "execution_count": 86,
   "metadata": {
    "tags": []
   },
   "outputs": [
    {
     "output_type": "stream",
     "name": "stdout",
     "text": "1,2,3\n{'response': [{'can_access_closed': True,\n               'first_name': 'Павел',\n               'id': 1,\n               'is_closed': False,\n               'last_name': 'Дуров'},\n              {'can_access_closed': False,\n               'first_name': 'Александра',\n               'id': 2,\n               'is_closed': True,\n               'last_name': 'Владимирова'},\n              {'deactivated': 'deleted',\n               'first_name': 'DELETED',\n               'id': 3,\n               'last_name': ''}]}\n"
    }
   ],
   "source": [
    "# Данный метод позволяет запрашивать сразу много пользователей (до 1000).  Для этого нужно использовать параметр user_ids и передавать id через запятую в строковом формате, например: '1,2,3'.\n",
    "\n",
    "ids = \",\".join(map(str, range(1, 4)))  \n",
    "print(ids)  \n",
    "# => 1,2,3  \n",
    "  \n",
    "params = {'user_ids': ids, 'v': 5.95, 'fields': 'bday', 'access_token': 'c39265f3c3', 'lang': 'ru'}  \n",
    "  \n",
    "pprint(requests.get(url, params=params).json()) "
   ]
  },
  {
   "cell_type": "markdown",
   "metadata": {},
   "source": [
    "### Задание 1 (9.14.1) - Гендерный баланс\n",
    "Используя API, определите долю женщин(sex=1) среди пользователей с id от 1 до 500. Иногда вам будут попадать пользователи, у которых пол не указан (sex=0), их не нужно учитывать в общем числе.\n",
    "\n",
    "В ответе укажите число, округлив до двух знаков после запятой, например, 0.55\n",
    "\n",
    "Пример: если у нас будет 300 пользователей sex=1, 100 пользователей с sex=2 и 100 пользователей с sex=0, то в ответе должно быть 0.75"
   ]
  },
  {
   "cell_type": "code",
   "execution_count": 109,
   "metadata": {},
   "outputs": [
    {
     "output_type": "display_data",
     "data": {
      "text/plain": "      id  first_name  last_name  is_closed  can_access_closed  deactivated\nsex                                                                       \n0     79          79         79          2                  2           77\n1    203         203        203        192                192           11\n2    218         218        218        177                177           41",
      "text/html": "<div>\n<style scoped>\n    .dataframe tbody tr th:only-of-type {\n        vertical-align: middle;\n    }\n\n    .dataframe tbody tr th {\n        vertical-align: top;\n    }\n\n    .dataframe thead th {\n        text-align: right;\n    }\n</style>\n<table border=\"1\" class=\"dataframe\">\n  <thead>\n    <tr style=\"text-align: right;\">\n      <th></th>\n      <th>id</th>\n      <th>first_name</th>\n      <th>last_name</th>\n      <th>is_closed</th>\n      <th>can_access_closed</th>\n      <th>deactivated</th>\n    </tr>\n    <tr>\n      <th>sex</th>\n      <th></th>\n      <th></th>\n      <th></th>\n      <th></th>\n      <th></th>\n      <th></th>\n    </tr>\n  </thead>\n  <tbody>\n    <tr>\n      <th>0</th>\n      <td>79</td>\n      <td>79</td>\n      <td>79</td>\n      <td>2</td>\n      <td>2</td>\n      <td>77</td>\n    </tr>\n    <tr>\n      <th>1</th>\n      <td>203</td>\n      <td>203</td>\n      <td>203</td>\n      <td>192</td>\n      <td>192</td>\n      <td>11</td>\n    </tr>\n    <tr>\n      <th>2</th>\n      <td>218</td>\n      <td>218</td>\n      <td>218</td>\n      <td>177</td>\n      <td>177</td>\n      <td>41</td>\n    </tr>\n  </tbody>\n</table>\n</div>"
     },
     "metadata": {}
    }
   ],
   "source": [
    "ids = \",\".join(map(str, range(1, 501)))  \n",
    "  \n",
    "params = {'user_ids': ids, 'v': 5.95, 'fields': 'sex', 'access_token': 'c39265f3c39265f3c39265f378c3fd206ccc392c39265f39dbbfa88ff663867d2768154', 'lang': 'ru'} \n",
    "user500 = requests.get(url, params=params).json()\n",
    "\n",
    "df = pd.DataFrame(user500['response'])\n",
    "display(df.groupby('sex', as_index=True).count())"
   ]
  },
  {
   "cell_type": "code",
   "execution_count": 113,
   "metadata": {
    "tags": []
   },
   "outputs": [
    {
     "output_type": "stream",
     "name": "stdout",
     "text": "Ответ к заданию 9.14.1\nдоля женщин (sex=1) среди 421 пользователей с указанным полом:= 0.48\n"
    }
   ],
   "source": [
    "count_user_group_sex = df[df.sex != 0].groupby(['sex']).id.count()\n",
    "sum_all_users = df[df.sex != 0].groupby(['sex']).id.count().sum()\n",
    "temp = count_user_group_sex[1]/sum_all_users\n",
    "\n",
    "task = \"9.14.1\"\n",
    "print(f\"Ответ к заданию {task}\")\n",
    "print(f\"доля женщин (sex=1) среди {sum_all_users} пользователей с указанным полом:= {round(temp,2)}\")"
   ]
  },
  {
   "cell_type": "markdown",
   "metadata": {},
   "source": [
    "### 9.15 Ограничения API\n",
    "---\n",
    "В прошлом блоке мы собрали информацию о небольшом наборе пользователей. Теперь перейдем к более реальной задаче — сбору данных о пользователях группы ВКонтакте.  \n",
    "Стоит отметить, что есть много сервисов, которые выгружают похожую статистику из соцсетей. Однако им свойственны недостатки универсальных решений:  \n",
    "- не могут учитывать всех особенностей вашего проекта;\n",
    "- считают фиксированный набор метрик, дополнительную обработку данных приходится делать вам;\n",
    "- не всегда бесплатны и вряд ли позволят работать с большими объемами данных.  \n",
    "\n",
    "В этом разделе мы научимся считать произвольные метрики групп, собирая данные из API.  \n",
    "В текущем шаге мы научимся работать с двумя ограничениями, которые свойственны практически всем системам:  \n",
    "- ограничение на количество вызовов в единицу времени;\n",
    "- ограничение на количество выгружаемых строк за один запрос.  \n",
    "\n",
    "Ограничение на количество запросов в секунду сделано для того, чтобы избежать чрезмерной нагрузки на серверы системы. В ряде случаев небольшое количество отчетов можно выгрузить, уложившись в этот лимит (например, как мы получили информацию о 500 пользователях в прошлом упражнении). Однако второе ограничение не удастся «обойти» в случае выгрузки больших отчетов. Например, чтобы получить список всех пользователей очень популярной группы, серверу, возможно, придется отправить вам разом лист из миллионов записей.  \n",
    "Давайте рассмотрим, как работать с этими ограничениями на примере выгрузки списка пользователей группы https://vk.com/mountelbrus.  \n",
    "Посмотрим в документации, какие методы нам доступны для групп. Для получения списка пользователей группы видим метод groups.getMembers.  "
   ]
  },
  {
   "cell_type": "code",
   "execution_count": 11,
   "metadata": {
    "tags": []
   },
   "outputs": [
    {
     "output_type": "stream",
     "name": "stdout",
     "text": "несколько ID участников группы из запроса: [161, 273, 710, 1157, 1364, 1858, 2306, 3516, 3857, 4316]\nкол-во участников в одном запросе: 1000\n"
    }
   ],
   "source": [
    "# Согласно документации, обязательным параметром является ID или короткое имя группы. В нашем случае это mountelbrus: https://vk.com/mountelbrus. Тестируем, как работает метод в самом простом случае:\n",
    "import requests  \n",
    "url = 'https://api.vk.com/method/groups.getMembers'  \n",
    "params = {  \n",
    "    'group_id': 'mountelbrus',  \n",
    "    'v': 5.95,  \n",
    "    'access_token': TOKEN \n",
    "}  \n",
    "response = requests.get(url, params = params)  \n",
    "data = response.json()  \n",
    "print('несколько ID участников группы из запроса:', data['response']['items'][:10])  \n",
    "  \n",
    "print('кол-во участников в одном запросе:', len(data['response']['items']))  \n",
    "# => 1000     "
   ]
  },
  {
   "cell_type": "markdown",
   "metadata": {},
   "source": [
    "Мы видим, что всего пользователей в группе больше 65 000, а получили мы только первую тысячу пользователей группы. Судя по описанию параметра count в документации, это максимум, который может отдать API за один раз.  \n",
    "Для получения следующей тысячи пользователей воспользуемся параметрами count и offset: будем в цикле выгружать по 1000 пользователей (count будет всегда равен 1000), а в каждом следующем шаге цикла увеличим смещение offset на величину count.  \n",
    "Сначала напишем цикл выгрузки первых 20 пользователей со значением count = 5. Т.е. цикл будет выгружать за 1 запрос по 5 пользователей, пока не выгрузит первые 20. Это позволит нам проверить корректность работы цикла перед тем, как делать большие и долгие выгрузки.  \n",
    "Давайте выведем на экран первые 20 пользователей из нашей первой попытки с 1000 пользователей, чтобы было с чем сверить результат выгрузки из 20 пользователей:"
   ]
  },
  {
   "cell_type": "code",
   "execution_count": 12,
   "metadata": {
    "tags": []
   },
   "outputs": [
    {
     "output_type": "stream",
     "name": "stdout",
     "text": "[161, 273, 710, 1157, 1364, 1858, 2306, 3516, 3857, 4316, 4592, 4646, 4765, 4901, 4969, 4992, 5118, 5121, 5438, 5453]\n"
    }
   ],
   "source": [
    "users_for_checking = data['response']['items'][:20]  \n",
    "print(users_for_checking)"
   ]
  },
  {
   "cell_type": "markdown",
   "metadata": {},
   "source": [
    "Теперь используем count и offset, чтобы получить те же id по 5 за раз"
   ]
  },
  {
   "cell_type": "code",
   "execution_count": 14,
   "metadata": {
    "tags": []
   },
   "outputs": [
    {
     "output_type": "stream",
     "name": "stdout",
     "text": "Выгружаю 5 пользователей с offset = 0\nВыгружаю 5 пользователей с offset = 5\nВыгружаю 5 пользователей с offset = 10\nВыгружаю 5 пользователей с offset = 15\n[161, 273, 710, 1157, 1364, 1858, 2306, 3516, 3857, 4316, 4592, 4646, 4765, 4901, 4969, 4992, 5118, 5121, 5438, 5453]\n"
    },
    {
     "output_type": "execute_result",
     "data": {
      "text/plain": "True"
     },
     "metadata": {},
     "execution_count": 14
    }
   ],
   "source": [
    "count = 5  \n",
    "offset = 0  \n",
    "user_ids = []\n",
    "max_count = 20  \n",
    "while offset < max_count:  \n",
    "    print('Выгружаю {} пользователей с offset = {}'.format(count, offset))     \n",
    "    params = {  \n",
    "        'group_id': 'mountelbrus',  \n",
    "        'v': 5.95,  \n",
    "        'count': count,  \n",
    "        'offset': offset,  \n",
    "        'access_token': 'c39265f3c3'   \n",
    "    }     \n",
    "    # такой же запрос как в прошлый раз  \n",
    "    r = requests.get(url, params = params)  \n",
    "    data = r.json()     \n",
    "    user_ids += data['response']['items']   \n",
    "  \n",
    "    # увеличиваем смещение на количество строк выгрузки  \n",
    "    offset += count  \n",
    "       \n",
    "print(user_ids)  \n",
    "  \n",
    "user_ids == users_for_checking"
   ]
  },
  {
   "cell_type": "markdown",
   "metadata": {},
   "source": [
    "Видим, что подход корректно работает. Теперь мы можем получить всех пользователей, выставив count = 1000 и max_count = data\\['response'\\]\\['count'\\]"
   ]
  },
  {
   "cell_type": "markdown",
   "metadata": {},
   "source": [
    "### Задание 1 (9.15.1) - Юбилейный пользователь\n",
    "Используя API, определите id пятидесятитысячного пользователя в группе mountelbrus . Т.е. если бы у нас не было ограничения на размер запроса, то мы бы запросили data['response']['items'][49999] ."
   ]
  },
  {
   "cell_type": "code",
   "execution_count": 18,
   "metadata": {
    "tags": []
   },
   "outputs": [
    {
     "output_type": "stream",
     "name": "stdout",
     "text": "На текущий момент загружено 0 пользователей\nНа текущий момент загружено 10000 пользователей\nНа текущий момент загружено 20000 пользователей\nНа текущий момент загружено 30000 пользователей\nНа текущий момент загружено 40000 пользователей\nНа текущий момент загружено 50000 пользователей\nНа текущий момент загружено 60000 пользователей\nЗагрузка завершена. Всего загружено 67000 пользователей\n"
    }
   ],
   "source": [
    "count = 1000  \n",
    "offset = 0  \n",
    "user_ids = []\n",
    "max_count = data['response']['count']  \n",
    "while offset < max_count:  \n",
    "    if offset % 10000 == 0:\n",
    "        print(f'На текущий момент загружено {offset} пользователей')     \n",
    "    params = {  \n",
    "        'group_id': 'mountelbrus',  \n",
    "        'v': 5.95,  \n",
    "        'count': count,  \n",
    "        'offset': offset,  \n",
    "        'access_token': 'c39265f3c3'   \n",
    "    }     \n",
    "    # такой же запрос как в прошлый раз  \n",
    "    r = requests.get(url, params = params)  \n",
    "    data = r.json()     \n",
    "    user_ids += data['response']['items']   \n",
    "  \n",
    "    # увеличиваем смещение на количество строк выгрузки  \n",
    "    offset += count   \n",
    "  \n",
    "print(f'Загрузка завершена. Всего загружено {offset} пользователей')"
   ]
  },
  {
   "cell_type": "code",
   "execution_count": 19,
   "metadata": {
    "tags": []
   },
   "outputs": [
    {
     "output_type": "stream",
     "name": "stdout",
     "text": "Ответ к заданию 9.15.1\nid пятидесятитысячного пользователя в группе mountelbrus:= 225573429\n"
    }
   ],
   "source": [
    "temp = user_ids[49999]\n",
    "\n",
    "task = \"9.15.1\"\n",
    "print(f\"Ответ к заданию {task}\")\n",
    "print(f\"id пятидесятитысячного пользователя в группе mountelbrus:= {temp}\")"
   ]
  },
  {
   "cell_type": "markdown",
   "metadata": {},
   "source": [
    "### 9.16 Ограничение по частоте запросов\n",
    "---\n",
    "Ограничение по частоте запросов\n",
    "В API частот добавляют ограничение по частоте запросов, чтобы отдельно взятые пользователи слишком сильно не перегружали  сервер. Подобное ограничение есть и у ВКонтакте, в документации которой указано, что можно делать не более 3-х запросов в секунду.  \n",
    "Чтобы не следить за частотой отправки запросов с секундомером в руках, мы можем после каждого запроса делать паузу. В этом случае, даже если код будет выполняться на самом быстром компьютере, мы не нарушим установленное ограничение, т.к. периодичность отправки запросов будет искусственно замедлена. Воспользуемся библиотекой time и методом sleep (пауза в 0.5 секунды добавлена в конце цикла):  "
   ]
  },
  {
   "cell_type": "code",
   "execution_count": 21,
   "metadata": {
    "tags": []
   },
   "outputs": [
    {
     "output_type": "stream",
     "name": "stdout",
     "text": "Выгружаю 1000 пользователей с offset = 0\nОжидаю 0.5 секунды...\nВыгружаю 1000 пользователей с offset = 1000\nОжидаю 0.5 секунды...\nВыгружаю 1000 пользователей с offset = 2000\nОжидаю 0.5 секунды...\nВыгружаю 1000 пользователей с offset = 3000\nОжидаю 0.5 секунды...\nВыгружаю 1000 пользователей с offset = 4000\nОжидаю 0.5 секунды...\nВыгружаю 1000 пользователей с offset = 5000\nОжидаю 0.5 секунды...\nВыгружаю 1000 пользователей с offset = 6000\nОжидаю 0.5 секунды...\nВыгружаю 1000 пользователей с offset = 7000\nОжидаю 0.5 секунды...\nВыгружаю 1000 пользователей с offset = 8000\nОжидаю 0.5 секунды...\nВыгружаю 1000 пользователей с offset = 9000\nОжидаю 0.5 секунды...\n"
    }
   ],
   "source": [
    "import time  \n",
    "  \n",
    "count = 1000  \n",
    "offset = 0  \n",
    "user_ids = []  \n",
    "while offset < 10000:  \n",
    "    print('Выгружаю {} пользователей с offset = {}'.format(count, offset))     \n",
    "    params = {  \n",
    "        'group_id': 'mountelbrus',  \n",
    "        'v': 5.95,  \n",
    "        'count': count,  \n",
    "        'offset': offset,  \n",
    "        'access_token': 'c39265f3c3'  \n",
    "    }    \n",
    "    # такой же запрос, как в прошлый раз  \n",
    "    r = requests.get(url, params = params)  \n",
    "    data = r.json()     \n",
    "    user_ids += data['response']['items']    \n",
    "  \n",
    "    # увеличиваем смещение на количество строк выгрузки  \n",
    "    offset += count  \n",
    "    \n",
    "    print('Ожидаю 0.5 секунды...')  \n",
    "    time.sleep(0.5)  "
   ]
  },
  {
   "cell_type": "markdown",
   "metadata": {},
   "source": [
    "### 9.17 Лайки, репосты и комментарии\n",
    "---\n",
    "Лайки, репосты и комментарии\n",
    "Ещё одна полезная вещь, которую можно получить,  —  это количество взаимодействий с постами через API новостной ленты. На данном этапе будем использовать самый простой вариант: берем последние 10 постов группы. Мы продолжаем работать с группой https://vk.com/mountelbrus.  \n",
    "Начнем с  формирования запроса к API ВКонтакте методом wall.get():"
   ]
  },
  {
   "cell_type": "code",
   "execution_count": 23,
   "metadata": {},
   "outputs": [
    {
     "output_type": "execute_result",
     "data": {
      "text/plain": "{'id': 13509,\n 'from_id': -9690799,\n 'owner_id': -9690799,\n 'date': 1598462352,\n 'marked_as_ads': 0,\n 'post_type': 'post',\n 'text': 'Туры на Казбек 2021. Распродажа.\\n\\nНачинаем продажу туров на Казбек в следующем году. \\n\\nДаже если вы уже ходили на Эльбрус, Казбек безусловно впечатлит вас. Это совсем другая гора, и впечатления и эмоции от нее совсем другие.\\n\\nТеперь в нашем расписании - туры на Казбек и с юга, и с севера. Маршрут с севера немного сложнее, но оба они под силу обычному человеку со средней физической формой. Технические навыки не требуются! \\n\\nНапишите/позвоните нам, и мы поможем подобрать программу.\\n\\nТел: 8 800 7777 044\\nТел: +7 495 108 74 65\\nWhatsApp: +7 905 499 42 93\\n(написать нам можно также в чат группы)\\n\\nРасписание 2021, описание туров и бронирование здесь: https://strahu-net.com/raspisanie/?year=2021&ROUTE=Kazbek\\n(цены в расписании всегда актуальны до ближайшей пятницы)',\n 'attachments': [{'type': 'link',\n   'link': {'url': 'https://strahu-net.com/raspisanie/?year=2021&ROUTE=Kazbek',\n    'title': 'Туры на Казбек 2021. Распродажа.',\n    'caption': 'strahu-net.com',\n    'description': '',\n    'photo': {'album_id': -25,\n     'date': 1598462351,\n     'id': 457312079,\n     'owner_id': 2000023914,\n     'has_tags': False,\n     'sizes': [{'height': 90,\n       'url': 'https://sun9-3.userapi.com/cpN0zGMNidlo42uKtxZOh1iJ7kyKb05gOMNMqQ/3d9oztEBtQc.jpg',\n       'type': 'a',\n       'width': 200},\n      {'height': 179,\n       'url': 'https://sun9-38.userapi.com/SO462atBKNPyvFTYmSXwN6y-laJy-dI0qAjnqg/SxelgNBnuP8.jpg',\n       'type': 'b',\n       'width': 400},\n      {'height': 200,\n       'url': 'https://sun9-61.userapi.com/U3BQDd2xCJzwTB-4f2JoaSn8ME4h4BCzP8PXFw/b4mEj2GhUq8.jpg',\n       'type': 'c',\n       'width': 200},\n      {'height': 100,\n       'url': 'https://sun9-8.userapi.com/l2tsIVK8vSzwQsswLkn3KOABrUmaLVHTLcbyIA/NjHm617IFmU.jpg',\n       'type': 'd',\n       'width': 100},\n      {'height': 50,\n       'url': 'https://sun9-60.userapi.com/5BX7XSeSJNzphaDWHkg6AhkpNvuzAHT9NHMt9A/BMJJ9ec8TTg.jpg',\n       'type': 'e',\n       'width': 50},\n      {'height': 480,\n       'url': 'https://sun9-27.userapi.com/vJ-tX8jcwYy6ncmYwD6c1vah_q-QpHRbS6vYmA/B_kvPwnr_Jg.jpg',\n       'type': 'k',\n       'width': 1071},\n      {'height': 240,\n       'url': 'https://sun9-47.userapi.com/p740zwzD-fLRt85WoM-X4LCD83heo8g8qKUY9w/A_RXYC4MEdI.jpg',\n       'type': 'l',\n       'width': 537},\n      {'height': 479,\n       'url': 'https://sun9-29.userapi.com/tt5UV8fjor3shla2vq7cBjGHWH8XO6SuSluFOA/RgRNXh1pN5E.jpg',\n       'type': 'o',\n       'width': 1069}],\n     'text': ''}}}],\n 'post_source': {'type': 'vk'},\n 'comments': {'count': 1, 'can_post': 1, 'groups_can_post': True},\n 'likes': {'count': 13, 'user_likes': 0, 'can_like': 1, 'can_publish': 1},\n 'reposts': {'count': 3, 'user_reposted': 0},\n 'views': {'count': 1201}}"
     },
     "metadata": {},
     "execution_count": 23
    }
   ],
   "source": [
    "import requests  \n",
    "from pprint import pprint  \n",
    "  \n",
    "url = 'https://api.vk.com/method/wall.get'  \n",
    "params = {  \n",
    "    'domain': 'mountelbrus',  \n",
    "    'filter': 'owner',  \n",
    "    'count': 10,  \n",
    "    'offset': 0,  \n",
    "    'access_token': 'c39265f3c3',  \n",
    "    'v': 5.95  \n",
    "}  \n",
    "response = requests.get(url, params = params)  \n",
    "\n",
    "# Видим, что сначала идёт общее количество постов, а по ключу 'items'  —  сами посты. Посмотрим на отдельный пост:\n",
    "response.json()['response']['items'][0] "
   ]
  },
  {
   "cell_type": "markdown",
   "metadata": {},
   "source": [
    "Нужная нам статистика находится в полях 'comments', 'likes' и 'reposts'. Соберем итоговую статистику для каждого поста в словарь stats. В качестве ключа будем использовать начало статьи, в качестве значения — список с тремя интересующими нас метриками и временем публикации: \\[комментарии, лайки, репосты, дата публикации\\]"
   ]
  },
  {
   "cell_type": "code",
   "execution_count": 25,
   "metadata": {
    "tags": []
   },
   "outputs": [
    {
     "output_type": "stream",
     "name": "stdout",
     "text": "{'Live: 4.08.2020 Инструктор, ма': [16, 52, 3, 1596525625],\n 'Live: Восхождение на Эльбрус |': [3, 22, 0, 1597214895],\n 'ВОСХОЖДЕНИЕ НА ЗИМНИЙ ЭЛЬБРУС\\n': [6, 275, 6, 1597834786],\n 'ГОРЯЩЕЕ ПРЕДЛОЖЕНИЕ!\\n\\nМаршрут:': [12, 300, 7, 1597000688],\n 'Еще вчера этим двум ребятам Се': [10, 91, 0, 1595755712],\n 'Начинаем набор группы в поход ': [5, 56, 1, 1595870407],\n 'Последние 10 туров на Эльбрус ': [0, 241, 2, 1598188550],\n 'Прямой эфир 21.07.2020. Инстру': [34, 95, 3, 1595317547],\n 'Туры на Казбек 2021. Распродаж': [1, 13, 3, 1598462352],\n 'Туры на Эльбрус 2021. Распрода': [0, 143, 7, 1598378918]}\n"
    }
   ],
   "source": [
    "stats = {}  \n",
    "              \n",
    "for record in response.json()['response']['items'][:]:  \n",
    "    title = record['text'][:30]  \n",
    "    if title:  \n",
    "        stats[title] = [record['comments']['count'], record['likes']['count'], record['reposts']['count'], record['date'] ]  \n",
    "pprint(stats)  "
   ]
  },
  {
   "cell_type": "markdown",
   "metadata": {},
   "source": [
    "### Задание 1 (9.17.1) - SMM index\n",
    "Напишите функцию get_smm_index(group_name, token), которая по имени группы и авторизационному токену API возвращает smm_index группы - сумму лайков, комментариев и репостов для последних 10 постов, поделённую на количество участников в группе.\n",
    "\n",
    "***Ответ:***\n",
    "```python\n",
    "def get_smm_index(d_group_name, d_token):\n",
    "    url = 'https://api.vk.com/method/wall.get'  \n",
    "    params = {  \n",
    "        'domain': d_group_name,  \n",
    "        'filter': 'owner',  \n",
    "        'count': 10,  \n",
    "        'offset': 0,  \n",
    "        'access_token': d_token,  \n",
    "        'v': 5.95  \n",
    "    }  \n",
    "    response = requests.get(url, params = params)\n",
    "  \n",
    "    sumOfLike = 0\n",
    "\n",
    "    for record in response.json()['response']['items'][:]:  \n",
    "        sumOfLike += record['comments']['count'] + record['likes']['count'] + record['reposts']['count']\n",
    "        print('sum', sumOfLike)\n",
    "            \n",
    "    url2 = 'https://api.vk.com/method/groups.getMembers'  \n",
    "    params2 = {  \n",
    "        'group_id': d_group_name,  \n",
    "        'v': 5.95,  \n",
    "        'access_token': d_token\n",
    "        }\n",
    "    res = requests.get(url2, params = params2)  \n",
    "    data = res.json()  \n",
    "    all_users = data['response']['count']\n",
    "    print('all_user', all_users)\n",
    "    return sumOfLike/all_users\n",
    "```"
   ]
  },
  {
   "cell_type": "code",
   "execution_count": null,
   "metadata": {},
   "outputs": [],
   "source": [
    "# проверка кода\n",
    "def get_smm_index(d_group_name, d_token):\n",
    "    url = 'https://api.vk.com/method/wall.get'  \n",
    "    params = {  \n",
    "        'domain': d_group_name,  \n",
    "        'filter': 'owner',  \n",
    "        'count': 10,  \n",
    "        'offset': 0,  \n",
    "        'access_token': d_token,  \n",
    "        'v': 5.95  \n",
    "    }  \n",
    "    response = requests.get(url, params = params)\n",
    "  \n",
    "    sumOfLike = 0\n",
    "\n",
    "    for record in response.json()['response']['items'][:]:  \n",
    "        sumOfLike += record['comments']['count'] + record['likes']['count'] + record['reposts']['count']\n",
    "        print('sum', sumOfLike)\n",
    "            \n",
    "    url2 = 'https://api.vk.com/method/groups.getMembers'  \n",
    "    params2 = {  \n",
    "        'group_id': d_group_name,  \n",
    "        'v': 5.95,  \n",
    "        'access_token': d_token\n",
    "        }\n",
    "    res = requests.get(url2, params = params2)  \n",
    "    data = res.json() \n",
    "    print(data) \n",
    "    all_users = data['response']['count']\n",
    "    print('all_user', all_users)\n",
    "    return sumOfLike/all_users\n",
    "\n",
    "token = 'c39265f3c3'\n",
    "get_smm_index('habr', token)"
   ]
  },
  {
   "cell_type": "markdown",
   "metadata": {},
   "source": [
    "### 9.18 Возможности API\n",
    "---\n",
    "Мы рассмотрели базовое взаимодействие с пользователями и группами. ВКонтакте предоставляет достаточно широкие возможности в своём API: по сути, всё, что можно делать руками через браузер, доступно и в API. Обратим внимание: если вы размещаете рекламу в Вконтакте, то можно выгружать всю статистику через ads API.\n",
    "\n",
    "Полный список методов можно посмотреть в документации - https://vk.com/dev/methods"
   ]
  },
  {
   "cell_type": "markdown",
   "metadata": {},
   "source": [
    "### 9.19 Заключение\n",
    "---\n",
    "В данном модуле мы рассмотрели, как можно доставать информацию для анализа напрямую из интернета. Давайте вспомним, чем мы занимались:  \n",
    "- рассмотрели, как работает протокол http и разметка с html; \n",
    "- делали http-запросы из кода с помощью библиотеки requests; \n",
    "- разбирали html-страницы с помощью BeautifulSoup и искали данные в них; \n",
    "- загружали данные из веб-таблиц в DataFrame pandas; \n",
    "- посмотрели на базовую работу с API на примере ВКонтакте: получение токена, запросы, обход основных ограничений.  "
   ]
  },
  {
   "cell_type": "markdown",
   "metadata": {},
   "source": [
    "### 9.20 Итоговый тест\n",
    "---\n",
    "### Задание 1 (9.20.1) - Статус запроса\n",
    "Какая строчка вернёт номер статуса для get-запроса к www.google.com\n",
    "\n",
    "***Ответ:*** - requests.get(\"http://www.google.com\").status_code"
   ]
  },
  {
   "cell_type": "markdown",
   "metadata": {},
   "source": [
    "### Задание 2 (9.20.2) - Аргументированный суп\n",
    "У вас есть строковая переменная html_page, которая содержит html страницу. Что нужно указать вторым аргументом?\n",
    "```python\n",
    "page = BeautifulSoup(html_page, _)\n",
    "```\n",
    "***Ответ:*** - 'html.parser'"
   ]
  },
  {
   "cell_type": "markdown",
   "metadata": {},
   "source": [
    "### Задание 3 (9.20.3) - Рекламный метод\n",
    "Воспользовавшись документацией , найдите метод, который возвращает статистику показателей эффективности по рекламным объявлениям. В ответ запишите название этого метода\n",
    "\n",
    "***Ответ:*** - ads.getStatistics"
   ]
  },
  {
   "cell_type": "markdown",
   "metadata": {},
   "source": [
    "### Задание 4 (9.20.4) - Информативные блоки\n",
    "У вас есть переменная page, которая представляет собой объект BeautifulSoup. Что из этого вернёт все элементы div с классом 'info-block'?  \n",
    "***Ответ:*** -  page.find_all('div', class_='info-block')"
   ]
  },
  {
   "cell_type": "markdown",
   "metadata": {},
   "source": [
    "конец модуля"
   ]
  }
 ],
 "metadata": {
  "kernelspec": {
   "display_name": "Python 3",
   "language": "python",
   "name": "python3"
  },
  "language_info": {
   "codemirror_mode": {
    "name": "ipython",
    "version": 3
   },
   "file_extension": ".py",
   "mimetype": "text/x-python",
   "name": "python",
   "nbconvert_exporter": "python",
   "pygments_lexer": "ipython3",
   "version": "3.7.4-final"
  }
 },
 "nbformat": 4,
 "nbformat_minor": 4
}
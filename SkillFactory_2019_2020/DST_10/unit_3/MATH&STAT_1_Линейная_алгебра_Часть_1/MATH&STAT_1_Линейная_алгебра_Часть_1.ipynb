{
 "cells": [
  {
   "cell_type": "markdown",
   "metadata": {},
   "source": [
    "# MATH&STAT-1. Линейная алгебра. Часть I \n",
    "## Юнит 3. Введение в машинное обучение \n",
    "### Skillfactory: DST-10\n",
    "---\n",
    "### 1.2. Векторы. Основные понятия"
   ]
  },
  {
   "cell_type": "code",
   "execution_count": 1,
   "metadata": {},
   "outputs": [
    {
     "output_type": "stream",
     "name": "stdout",
     "text": "s:=[33 65 50 45]\nlen(s):=4\nтретий элемент массива:= 50\n"
    }
   ],
   "source": [
    "import numpy as np\n",
    "s = np.array([33,65,50,45])\n",
    "print(f\"s:={s}\")\n",
    "print(f\"len(s):={len(s)}\")\n",
    "print(f\"третий элемент массива:= {s[2]}\")"
   ]
  },
  {
   "cell_type": "code",
   "execution_count": 2,
   "metadata": {},
   "outputs": [
    {
     "output_type": "stream",
     "name": "stdout",
     "text": "ndim: 1\nshape: (6,)\n"
    }
   ],
   "source": [
    "apartment = np.array([59.50, 31.40, 19, 2, 60550, 2])\n",
    "# В NumPy вектор и массив - одно и то же. \n",
    "# Исключение - понятие вектор-столбец и вектор-строка - фактически двумерные массивы, \n",
    "# где один из атрибутов shape равен 1.\n",
    "\n",
    "print(\"ndim:\", apartment.ndim) # число осей (измерений) массива - n.dim: 1\n",
    "print(\"shape:\", apartment.shape) # размеры массива, для вектора определена только длина - shape: (6, )"
   ]
  },
  {
   "cell_type": "code",
   "execution_count": 3,
   "metadata": {},
   "outputs": [
    {
     "output_type": "stream",
     "name": "stdout",
     "text": "0.5277310924369748\n[1.900e+01 2.000e+00 6.055e+04 2.000e+00]\n"
    }
   ],
   "source": [
    "# вычислим долю жилой площади в квартире\n",
    "share_living_space = apartment[1]/apartment[0]\n",
    "print(share_living_space)\n",
    "\n",
    "#Избавимся от старых признаков, посредством функции delete(), которую предоставляет библиотека numpy. Передадим в значение функции индексы признаков, которые необходимо удалить из нашего массива apartment:\n",
    "apartment = np.delete(apartment, [0, 1])\n",
    "print(apartment)"
   ]
  },
  {
   "cell_type": "code",
   "execution_count": 4,
   "metadata": {},
   "outputs": [
    {
     "output_type": "stream",
     "name": "stdout",
     "text": "19.0 2.0 60550.0 2.0 0.5277310924369748\n"
    }
   ],
   "source": [
    "# добавим в конец нашего массива новый признак share_living_space, который сочетает в себе смысл двух старых признаков:\n",
    "apartment = np.append(apartment, share_living_space)\n",
    "print(*apartment)\n",
    "# !внимание! тут поставлена * перед массивом, чтобы вывести значения в обычном формате, а не е+01"
   ]
  },
  {
   "cell_type": "markdown",
   "metadata": {},
   "source": [
    "### Задание 1.2.1\n",
    "Введите значение получившегося нового признака share_living_space. Используйте код и ссылки на документацию из описания квартиры."
   ]
  },
  {
   "cell_type": "code",
   "execution_count": 5,
   "metadata": {},
   "outputs": [
    {
     "output_type": "stream",
     "name": "stdout",
     "text": "Ответ к заданию 1.2.1\nзначение получившегося нового признака share_living_space := 0.53\n"
    }
   ],
   "source": [
    "temp = apartment[4]\n",
    "\n",
    "task = \"1.2.1\"\n",
    "print(f\"Ответ к заданию {task}\")\n",
    "print(f\"значение получившегося нового признака share_living_space := {round(temp,2)}\")"
   ]
  },
  {
   "cell_type": "markdown",
   "metadata": {},
   "source": [
    "### Задание 1.2.2\n",
    "Найдите размерность и четвёртую координату вектора"
   ]
  },
  {
   "cell_type": "code",
   "execution_count": 6,
   "metadata": {},
   "outputs": [
    {
     "output_type": "stream",
     "name": "stdout",
     "text": "Ответ к заданию 1.2.2\nразмерность вектора v [-1, 4, 6, 1, 8, 2]:= 6\nчетвёртую координату вектора v:= 1\n"
    }
   ],
   "source": [
    "v = np.array([-1, 4, 6, 1, 8, 2])\n",
    "n = 4\n",
    "temp = v[n-1]\n",
    "\n",
    "task = \"1.2.2\"\n",
    "print(f\"Ответ к заданию {task}\")\n",
    "print(f\"размерность вектора v [-1, 4, 6, 1, 8, 2]:= {len(v)}\")\n",
    "print(f\"четвёртую координату вектора v:= {temp}\")"
   ]
  },
  {
   "cell_type": "markdown",
   "metadata": {},
   "source": [
    "### Задание 1.2.2 (!!! обратите внимание!!! нумерация задачи 1.2.2 была задублирована)\n",
    "Укажите размерность конечного массива apartment после преобразования (ввода новой переменной и удаления старых)."
   ]
  },
  {
   "cell_type": "code",
   "execution_count": 7,
   "metadata": {},
   "outputs": [
    {
     "output_type": "stream",
     "name": "stdout",
     "text": "Ответ к заданию 1.2.2\nразмерность вектора apartment:= 5\n"
    }
   ],
   "source": [
    "temp = len(apartment)\n",
    "\n",
    "task = \"1.2.2\"\n",
    "print(f\"Ответ к заданию {task}\")\n",
    "print(f\"размерность вектора apartment:= {temp}\")"
   ]
  },
  {
   "cell_type": "markdown",
   "metadata": {},
   "source": [
    "### Задание 1.2.3\n",
    "Пусть дан вектор в python вида t = np.array(\\[12, 14, 17, 19, 24, 28, 31, 31, 27, 22, 17, 13\\]), содержащий информацию о средней температуре воздуха (в градусах Цельсия) в Риме с января по декабрь включительно.\n",
    "Выберите неверное утверждение:"
   ]
  },
  {
   "cell_type": "markdown",
   "metadata": {},
   "source": [
    "### 1.3. Базовые операции над векторами\n",
    "---\n",
    "### Задание 1.3.2\n",
    "Найдите сумму и разность вектров x=(\\[5,2\\]) и y=(\\[-5,-11\\])"
   ]
  },
  {
   "cell_type": "code",
   "execution_count": 9,
   "metadata": {},
   "outputs": [
    {
     "output_type": "stream",
     "name": "stdout",
     "text": "Ответ к заданию 1.3.2\nx+y:= [ 0 -9]\nx-y:= [10 13]\n"
    }
   ],
   "source": [
    "x = np.array([5, 2])\n",
    "y = np.array([-5, -11])\n",
    "temp = x+y\n",
    "temp2 = x-y\n",
    "\n",
    "task = \"1.3.2\"\n",
    "print(f\"Ответ к заданию {task}\")\n",
    "print(f\"x+y:= {temp}\")\n",
    "print(f\"x-y:= {temp2}\")"
   ]
  },
  {
   "cell_type": "markdown",
   "metadata": {},
   "source": [
    "### Задание 1.3.3  \n",
    "Доходы Алексея за три месяца составили 120, 150 и 90 тысяч рублей, его жены: 130, 130 и 130 тысяч рублей, а тёщи: 2, 3 и 2.5 тысячи евро.  \n",
    "1. Найдите вектор доходов тёщи в тыс. рублей, если курс евро составляет 72 рубля.  \n",
    "2. Найдите вектор суммарного дохода семьи в тыс. рублей по месяцам."
   ]
  },
  {
   "cell_type": "code",
   "execution_count": 10,
   "metadata": {},
   "outputs": [
    {
     "output_type": "stream",
     "name": "stdout",
     "text": "Ответ к заданию 1.3.3\nвектор доходов тёщи в тыс. рублей:= [144. 216. 180.]\nвектор суммарного дохода семьи в тыс. рублей:= [394. 496. 400.]\n"
    }
   ],
   "source": [
    "husband_RUR = np.array([120, 150, 90])\n",
    "wife_RUR = np.array([130, 130, 130])\n",
    "mother_in_law_EUR = np.array([2, 3, 2.5])\n",
    "\n",
    "temp = mother_in_law_EUR*72\n",
    "temp2 = temp+husband_RUR+wife_RUR\n",
    "\n",
    "task = \"1.3.3\"\n",
    "print(f\"Ответ к заданию {task}\")\n",
    "print(f\"вектор доходов тёщи в тыс. рублей:= {temp}\")\n",
    "print(f\"вектор суммарного дохода семьи в тыс. рублей:= {temp2}\")"
   ]
  },
  {
   "cell_type": "markdown",
   "metadata": {},
   "source": [
    "### !!!офтопик!!!\n",
    "### Инструкция по формулам в Markdown\n",
    "---\n",
    "$ L(x_{1}, x_{2}, ..., x_{n}  \n",
    " \\mu) =  \\mu * (1-\\mu) $\n",
    "\n",
    "$log (\\ L(x_{1}, x_{2}, ..., x_{n}| \\mu)) = h * log(\\mu) + (m-h) * log(1-\\mu) $\n",
    "\n",
    "$\\frac{\\partial  log(\\ L(x_{1}, x_{2}, ..., x_{n}| \\mu)}{\\partial(\\mu)}  = \\frac{h}{\\  u} + \\frac{h-m}{1-\\mu} $\n",
    "\n",
    "#### We set this to zero to find the value that  aximizes the likelihood \n",
    "\n",
    "$\\frac{h}{\\mu}    \\frac{h-m}{1-\\  u} = 0 $\n",
    "\n",
    "$h = m * \\mu $\n",
    "\n",
    "$\\mu = \\frac{h}{m} $"
   ]
  },
  {
   "cell_type": "markdown",
   "metadata": {},
   "source": [
    "### 1.4. Линейная комбинация векторов\n",
    "---\n",
    "### Задание 1.4.1\n",
    "Найдите линейную комбинацию векторов  \n",
    "$x = {4 \\choose 5} , y = {2 \\choose 1}, u = {0 \\choose 1}$  \n",
    "с коэффициентами 2, -3, 5"
   ]
  },
  {
   "cell_type": "code",
   "execution_count": 12,
   "metadata": {},
   "outputs": [
    {
     "output_type": "stream",
     "name": "stdout",
     "text": "Ответ к заданию 1.4.1\nлинейную комбинацию векторов:= [7 7]\n"
    }
   ],
   "source": [
    "x = np.array([4,5])\n",
    "y = np.array([2,1])\n",
    "u = np.array([1,0])\n",
    "a, b, c = 2, -3, 5\n",
    "\n",
    "temp = a*x + b*y + c*u\n",
    "\n",
    "task = \"1.4.1\"\n",
    "print(f\"Ответ к заданию {task}\")\n",
    "print(f\"линейную комбинацию векторов:= {temp}\")"
   ]
  },
  {
   "cell_type": "markdown",
   "metadata": {},
   "source": [
    "### Задание 1.4.2  \n",
    "Юный предприниматель Вовочка мастерит ракеты на водном топливе и продает их. За 4 недели он смастерил 3, 4, 5 и 9 ракет, а продал 1, 5, 3 и 6 ракет соответственно.  \n",
    "На изготовление одной ракеты он тратит 200 рублей, а продаёт их по 400 рублей за штуку.  \n",
    "Найдите вектор прибыли Вовочки за эти 4 недели."
   ]
  },
  {
   "cell_type": "code",
   "execution_count": 13,
   "metadata": {},
   "outputs": [
    {
     "output_type": "stream",
     "name": "stdout",
     "text": "Ответ к заданию 1.4.2\nвектор прибыли Вовочки за эти 4 недели:= [-200 1200  200  600]\n"
    }
   ],
   "source": [
    "weeklyRocketProduction = np.array([3,4,5,9])\n",
    "weeklyRocketSales = np.array([1,5,3,6])\n",
    "unitProductionСosts = 200\n",
    "unitSalesPrice = 400\n",
    "unitMargin = unitSalesPrice - unitProductionСosts\n",
    "\n",
    "temp = unitSalesPrice*weeklyRocketSales - unitProductionСosts*weeklyRocketProduction\n",
    "\n",
    "task = \"1.4.2\"\n",
    "print(f\"Ответ к заданию {task}\")\n",
    "print(f\"вектор прибыли Вовочки за эти 4 недели:= {temp}\")"
   ]
  },
  {
   "cell_type": "markdown",
   "metadata": {},
   "source": [
    "### Задание 1.4.3\n",
    "Какие системы векторов являются линейно зависимыми?  \n",
    "***Ответ:***  \n",
    "$x = {-1 \\choose -2} , y = {1 \\choose 2}$    \n",
    "$x = {-3 \\choose -2} , y = {1 \\choose 1}, u = {4 \\choose 3}$  "
   ]
  },
  {
   "cell_type": "markdown",
   "metadata": {},
   "source": [
    "### 1.5. Скалярное произведение векторов\n",
    "---\n",
    "Задание 1.5.1\n",
    "Результатом скалярного произведения векторов является  \n",
    "\n",
    "***Ответ:*** Число  \n",
    "\n",
    "### Задание 1.5.2\n",
    "Найдите скалярное произведение векторов  \n",
    "```python\n",
    "x = np.array([4,5,-1])\n",
    "y = np.array([2,0,1])\n",
    "```"
   ]
  },
  {
   "cell_type": "code",
   "execution_count": 14,
   "metadata": {},
   "outputs": [
    {
     "output_type": "stream",
     "name": "stdout",
     "text": "Ответ к заданию 1.5.2\nскалярное произведение векторов:= 7\n"
    }
   ],
   "source": [
    "x = np.array([4,5,-1])\n",
    "y = np.array([2,0,1])\n",
    "\n",
    "temp = np.dot(x,y)\n",
    "\n",
    "task = \"1.5.2\"\n",
    "print(f\"Ответ к заданию {task}\")\n",
    "print(f\"скалярное произведение векторов:= {temp}\")"
   ]
  },
  {
   "cell_type": "markdown",
   "metadata": {},
   "source": [
    "### Задание 1.5.3\n",
    "Выберите верные утверждения о длине вектора  \n",
    "***Ответ:*** \n",
    "- Длина вектора равна нулю, только если сам вектор нулевой  \n",
    "- Квадрат длины вектора равен его скалярному произведению с самим собой  \n",
    "---\n",
    "### Задание 1.5.4\n",
    "Вычислите длину вектора ```x = np.array([4,6,1])```. Ответ округлите до сотых."
   ]
  },
  {
   "cell_type": "code",
   "execution_count": 15,
   "metadata": {},
   "outputs": [
    {
     "output_type": "stream",
     "name": "stdout",
     "text": "Ответ к заданию 1.5.3\nдлину вектора x:= 7.28\n"
    }
   ],
   "source": [
    "x = np.array([4,6,1])\n",
    "\n",
    "temp = np.dot(x,x)**0.5\n",
    "\n",
    "task = \"1.5.4\"\n",
    "print(f\"Ответ к заданию {task}\")\n",
    "print(f\"длину вектора x:= {round(temp,2)}\")"
   ]
  },
  {
   "cell_type": "markdown",
   "metadata": {},
   "source": [
    "### 1.6. Векторы. Практическая задача\n",
    "---\n",
    "### Задание 1.6.1\n",
    "Прогноз оптимальной арендной платы для новой квартиры не изменился после добавления информации о нежилой площади, так как:  \n",
    "***Ответ:*** Новый фактор линейно зависим со старыми\n",
    "\n",
    "### Задание 1.6.2\n",
    "Комментарий к заданию 1.6.2. Длина вектора - число, которое ставится в соответствие каждому элементу векторного пространства. Оно у разных векторов может совпадать или различаться. При этом векторы имеют равное количество координат, потому что они из одного пространства определенной размерности. И операция сложения, заданная на пространстве, предполагает, что слагаемые имеют равное количество координат. Но они могут иметь как одну длину, так и различную.  \n",
    "Выберите верные утверждения:  \n",
    "***Ответ:***  \n",
    "- Угол между ортогональными векторами составляет 90 градусов\n",
    "- если a||b и b||c, то a||c"
   ]
  },
  {
   "cell_type": "markdown",
   "metadata": {},
   "source": [
    "### 1.7. --> Практика. Векторы"
   ]
  },
  {
   "cell_type": "code",
   "execution_count": 16,
   "metadata": {},
   "outputs": [
    {
     "output_type": "stream",
     "name": "stdout",
     "text": "[1 2 3] <class 'numpy.ndarray'>\n"
    }
   ],
   "source": [
    "# как одномерный массив numpy\n",
    "a=np.array([1,2,3])\n",
    "print(a, type(a))"
   ]
  },
  {
   "cell_type": "code",
   "execution_count": 17,
   "metadata": {},
   "outputs": [
    {
     "output_type": "execute_result",
     "data": {
      "text/plain": "array([1., 2., 3.])"
     },
     "metadata": {},
     "execution_count": 17
    }
   ],
   "source": [
    "np.array([1,2,3], dtype='float')"
   ]
  },
  {
   "cell_type": "code",
   "execution_count": 18,
   "metadata": {},
   "outputs": [
    {
     "output_type": "stream",
     "name": "stdout",
     "text": "[1, 2, 3] <class 'list'>\n[1 2 3] <class 'numpy.ndarray'>\n"
    }
   ],
   "source": [
    "# преобразовать из списка (list)\n",
    "x=[1,2,3]\n",
    "x_arr=np.array(x)\n",
    "print(x, type(x))\n",
    "print(x_arr, type(x_arr))"
   ]
  },
  {
   "cell_type": "code",
   "execution_count": 19,
   "metadata": {},
   "outputs": [
    {
     "output_type": "execute_result",
     "data": {
      "text/plain": "array([0., 0., 0., 0., 0.])"
     },
     "metadata": {},
     "execution_count": 19
    }
   ],
   "source": [
    "# нулевой вектор\n",
    "np.zeros(5) "
   ]
  },
  {
   "cell_type": "code",
   "execution_count": 20,
   "metadata": {},
   "outputs": [
    {
     "output_type": "execute_result",
     "data": {
      "text/plain": "array([1., 1., 1., 1., 1., 1., 1., 1.])"
     },
     "metadata": {},
     "execution_count": 20
    }
   ],
   "source": [
    "# вектор из единиц\n",
    "np.ones(8)"
   ]
  },
  {
   "cell_type": "code",
   "execution_count": 21,
   "metadata": {},
   "outputs": [
    {
     "output_type": "execute_result",
     "data": {
      "text/plain": "array([10, 15, 20, 25, 30, 35, 40, 45])"
     },
     "metadata": {},
     "execution_count": 21
    }
   ],
   "source": [
    "# массив чисел по порядку\n",
    "np.arange(10,50, 5)"
   ]
  },
  {
   "cell_type": "code",
   "execution_count": 22,
   "metadata": {},
   "outputs": [
    {
     "output_type": "execute_result",
     "data": {
      "text/plain": "array([-1, -2, -4, -3, -4, -4,  0, -1, -2,  1])"
     },
     "metadata": {},
     "execution_count": 22
    }
   ],
   "source": [
    "# случайный вектор\n",
    "np.random.randint(-4, 2, 10) # dim=10, случаные целые числа от -4 до 2"
   ]
  },
  {
   "cell_type": "code",
   "execution_count": 23,
   "metadata": {},
   "outputs": [
    {
     "output_type": "stream",
     "name": "stdout",
     "text": "Series:\n 0     65\n1     70\n2    120\n3     35\ndtype: int64\n"
    }
   ],
   "source": [
    "# преобразовать из Pandas Series\n",
    "import pandas as pd\n",
    "data = [65, 70, 120, 35]\n",
    "s = pd.Series(data)\n",
    "print('Series:\\n',s)"
   ]
  },
  {
   "cell_type": "code",
   "execution_count": 24,
   "metadata": {},
   "outputs": [
    {
     "output_type": "stream",
     "name": "stdout",
     "text": "vector:\n [ 65  70 120  35]\ntype of x: <class 'numpy.ndarray'>\n"
    }
   ],
   "source": [
    "x = s.values # возвращает значения s\n",
    "print('vector:\\n',x)\n",
    "print('type of x:',type(x))"
   ]
  },
  {
   "cell_type": "code",
   "execution_count": 25,
   "metadata": {},
   "outputs": [
    {
     "output_type": "stream",
     "name": "stdout",
     "text": "Data Frame:\n     $$  2.Area  3.Rooms  4.Floor  5.Demo\n0   65      50        3        5       8\n1   70      52        2       12       4\n2  120      80        1       10       5\n3   35      33        1        3      10\n"
    }
   ],
   "source": [
    "# преобразовать из Pandas DataFrame\n",
    "d = {'$$': [65, 70, 120, 35], '2.Area': [50, 52, 80, 33],'3.Rooms':[3,2,1,1], \n",
    "     '4.Floor':[5,12,10,3], '5.Demo':[8,4,5,10]}\n",
    "df = pd.DataFrame(d)\n",
    "print('Data Frame:\\n',df)"
   ]
  },
  {
   "cell_type": "code",
   "execution_count": 26,
   "metadata": {},
   "outputs": [
    {
     "output_type": "stream",
     "name": "stdout",
     "text": "Matrix:\n [[ 65  50   3   5   8]\n [ 70  52   2  12   4]\n [120  80   1  10   5]\n [ 35  33   1   3  10]]\n"
    }
   ],
   "source": [
    "A = df.values # возвращает значения df\n",
    "print('Matrix:\\n',A)"
   ]
  },
  {
   "cell_type": "code",
   "execution_count": 27,
   "metadata": {},
   "outputs": [
    {
     "output_type": "stream",
     "name": "stdout",
     "text": "Second apartment vector:\n [70 52  2 12  4]\ntype of x: <class 'numpy.ndarray'>\n"
    }
   ],
   "source": [
    "x=A[1] # вторая строка матрицы А\n",
    "print('Second apartment vector:\\n',x)\n",
    "print('type of x:',type(x))"
   ]
  },
  {
   "cell_type": "code",
   "execution_count": 28,
   "metadata": {},
   "outputs": [
    {
     "output_type": "stream",
     "name": "stdout",
     "text": "$$ vector:\n [ 65  70 120  35]\n"
    }
   ],
   "source": [
    "y=A[:,0] # первый столбец матрицы А\n",
    "print('$$ vector:\\n',y)"
   ]
  },
  {
   "cell_type": "code",
   "execution_count": 29,
   "metadata": {},
   "outputs": [
    {
     "output_type": "stream",
     "name": "stdout",
     "text": "$$ of 3 apartment: 120\n"
    }
   ],
   "source": [
    "# индексация векторов - поиск нужной координаты\n",
    "print('$$ of 3 apartment:',y[2]) # третья координата"
   ]
  },
  {
   "cell_type": "code",
   "execution_count": 30,
   "metadata": {},
   "outputs": [
    {
     "output_type": "stream",
     "name": "stdout",
     "text": "Number of apartments = dim(y): 4\n"
    }
   ],
   "source": [
    "# размерность вектора\n",
    "print('Number of apartments = dim(y):', len(y))"
   ]
  },
  {
   "cell_type": "code",
   "execution_count": 31,
   "metadata": {},
   "outputs": [
    {
     "output_type": "stream",
     "name": "stdout",
     "text": "a+b: [ 7  9 11]\n2a: [2 4 6]\n"
    }
   ],
   "source": [
    "# сумма векторов и умножение на число\n",
    "a=np.array([1,2,3])\n",
    "b=np.array([6,7,8])\n",
    "print('a+b:',a+b)\n",
    "print('2a:',2*a)"
   ]
  },
  {
   "cell_type": "code",
   "execution_count": 32,
   "metadata": {},
   "outputs": [
    {
     "output_type": "stream",
     "name": "stdout",
     "text": "linear combination: [17 18 25]\n"
    }
   ],
   "source": [
    "# линейная комбинация с коэффициентами 2, 2, 3\n",
    "a=np.array([1,2,3])\n",
    "b=np.array([6,7,8])\n",
    "c=np.array([1,0,1])\n",
    "\n",
    "d=2*a+2*b+3*c\n",
    "print('linear combination:',d)"
   ]
  },
  {
   "cell_type": "code",
   "execution_count": 33,
   "metadata": {},
   "outputs": [
    {
     "output_type": "stream",
     "name": "stdout",
     "text": "scalar product: 44\ncoordinate product: [ 6 14 24]\n"
    }
   ],
   "source": [
    "# скалярное произведение\n",
    "\n",
    "s=np.dot(a,b)\n",
    "print('scalar product:',s)\n",
    "\n",
    "# покоординатное умножение\n",
    "print('coordinate product:',a*b)"
   ]
  },
  {
   "cell_type": "code",
   "execution_count": 34,
   "metadata": {},
   "outputs": [
    {
     "output_type": "stream",
     "name": "stdout",
     "text": "scalar product: 44\n"
    }
   ],
   "source": [
    "# скалярное произведение - еще один способ\n",
    "s1=a@b\n",
    "print('scalar product:',s1)"
   ]
  },
  {
   "cell_type": "code",
   "execution_count": 35,
   "metadata": {},
   "outputs": [
    {
     "output_type": "stream",
     "name": "stdout",
     "text": "length of a: 3.7416573867739413\n"
    }
   ],
   "source": [
    "# длина вектора\n",
    "l=np.linalg.norm(a)\n",
    "print('length of a:',l)"
   ]
  },
  {
   "cell_type": "code",
   "execution_count": 36,
   "metadata": {},
   "outputs": [
    {
     "output_type": "stream",
     "name": "stdout",
     "text": "a_norm: [0.26726124 0.53452248 0.80178373]\nlength of a_norm: 1.0\n"
    }
   ],
   "source": [
    "# нормировка\n",
    "a_norm=a/np.linalg.norm(a)\n",
    "print('a_norm:',a_norm)\n",
    "print('length of a_norm:',np.linalg.norm(a_norm))"
   ]
  },
  {
   "cell_type": "code",
   "execution_count": 37,
   "metadata": {},
   "outputs": [
    {
     "output_type": "stream",
     "name": "stdout",
     "text": "a: [1 2 1]\nb: [2 4 2]\nc: [-1  1 -1]\n"
    }
   ],
   "source": [
    "#пропорциональность и ортогональность\n",
    "a=np.array([1,2,1])\n",
    "b=a*2\n",
    "c=np.array([-1,1,-1])\n",
    "print('a:',a)\n",
    "print('b:',b)\n",
    "print('c:',c)"
   ]
  },
  {
   "cell_type": "code",
   "execution_count": 38,
   "metadata": {},
   "outputs": [
    {
     "output_type": "stream",
     "name": "stdout",
     "text": "(a,b): 12\n(a,c): 0\n(b,c): 0\n"
    }
   ],
   "source": [
    "#пропорциональность и ортогональность\n",
    "print(\"(a,b):\",np.dot(a,b))\n",
    "print(\"(a,c):\",np.dot(a,c))\n",
    "print(\"(b,c):\",np.dot(b,c))"
   ]
  },
  {
   "cell_type": "code",
   "execution_count": 39,
   "metadata": {},
   "outputs": [
    {
     "output_type": "stream",
     "name": "stdout",
     "text": "a: [1 0 1]\nb: [0 1 0]\nc: [ 1  0 -1]\n"
    }
   ],
   "source": [
    "# попарная ортогональность - да\n",
    "a=np.array([1,0,1])\n",
    "b=np.array([0,1,0])\n",
    "c=np.array([1,0,-1])\n",
    "print('a:',a)\n",
    "print('b:',b)\n",
    "print('c:',c)"
   ]
  },
  {
   "cell_type": "code",
   "execution_count": 40,
   "metadata": {},
   "outputs": [
    {
     "output_type": "stream",
     "name": "stdout",
     "text": "(a,b): 0\n(b,c): 0\n(a,c): 0\n"
    }
   ],
   "source": [
    "# попарная ортогональность - да\n",
    "print('(a,b):',np.dot(a,b))\n",
    "print('(b,c):',np.dot(b,c))\n",
    "print('(a,c):',np.dot(a,c))"
   ]
  },
  {
   "cell_type": "code",
   "execution_count": 41,
   "metadata": {},
   "outputs": [
    {
     "output_type": "stream",
     "name": "stdout",
     "text": "a: [1 0 1]\nb: [0 1 0]\nс1: [1 0 4]\n"
    }
   ],
   "source": [
    "# попарная ортогональность - нет\n",
    "c1=np.array([1,0,4])\n",
    "print('a:',a)\n",
    "print('b:',b)\n",
    "print('с1:',c1)"
   ]
  },
  {
   "cell_type": "code",
   "execution_count": 42,
   "metadata": {},
   "outputs": [
    {
     "output_type": "stream",
     "name": "stdout",
     "text": "(a,b): 0\n(b,c1): 0\n(a,c1): 5\n"
    }
   ],
   "source": [
    "# попарная ортогональность - нет\n",
    "print('(a,b):',a@b)\n",
    "print('(b,c1):',b@c1)\n",
    "print('(a,c1):',a@c1)"
   ]
  },
  {
   "cell_type": "markdown",
   "metadata": {},
   "source": [
    "### Задача 1.7.1. \n",
    "Условие\n",
    "В Hut_Paradise_DF представлен фрагмент базы данных агенства «Рай в Шалаше». По строкам расположены квартиры, по столбцам — параметры: арендная плата, общая площадь, количество комнат, этаж, количество показов на две недели и жилая площадь:"
   ]
  },
  {
   "cell_type": "code",
   "execution_count": 43,
   "metadata": {},
   "outputs": [],
   "source": [
    "Hut_Paradise_DF = pd.DataFrame({'1.Rent': [65, 70, 120, 35, 40, 50, 100, 90, 85], \n",
    "                                '2.Area': [50, 52, 80, 33, 33, 44, 80, 65, 65], \n",
    "                                '3.Rooms':[3, 2, 1, 1, 1, 2, 4, 3, 2],\n",
    "                                '4.Floor':[5, 12, 10, 3, 6, 13, 8, 21, 5], \n",
    "                                '5.Demo two weeks':[8, 4, 5, 10, 20, 12, 5, 1, 10], \n",
    "                                '6.Liv.Area': [37, 40, 65, 20, 16, 35, 60, 50, 40]})"
   ]
  },
  {
   "cell_type": "markdown",
   "metadata": {},
   "source": [
    "### Задание 1.7.1\n",
    "Найдите вектор параметров квартиры номер 5"
   ]
  },
  {
   "cell_type": "code",
   "execution_count": 44,
   "metadata": {},
   "outputs": [
    {
     "output_type": "stream",
     "name": "stdout",
     "text": "Data Frame:\n    1.Rent  2.Area  3.Rooms  4.Floor  5.Demo two weeks  6.Liv.Area\n0      65      50        3        5                 8          37\n1      70      52        2       12                 4          40\n2     120      80        1       10                 5          65\n3      35      33        1        3                10          20\n4      40      33        1        6                20          16\n5      50      44        2       13                12          35\n6     100      80        4        8                 5          60\n7      90      65        3       21                 1          50\n8      85      65        2        5                10          40\n"
    }
   ],
   "source": [
    "df = pd.DataFrame(Hut_Paradise_DF)\n",
    "print('Data Frame:\\n',df)"
   ]
  },
  {
   "cell_type": "code",
   "execution_count": 45,
   "metadata": {},
   "outputs": [
    {
     "output_type": "stream",
     "name": "stdout",
     "text": "Matrix:\n [[ 65  50   3   5   8  37]\n [ 70  52   2  12   4  40]\n [120  80   1  10   5  65]\n [ 35  33   1   3  10  20]\n [ 40  33   1   6  20  16]\n [ 50  44   2  13  12  35]\n [100  80   4   8   5  60]\n [ 90  65   3  21   1  50]\n [ 85  65   2   5  10  40]]\n"
    }
   ],
   "source": [
    "A = df.values # возвращает значения df\n",
    "print('Matrix:\\n',A)"
   ]
  },
  {
   "cell_type": "code",
   "execution_count": 46,
   "metadata": {},
   "outputs": [
    {
     "output_type": "stream",
     "name": "stdout",
     "text": "Ответ к заданию 1.7.1\nвектор параметров квартиры номер 5:= [40 33  1  6 20 16]\n"
    }
   ],
   "source": [
    "temp = x=A[4] # пятая строка матрицы А\n",
    "\n",
    "task = \"1.7.1\"\n",
    "print(f\"Ответ к заданию {task}\")\n",
    "print(f\"вектор параметров квартиры номер 5:= {temp}\")"
   ]
  },
  {
   "cell_type": "markdown",
   "metadata": {},
   "source": [
    "### Задание 1.7.2\n",
    "Найдите вектор этажей всех квартир:"
   ]
  },
  {
   "cell_type": "code",
   "execution_count": 47,
   "metadata": {},
   "outputs": [
    {
     "output_type": "stream",
     "name": "stdout",
     "text": "Ответ к заданию 1.7.2\nвектор этажей всех квартир:= 5,12,10,3,6,13,8,21,5\n"
    }
   ],
   "source": [
    "temp = y=A[:,3] # четвертый столбец матрицы А\n",
    "\n",
    "task = \"1.7.2\"\n",
    "print(f\"Ответ к заданию {task}\")\n",
    "print(f\"вектор этажей всех квартир:= \", end=\"\")\n",
    "print(*temp, sep=\",\")"
   ]
  },
  {
   "cell_type": "markdown",
   "metadata": {},
   "source": [
    "### Задание 1.7.3\n",
    "На каком этаже расположена квартира номер 3?"
   ]
  },
  {
   "cell_type": "code",
   "execution_count": 48,
   "metadata": {},
   "outputs": [
    {
     "output_type": "stream",
     "name": "stdout",
     "text": "Ответ к заданию 1.7.3\nквартира номер 3 расположена на:= 10 этаже\n"
    }
   ],
   "source": [
    "temp = y[2]\n",
    "\n",
    "task = '1.7.3'\n",
    "print(f\"Ответ к заданию {task}\")\n",
    "print(f\"квартира номер 3 расположена на:= {temp} этаже\")"
   ]
  },
  {
   "cell_type": "markdown",
   "metadata": {},
   "source": [
    "### Задание 1.7.4\n",
    "Найдите количество квартир"
   ]
  },
  {
   "cell_type": "code",
   "execution_count": 49,
   "metadata": {},
   "outputs": [
    {
     "output_type": "stream",
     "name": "stdout",
     "text": "Ответ к заданию 1.7.4\nколичество квартир:= 9\n"
    }
   ],
   "source": [
    "temp = len(A)\n",
    "\n",
    "task = '1.7.4'\n",
    "print(f\"Ответ к заданию {task}\")\n",
    "print(f\"количество квартир:= {temp}\")"
   ]
  },
  {
   "cell_type": "markdown",
   "metadata": {},
   "source": [
    "### Задание 1.7.5  \n",
    "Вычислите вектор нежилой площади:"
   ]
  },
  {
   "cell_type": "code",
   "execution_count": 50,
   "metadata": {},
   "outputs": [
    {
     "output_type": "stream",
     "name": "stdout",
     "text": "Ответ к заданию 1.7.5\nвектор нежилой площади:= 13,12,15,13,17,9,20,15,25\n"
    }
   ],
   "source": [
    "y2 = A[:,1] # второй столбец матрицы А - Area\n",
    "y6 = A[:,5] # шестой столбец матрицы А - Liv.Area\n",
    "temp = y2-y6\n",
    "\n",
    "task = '1.7.5'\n",
    "print(f\"Ответ к заданию {task}\")\n",
    "print(f\"вектор нежилой площади:= \", end=\"\")\n",
    "print(*temp, sep=\",\")"
   ]
  },
  {
   "cell_type": "markdown",
   "metadata": {},
   "source": [
    "### Задание 1.7.6\n",
    "Арендная плата измеряется в тысячах рублей. Пересчитайте стоимость аренды каждой квартиры в тысячах гривен, если курс 10 руб = 4 гривны"
   ]
  },
  {
   "cell_type": "code",
   "execution_count": 51,
   "metadata": {},
   "outputs": [
    {
     "output_type": "stream",
     "name": "stdout",
     "text": "Ответ к заданию 1.7.6\nстоимость аренды каждой квартиры в тысячах гривен:= 26,28,48,14,16,20,40,36,34\n"
    }
   ],
   "source": [
    "y1 = A[:,0] # первый столбец матрицы А - Rent\n",
    "\n",
    "temp = np.array(y1/2.5, dtype='int')\n",
    "\n",
    "task = '1.7.6'\n",
    "print(f\"Ответ к заданию {task}\")\n",
    "print(f\"стоимость аренды каждой квартиры в тысячах гривен:= \", end=\"\")\n",
    "print(*temp, sep=\",\")"
   ]
  },
  {
   "cell_type": "markdown",
   "metadata": {},
   "source": [
    "### Задание 1.7.7\n",
    "Пусть в первой квартире один просмотр занимает 10 минут, во второй — 20 минут, в третьей — полчаса, в четверой — 15 минут, в пятой — 5 минут, в шестой — 40 минут, в седьмой — 20 минут, в восьмой — 8 минут и в девятой — 20 минут. Найдите продолжительность просмотров в минутах во всех квартирах за 2 недели:"
   ]
  },
  {
   "cell_type": "code",
   "execution_count": 52,
   "metadata": {},
   "outputs": [
    {
     "output_type": "stream",
     "name": "stdout",
     "text": "Ответ к заданию 1.7.7\nпродолжительность просмотров в минутах во всех квартирах за 2 недели:= 1348\n"
    }
   ],
   "source": [
    "x = np.array([10,20,30,15,5,40,20,8,20])\n",
    "y1 = A[:,4] # пятый столбец матрицы А - Demo two weeks\n",
    "\n",
    "temp = np.dot(y1,x)  # скалярное произведение\n",
    "\n",
    "task = '1.7.7'\n",
    "print(f\"Ответ к заданию {task}\")\n",
    "print(f\"продолжительность просмотров в минутах во всех квартирах за 2 недели:= {temp}\")"
   ]
  },
  {
   "cell_type": "markdown",
   "metadata": {},
   "source": [
    "### Задача 2. \n",
    "***Условие:***\n",
    "Даны три вектора:  \n",
    "u=np.array(\\[3,0,1,1,1\\])  \n",
    "v=np.array(\\[0,1,0,2,-2\\])  \n",
    "w=np.array(\\[1,-4,-1,0,-2\\])  \n",
    "Проверьте, являются ли векторы попарно ортогональными.  \n",
    "\n",
    "### Задание 1.7.8  \n",
    "Составьте линейную комбинацию векторов v и w с коэффициентами 2 и -3:"
   ]
  },
  {
   "cell_type": "code",
   "execution_count": 53,
   "metadata": {},
   "outputs": [
    {
     "output_type": "stream",
     "name": "stdout",
     "text": "Ответ к заданию 1.7.8\nлинейная комбинация векторов v и w с коэффициентами 2 и -3 := -3,14,3,4,2\n"
    }
   ],
   "source": [
    "u=np.array([3,0,1,1,1])\n",
    "v=np.array([0,1,0,2,-2])\n",
    "w=np.array([1,-4,-1,0,-2])\n",
    "a, b = 2, -3\n",
    "\n",
    "temp= 2*v - 3*w\n",
    "\n",
    "task = '1.7.8'\n",
    "print(f\"Ответ к заданию {task}\")\n",
    "print(f\"линейная комбинация векторов v и w с коэффициентами 2 и -3 := \", end=\"\")\n",
    "print(*temp, sep=\",\")"
   ]
  },
  {
   "cell_type": "markdown",
   "metadata": {},
   "source": [
    "### Задание 1.7.9\n",
    "Будет ли эта комбинация ортогональна вектору u?"
   ]
  },
  {
   "cell_type": "code",
   "execution_count": 54,
   "metadata": {},
   "outputs": [
    {
     "output_type": "stream",
     "name": "stdout",
     "text": "Ответ к заданию 1.7.9\nскалярное произведение u и  x равно:= 0\nОтвет - да \n"
    }
   ],
   "source": [
    "temp =np.dot(u,temp)  # скалярное произведение\n",
    "\n",
    "task = '1.7.9'\n",
    "print(f\"Ответ к заданию {task}\")\n",
    "print(f\"скалярное произведение u и  x равно\"\n",
    "      f\":= {temp}\")\n",
    "print(\"Ответ - да \")"
   ]
  },
  {
   "cell_type": "markdown",
   "metadata": {},
   "source": [
    "### Задание 1.7.10\n",
    "Нормируйте векторы u,v,w. \n",
    "В ответ запишите, округлив до трёх знаков после точки:  \n",
    "1. третью координату u_norm   \n",
    "2. четвертую координату v_norm  \n",
    "3. первую координату w_norm"
   ]
  },
  {
   "cell_type": "code",
   "execution_count": 55,
   "metadata": {},
   "outputs": [
    {
     "output_type": "stream",
     "name": "stdout",
     "text": "Ответ к заданию 1.7.10\n1. третья координата u_norm:= 0.289\n2. четвертую координату v_norm:= 0.667\n3. первую координату w_norm:= 0.213\n"
    }
   ],
   "source": [
    "temp1 = (u/np.linalg.norm(u))[2]\n",
    "temp2 = (v/np.linalg.norm(v))[3]\n",
    "temp3 = (w/np.linalg.norm(w))[0]\n",
    "\n",
    "task = '1.7.10'\n",
    "print(f\"Ответ к заданию {task}\")\n",
    "print(f\"1. третья координата u_norm\"\n",
    "      f\":= {round(temp1,3)}\")\n",
    "print(f\"2. четвертую координату v_norm\"\n",
    "      f\":= {round(temp2,3)}\")\n",
    "print(f\"3. первую координату w_norm\"\n",
    "      f\":= {round(temp3,3)}\")"
   ]
  },
  {
   "cell_type": "markdown",
   "metadata": {},
   "source": [
    "### 1.8. Матрицы. Основные понятия"
   ]
  },
  {
   "cell_type": "code",
   "execution_count": 56,
   "metadata": {},
   "outputs": [
    {
     "output_type": "stream",
     "name": "stdout",
     "text": "Матрица А:\n[[ 1 -5  3]\n [ 2  2  1]\n [ 0  3  1]\n [ 2  4 12]]\nA.shape:= (4, 3)\nA[1,2]:= 1\nA[2,1]:= 3\nA[2,2]:= 1\n"
    },
    {
     "output_type": "execute_result",
     "data": {
      "text/plain": "matrix([[1, 0, 0],\n        [0, 1, 0],\n        [0, 0, 1]])"
     },
     "metadata": {},
     "execution_count": 56
    }
   ],
   "source": [
    "A = np.array([[1,-5,3],[2,2,1],[0,3,1],[2,4,12]])\n",
    "print(f'Матрица А:')\n",
    "print(A)\n",
    "print(f'A.shape:= {A.shape}')\n",
    "print(f'A[1,2]:= {A[1,2]}')\n",
    "print(f'A[2,1]:= {A[2,1]}')\n",
    "print(f'A[2,2]:= {A[2,2]}')\n",
    "B = np.matrix([[1,0,0],[0,1,0],[0,0,1]])\n",
    "B"
   ]
  },
  {
   "cell_type": "markdown",
   "metadata": {},
   "source": [
    "### 1.9. Базовые действия над матрицами"
   ]
  },
  {
   "cell_type": "code",
   "execution_count": 57,
   "metadata": {
    "scrolled": true
   },
   "outputs": [
    {
     "output_type": "stream",
     "name": "stdout",
     "text": "матрица D\n[[2 1 0]\n [0 2 1]\n [1 1 1]]\n\nматрица D.T\n[[2 0 1]\n [1 2 1]\n [0 1 1]]\n"
    }
   ],
   "source": [
    "C = np.matrix([[1,1,0],[0,1,1],[1,1,0]])\n",
    "D = B+C\n",
    "print(f\"матрица D\")\n",
    "print(D)\n",
    "print()\n",
    "print(f\"матрица D.T\")\n",
    "print(D.T)"
   ]
  },
  {
   "cell_type": "markdown",
   "metadata": {},
   "source": [
    "### 1.10. --> Практика. Базовые действия над матрицами"
   ]
  },
  {
   "cell_type": "code",
   "execution_count": 73,
   "metadata": {},
   "outputs": [
    {
     "output_type": "error",
     "ename": "SyntaxError",
     "evalue": "invalid syntax (<ipython-input-73-0b385a5488bf>, line 3)",
     "traceback": [
      "\u001b[1;36m  File \u001b[1;32m\"<ipython-input-73-0b385a5488bf>\"\u001b[1;36m, line \u001b[1;32m3\u001b[0m\n\u001b[1;33m    ``` python\u001b[0m\n\u001b[1;37m    ^\u001b[0m\n\u001b[1;31mSyntaxError\u001b[0m\u001b[1;31m:\u001b[0m invalid syntax\n"
     ]
    }
   ],
   "source": [
    "# как создать матрицу?\n",
    "# как двумерный массив Numpy\n",
    "np.array( [ [1,1] , [2,3] , [4,5] ] )\n",
    "\n",
    "# преобразовать из Pandas DataFrame\n",
    "data=[[1,2,3],[4,5,6],[7,8,9],[10,11,12]]\n",
    "df = pd.DataFrame(data)\n",
    "\n",
    "A = df.values\n",
    "print('Data Frame:')\n",
    "print(df)\n",
    "print('Matrix:')\n",
    "print(A)"
   ]
  },
  {
   "cell_type": "code",
   "execution_count": 59,
   "metadata": {},
   "outputs": [
    {
     "output_type": "execute_result",
     "data": {
      "text/plain": "(4, 3)"
     },
     "metadata": {},
     "execution_count": 59
    }
   ],
   "source": [
    "# размер матрицы\n",
    "np.shape(A)"
   ]
  },
  {
   "cell_type": "code",
   "execution_count": 60,
   "metadata": {},
   "outputs": [
    {
     "output_type": "execute_result",
     "data": {
      "text/plain": "array([[1],\n       [2],\n       [3]])"
     },
     "metadata": {},
     "execution_count": 60
    }
   ],
   "source": [
    "# вектор-столбец\n",
    "x=np.array([1,2,3])\n",
    "np.reshape(x,(3,1))"
   ]
  },
  {
   "cell_type": "code",
   "execution_count": 61,
   "metadata": {},
   "outputs": [
    {
     "output_type": "execute_result",
     "data": {
      "text/plain": "array([[1, 2, 3]])"
     },
     "metadata": {},
     "execution_count": 61
    }
   ],
   "source": [
    "# вектор-строка\n",
    "np.reshape(x,(1,3))"
   ]
  },
  {
   "cell_type": "code",
   "execution_count": 62,
   "metadata": {},
   "outputs": [
    {
     "output_type": "stream",
     "name": "stdout",
     "text": "[[1 2 3]] (1, 3)\n"
    }
   ],
   "source": [
    "# вектор-строка\n",
    "x_row=np.array([1, 2, 3], ndmin=2)\n",
    "print(x_row,np.shape(x_row))"
   ]
  },
  {
   "cell_type": "code",
   "execution_count": 63,
   "metadata": {},
   "outputs": [
    {
     "output_type": "stream",
     "name": "stdout",
     "text": "матрица А:\n[[ 1  2  3]\n [ 4  5  6]\n [ 7  8  9]\n [10 11 12]]\nПервая строка матрицы А:\n[1 2 3]\nТретий столбец матрицы А:\n[ 3  6  9 12]\nЭлемент а_43:\n12\n"
    }
   ],
   "source": [
    "# индексация матриц (двумерных массивов numpy)\n",
    "print('матрица А:')\n",
    "print(A)\n",
    "print('Первая строка матрицы А:')\n",
    "print(A[0])\n",
    "print('Третий столбец матрицы А:')\n",
    "print(A[:,2])\n",
    "print('Элемент а_43:')\n",
    "print(A[3,2])"
   ]
  },
  {
   "cell_type": "code",
   "execution_count": 64,
   "metadata": {},
   "outputs": [
    {
     "output_type": "stream",
     "name": "stdout",
     "text": "[[0. 0. 0.]\n [0. 0. 0.]]\n\n[[1. 0. 0.]\n [0. 1. 0.]\n [0. 0. 1.]]\n"
    },
    {
     "output_type": "execute_result",
     "data": {
      "text/plain": "array([[1., 1., 1., 1., 1.],\n       [1., 1., 1., 1., 1.],\n       [1., 1., 1., 1., 1.]])"
     },
     "metadata": {},
     "execution_count": 64
    }
   ],
   "source": [
    "# создание специальных матриц\n",
    "\n",
    "# нулевая\n",
    "print(np.zeros((2,3)))\n",
    "print()\n",
    "\n",
    "# единичная\n",
    "print(np.eye(3))\n",
    "\n",
    "# матрица единиц\n",
    "np.ones((3,5))"
   ]
  },
  {
   "cell_type": "code",
   "execution_count": 65,
   "metadata": {},
   "outputs": [
    {
     "output_type": "stream",
     "name": "stdout",
     "text": "[[1 0 0]\n [0 2 0]\n [0 0 3]]\n\n"
    },
    {
     "output_type": "execute_result",
     "data": {
      "text/plain": "array([[5., 0., 0.],\n       [0., 5., 0.],\n       [0., 0., 5.]])"
     },
     "metadata": {},
     "execution_count": 65
    }
   ],
   "source": [
    "# Диагональная\n",
    "diagonal=[1,2,3]\n",
    "print(np.diag(diagonal))\n",
    "print()\n",
    "\n",
    "# Шаровая\n",
    "5*np.eye(3)"
   ]
  },
  {
   "cell_type": "code",
   "execution_count": 66,
   "metadata": {},
   "outputs": [
    {
     "output_type": "stream",
     "name": "stdout",
     "text": "[[1 1]\n [2 3]\n [4 5]]\n\n[[ 1 -1]\n [-2  3]\n [ 4 -5]]\n\n[[2 0]\n [0 6]\n [8 0]]\n\n[[2 0]\n [0 6]\n [8 0]]\n\n[[ 0  2]\n [ 4  0]\n [ 0 10]]\n\n[[ 2  2]\n [ 4  6]\n [ 8 10]]\n\n[[1 2 4]\n [1 3 5]]\n\n"
    }
   ],
   "source": [
    "A=np.array([[1,1],[2,3],[4,5]])\n",
    "B=np.array([[1,-1],[-2,3],[4,-5]])\n",
    "\n",
    "print(A)\n",
    "print()\n",
    "\n",
    "print(B)\n",
    "print()\n",
    "\n",
    "print(A+B)\n",
    "print()\n",
    "\n",
    "print(B+A)\n",
    "print()\n",
    "\n",
    "print(A-B)\n",
    "print()\n",
    "\n",
    "print(2*A)\n",
    "print()\n",
    "\n",
    "print(A.T)\n",
    "print()"
   ]
  },
  {
   "cell_type": "code",
   "execution_count": 67,
   "metadata": {},
   "outputs": [
    {
     "output_type": "stream",
     "name": "stdout",
     "text": "[1 2 3]\n\n[[1]\n [2]\n [3]]\n(3, 1)\n\n[[1 2 3]]\n(3,)\n\n(3, 1)\n\n(1, 3)\n\n"
    }
   ],
   "source": [
    "# как транспонировать вектор?\n",
    "x=np.array([1,2,3])\n",
    "print(x.T)\n",
    "print()\n",
    "\n",
    "x_col=np.reshape(x,(3,1))\n",
    "print(x_col)\n",
    "print(np.shape(x_col))\n",
    "print()\n",
    "\n",
    "print(x_col.T)\n",
    "\n",
    "print(np.shape(x))\n",
    "print()\n",
    "\n",
    "print(np.shape(x_col))\n",
    "print()\n",
    "\n",
    "print(np.shape(x_col.T))\n",
    "print()"
   ]
  },
  {
   "cell_type": "markdown",
   "metadata": {},
   "source": [
    "### Задача 1.10.1 \n",
    "***Условие:*** Данные по доходам и расходам каждого члена семьи Ивановых записаны в одномерные массивы NumPy"
   ]
  },
  {
   "cell_type": "code",
   "execution_count": 68,
   "metadata": {},
   "outputs": [],
   "source": [
    "Husband_Income=np.array([100,220,140])\n",
    "Wife_Income=np.array([150,200,130])\n",
    "Lover_Income=np.array([90,80,100])\n",
    "\n",
    "Husband_Сonsumption=np.array([50,50,60])\n",
    "Wife_Сonsumption=np.array([100,80,140])\n",
    "Lover_Сonsumption=np.array([100,20,140])"
   ]
  },
  {
   "cell_type": "markdown",
   "metadata": {},
   "source": [
    "### Задание 1.10.1\n",
    "Составьте матрицу Inc доходов семьи, расположив доходы мужа, жены и любовницы в первый, второй и третий столбцы:  \n",
    "В ответ запишите диагональные элементы (по главной диагонали) этой матрицы через запятую (без пробела):"
   ]
  },
  {
   "cell_type": "code",
   "execution_count": 69,
   "metadata": {},
   "outputs": [
    {
     "output_type": "stream",
     "name": "stdout",
     "text": "Ответ к заданию 1.10.1\nдиагональные элементы (по главной диагонали) матрицы Inc:= 100,200,100\n"
    }
   ],
   "source": [
    "A = np.array([ Husband_Income , Wife_Income , Lover_Income ])\n",
    "Inc = A.T\n",
    "temp  = np.diagonal(Inc)\n",
    "\n",
    "task = '1.10.1'\n",
    "print(f\"Ответ к заданию {task}\")\n",
    "print(f\"диагональные элементы (по главной диагонали) матрицы Inc:= \", end=\"\")\n",
    "print(*temp, sep=\",\")"
   ]
  },
  {
   "cell_type": "markdown",
   "metadata": {},
   "source": [
    "### Задание 1.10.2\n",
    "Составьте матрицу Cons расходов семьи, расположив расходы мужа, жены и любовницы в первый, второй и третий столбцы.  \n",
    "В ответ запишите диагональные элементы (по побочной диагонали) этой матрицы через запятую (без пробела)"
   ]
  },
  {
   "cell_type": "code",
   "execution_count": 70,
   "metadata": {},
   "outputs": [
    {
     "output_type": "stream",
     "name": "stdout",
     "text": "Ответ к заданию 1.10.2\nдиагональные элементы (по побочной диагонали) матрицы Cons:= 100,80,60\n"
    }
   ],
   "source": [
    "B = np.array([ Husband_Сonsumption , Wife_Сonsumption , Lover_Сonsumption ])\n",
    "Cons = B.T\n",
    "\n",
    "temp  = np.diagonal(Cons[:, ::-1])\n",
    "\n",
    "task = '1.10.2'\n",
    "print(f\"Ответ к заданию {task}\")\n",
    "print(f\"диагональные элементы (по побочной диагонали) матрицы Cons:= \", end=\"\")\n",
    "print(*temp, sep=\",\")"
   ]
  },
  {
   "cell_type": "markdown",
   "metadata": {},
   "source": [
    "### Задание 1.10.3\n",
    "Доходы представлены до уплаты налогов. Налоговая ставка — 13%. Вычислите матрицу доходов семьи Ивановых после уплаты налогов.  \n",
    "В ответ запишите элементы из 1 строки этой матрицы через запятую (без пробелов)"
   ]
  },
  {
   "cell_type": "code",
   "execution_count": 71,
   "metadata": {},
   "outputs": [
    {
     "output_type": "stream",
     "name": "stdout",
     "text": "Ответ к заданию 1.10.3\nэлементы из 1 строки этой матрицы доходов семьи Ивановых после уплаты налогов:= 87.0,130.5,78.3\n"
    }
   ],
   "source": [
    "Margin = 0.87*Inc\n",
    "\n",
    "temp  = Margin[0]\n",
    "\n",
    "task = '1.10.3'\n",
    "print(f\"Ответ к заданию {task}\")\n",
    "print(f\"элементы из 1 строки этой матрицы доходов семьи Ивановых после уплаты налогов:= \", end=\"\")\n",
    "print(*temp, sep=\",\")"
   ]
  },
  {
   "cell_type": "markdown",
   "metadata": {},
   "source": [
    "### Задание 1.10.4  \n",
    "Вычислите матрицу P, которая покажет баланс семьи Ивановых за один месяц (то есть разницу между доходами и расходами).  \n",
    "В ответ запишите элементы из 3 строки этой матрицы через запятую (без пробела)"
   ]
  },
  {
   "cell_type": "code",
   "execution_count": 72,
   "metadata": {},
   "outputs": [
    {
     "output_type": "stream",
     "name": "stdout",
     "text": "Ответ к заданию 1.10.4\nэлементы из 3 строки матрицы баланса семьи Ивановых:= 61.8,-26.900000000000006,-53.0\n"
    }
   ],
   "source": [
    "P = Margin - Cons\n",
    "\n",
    "temp = P[2]\n",
    "task = '1.10.4'\n",
    "\n",
    "print(f\"Ответ к заданию {task}\")\n",
    "print(f\"элементы из 3 строки матрицы баланса семьи Ивановых:= \", end=\"\")\n",
    "print(*temp, sep=\",\")"
   ]
  },
  {
   "cell_type": "markdown",
   "metadata": {},
   "source": [
    "### 1.11. Умножение матриц\n",
    "---\n",
    "### Задание 1.11.1\n",
    "1. Когда можно найти произведение двух матриц A • B?  \n",
    "\n",
    "***Ответ:***\n",
    "- $A = {1\\ 2\\ 1\\choose 4 \\ 4\\ 4} , B = {1\\ 0\\ 6\\choose 0 \\ 1\\ 0}$  \n",
    "- А размера 8 на 3 и B размера 3 на 5\n",
    "\n",
    "2. Для корректного умножения матриц должны совпадать:  \n",
    "\n",
    "***Ответ:***\n",
    "- Число столбцов левой матрицы и число строк правой верно\n",
    "\n",
    "### Задание 1.11.2\n",
    "В произведении C = AB матриц  \n",
    "1. c~1~2  \n",
    "2. с~3~4"
   ]
  },
  {
   "cell_type": "code",
   "execution_count": 85,
   "metadata": {},
   "outputs": [
    {
     "output_type": "execute_result",
     "data": {
      "text/plain": "array([[ 3,  4,  5,  7],\n       [11,  8, 17,  0],\n       [ 4,  3,  5,  0]])"
     },
     "metadata": {},
     "execution_count": 85
    }
   ],
   "source": [
    "np.dot(A,B)"
   ]
  },
  {
   "cell_type": "code",
   "execution_count": 86,
   "metadata": {},
   "outputs": [
    {
     "output_type": "stream",
     "name": "stdout",
     "text": "[[ 3  4  5  7]\n [11  8 17  0]\n [ 4  3  5  0]]\nОтвет к заданию 1.11.2\nc 12:= 4\nc 34:= 0\n"
    }
   ],
   "source": [
    "A = np.array( [ [1,-1, 2, 4, 0] , [8, 2, 0, 5, 3] , [0, 1, 2, 1, 2] ] )\n",
    "B = np.array( [ [1, 0, 1, 0] , [0, 0, 2, -1] , [1, 0, 1, 1], [0, 1, 1, 1], [1, 1, 0, -1] ] )\n",
    "C = np.dot(A,B)\n",
    "print(C)\n",
    "temp1 = C[0,1]\n",
    "temp2 = C[2,3]\n",
    "\n",
    "task = '1.11.2'\n",
    "\n",
    "print(f\"Ответ к заданию {task}\")\n",
    "print(f\"c 12:= {temp1}\")\n",
    "print(f\"c 34:= {temp2}\")"
   ]
  },
  {
   "cell_type": "markdown",
   "metadata": {},
   "source": [
    "### 1.12. Умножение на специальные матрицы\n",
    "---\n",
    "### Задание 1.12.2\n",
    "Найдите АВ и ВА"
   ]
  },
  {
   "cell_type": "code",
   "execution_count": 87,
   "metadata": {},
   "outputs": [
    {
     "output_type": "stream",
     "name": "stdout",
     "text": "AB\n[[ 2  2]\n [12 15]]\nBA\n[[ 2  3]\n [ 8 15]]\n"
    }
   ],
   "source": [
    "A = np.array([[2, 0], [0, 3]])\n",
    "B = np.array([[1, 1], [4, 5]])\n",
    "print(\"AB\")\n",
    "print(np.dot(A,B))\n",
    "print(\"BA\")\n",
    "print(np.dot(B,A))"
   ]
  },
  {
   "cell_type": "markdown",
   "metadata": {},
   "source": [
    "### 1.13. Делители нуля\n",
    "---\n",
    "### 1.14. Умножение и транспонирование матриц\n",
    "---\n",
    "### Задание 1.14.2  \n",
    "Найдите матрицу Грама G системы векторов:  \n",
    "$a = {1\\choose 1} , b = {2\\choose -1}, c = {1\\choose 2}$"
   ]
  },
  {
   "cell_type": "code",
   "execution_count": 88,
   "metadata": {},
   "outputs": [
    {
     "output_type": "stream",
     "name": "stdout",
     "text": "Ответ к заданию 1.14.2\nматрицу Грама G системы векторов\n[[2 1 3]\n [1 5 0]\n [3 0 5]]\n"
    }
   ],
   "source": [
    "X = np.array( [ [1,2,1] , [1,-1,2] ] )\n",
    "task = '1.14.2'\n",
    "\n",
    "print(f\"Ответ к заданию {task}\")\n",
    "print(f\"матрицу Грама G системы векторов\")\n",
    "print(np.dot(X.T,X))"
   ]
  },
  {
   "cell_type": "markdown",
   "metadata": {},
   "source": [
    "### 1.15. --> Практика. Умножение матриц\n",
    "---\n",
    "### Задача 1.15.1. \n",
    "Условие\n",
    "```python \n",
    "A=np.array([[5, -1, 3, 1, 2],[-2, 8, 5, -1, 1]])\n",
    "x=np.array([1, 2, 3, 4, 5])\n",
    "```\n",
    "Найдите произведение матрицы A и вектора x в том порядке, в котором их можно умножить."
   ]
  },
  {
   "cell_type": "code",
   "execution_count": 90,
   "metadata": {},
   "outputs": [
    {
     "output_type": "stream",
     "name": "stdout",
     "text": "Ответ к заданию 1.15.1\nпроизведение матрицы A и вектора x :=[26],[30]\n"
    }
   ],
   "source": [
    "A=np.array( [ [5,-1,3,1,2] , [-2,8,5,-1,1] ] )\n",
    "x=np.array( [1,2,3,4,5] )\n",
    "x1 = np.reshape(x,(5,1))\n",
    "\n",
    "temp = np.dot(A,x1)\n",
    "\n",
    "task = '1.15.1'\n",
    "print(f\"Ответ к заданию {task}\")\n",
    "print(f\"произведение матрицы A и вектора x :=\", end=\"\")\n",
    "print(*temp, sep=\",\")"
   ]
  },
  {
   "cell_type": "markdown",
   "metadata": {},
   "source": [
    "### Задание 1.15.2 \n",
    "***Условие:*** Даны две матрицы:\n",
    "```python\n",
    "A = np.array([[1,9,8,5], [3,6,3,2], [3,3,3,3], [0,2,5,9], [4,4,1,2]])\n",
    "B = np.array([[1,-1,0,1,1], [-2,0,2,-1,1]])\n",
    "```\n",
    "Найдите произведение матриц A и B в том порядке, в котором их можно умножить.\n",
    "В ответ запишите элемент из 1 строки и 4 столбца"
   ]
  },
  {
   "cell_type": "code",
   "execution_count": 92,
   "metadata": {},
   "outputs": [
    {
     "output_type": "stream",
     "name": "stdout",
     "text": "Ответ к заданию 1.15.2\nэлемент из 1 строки и 4 столбца произведения матрицы A и B := 14\n"
    }
   ],
   "source": [
    "A=np.array([[1, 9, 8, 5], [3, 6, 3, 2], [3, 3, 3, 3], [0, 2, 5, 9], [4, 4, 1, 2]])\n",
    "B=np.array([[1, -1, 0, 1, 1], [-2, 0, 2, -1, 1]])\n",
    "C = np.dot(B,A)\n",
    "\n",
    "temp= C[0,3]\n",
    "\n",
    "task = '1.15.2'\n",
    "print(f\"Ответ к заданию {task}\")\n",
    "print(f\"элемент из 1 строки и 4 столбца произведения матрицы A и B := {temp}\")"
   ]
  },
  {
   "cell_type": "markdown",
   "metadata": {},
   "source": [
    "### Задание 1.15.3. \n",
    "***Условие:*** Дана система векторов:\n",
    "```python\n",
    "x = np.array([1,2,1,0,4])  \n",
    "y = np.array([2,1,-1,1,0])  \n",
    "z = np.array([-1,1,-1,0,0])  \n",
    "```\n",
    "Найдите матрицу Грама системы векторов x, y, z  \n",
    "Введите все элементы этой матрицы через запятую (без пробела), перечисляя построчно:"
   ]
  },
  {
   "cell_type": "code",
   "execution_count": 94,
   "metadata": {},
   "outputs": [
    {
     "output_type": "stream",
     "name": "stdout",
     "text": "Ответ к заданию 1.15.3\nматрица Грама G системы векторов:\n[[22  3  0]\n [ 3  7  0]\n [ 0  0  3]]\n"
    }
   ],
   "source": [
    "x=np.array([1,2,1,0,4])\n",
    "y=np.array([2,1,-1,1,0])\n",
    "z=np.array([-1,1,-1,0,0])\n",
    "A = np.array([x,y,z])\n",
    "\n",
    "task = '1.15.3'\n",
    "\n",
    "print(f\"Ответ к заданию {task}\")\n",
    "print(f\"матрица Грама G системы векторов:\")\n",
    "print(np.dot(A,A.T))"
   ]
  },
  {
   "cell_type": "markdown",
   "metadata": {},
   "source": [
    "### Задание 1.15.4. \n",
    "В салоне красоты «Феи ножниц» работает 8 стилистов: Аня, Борис, Вика, Галя, Дима, Егор, Женя и Юра.  \n",
    "В dataframe Count_DF содержится информация по количеству услуг, оказанных каждым стилистом за апрель.  \n",
    "В dataframe Price_DF содержится информация по стоимости услуг у каждого стилиста в тысячах рублей.  \n",
    "Найдите вектор выручки Бориса"
   ]
  },
  {
   "cell_type": "code",
   "execution_count": 95,
   "metadata": {},
   "outputs": [],
   "source": [
    "Count_DF = pd.DataFrame({'Женские стрижки': [10, 2, 12, 4, 6, 10, 22, 7], \n",
    "                                'Мужские стрижки': [5, 21, 12, 8, 25, 3, 1, 0], \n",
    "                                'Окрашивания':[12, 3, 0, 18, 27, 2, 4, 31],\n",
    "                              'Укладка':[15, 25, 30, 14, 25, 17, 25, 31],\n",
    "                                'Уход':[10, 6, 4, 5, 18, 12, 20, 28]\n",
    "                                }, \n",
    "                               index=['Аня', 'Борис', 'Вика', 'Галя', 'Дима', 'Егор', 'Женя','Юра'])\n",
    "Price_DF = pd.DataFrame({'Женские стрижки': [2, 1.8, 2, 1.8, 2.5, 5, 1.1, 4.5], \n",
    "                                'Мужские стрижки': [1.5, 2.5, 2, 1.2, 3.5, 5, 1, 4], \n",
    "                                'Окрашивания':[1, 1, 0, 2.8, 2, 3, 1.5, 2.5],\n",
    "                              'Укладка':[0.8, 1, 0.5, 0.8, 1, 2, 0.5, 1],\n",
    "                                'Уход':[1, 1, 2, 2, 1.5, 2.5, 1.7, 2] \n",
    "                                }, \n",
    "                               index=['Аня', 'Борис', 'Вика', 'Галя', 'Дима', 'Егор', 'Женя','Юра'])"
   ]
  },
  {
   "cell_type": "code",
   "execution_count": 99,
   "metadata": {},
   "outputs": [
    {
     "output_type": "stream",
     "name": "stdout",
     "text": "Ответ к заданию 1.15.4\nвектор выручки Бориса :=3.6,52.5,3.0,25.0,6.0\n"
    }
   ],
   "source": [
    "C = Count_DF.values\n",
    "P = Price_DF.values\n",
    "\n",
    "temp = C[1]*P[1]\n",
    "\n",
    "task = '1.15.4'\n",
    "print(f\"Ответ к заданию {task}\")\n",
    "print(f\"вектор выручки Бориса :=\", end=\"\")\n",
    "print(*temp, sep=\",\")"
   ]
  },
  {
   "cell_type": "markdown",
   "metadata": {},
   "source": [
    "### Задание 1.15.5. \n",
    "Найдите вектор прибыли салона по стилистам.  \n",
    "Если за каждую услугу стилисты платят определенную комиссию салону.  \n",
    "Вектор комиссий com=\\[0.2, 0.2, 0.3, 0.1, 0.1\\]  \n",
    "Введите координаты вектора через запятую (без пробела):"
   ]
  },
  {
   "cell_type": "code",
   "execution_count": 110,
   "metadata": {},
   "outputs": [
    {
     "output_type": "stream",
     "name": "stdout",
     "text": "Ответ к заданию 1.15.5\nвектор прибыли салона по стилистам :=11.3,15.22,11.900000000000002,20.6,41.900000000000006,21.200000000000003,11.49,38.25\n"
    }
   ],
   "source": [
    "com = np.array([0.2, 0.2, 0.3, 0.1, 0.1])\n",
    "\n",
    "temp = C*P@com\n",
    "\n",
    "task = '1.15.5'\n",
    "print(f\"Ответ к заданию {task}\")\n",
    "print(f\"вектор прибыли салона по стилистам :=\", end=\"\")\n",
    "print(*temp, sep=\",\")"
   ]
  },
  {
   "cell_type": "markdown",
   "metadata": {},
   "source": [
    "### Задание 1.15.6. \n",
    "Найдите вектор прибыли стилистов"
   ]
  },
  {
   "cell_type": "code",
   "execution_count": 112,
   "metadata": {},
   "outputs": [
    {
     "output_type": "stream",
     "name": "stdout",
     "text": "Ответ к заданию 1.15.6\nвектор прибыли стилистов :=50.2,74.88000000000001,59.10000000000001,67.8,166.60000000000002,113.80000000000001,66.21000000000001,157.75\n"
    }
   ],
   "source": [
    "com_stylist = np.ones(5)-com\n",
    "\n",
    "temp = R@com_stylist\n",
    "\n",
    "task = '1.15.6'\n",
    "print(f\"Ответ к заданию {task}\")\n",
    "print(f\"вектор прибыли стилистов :=\", end=\"\")\n",
    "print(*temp, sep=\",\")"
   ]
  },
  {
   "cell_type": "markdown",
   "metadata": {},
   "source": [
    "### 1.16. Обратная матрица"
   ]
  },
  {
   "cell_type": "code",
   "execution_count": 126,
   "metadata": {},
   "outputs": [
    {
     "output_type": "stream",
     "name": "stdout",
     "text": "матрица А\n[[1 0]\n [0 1]]\nматрица обратная к А\n[[1. 0.]\n [0. 1.]]\n---\nматрица C\n[[2 0]\n [0 5]]\nматрица обратная к C\n[[0.5 0. ]\n [0.  0.2]]\n"
    }
   ],
   "source": [
    "A = np.array([[1,0],[0,1]])\n",
    "print(\"матрица А\")\n",
    "print(A)\n",
    "print(\"матрица обратная к А\")\n",
    "print(np.linalg.inv(A))\n",
    "print(\"---\")\n",
    "\n",
    "C = np.array([[2,0],[0,5]])\n",
    "print(\"матрица C\")\n",
    "print(C)\n",
    "print(\"матрица обратная к C\")\n",
    "print(np.linalg.inv(C))"
   ]
  },
  {
   "cell_type": "markdown",
   "metadata": {},
   "source": [
    "### Задание 1.16.1"
   ]
  },
  {
   "cell_type": "code",
   "execution_count": 121,
   "metadata": {},
   "outputs": [
    {
     "output_type": "stream",
     "name": "stdout",
     "text": "матрица D\n[[1 2]\n [2 4]]\nОтвет к заданию 1.16.1\nматрица обратная не существует\n"
    }
   ],
   "source": [
    "D = np.array([[1,2],[2,4]])\n",
    "print(\"матрица D\")\n",
    "print(D)\n",
    "\n",
    "task = '1.16.1'\n",
    "print(f\"Ответ к заданию {task}\")\n",
    "print(\"матрица обратная не существует\")"
   ]
  },
  {
   "cell_type": "markdown",
   "metadata": {},
   "source": [
    "### Задания 1.16.3 - 1.16.4"
   ]
  },
  {
   "cell_type": "code",
   "execution_count": 125,
   "metadata": {},
   "outputs": [
    {
     "output_type": "stream",
     "name": "stdout",
     "text": "матрица В\n[[1 2]\n [2 5]]\nОтвет к заданию 1.16.3\nматрица обратная к B\n[[ 5. -2.]\n [-2.  1.]]\n"
    }
   ],
   "source": [
    "B = np.array([[1,2],[2,5]])\n",
    "print(\"матрица В\")\n",
    "print(B)\n",
    "\n",
    "task = '1.16.3'\n",
    "print(f\"Ответ к заданию {task}\")\n",
    "print(\"матрица обратная к B\")\n",
    "print(np.linalg.inv(B))"
   ]
  },
  {
   "cell_type": "markdown",
   "metadata": {},
   "source": [
    "### 1.17. Определитель матрицы"
   ]
  },
  {
   "cell_type": "code",
   "execution_count": 123,
   "metadata": {},
   "outputs": [
    {
     "output_type": "stream",
     "name": "stdout",
     "text": "детерминант матрицы A := 1.0\nдетерминант матрицы B := 1.0\nдетерминант матрицы C := 9.999999999999998\nдетерминант матрицы D := 0.0\n"
    }
   ],
   "source": [
    "print (f\"детерминант матрицы A := {np.linalg.det(A)}\")\n",
    "print (f\"детерминант матрицы B := {np.linalg.det(B)}\")\n",
    "print (f\"детерминант матрицы C := {np.linalg.det(C)}\")\n",
    "print (f\"детерминант матрицы D := {np.linalg.det(D)}\")"
   ]
  },
  {
   "cell_type": "markdown",
   "metadata": {},
   "source": [
    "### Задание 1.17.1\n",
    "Найдите det(A), det(B), det(A+B), если\n",
    "```python\n",
    "A = np.array([[1,2],[1,1]])\n",
    "B = np.array([[5,-2],[-1,4]])\n",
    "```"
   ]
  },
  {
   "cell_type": "code",
   "execution_count": 128,
   "metadata": {},
   "outputs": [
    {
     "output_type": "stream",
     "name": "stdout",
     "text": "Ответ к заданию 1.17.1\ndet(A) := -1.0\ndet(B) := 17.999999999999996\ndet(A+B) := 29.99999999999999\n"
    }
   ],
   "source": [
    "A = np.array([[1,2],[1,1]])\n",
    "B = np.array([[5,-2],[-1,4]])\n",
    "\n",
    "temp = np.linalg.det(A)\n",
    "temp2 = np.linalg.det(B)\n",
    "temp3 = np.linalg.det(A+B)\n",
    "\n",
    "task = '1.17.1'\n",
    "print(f\"Ответ к заданию {task}\")\n",
    "print(f\"det(A) := {temp}\")\n",
    "print(f\"det(B) := {temp2}\")\n",
    "print(f\"det(A+B) := {temp3}\")"
   ]
  },
  {
   "cell_type": "markdown",
   "metadata": {},
   "source": [
    "### 1.18. Линейная (не)зависимость ч.1\n",
    "---\n",
    "### 1.19. Линейная (не)зависимость ч.2\n",
    "---\n",
    "### 1.20. --> Практика. Обратная матрица, ранг, определитель"
   ]
  },
  {
   "cell_type": "code",
   "execution_count": 131,
   "metadata": {},
   "outputs": [
    {
     "output_type": "stream",
     "name": "stdout",
     "text": "A1:\n [[ 1  2  3]\n [ 4  5  6]\n [ 7  8 10]]\n"
    }
   ],
   "source": [
    "# обратная матрица - все ок\n",
    "A1=np.array([[1,2,3],[4,5,6],[7,8,10]])\n",
    "print('A1:\\n',A1)"
   ]
  },
  {
   "cell_type": "code",
   "execution_count": 132,
   "metadata": {},
   "outputs": [
    {
     "output_type": "stream",
     "name": "stdout",
     "text": "rk(A3):\n 3\n"
    }
   ],
   "source": [
    "print('rk(A3):\\n',np.linalg.matrix_rank(A1))"
   ]
  },
  {
   "cell_type": "code",
   "execution_count": 133,
   "metadata": {},
   "outputs": [
    {
     "output_type": "stream",
     "name": "stdout",
     "text": "A1 inversed:\n [[-0.66666667 -1.33333333  1.        ]\n [-0.66666667  3.66666667 -2.        ]\n [ 1.         -2.          1.        ]]\n"
    }
   ],
   "source": [
    "# обратная матрица - все ок\n",
    "A1_inv=np.linalg.inv(A1)\n",
    "print('A1 inversed:\\n',A1_inv)"
   ]
  },
  {
   "cell_type": "code",
   "execution_count": 134,
   "metadata": {},
   "outputs": [
    {
     "output_type": "stream",
     "name": "stdout",
     "text": "A1 @ A1 inversed=E check:\n [[ 1.00000000e+00  8.88178420e-16 -4.44089210e-16]\n [ 0.00000000e+00  1.00000000e+00 -1.77635684e-15]\n [ 0.00000000e+00  0.00000000e+00  1.00000000e+00]] 1\n[[ 1.  0. -0.]\n [ 0.  1. -0.]\n [ 0.  0.  1.]]\ncheck OK\n"
    }
   ],
   "source": [
    "# обратная матрица - все ок\n",
    "print('A1 @ A1 inversed=E check:\\n',A1@A1_inv,1)\n",
    "print(np.round(A1@A1_inv,1))\n",
    "print('check OK')"
   ]
  },
  {
   "cell_type": "code",
   "execution_count": 135,
   "metadata": {},
   "outputs": [
    {
     "output_type": "stream",
     "name": "stdout",
     "text": "A2:\n [[1 2 3]\n [4 5 6]\n [1 2 3]]\n"
    }
   ],
   "source": [
    "# обратная матрица - вырожденный случай\n",
    "A2=np.array([[1,2,3],[4,5,6],[1,2,3]])\n",
    "print('A2:\\n',A2)"
   ]
  },
  {
   "cell_type": "code",
   "execution_count": 136,
   "metadata": {},
   "outputs": [
    {
     "output_type": "stream",
     "name": "stdout",
     "text": "rk(A3):\n 2\n"
    }
   ],
   "source": [
    "# обратная матрица - вырожденный случай\n",
    "print('rk(A3):\\n',np.linalg.matrix_rank(A2))"
   ]
  },
  {
   "cell_type": "code",
   "execution_count": 137,
   "metadata": {},
   "outputs": [
    {
     "output_type": "error",
     "ename": "LinAlgError",
     "evalue": "Singular matrix",
     "traceback": [
      "\u001b[1;31m---------------------------------------------------------------------------\u001b[0m",
      "\u001b[1;31mLinAlgError\u001b[0m                               Traceback (most recent call last)",
      "\u001b[1;32m<ipython-input-137-c542f79171a4>\u001b[0m in \u001b[0;36m<module>\u001b[1;34m\u001b[0m\n\u001b[0;32m      1\u001b[0m \u001b[1;31m# обратная матрица - вырожденный случай\u001b[0m\u001b[1;33m\u001b[0m\u001b[1;33m\u001b[0m\u001b[1;33m\u001b[0m\u001b[0m\n\u001b[1;32m----> 2\u001b[1;33m \u001b[0mnp\u001b[0m\u001b[1;33m.\u001b[0m\u001b[0mlinalg\u001b[0m\u001b[1;33m.\u001b[0m\u001b[0minv\u001b[0m\u001b[1;33m(\u001b[0m\u001b[0mA2\u001b[0m\u001b[1;33m)\u001b[0m\u001b[1;33m\u001b[0m\u001b[1;33m\u001b[0m\u001b[0m\n\u001b[0m",
      "\u001b[1;32m<__array_function__ internals>\u001b[0m in \u001b[0;36minv\u001b[1;34m(*args, **kwargs)\u001b[0m\n",
      "\u001b[1;32m~\\AppData\\Local\\Programs\\Python\\Python37-32\\lib\\site-packages\\numpy\\linalg\\linalg.py\u001b[0m in \u001b[0;36minv\u001b[1;34m(a)\u001b[0m\n\u001b[0;32m    545\u001b[0m     \u001b[0msignature\u001b[0m \u001b[1;33m=\u001b[0m \u001b[1;34m'D->D'\u001b[0m \u001b[1;32mif\u001b[0m \u001b[0misComplexType\u001b[0m\u001b[1;33m(\u001b[0m\u001b[0mt\u001b[0m\u001b[1;33m)\u001b[0m \u001b[1;32melse\u001b[0m \u001b[1;34m'd->d'\u001b[0m\u001b[1;33m\u001b[0m\u001b[1;33m\u001b[0m\u001b[0m\n\u001b[0;32m    546\u001b[0m     \u001b[0mextobj\u001b[0m \u001b[1;33m=\u001b[0m \u001b[0mget_linalg_error_extobj\u001b[0m\u001b[1;33m(\u001b[0m\u001b[0m_raise_linalgerror_singular\u001b[0m\u001b[1;33m)\u001b[0m\u001b[1;33m\u001b[0m\u001b[1;33m\u001b[0m\u001b[0m\n\u001b[1;32m--> 547\u001b[1;33m     \u001b[0mainv\u001b[0m \u001b[1;33m=\u001b[0m \u001b[0m_umath_linalg\u001b[0m\u001b[1;33m.\u001b[0m\u001b[0minv\u001b[0m\u001b[1;33m(\u001b[0m\u001b[0ma\u001b[0m\u001b[1;33m,\u001b[0m \u001b[0msignature\u001b[0m\u001b[1;33m=\u001b[0m\u001b[0msignature\u001b[0m\u001b[1;33m,\u001b[0m \u001b[0mextobj\u001b[0m\u001b[1;33m=\u001b[0m\u001b[0mextobj\u001b[0m\u001b[1;33m)\u001b[0m\u001b[1;33m\u001b[0m\u001b[1;33m\u001b[0m\u001b[0m\n\u001b[0m\u001b[0;32m    548\u001b[0m     \u001b[1;32mreturn\u001b[0m \u001b[0mwrap\u001b[0m\u001b[1;33m(\u001b[0m\u001b[0mainv\u001b[0m\u001b[1;33m.\u001b[0m\u001b[0mastype\u001b[0m\u001b[1;33m(\u001b[0m\u001b[0mresult_t\u001b[0m\u001b[1;33m,\u001b[0m \u001b[0mcopy\u001b[0m\u001b[1;33m=\u001b[0m\u001b[1;32mFalse\u001b[0m\u001b[1;33m)\u001b[0m\u001b[1;33m)\u001b[0m\u001b[1;33m\u001b[0m\u001b[1;33m\u001b[0m\u001b[0m\n\u001b[0;32m    549\u001b[0m \u001b[1;33m\u001b[0m\u001b[0m\n",
      "\u001b[1;32m~\\AppData\\Local\\Programs\\Python\\Python37-32\\lib\\site-packages\\numpy\\linalg\\linalg.py\u001b[0m in \u001b[0;36m_raise_linalgerror_singular\u001b[1;34m(err, flag)\u001b[0m\n\u001b[0;32m     95\u001b[0m \u001b[1;33m\u001b[0m\u001b[0m\n\u001b[0;32m     96\u001b[0m \u001b[1;32mdef\u001b[0m \u001b[0m_raise_linalgerror_singular\u001b[0m\u001b[1;33m(\u001b[0m\u001b[0merr\u001b[0m\u001b[1;33m,\u001b[0m \u001b[0mflag\u001b[0m\u001b[1;33m)\u001b[0m\u001b[1;33m:\u001b[0m\u001b[1;33m\u001b[0m\u001b[1;33m\u001b[0m\u001b[0m\n\u001b[1;32m---> 97\u001b[1;33m     \u001b[1;32mraise\u001b[0m \u001b[0mLinAlgError\u001b[0m\u001b[1;33m(\u001b[0m\u001b[1;34m\"Singular matrix\"\u001b[0m\u001b[1;33m)\u001b[0m\u001b[1;33m\u001b[0m\u001b[1;33m\u001b[0m\u001b[0m\n\u001b[0m\u001b[0;32m     98\u001b[0m \u001b[1;33m\u001b[0m\u001b[0m\n\u001b[0;32m     99\u001b[0m \u001b[1;32mdef\u001b[0m \u001b[0m_raise_linalgerror_nonposdef\u001b[0m\u001b[1;33m(\u001b[0m\u001b[0merr\u001b[0m\u001b[1;33m,\u001b[0m \u001b[0mflag\u001b[0m\u001b[1;33m)\u001b[0m\u001b[1;33m:\u001b[0m\u001b[1;33m\u001b[0m\u001b[1;33m\u001b[0m\u001b[0m\n",
      "\u001b[1;31mLinAlgError\u001b[0m: Singular matrix"
     ]
    }
   ],
   "source": [
    "# обратная матрица - вырожденный случай\n",
    "np.linalg.inv(A2)"
   ]
  },
  {
   "cell_type": "code",
   "execution_count": 138,
   "metadata": {},
   "outputs": [
    {
     "output_type": "stream",
     "name": "stdout",
     "text": "A3:\n [[1 2 3]\n [4 5 6]\n [7 8 9]]\n"
    }
   ],
   "source": [
    "# обратная матрица - magic\n",
    "A3=np.array([[1,2,3],[4,5,6],[7,8,9]])\n",
    "print('A3:\\n',A3)"
   ]
  },
  {
   "cell_type": "code",
   "execution_count": 139,
   "metadata": {},
   "outputs": [
    {
     "output_type": "stream",
     "name": "stdout",
     "text": "rk(A3):\n 2\n"
    }
   ],
   "source": [
    "# обратная матрица - magic\n",
    "print('rk(A3):\\n',np.linalg.matrix_rank(A3))"
   ]
  },
  {
   "cell_type": "code",
   "execution_count": 140,
   "metadata": {},
   "outputs": [
    {
     "output_type": "stream",
     "name": "stdout",
     "text": "A3 inversed:\n [[-4.50359963e+15  9.00719925e+15 -4.50359963e+15]\n [ 9.00719925e+15 -1.80143985e+16  9.00719925e+15]\n [-4.50359963e+15  9.00719925e+15 -4.50359963e+15]]\n"
    }
   ],
   "source": [
    "# обратная матрица - magic\n",
    "print('A3 inversed:\\n',np.linalg.inv(A3))"
   ]
  },
  {
   "cell_type": "code",
   "execution_count": 141,
   "metadata": {},
   "outputs": [
    {
     "output_type": "stream",
     "name": "stdout",
     "text": "A3 @ A3 inversed = E check:\n [[ 0.  0.  0.]\n [-4.  0. -4.]\n [ 0.  0.  0.]]\ncheck failed\n"
    }
   ],
   "source": [
    "# обратная матрица - magic\n",
    "print('A3 @ A3 inversed = E check:\\n',A3@np.linalg.inv(A3))\n",
    "print('check failed')"
   ]
  },
  {
   "cell_type": "code",
   "execution_count": 142,
   "metadata": {},
   "outputs": [
    {
     "output_type": "stream",
     "name": "stdout",
     "text": "det(A1)):\n -2.9999999999999982\ndet(A2)):\n 0.0\ndet(A3)):\n 6.66133814775094e-16\n"
    }
   ],
   "source": [
    "print('det(A1)):\\n',np.linalg.det(A1))\n",
    "\n",
    "print('det(A2)):\\n',np.linalg.det(A2))\n",
    "\n",
    "print('det(A3)):\\n',np.linalg.det(A3))"
   ]
  },
  {
   "cell_type": "code",
   "execution_count": 143,
   "metadata": {},
   "outputs": [
    {
     "output_type": "stream",
     "name": "stdout",
     "text": "A4:\n [[1.      2.      3.     ]\n [4.      5.      6.     ]\n [1.      2.      3.00005]]\nrk(A4):\n 3\ndet(A4):\n -0.00014999999999965044\nA4 inverse:\n [[-2.00016667e+04  6.66666667e-01  2.00000000e+04]\n [ 4.00013333e+04 -3.33333333e-01 -4.00000000e+04]\n [-2.00000000e+04  0.00000000e+00  2.00000000e+04]]\n"
    }
   ],
   "source": [
    "# обратная матрица - нестойчивость\n",
    "A4=np.array([[1,2,3],[4,5,6],[1,2,3.00005]])\n",
    "print('A4:\\n',A4)\n",
    "print('rk(A4):\\n',np.linalg.matrix_rank(A4))\n",
    "print('det(A4):\\n',np.linalg.det(A4))\n",
    "print('A4 inverse:\\n',np.linalg.inv(A4))"
   ]
  },
  {
   "cell_type": "code",
   "execution_count": 144,
   "metadata": {},
   "outputs": [
    {
     "output_type": "stream",
     "name": "stdout",
     "text": "A5:\n [[1.         2.         3.        ]\n [4.         5.         6.        ]\n [1.         2.         3.00000005]]\nrk(A5):\n 3\ndet(A5):\n -1.5000000042064706e-07\nA5 inverse:\n [[-2.00000016e+07  6.66666667e-01  1.99999999e+07]\n [ 4.00000012e+07 -3.33333333e-01 -3.99999999e+07]\n [-1.99999999e+07  0.00000000e+00  1.99999999e+07]]\n"
    }
   ],
   "source": [
    "# обратная матрица - нестойчивость вблизи нулевого определителя\n",
    "A5=np.array([[1,2,3],[4,5,6],[1,2,3.00000005]])\n",
    "print('A5:\\n',A5)\n",
    "print('rk(A5):\\n',np.linalg.matrix_rank(A5))\n",
    "print('det(A5):\\n',np.linalg.det(A5))\n",
    "print('A5 inverse:\\n',np.linalg.inv(A5))"
   ]
  },
  {
   "cell_type": "code",
   "execution_count": 145,
   "metadata": {},
   "outputs": [],
   "source": [
    "# обратимость матрицы Грама линейно независимой системы векторов\n",
    "v1=np.array([1,2,1])\n",
    "v2=np.array([1,1,1])\n",
    "A=np.array([v1,v2]).T"
   ]
  },
  {
   "cell_type": "code",
   "execution_count": 146,
   "metadata": {},
   "outputs": [
    {
     "output_type": "stream",
     "name": "stdout",
     "text": "A:\n [[1 1]\n [2 1]\n [1 1]]\nМатрица Грама:\n [[6 4]\n [4 3]]\nРанг матрицы Грама:\n 2\nОпределитель матрицы Грама:\n 2.0000000000000004\nОбратная к матрице Грама:\n [[ 1.5 -2. ]\n [-2.   3. ]]\n"
    }
   ],
   "source": [
    "print('A:\\n',A)\n",
    "print('Матрица Грама:\\n',A.T@A)\n",
    "\n",
    "print('Ранг матрицы Грама:\\n',np.linalg.matrix_rank(A.T@A))\n",
    "\n",
    "print('Определитель матрицы Грама:\\n',np.linalg.det(A.T@A))\n",
    "\n",
    "print('Обратная к матрице Грама:\\n',np.linalg.inv(A.T@A))"
   ]
  },
  {
   "cell_type": "markdown",
   "metadata": {},
   "source": [
    "### Задание 1.20.1. \n",
    "Найдите обратную матрицу к матрице А  \n",
    "В ответ запишите элемент из 2 строки и 1 столбца"
   ]
  },
  {
   "cell_type": "code",
   "execution_count": 149,
   "metadata": {},
   "outputs": [
    {
     "output_type": "stream",
     "name": "stdout",
     "text": "Ответ к заданию 1.20.1\nэлемент из 2 строки и 1 столбца обратной матрицы к матрице А := 0.375\n"
    }
   ],
   "source": [
    "A=np.array( [[ 8 , 6 ,11],[ 7 , 5 , 9],[ 6 ,10,  6]])\n",
    "\n",
    "temp = np.linalg.inv(A)[1,0]\n",
    "\n",
    "task = '1.20.1'\n",
    "print(f\"Ответ к заданию {task}\")\n",
    "print(f\"элемент из 2 строки и 1 столбца обратной матрицы к матрице А := \", end=\"\")\n",
    "print(temp, sep=\",\")"
   ]
  },
  {
   "cell_type": "code",
   "execution_count": 267,
   "metadata": {},
   "outputs": [
    {
     "name": "stdout",
     "output_type": "stream",
     "text": [
      "Задание 1.20.1 элемент из 2 строки и 1 столбца обратной матрицы к матрице А :=0.375"
     ]
    }
   ],
   "source": []
  },
  {
   "cell_type": "markdown",
   "metadata": {},
   "source": [
    "### Задание 1.20.2. \n",
    "Найдите ранг системы векторов v1, v2, v3, v4"
   ]
  },
  {
   "cell_type": "code",
   "execution_count": 152,
   "metadata": {},
   "outputs": [
    {
     "output_type": "stream",
     "name": "stdout",
     "text": "Ответ к заданию 1.20.2\nранг системы векторов v1, v2, v3, v4 := 4\n"
    }
   ],
   "source": [
    "v1=np.array([ 9, 10,  7,  7,  9])\n",
    "v2=np.array([2, 0, 5, 1, 4])\n",
    "v3=np.array([4, 0, 0, 4, 1])\n",
    "v4=np.array([ 3, -4,  3, -1, -4])\n",
    "\n",
    "B = np.array([v1,v2,v3,v4])\n",
    "\n",
    "temp = np.linalg.matrix_rank(B)\n",
    "\n",
    "task = '1.20.2'\n",
    "print(f\"Ответ к заданию {task}\")\n",
    "print(f\"ранг системы векторов v1, v2, v3, v4 := \", end=\"\")\n",
    "print(temp, sep=\",\")"
   ]
  },
  {
   "cell_type": "markdown",
   "metadata": {},
   "source": [
    "### Задание 1.20.4. \n",
    "Найдите матрицу Грама системы векторов v1, v2, v3, v4  \n",
    "В ответ запишите элемент из 1 строки и 4 столбца"
   ]
  },
  {
   "cell_type": "code",
   "execution_count": 153,
   "metadata": {},
   "outputs": [
    {
     "output_type": "stream",
     "name": "stdout",
     "text": "Ответ к заданию 1.20.4\nэлемент из 1 строки и 4 столбца матрицы Грама системы векторов v1, v2, v3, v4 := -35\n"
    }
   ],
   "source": [
    "X = B.T\n",
    "G = X.T @ X\n",
    "\n",
    "temp = G[0,3]\n",
    "\n",
    "task = '1.20.4'\n",
    "print(f\"Ответ к заданию {task}\")\n",
    "print(f\"элемент из 1 строки и 4 столбца матрицы Грама системы векторов v1, v2, v3, v4 := \", end=\"\")\n",
    "print(temp, sep=\",\")"
   ]
  },
  {
   "cell_type": "markdown",
   "metadata": {},
   "source": [
    "### Задание. 1.20.5. \n",
    "Найдите определитель матрицы Грама системы v1, v2, v3, v4  \n",
    "***Ответ округлите до целой части:***"
   ]
  },
  {
   "cell_type": "code",
   "execution_count": 156,
   "metadata": {},
   "outputs": [
    {
     "output_type": "stream",
     "name": "stdout",
     "text": "Ответ к заданию 1.20.5\nопределитель матрицы Грама системы v1, v2, v3, v4 := 3716648.0\n"
    }
   ],
   "source": [
    "temp = np.linalg.det(G)\n",
    "\n",
    "task = '1.20.5'\n",
    "print(f\"Ответ к заданию {task}\")\n",
    "print(f\"определитель матрицы Грама системы v1, v2, v3, v4 := \", end=\"\")\n",
    "print(round(temp,0), sep=\",\")"
   ]
  },
  {
   "cell_type": "markdown",
   "metadata": {},
   "source": [
    "### Задание 1.20.7. \n",
    "Найдите обратную матрицу к матрице Грама системы v1, v2, v3, v4  \n",
    "В ответ запишите элемент из 3 строки и 1 столбца, округлив его до трёх знаков после запятой"
   ]
  },
  {
   "cell_type": "code",
   "execution_count": 158,
   "metadata": {},
   "outputs": [
    {
     "output_type": "stream",
     "name": "stdout",
     "text": "Ответ к заданию 1.20.7\nэлемент из 3 строки и 1 столбца обратной матрицы к матрице Грама системы v1, v2, v3, v4   := -0.026\n"
    }
   ],
   "source": [
    "temp = np.linalg.inv(G)[2,0]\n",
    "\n",
    "task = '1.20.7'\n",
    "print(f\"Ответ к заданию {task}\")\n",
    "print(f\"элемент из 3 строки и 1 столбца обратной матрицы к матрице Грама системы v1, v2, v3, v4   := \", end=\"\")\n",
    "print(round(temp,3), sep=\",\")"
   ]
  },
  {
   "cell_type": "markdown",
   "metadata": {},
   "source": [
    "конец модуля"
   ]
  },
  {
   "cell_type": "code",
   "execution_count": null,
   "metadata": {},
   "outputs": [],
   "source": []
  }
 ],
 "metadata": {
  "kernelspec": {
   "display_name": "Python 3",
   "language": "python",
   "name": "python3"
  },
  "language_info": {
   "codemirror_mode": {
    "name": "ipython",
    "version": 3
   },
   "file_extension": ".py",
   "mimetype": "text/x-python",
   "name": "python",
   "nbconvert_exporter": "python",
   "pygments_lexer": "ipython3",
   "version": "3.7.4-final"
  }
 },
 "nbformat": 4,
 "nbformat_minor": 2
}
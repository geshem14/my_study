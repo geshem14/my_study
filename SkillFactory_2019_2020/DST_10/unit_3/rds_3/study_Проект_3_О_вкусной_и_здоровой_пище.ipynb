{
 "cells": [
  {
   "cell_type": "markdown",
   "metadata": {},
   "source": [
    "# Проект 3. О вкусной и здоровой пище  \n",
    "## Юнит 3. Введение в машинное обучение \n",
    "### Skillfactory: DST-10\n",
    "---\n",
    "## Какой кейс решаем?  \n",
    "Представьте, что Вы работаете DS в компании TripAdvisor. Одна из проблем TripAdvisorа — это нечестные рестораны, которые накручивают себе рейтинг. Одним из способов нахождения таких ресторанов, является построение модели, которая предсказывает рейтинг ресторана. Если предсказания модели сильно отличаются от фактического результата, то, возможно, ресторан играет нечестно, и его стоит проверить.\n",
    "## 2. Разбираемся с данными  \n",
    "в этом модуле вы будете работать с датасетом, содержащим сведения о 40 000 ресторанах Европы, а модель, которую вы будете обучать, должна будет предсказывать рейтинг ресторана по данным сайта TripAdvisor на основе имеющихся в датасете данных.  \n",
    "\n",
    "Первоначальная версия датасета состоит из десяти столбцов, содержащих следующую информацию:  \n",
    "- Restaurant_id — идентификационный номер ресторана / сети ресторанов;\n",
    "- City — город, в котором находится ресторан;\n",
    "- Cuisine Style — кухня или кухни, к которым можно отнести блюда, предлагаемые в ресторане;\n",
    "- Ranking — место, которое занимает данный ресторан среди всех ресторанов своего города;\n",
    "- Rating — рейтинг ресторана по данным TripAdvisor (именно это значение должна будет предсказывать модель);\n",
    "- Price Range — диапазон цен в ресторане;\n",
    "- Number of Reviews — количество отзывов о ресторане;\n",
    "- Reviews — данные о двух отзывах, которые отображаются на сайте ресторана;\n",
    "- URL_TA — URL страницы ресторана на TripAdvosor;\n",
    "- ID_TA — идентификатор ресторана в базе данных TripAdvisor."
   ]
  },
  {
   "cell_type": "code",
   "execution_count": 55,
   "metadata": {},
   "outputs": [
    {
     "output_type": "stream",
     "name": "stdout",
     "text": "['main_task.csv']\n"
    }
   ],
   "source": [
    "# импортируем все необходимые библиотеки\n",
    "import pandas as pd\n",
    "import numpy as np\n",
    "from sklearn.model_selection import train_test_split # Загружаем специальный инструмент для разбивки:\n",
    "from sklearn.ensemble import RandomForestRegressor # инструмент для создания и обучения модели  \n",
    "from sklearn import metrics # инструменты для оценки точности модели \n",
    "from collections import Counter\n",
    "import datetime\n",
    "import os\n",
    "# import re\n",
    "# import math\n",
    "# import copy\n",
    "print(os.listdir('../rds_3/data'))"
   ]
  },
  {
   "cell_type": "code",
   "execution_count": 57,
   "metadata": {},
   "outputs": [],
   "source": [
    "# считываем исходный датасет\n",
    "df = pd.read_csv('../rds_3/data/main_task.csv')"
   ]
  },
  {
   "cell_type": "code",
   "execution_count": 58,
   "metadata": {},
   "outputs": [
    {
     "output_type": "execute_result",
     "data": {
      "text/plain": "  Restaurant_id       City                            Cuisine Style  Ranking  \\\n0       id_5569      Paris  ['European', 'French', 'International']   5570.0   \n1       id_1535  Stockholm                                      NaN   1537.0   \n\n   Rating Price Range  Number of Reviews  \\\n0     3.5    $$ - $$$              194.0   \n1     4.0         NaN               10.0   \n\n                                             Reviews  \\\n0  [['Good food at your doorstep', 'A good hotel ...   \n1  [['Unique cuisine', 'Delicious Nepalese food']...   \n\n                                              URL_TA     ID_TA  \n0  /Restaurant_Review-g187147-d1912643-Reviews-R_...  d1912643  \n1  /Restaurant_Review-g189852-d7992032-Reviews-Bu...  d7992032  ",
      "text/html": "<div>\n<style scoped>\n    .dataframe tbody tr th:only-of-type {\n        vertical-align: middle;\n    }\n\n    .dataframe tbody tr th {\n        vertical-align: top;\n    }\n\n    .dataframe thead th {\n        text-align: right;\n    }\n</style>\n<table border=\"1\" class=\"dataframe\">\n  <thead>\n    <tr style=\"text-align: right;\">\n      <th></th>\n      <th>Restaurant_id</th>\n      <th>City</th>\n      <th>Cuisine Style</th>\n      <th>Ranking</th>\n      <th>Rating</th>\n      <th>Price Range</th>\n      <th>Number of Reviews</th>\n      <th>Reviews</th>\n      <th>URL_TA</th>\n      <th>ID_TA</th>\n    </tr>\n  </thead>\n  <tbody>\n    <tr>\n      <th>0</th>\n      <td>id_5569</td>\n      <td>Paris</td>\n      <td>['European', 'French', 'International']</td>\n      <td>5570.0</td>\n      <td>3.5</td>\n      <td>$$ - $$$</td>\n      <td>194.0</td>\n      <td>[['Good food at your doorstep', 'A good hotel ...</td>\n      <td>/Restaurant_Review-g187147-d1912643-Reviews-R_...</td>\n      <td>d1912643</td>\n    </tr>\n    <tr>\n      <th>1</th>\n      <td>id_1535</td>\n      <td>Stockholm</td>\n      <td>NaN</td>\n      <td>1537.0</td>\n      <td>4.0</td>\n      <td>NaN</td>\n      <td>10.0</td>\n      <td>[['Unique cuisine', 'Delicious Nepalese food']...</td>\n      <td>/Restaurant_Review-g189852-d7992032-Reviews-Bu...</td>\n      <td>d7992032</td>\n    </tr>\n  </tbody>\n</table>\n</div>"
     },
     "metadata": {},
     "execution_count": 58
    }
   ],
   "source": [
    "df.head(2)"
   ]
  },
  {
   "cell_type": "code",
   "execution_count": 59,
   "metadata": {},
   "outputs": [
    {
     "output_type": "stream",
     "name": "stdout",
     "text": "<class 'pandas.core.frame.DataFrame'>\nRangeIndex: 40000 entries, 0 to 39999\nData columns (total 10 columns):\nRestaurant_id        40000 non-null object\nCity                 40000 non-null object\nCuisine Style        30717 non-null object\nRanking              40000 non-null float64\nRating               40000 non-null float64\nPrice Range          26114 non-null object\nNumber of Reviews    37457 non-null float64\nReviews              40000 non-null object\nURL_TA               40000 non-null object\nID_TA                40000 non-null object\ndtypes: float64(3), object(7)\nmemory usage: 2.0+ MB\n"
    }
   ],
   "source": [
    "df.info()"
   ]
  },
  {
   "cell_type": "markdown",
   "metadata": {},
   "source": [
    "## 2.1 Задание 1\n",
    "Какие столбцы НЕ содержат пропущенных (None) значений?  \n",
    "***Ответ:***\n",
    "- НЕ СОДЕРЖ - Restaurant_id\n",
    "- НЕ СОДЕРЖ - City\n",
    "  - ***СОДЕРЖ - Cuisine Style***\n",
    "- НЕ СОДЕРЖ - Ranking\n",
    "- НЕ СОДЕРЖ - Rating\n",
    "  - ***СОДЕРЖ - Price Range***\n",
    "  - ***СОДЕРЖ - Number of Reviews***\n",
    "- НЕ СОДЕРЖ - Reviews\n",
    "- НЕ СОДЕРЖ - URL_TA\n",
    "- НЕ СОДЕРЖ - ID_TA"
   ]
  },
  {
   "cell_type": "markdown",
   "metadata": {},
   "source": [
    "## 2.2 Задание 2\n",
    "В каких столбцах данные хранятся в числовом формате?  \n",
    "***Ответ:***\n",
    "- \n",
    "  - ***object - Restaurant_id***\n",
    "  - ***object - City***\n",
    "  - ***object - Cuisine Style***\n",
    "- В ЧИСЛОВОМ - Ranking\n",
    "- В ЧИСЛОВОМ - Rating\n",
    "  - ***object - Price Range***\n",
    "- В ЧИСЛОВОМ - Number of Reviews\n",
    "  - ***object - Reviews***\n",
    "  - ***object - URL_TA***\n",
    "  - ***object - ID_TA***"
   ]
  },
  {
   "cell_type": "markdown",
   "metadata": {},
   "source": [
    "## 2.3 Задание 3\n",
    "В каких столбцах хранящиеся данные представляют собой список?\n",
    "\n",
    "***Ответ:*** - ни в одном из перечисленных. Значения выглядящие как списки, на самом деле, тип object - \"строковый\" тип\n"
   ]
  },
  {
   "cell_type": "code",
   "execution_count": 60,
   "metadata": {},
   "outputs": [],
   "source": [
    "# сделаем из кода построения модели функцию, так как нам придется ее повторять \n",
    "def first_model(df):\n",
    "    # Разбиваем датафрейм на части, необходимые для обучения и тестирования модели  \n",
    "    # Х - данные с информацией о ресторанах, у - целевая переменная (рейтинги ресторанов)  \n",
    "    X = df.drop(['Rating'], axis = 1)  \n",
    "    y = df['Rating']  \n",
    "    \n",
    "    # Наборы данных с меткой \"train\" будут использоваться для обучения модели, \n",
    "    # \"test\" - для тестирования.  \n",
    "    # Для тестирования мы будем использовать 25% от исходного датасета.  \n",
    "    X_train, X_test, y_train, y_test = train_test_split(X, y, test_size=0.25)  \n",
    "\n",
    "    # Создаём модель  \n",
    "    regr = RandomForestRegressor(n_estimators=100)  \n",
    "    \n",
    "    # Обучаем модель на тестовом наборе данных  \n",
    "    regr.fit(X_train, y_train)  \n",
    "    \n",
    "    # Используем обученную модель для предсказания рейтинга ресторанов в тестовой выборке.  \n",
    "    # Предсказанные значения записываем в переменную y_pred  \n",
    "    y_pred = regr.predict(X_test) \n",
    "\n",
    "    # Сравниваем предсказанные значения (y_pred) с реальными (y_test), \n",
    "    # и смотрим насколько они в среднем отличаются  \n",
    "    # Метрика называется Mean Absolute Error (MAE) и показывает \n",
    "    # среднее отклонение предсказанных значений от фактических.  \n",
    "    print('MAE:', metrics.mean_absolute_error(y_test, y_pred)) "
   ]
  },
  {
   "cell_type": "code",
   "execution_count": 61,
   "metadata": {
    "scrolled": true
   },
   "outputs": [
    {
     "output_type": "error",
     "ename": "ValueError",
     "evalue": "could not convert string to float: 'id_4702'",
     "traceback": [
      "\u001b[1;31m---------------------------------------------------------------------------\u001b[0m",
      "\u001b[1;31mValueError\u001b[0m                                Traceback (most recent call last)",
      "\u001b[1;32m<ipython-input-61-bf14ee8c74b2>\u001b[0m in \u001b[0;36m<module>\u001b[1;34m\u001b[0m\n\u001b[0;32m      1\u001b[0m \u001b[1;31m# запускаем функцию с построением модели и оценкой МАЕ\u001b[0m\u001b[1;33m\u001b[0m\u001b[1;33m\u001b[0m\u001b[1;33m\u001b[0m\u001b[0m\n\u001b[1;32m----> 2\u001b[1;33m \u001b[0mfirst_model\u001b[0m\u001b[1;33m(\u001b[0m\u001b[0mdf\u001b[0m\u001b[1;33m)\u001b[0m\u001b[1;33m\u001b[0m\u001b[1;33m\u001b[0m\u001b[0m\n\u001b[0m",
      "\u001b[1;32m<ipython-input-60-3a2e1d63bbba>\u001b[0m in \u001b[0;36mfirst_model\u001b[1;34m(df)\u001b[0m\n\u001b[0;32m     15\u001b[0m \u001b[1;33m\u001b[0m\u001b[0m\n\u001b[0;32m     16\u001b[0m     \u001b[1;31m# Обучаем модель на тестовом наборе данных\u001b[0m\u001b[1;33m\u001b[0m\u001b[1;33m\u001b[0m\u001b[1;33m\u001b[0m\u001b[0m\n\u001b[1;32m---> 17\u001b[1;33m     \u001b[0mregr\u001b[0m\u001b[1;33m.\u001b[0m\u001b[0mfit\u001b[0m\u001b[1;33m(\u001b[0m\u001b[0mX_train\u001b[0m\u001b[1;33m,\u001b[0m \u001b[0my_train\u001b[0m\u001b[1;33m)\u001b[0m\u001b[1;33m\u001b[0m\u001b[1;33m\u001b[0m\u001b[0m\n\u001b[0m\u001b[0;32m     18\u001b[0m \u001b[1;33m\u001b[0m\u001b[0m\n\u001b[0;32m     19\u001b[0m     \u001b[1;31m# Используем обученную модель для предсказания рейтинга ресторанов в тестовой выборке.\u001b[0m\u001b[1;33m\u001b[0m\u001b[1;33m\u001b[0m\u001b[1;33m\u001b[0m\u001b[0m\n",
      "\u001b[1;32m~\\AppData\\Local\\Programs\\Python\\Python37-32\\lib\\site-packages\\sklearn\\ensemble\\_forest.py\u001b[0m in \u001b[0;36mfit\u001b[1;34m(self, X, y, sample_weight)\u001b[0m\n\u001b[0;32m    293\u001b[0m         \"\"\"\n\u001b[0;32m    294\u001b[0m         \u001b[1;31m# Validate or convert input data\u001b[0m\u001b[1;33m\u001b[0m\u001b[1;33m\u001b[0m\u001b[1;33m\u001b[0m\u001b[0m\n\u001b[1;32m--> 295\u001b[1;33m         \u001b[0mX\u001b[0m \u001b[1;33m=\u001b[0m \u001b[0mcheck_array\u001b[0m\u001b[1;33m(\u001b[0m\u001b[0mX\u001b[0m\u001b[1;33m,\u001b[0m \u001b[0maccept_sparse\u001b[0m\u001b[1;33m=\u001b[0m\u001b[1;34m\"csc\"\u001b[0m\u001b[1;33m,\u001b[0m \u001b[0mdtype\u001b[0m\u001b[1;33m=\u001b[0m\u001b[0mDTYPE\u001b[0m\u001b[1;33m)\u001b[0m\u001b[1;33m\u001b[0m\u001b[1;33m\u001b[0m\u001b[0m\n\u001b[0m\u001b[0;32m    296\u001b[0m         \u001b[0my\u001b[0m \u001b[1;33m=\u001b[0m \u001b[0mcheck_array\u001b[0m\u001b[1;33m(\u001b[0m\u001b[0my\u001b[0m\u001b[1;33m,\u001b[0m \u001b[0maccept_sparse\u001b[0m\u001b[1;33m=\u001b[0m\u001b[1;34m'csc'\u001b[0m\u001b[1;33m,\u001b[0m \u001b[0mensure_2d\u001b[0m\u001b[1;33m=\u001b[0m\u001b[1;32mFalse\u001b[0m\u001b[1;33m,\u001b[0m \u001b[0mdtype\u001b[0m\u001b[1;33m=\u001b[0m\u001b[1;32mNone\u001b[0m\u001b[1;33m)\u001b[0m\u001b[1;33m\u001b[0m\u001b[1;33m\u001b[0m\u001b[0m\n\u001b[0;32m    297\u001b[0m         \u001b[1;32mif\u001b[0m \u001b[0msample_weight\u001b[0m \u001b[1;32mis\u001b[0m \u001b[1;32mnot\u001b[0m \u001b[1;32mNone\u001b[0m\u001b[1;33m:\u001b[0m\u001b[1;33m\u001b[0m\u001b[1;33m\u001b[0m\u001b[0m\n",
      "\u001b[1;32m~\\AppData\\Local\\Programs\\Python\\Python37-32\\lib\\site-packages\\sklearn\\utils\\validation.py\u001b[0m in \u001b[0;36mcheck_array\u001b[1;34m(array, accept_sparse, accept_large_sparse, dtype, order, copy, force_all_finite, ensure_2d, allow_nd, ensure_min_samples, ensure_min_features, warn_on_dtype, estimator)\u001b[0m\n\u001b[0;32m    513\u001b[0m                     \u001b[0marray\u001b[0m \u001b[1;33m=\u001b[0m \u001b[0marray\u001b[0m\u001b[1;33m.\u001b[0m\u001b[0mastype\u001b[0m\u001b[1;33m(\u001b[0m\u001b[0mdtype\u001b[0m\u001b[1;33m,\u001b[0m \u001b[0mcasting\u001b[0m\u001b[1;33m=\u001b[0m\u001b[1;34m\"unsafe\"\u001b[0m\u001b[1;33m,\u001b[0m \u001b[0mcopy\u001b[0m\u001b[1;33m=\u001b[0m\u001b[1;32mFalse\u001b[0m\u001b[1;33m)\u001b[0m\u001b[1;33m\u001b[0m\u001b[1;33m\u001b[0m\u001b[0m\n\u001b[0;32m    514\u001b[0m                 \u001b[1;32melse\u001b[0m\u001b[1;33m:\u001b[0m\u001b[1;33m\u001b[0m\u001b[1;33m\u001b[0m\u001b[0m\n\u001b[1;32m--> 515\u001b[1;33m                     \u001b[0marray\u001b[0m \u001b[1;33m=\u001b[0m \u001b[0mnp\u001b[0m\u001b[1;33m.\u001b[0m\u001b[0masarray\u001b[0m\u001b[1;33m(\u001b[0m\u001b[0marray\u001b[0m\u001b[1;33m,\u001b[0m \u001b[0morder\u001b[0m\u001b[1;33m=\u001b[0m\u001b[0morder\u001b[0m\u001b[1;33m,\u001b[0m \u001b[0mdtype\u001b[0m\u001b[1;33m=\u001b[0m\u001b[0mdtype\u001b[0m\u001b[1;33m)\u001b[0m\u001b[1;33m\u001b[0m\u001b[1;33m\u001b[0m\u001b[0m\n\u001b[0m\u001b[0;32m    516\u001b[0m             \u001b[1;32mexcept\u001b[0m \u001b[0mComplexWarning\u001b[0m\u001b[1;33m:\u001b[0m\u001b[1;33m\u001b[0m\u001b[1;33m\u001b[0m\u001b[0m\n\u001b[0;32m    517\u001b[0m                 raise ValueError(\"Complex data not supported\\n\"\n",
      "\u001b[1;32m~\\AppData\\Local\\Programs\\Python\\Python37-32\\lib\\site-packages\\numpy\\core\\_asarray.py\u001b[0m in \u001b[0;36masarray\u001b[1;34m(a, dtype, order)\u001b[0m\n\u001b[0;32m     83\u001b[0m \u001b[1;33m\u001b[0m\u001b[0m\n\u001b[0;32m     84\u001b[0m     \"\"\"\n\u001b[1;32m---> 85\u001b[1;33m     \u001b[1;32mreturn\u001b[0m \u001b[0marray\u001b[0m\u001b[1;33m(\u001b[0m\u001b[0ma\u001b[0m\u001b[1;33m,\u001b[0m \u001b[0mdtype\u001b[0m\u001b[1;33m,\u001b[0m \u001b[0mcopy\u001b[0m\u001b[1;33m=\u001b[0m\u001b[1;32mFalse\u001b[0m\u001b[1;33m,\u001b[0m \u001b[0morder\u001b[0m\u001b[1;33m=\u001b[0m\u001b[0morder\u001b[0m\u001b[1;33m)\u001b[0m\u001b[1;33m\u001b[0m\u001b[1;33m\u001b[0m\u001b[0m\n\u001b[0m\u001b[0;32m     86\u001b[0m \u001b[1;33m\u001b[0m\u001b[0m\n\u001b[0;32m     87\u001b[0m \u001b[1;33m\u001b[0m\u001b[0m\n",
      "\u001b[1;31mValueError\u001b[0m: could not convert string to float: 'id_4702'"
     ]
    }
   ],
   "source": [
    "# запускаем функцию с построением модели и оценкой МАЕ\n",
    "first_model(df)"
   ]
  },
  {
   "cell_type": "markdown",
   "metadata": {},
   "source": [
    "## 3.1 Вопрос для размышления  \n",
    "По какой причине во время обучения модели возникла ошибка Value Error?  \n",
    "\n",
    "***Ответ:*** - Ошибка возникла при обработке столбца со строковыми значениями. Следовательно, для обучения модели все данные должны быть переданы только в числовом формате. \n"
   ]
  },
  {
   "cell_type": "code",
   "execution_count": 62,
   "metadata": {},
   "outputs": [],
   "source": [
    "# заполняем пропуски \n",
    "# сначала заполним числовой ряд средними значениями \n",
    "df['Number of Reviews'] = df['Number of Reviews'].fillna(df['Number of Reviews'].mean())"
   ]
  },
  {
   "cell_type": "code",
   "execution_count": 63,
   "metadata": {},
   "outputs": [
    {
     "output_type": "execute_result",
     "data": {
      "text/plain": "0"
     },
     "metadata": {},
     "execution_count": 63
    }
   ],
   "source": [
    "# проверяем заполнение\n",
    "df['Number of Reviews'].isnull().sum()"
   ]
  },
  {
   "cell_type": "code",
   "execution_count": 64,
   "metadata": {},
   "outputs": [],
   "source": [
    "# теперь запольним Price Range\n",
    "# сначала заменим все значения на числовые \n",
    "dic_value_Price = {'$':1,'$$ - $$$':2,'$$$$':3}\n",
    "df['Price Range']=df['Price Range'].map(lambda x: dic_value_Price.get(x,x))\n",
    "# потом заменим на самое популярное\n",
    "df['Price Range'] = df['Price Range'].fillna(df[\"Price Range\"].value_counts().idxmax())"
   ]
  },
  {
   "cell_type": "code",
   "execution_count": 65,
   "metadata": {},
   "outputs": [
    {
     "output_type": "execute_result",
     "data": {
      "text/plain": "0"
     },
     "metadata": {},
     "execution_count": 65
    }
   ],
   "source": [
    "# проверяем заполнение\n",
    "df['Price Range'].isnull().sum()"
   ]
  },
  {
   "cell_type": "code",
   "execution_count": 66,
   "metadata": {},
   "outputs": [],
   "source": [
    "# City переводим в числа с помощью метода get_dummies\n",
    "df_city_dummies = pd.get_dummies(df['City'])\n",
    "df = pd.concat([df,df_city_dummies], axis=1)"
   ]
  },
  {
   "cell_type": "code",
   "execution_count": null,
   "metadata": {},
   "outputs": [],
   "source": []
  },
  {
   "cell_type": "code",
   "execution_count": 67,
   "metadata": {},
   "outputs": [],
   "source": [
    "# на этом тренировочном этапе удалим все столбцы, \n",
    "# которые сложно заполнить или перевести в числа\n",
    "df.drop(['Restaurant_id', 'City', 'Cuisine Style', 'Reviews', 'URL_TA', 'ID_TA'], axis=1, inplace=True)"
   ]
  },
  {
   "cell_type": "code",
   "execution_count": 68,
   "metadata": {},
   "outputs": [
    {
     "output_type": "stream",
     "name": "stdout",
     "text": "MAE: 0.215741\n"
    }
   ],
   "source": [
    "# повторяем построение модели\n",
    "first_model(df)"
   ]
  },
  {
   "cell_type": "markdown",
   "metadata": {},
   "source": [
    "## 4.1 Вопросы о ценах\n",
    "1. Сколько вариантов непустых значений встречается в столбце Price Range?  \n",
    "***Ответ:*** 3\n",
    "\n",
    "2. Как в датафрейме обозначается самый низкий уровень цен?  \n",
    "***Ответ:*** $\n",
    "\n",
    "3. Как в датафрейме обозначается самый высокий уровень цен?  \n",
    "***Ответ:*** $$$$\n",
    "\n",
    "4. Сколько ресторанов относятся к среднему ценовому сегменту?"
   ]
  },
  {
   "cell_type": "code",
   "execution_count": 69,
   "metadata": {},
   "outputs": [
    {
     "output_type": "stream",
     "name": "stdout",
     "text": "Ответ к заданию 4.1 пункт 4\n18412 := ресторанов относятся к среднему ценовому сегменту\n"
    }
   ],
   "source": [
    "# перед решением следующих задач скачиваем заново датасет, \n",
    "# потому что мы уже изменили первоначальный датасет\n",
    "df = pd.read_csv('../rds_3/data/main_task.csv')\n",
    "\n",
    "temp = len(df[df['Price Range'] == '$$ - $$$'])\n",
    "task = \"4.1\"\n",
    "print(f\"Ответ к заданию {task} пункт 4\")\n",
    "print(f\"{round(temp,0):=} := ресторанов относятся к среднему ценовому сегменту\")"
   ]
  },
  {
   "cell_type": "markdown",
   "metadata": {},
   "source": [
    "## 4.2 Вопрос о городах\n",
    "Сколько городов представлено в наборе данных?"
   ]
  },
  {
   "cell_type": "code",
   "execution_count": 70,
   "metadata": {},
   "outputs": [
    {
     "output_type": "stream",
     "name": "stdout",
     "text": "Ответ к заданию 4.2 пункт 4\n31 :=городов представлено в наборе\n"
    }
   ],
   "source": [
    "temp = df['City'].nunique()\n",
    "task = \"4.2\"\n",
    "print(f\"Ответ к заданию {task} пункт 4\")\n",
    "print(f\"{round(temp,0)} :=городов представлено в наборе\")"
   ]
  },
  {
   "cell_type": "markdown",
   "metadata": {},
   "source": [
    "## 4.3 Вопросы о кухнях\n",
    "1. Сколько типов кухонь представлено в наборе данных?  \n",
    "2. Какая кухня представлена в наибольшем количестве ресторанов? Введите название кухни без кавычек или апострофов.  \n",
    "3. Какое среднее количество кухонь предлагается в одном ресторане? Если в данных отсутствует информация о типах кухонь, то считайте, что в этом ресторане предлагается только один тип кухни. Ответ округлите до одного знака после запятой."
   ]
  },
  {
   "cell_type": "code",
   "execution_count": 71,
   "metadata": {},
   "outputs": [],
   "source": [
    "# сначала заполним пропуски в Cuisine Style\n",
    "# можно было бы какими-нибудь самыми популярными или медианными значениями по городам\n",
    "# но мы пока на этапе обучения поэтому можно просто поставить какую-нибудь \"другую\" кухню\n",
    "df['Cuisine Style'] = df['Cuisine Style'].fillna(\"['Other']\")\n",
    "df['Cuisine Style'] = df['Cuisine Style'].str.findall(r\"'(\\b.*?\\b)'\") \n",
    "\n",
    "# создадим список списков кухонь\n",
    "# temp_list = [i.split('') for i in df['Cuisine Style']]\n",
    "temp_list = df['Cuisine Style'].tolist()\n",
    "\n",
    "# но у нас получился список списков, с которым работать неудобно\n",
    "# напишем функцию распаковки списка списков \n",
    "# !!! взял данный подход из rds1, потому что он достаточно быстрый!!!)\n",
    "def list_unrar(list_of_lists):\n",
    "    result=[]\n",
    "    for lst in list_of_lists:\n",
    "      result.extend(lst)\n",
    "    return result\n",
    "\n",
    "#  записываем распакованный список в Counter\n",
    "temp_counter=Counter(list_unrar(temp_list))"
   ]
  },
  {
   "cell_type": "code",
   "execution_count": 72,
   "metadata": {},
   "outputs": [
    {
     "output_type": "stream",
     "name": "stdout",
     "text": "Ответ к заданию 4.3 пункт 1\n125 := типов кухонь представлено в наборе данных\nОтвет к заданию 4.3 пункт 2\nVegetarian Friendly := кухня представлена в наибольшем количестве ресторанов\n"
    }
   ],
   "source": [
    "temp1 = len(temp_counter) - 1  # минусуем нашу одну \"другую\" кухню\n",
    "task = \"4.3\"\n",
    "print(f\"Ответ к заданию {task} пункт 1\")\n",
    "print(f\"{round(temp1,0)} := типов кухонь представлено в наборе данных\")\n",
    "\n",
    "temp2 = temp_counter.most_common()[0][0]\n",
    "print(f\"Ответ к заданию {task} пункт 2\")\n",
    "print(f\"{temp2} := кухня представлена в наибольшем количестве ресторанов\")"
   ]
  },
  {
   "cell_type": "code",
   "execution_count": 73,
   "metadata": {},
   "outputs": [],
   "source": [
    "# ну и чтобы не бросать этот критерий Cuisine Style на полдороги, сделаем аналог get_dummies\n",
    "for cuisine in temp_counter:\n",
    "    df[cuisine] = df['Cuisine Style'].apply(lambda x: 1 if cuisine in x else 0 ).astype('float64')"
   ]
  },
  {
   "cell_type": "code",
   "execution_count": 74,
   "metadata": {},
   "outputs": [],
   "source": [
    "# чтобы не удалять столбец и не создавать новый для кол-ва кухонь \n",
    "# запишем в текущий кол-во кухонь\n",
    "df['Cuisine Style'] = df['Cuisine Style'].apply(lambda x: len(x)).astype('float64')"
   ]
  },
  {
   "cell_type": "code",
   "execution_count": 75,
   "metadata": {},
   "outputs": [
    {
     "output_type": "stream",
     "name": "stdout",
     "text": "Ответ к заданию 4.3 пункт 3\nсреднее количество кухонь предлагается в одном ресторане :=2.6\n"
    }
   ],
   "source": [
    "temp3 = df['Cuisine Style'].mean()\n",
    "print(f\"Ответ к заданию {task} пункт 3\")\n",
    "print(f\"среднее количество кухонь предлагается в одном ресторане :={round(temp3,1)}\")"
   ]
  },
  {
   "cell_type": "markdown",
   "metadata": {},
   "source": [
    "## 4.4 Вопросы об отзывах\n",
    "1. Когда был оставлен самый свежий отзыв? Введите ответ в формате yyyy-mm-dd.\n",
    "2. Какое максимальное количество дней отделяет даты публикации отзывов, размещённых на сайте ресторана? Введите количество дней в виде целого числа."
   ]
  },
  {
   "cell_type": "code",
   "execution_count": 76,
   "metadata": {},
   "outputs": [],
   "source": [
    "# заполняем пустые значения в Reviews\n",
    "df['Reviews'] = df['Reviews'].fillna(\"['no_Reviews']\")\n",
    "# находим даты и записываем в новый столбец в формате даты\n",
    "df['date_of_Review'] = df['Reviews'].str.findall('\\d+/\\d+/\\d+')\n"
   ]
  },
  {
   "cell_type": "code",
   "execution_count": 77,
   "metadata": {},
   "outputs": [
    {
     "output_type": "display_data",
     "data": {
      "text/plain": "  Restaurant_id       City  Cuisine Style  Ranking  Rating Price Range  \\\n0       id_5569      Paris            3.0   5570.0     3.5    $$ - $$$   \n1       id_1535  Stockholm            1.0   1537.0     4.0         NaN   \n\n   Number of Reviews                                            Reviews  \\\n0              194.0  [['Good food at your doorstep', 'A good hotel ...   \n1               10.0  [['Unique cuisine', 'Delicious Nepalese food']...   \n\n                                              URL_TA     ID_TA  European  \\\n0  /Restaurant_Review-g187147-d1912643-Reviews-R_...  d1912643       1.0   \n1  /Restaurant_Review-g189852-d7992032-Reviews-Bu...  d7992032       0.0   \n\n   French  International  Other  Japanese  Sushi  Asian  Grill  \\\n0     1.0            1.0    0.0       0.0    0.0    0.0    0.0   \n1     0.0            0.0    1.0       0.0    0.0    0.0    0.0   \n\n   Vegetarian Friendly  Vegan Options  Gluten Free Options  German  \\\n0                  0.0            0.0                  0.0     0.0   \n1                  0.0            0.0                  0.0     0.0   \n\n   Central European  Italian  Pizza  Fast Food  Mediterranean  Spanish  \\\n0               0.0      0.0    0.0        0.0            0.0      0.0   \n1               0.0      0.0    0.0        0.0            0.0      0.0   \n\n   Healthy  Cafe  Thai  Vietnamese  Bar  Pub  Chinese  British  Polish  \\\n0      0.0   0.0   0.0         0.0  0.0  0.0      0.0      0.0     0.0   \n1      0.0   0.0   0.0         0.0  0.0  0.0      0.0      0.0     0.0   \n\n   Fusion  Dutch  Mexican  Venezuelan  South American  Soups  Belgian  \\\n0     0.0    0.0      0.0         0.0             0.0    0.0      0.0   \n1     0.0    0.0      0.0         0.0             0.0    0.0      0.0   \n\n   Steakhouse  Latin  Barbecue  Argentinean  Irish  Seafood  Swiss  \\\n0         0.0    0.0       0.0          0.0    0.0      0.0    0.0   \n1         0.0    0.0       0.0          0.0    0.0      0.0    0.0   \n\n   Portuguese  Contemporary  Wine Bar  Greek  Central American  Indian  \\\n0         0.0           0.0       0.0    0.0               0.0     0.0   \n1         0.0           0.0       0.0    0.0               0.0     0.0   \n\n   Middle Eastern  Turkish  Hungarian  Pakistani  Peruvian  Delicatessen  \\\n0             0.0      0.0        0.0        0.0       0.0           0.0   \n1             0.0      0.0        0.0        0.0       0.0           0.0   \n\n   Eastern European  Swedish  Scandinavian  Tibetan  Nepali  Korean  \\\n0               0.0      0.0           0.0      0.0     0.0     0.0   \n1               0.0      0.0           0.0      0.0     0.0     0.0   \n\n   Southwestern  Czech  American  Slovenian  Balti  Street Food  Diner  \\\n0           0.0    0.0       0.0        0.0    0.0          0.0    0.0   \n1           0.0    0.0       0.0        0.0    0.0          0.0    0.0   \n\n   Brew Pub  Caribbean  Austrian  Moroccan  Halal  Lebanese  Russian  African  \\\n0       0.0        0.0       0.0       0.0    0.0       0.0      0.0      0.0   \n1       0.0        0.0       0.0       0.0    0.0       0.0      0.0      0.0   \n\n   Ethiopian  Egyptian  Danish  Brazilian  Ecuadorean  Israeli  Kosher  \\\n0        0.0       0.0     0.0        0.0         0.0      0.0     0.0   \n1        0.0       0.0     0.0        0.0         0.0      0.0     0.0   \n\n   Gastropub  Australian  Singaporean  Malaysian  Minority Chinese  Scottish  \\\n0        0.0         0.0          0.0        0.0               0.0       0.0   \n1        0.0         0.0          0.0        0.0               0.0       0.0   \n\n   Arabic  Ukrainian  Chilean  Mongolian  Cuban  Persian  Indonesian  \\\n0     0.0        0.0      0.0        0.0    0.0      0.0         0.0   \n1     0.0        0.0      0.0        0.0    0.0      0.0         0.0   \n\n   Colombian  Jamaican  Norwegian  Hawaiian  Armenian  Taiwanese  Bangladeshi  \\\n0        0.0       0.0        0.0       0.0       0.0        0.0          0.0   \n1        0.0       0.0        0.0       0.0       0.0        0.0          0.0   \n\n   Sri Lankan  Cambodian  Albanian  New Zealand  Croatian  Central Asian  \\\n0         0.0        0.0       0.0          0.0       0.0            0.0   \n1         0.0        0.0       0.0          0.0       0.0            0.0   \n\n   Filipino  Tunisian  Cajun & Creole  Romanian  Georgian  Polynesian  \\\n0       0.0       0.0             0.0       0.0       0.0         0.0   \n1       0.0       0.0             0.0       0.0       0.0         0.0   \n\n   Azerbaijani  Caucasian  Afghani  Uzbek  Salvadoran  Yunnan  \\\n0          0.0        0.0      0.0    0.0         0.0     0.0   \n1          0.0        0.0      0.0    0.0         0.0     0.0   \n\n   Native American  Canadian  Xinjiang  Burmese  Fujian  Welsh  Latvian  \\\n0              0.0       0.0       0.0      0.0     0.0    0.0      0.0   \n1              0.0       0.0       0.0      0.0     0.0    0.0      0.0   \n\n             date_of_Review  \n0  [12/31/2017, 11/20/2017]  \n1  [07/06/2017, 06/19/2016]  ",
      "text/html": "<div>\n<style scoped>\n    .dataframe tbody tr th:only-of-type {\n        vertical-align: middle;\n    }\n\n    .dataframe tbody tr th {\n        vertical-align: top;\n    }\n\n    .dataframe thead th {\n        text-align: right;\n    }\n</style>\n<table border=\"1\" class=\"dataframe\">\n  <thead>\n    <tr style=\"text-align: right;\">\n      <th></th>\n      <th>Restaurant_id</th>\n      <th>City</th>\n      <th>Cuisine Style</th>\n      <th>Ranking</th>\n      <th>Rating</th>\n      <th>Price Range</th>\n      <th>Number of Reviews</th>\n      <th>Reviews</th>\n      <th>URL_TA</th>\n      <th>ID_TA</th>\n      <th>European</th>\n      <th>French</th>\n      <th>International</th>\n      <th>Other</th>\n      <th>Japanese</th>\n      <th>Sushi</th>\n      <th>Asian</th>\n      <th>Grill</th>\n      <th>Vegetarian Friendly</th>\n      <th>Vegan Options</th>\n      <th>Gluten Free Options</th>\n      <th>German</th>\n      <th>Central European</th>\n      <th>Italian</th>\n      <th>Pizza</th>\n      <th>Fast Food</th>\n      <th>Mediterranean</th>\n      <th>Spanish</th>\n      <th>Healthy</th>\n      <th>Cafe</th>\n      <th>Thai</th>\n      <th>Vietnamese</th>\n      <th>Bar</th>\n      <th>Pub</th>\n      <th>Chinese</th>\n      <th>British</th>\n      <th>Polish</th>\n      <th>Fusion</th>\n      <th>Dutch</th>\n      <th>Mexican</th>\n      <th>Venezuelan</th>\n      <th>South American</th>\n      <th>Soups</th>\n      <th>Belgian</th>\n      <th>Steakhouse</th>\n      <th>Latin</th>\n      <th>Barbecue</th>\n      <th>Argentinean</th>\n      <th>Irish</th>\n      <th>Seafood</th>\n      <th>Swiss</th>\n      <th>Portuguese</th>\n      <th>Contemporary</th>\n      <th>Wine Bar</th>\n      <th>Greek</th>\n      <th>Central American</th>\n      <th>Indian</th>\n      <th>Middle Eastern</th>\n      <th>Turkish</th>\n      <th>Hungarian</th>\n      <th>Pakistani</th>\n      <th>Peruvian</th>\n      <th>Delicatessen</th>\n      <th>Eastern European</th>\n      <th>Swedish</th>\n      <th>Scandinavian</th>\n      <th>Tibetan</th>\n      <th>Nepali</th>\n      <th>Korean</th>\n      <th>Southwestern</th>\n      <th>Czech</th>\n      <th>American</th>\n      <th>Slovenian</th>\n      <th>Balti</th>\n      <th>Street Food</th>\n      <th>Diner</th>\n      <th>Brew Pub</th>\n      <th>Caribbean</th>\n      <th>Austrian</th>\n      <th>Moroccan</th>\n      <th>Halal</th>\n      <th>Lebanese</th>\n      <th>Russian</th>\n      <th>African</th>\n      <th>Ethiopian</th>\n      <th>Egyptian</th>\n      <th>Danish</th>\n      <th>Brazilian</th>\n      <th>Ecuadorean</th>\n      <th>Israeli</th>\n      <th>Kosher</th>\n      <th>Gastropub</th>\n      <th>Australian</th>\n      <th>Singaporean</th>\n      <th>Malaysian</th>\n      <th>Minority Chinese</th>\n      <th>Scottish</th>\n      <th>Arabic</th>\n      <th>Ukrainian</th>\n      <th>Chilean</th>\n      <th>Mongolian</th>\n      <th>Cuban</th>\n      <th>Persian</th>\n      <th>Indonesian</th>\n      <th>Colombian</th>\n      <th>Jamaican</th>\n      <th>Norwegian</th>\n      <th>Hawaiian</th>\n      <th>Armenian</th>\n      <th>Taiwanese</th>\n      <th>Bangladeshi</th>\n      <th>Sri Lankan</th>\n      <th>Cambodian</th>\n      <th>Albanian</th>\n      <th>New Zealand</th>\n      <th>Croatian</th>\n      <th>Central Asian</th>\n      <th>Filipino</th>\n      <th>Tunisian</th>\n      <th>Cajun &amp; Creole</th>\n      <th>Romanian</th>\n      <th>Georgian</th>\n      <th>Polynesian</th>\n      <th>Azerbaijani</th>\n      <th>Caucasian</th>\n      <th>Afghani</th>\n      <th>Uzbek</th>\n      <th>Salvadoran</th>\n      <th>Yunnan</th>\n      <th>Native American</th>\n      <th>Canadian</th>\n      <th>Xinjiang</th>\n      <th>Burmese</th>\n      <th>Fujian</th>\n      <th>Welsh</th>\n      <th>Latvian</th>\n      <th>date_of_Review</th>\n    </tr>\n  </thead>\n  <tbody>\n    <tr>\n      <th>0</th>\n      <td>id_5569</td>\n      <td>Paris</td>\n      <td>3.0</td>\n      <td>5570.0</td>\n      <td>3.5</td>\n      <td>$$ - $$$</td>\n      <td>194.0</td>\n      <td>[['Good food at your doorstep', 'A good hotel ...</td>\n      <td>/Restaurant_Review-g187147-d1912643-Reviews-R_...</td>\n      <td>d1912643</td>\n      <td>1.0</td>\n      <td>1.0</td>\n      <td>1.0</td>\n      <td>0.0</td>\n      <td>0.0</td>\n      <td>0.0</td>\n      <td>0.0</td>\n      <td>0.0</td>\n      <td>0.0</td>\n      <td>0.0</td>\n      <td>0.0</td>\n      <td>0.0</td>\n      <td>0.0</td>\n      <td>0.0</td>\n      <td>0.0</td>\n      <td>0.0</td>\n      <td>0.0</td>\n      <td>0.0</td>\n      <td>0.0</td>\n      <td>0.0</td>\n      <td>0.0</td>\n      <td>0.0</td>\n      <td>0.0</td>\n      <td>0.0</td>\n      <td>0.0</td>\n      <td>0.0</td>\n      <td>0.0</td>\n      <td>0.0</td>\n      <td>0.0</td>\n      <td>0.0</td>\n      <td>0.0</td>\n      <td>0.0</td>\n      <td>0.0</td>\n      <td>0.0</td>\n      <td>0.0</td>\n      <td>0.0</td>\n      <td>0.0</td>\n      <td>0.0</td>\n      <td>0.0</td>\n      <td>0.0</td>\n      <td>0.0</td>\n      <td>0.0</td>\n      <td>0.0</td>\n      <td>0.0</td>\n      <td>0.0</td>\n      <td>0.0</td>\n      <td>0.0</td>\n      <td>0.0</td>\n      <td>0.0</td>\n      <td>0.0</td>\n      <td>0.0</td>\n      <td>0.0</td>\n      <td>0.0</td>\n      <td>0.0</td>\n      <td>0.0</td>\n      <td>0.0</td>\n      <td>0.0</td>\n      <td>0.0</td>\n      <td>0.0</td>\n      <td>0.0</td>\n      <td>0.0</td>\n      <td>0.0</td>\n      <td>0.0</td>\n      <td>0.0</td>\n      <td>0.0</td>\n      <td>0.0</td>\n      <td>0.0</td>\n      <td>0.0</td>\n      <td>0.0</td>\n      <td>0.0</td>\n      <td>0.0</td>\n      <td>0.0</td>\n      <td>0.0</td>\n      <td>0.0</td>\n      <td>0.0</td>\n      <td>0.0</td>\n      <td>0.0</td>\n      <td>0.0</td>\n      <td>0.0</td>\n      <td>0.0</td>\n      <td>0.0</td>\n      <td>0.0</td>\n      <td>0.0</td>\n      <td>0.0</td>\n      <td>0.0</td>\n      <td>0.0</td>\n      <td>0.0</td>\n      <td>0.0</td>\n      <td>0.0</td>\n      <td>0.0</td>\n      <td>0.0</td>\n      <td>0.0</td>\n      <td>0.0</td>\n      <td>0.0</td>\n      <td>0.0</td>\n      <td>0.0</td>\n      <td>0.0</td>\n      <td>0.0</td>\n      <td>0.0</td>\n      <td>0.0</td>\n      <td>0.0</td>\n      <td>0.0</td>\n      <td>0.0</td>\n      <td>0.0</td>\n      <td>0.0</td>\n      <td>0.0</td>\n      <td>0.0</td>\n      <td>0.0</td>\n      <td>0.0</td>\n      <td>0.0</td>\n      <td>0.0</td>\n      <td>0.0</td>\n      <td>0.0</td>\n      <td>0.0</td>\n      <td>0.0</td>\n      <td>0.0</td>\n      <td>0.0</td>\n      <td>0.0</td>\n      <td>0.0</td>\n      <td>0.0</td>\n      <td>0.0</td>\n      <td>0.0</td>\n      <td>0.0</td>\n      <td>0.0</td>\n      <td>0.0</td>\n      <td>0.0</td>\n      <td>[12/31/2017, 11/20/2017]</td>\n    </tr>\n    <tr>\n      <th>1</th>\n      <td>id_1535</td>\n      <td>Stockholm</td>\n      <td>1.0</td>\n      <td>1537.0</td>\n      <td>4.0</td>\n      <td>NaN</td>\n      <td>10.0</td>\n      <td>[['Unique cuisine', 'Delicious Nepalese food']...</td>\n      <td>/Restaurant_Review-g189852-d7992032-Reviews-Bu...</td>\n      <td>d7992032</td>\n      <td>0.0</td>\n      <td>0.0</td>\n      <td>0.0</td>\n      <td>1.0</td>\n      <td>0.0</td>\n      <td>0.0</td>\n      <td>0.0</td>\n      <td>0.0</td>\n      <td>0.0</td>\n      <td>0.0</td>\n      <td>0.0</td>\n      <td>0.0</td>\n      <td>0.0</td>\n      <td>0.0</td>\n      <td>0.0</td>\n      <td>0.0</td>\n      <td>0.0</td>\n      <td>0.0</td>\n      <td>0.0</td>\n      <td>0.0</td>\n      <td>0.0</td>\n      <td>0.0</td>\n      <td>0.0</td>\n      <td>0.0</td>\n      <td>0.0</td>\n      <td>0.0</td>\n      <td>0.0</td>\n      <td>0.0</td>\n      <td>0.0</td>\n      <td>0.0</td>\n      <td>0.0</td>\n      <td>0.0</td>\n      <td>0.0</td>\n      <td>0.0</td>\n      <td>0.0</td>\n      <td>0.0</td>\n      <td>0.0</td>\n      <td>0.0</td>\n      <td>0.0</td>\n      <td>0.0</td>\n      <td>0.0</td>\n      <td>0.0</td>\n      <td>0.0</td>\n      <td>0.0</td>\n      <td>0.0</td>\n      <td>0.0</td>\n      <td>0.0</td>\n      <td>0.0</td>\n      <td>0.0</td>\n      <td>0.0</td>\n      <td>0.0</td>\n      <td>0.0</td>\n      <td>0.0</td>\n      <td>0.0</td>\n      <td>0.0</td>\n      <td>0.0</td>\n      <td>0.0</td>\n      <td>0.0</td>\n      <td>0.0</td>\n      <td>0.0</td>\n      <td>0.0</td>\n      <td>0.0</td>\n      <td>0.0</td>\n      <td>0.0</td>\n      <td>0.0</td>\n      <td>0.0</td>\n      <td>0.0</td>\n      <td>0.0</td>\n      <td>0.0</td>\n      <td>0.0</td>\n      <td>0.0</td>\n      <td>0.0</td>\n      <td>0.0</td>\n      <td>0.0</td>\n      <td>0.0</td>\n      <td>0.0</td>\n      <td>0.0</td>\n      <td>0.0</td>\n      <td>0.0</td>\n      <td>0.0</td>\n      <td>0.0</td>\n      <td>0.0</td>\n      <td>0.0</td>\n      <td>0.0</td>\n      <td>0.0</td>\n      <td>0.0</td>\n      <td>0.0</td>\n      <td>0.0</td>\n      <td>0.0</td>\n      <td>0.0</td>\n      <td>0.0</td>\n      <td>0.0</td>\n      <td>0.0</td>\n      <td>0.0</td>\n      <td>0.0</td>\n      <td>0.0</td>\n      <td>0.0</td>\n      <td>0.0</td>\n      <td>0.0</td>\n      <td>0.0</td>\n      <td>0.0</td>\n      <td>0.0</td>\n      <td>0.0</td>\n      <td>0.0</td>\n      <td>0.0</td>\n      <td>0.0</td>\n      <td>0.0</td>\n      <td>0.0</td>\n      <td>0.0</td>\n      <td>0.0</td>\n      <td>0.0</td>\n      <td>0.0</td>\n      <td>0.0</td>\n      <td>0.0</td>\n      <td>0.0</td>\n      <td>0.0</td>\n      <td>0.0</td>\n      <td>0.0</td>\n      <td>0.0</td>\n      <td>0.0</td>\n      <td>0.0</td>\n      <td>0.0</td>\n      <td>0.0</td>\n      <td>0.0</td>\n      <td>0.0</td>\n      <td>0.0</td>\n      <td>[07/06/2017, 06/19/2016]</td>\n    </tr>\n  </tbody>\n</table>\n</div>"
     },
     "metadata": {}
    }
   ],
   "source": [
    "# проверяем\n",
    "with pd.option_context('display.max_columns', None):\n",
    "    display(df.head(2))"
   ]
  },
  {
   "cell_type": "code",
   "execution_count": 78,
   "metadata": {},
   "outputs": [],
   "source": [
    "# функция расчета времени от текущего момента до самого раннего отзыва из двух\n",
    "def time_to_now(row):\n",
    "    if row['date_of_Review'] == []:\n",
    "        return None\n",
    "    return pd.datetime.now() - pd.to_datetime(row['date_of_Review']).max()\n",
    "\n",
    "# функция расчета времени между отзывами\n",
    "def time_between_Reviews(row):\n",
    "    if row['date_of_Review'] == []:\n",
    "        return None\n",
    "    return pd.to_datetime(row['date_of_Review']).max() - pd.to_datetime(row['date_of_Review']).min()\n",
    "\n",
    "# с помощью функций заполняем столбец с кол-вом дней то текущего мента \n",
    "# c момента самого раннего отзыва из двух\n",
    "df['day_to_now'] = df.apply(time_to_now, axis = 1).dt.days\n",
    "\n",
    "# с помощью функций заполняем столбец с кол-вом дней между отзывами\n",
    "df['day_between_Reviews'] = df.apply(time_between_Reviews, axis = 1).dt.days"
   ]
  },
  {
   "cell_type": "code",
   "execution_count": 83,
   "metadata": {},
   "outputs": [
    {
     "output_type": "stream",
     "name": "stdout",
     "text": "Ответ к заданию 4.4 пункт 1\nсамый свежий отзыв был оставлен :=2018-02-26\nОтвет к заданию 4.4 пункт 2\nсамый свежий отзыв был оставлен :=3207.0\n"
    }
   ],
   "source": [
    "task = '4.4'\n",
    "\n",
    "temp1 = datetime.date.today() - datetime.timedelta(days=df['day_to_now'].min())\n",
    "print(f\"Ответ к заданию {task} пункт 1\")\n",
    "print(f\"самый свежий отзыв был оставлен :={temp1}\")\n",
    "\n",
    "temp2 = df['day_between_Reviews'].max()\n",
    "print(f\"Ответ к заданию {task} пункт 2\")\n",
    "print(f\"самый свежий отзыв был оставлен :={temp2}\")"
   ]
  },
  {
   "cell_type": "code",
   "execution_count": 80,
   "metadata": {},
   "outputs": [],
   "source": [
    "# так как у нас возник вопрос про МАЕ, то сделам необходимые заполнения и удаления столбцов\n",
    "\n",
    "df['Number of Reviews'] = df['Number of Reviews'].fillna(df['Number of Reviews'].mean())\n",
    "\n",
    "# теперь заполним Price Range\n",
    "# сначала заменим все значения на числовые \n",
    "dic_value_Price = {'$':1,'$$ - $$$':2,'$$$$':3}\n",
    "df['Price Range']=df['Price Range'].map(lambda x: dic_value_Price.get(x,x))\n",
    "# потом заменим на самое популярное\n",
    "df['Price Range'] = df['Price Range'].fillna(df[\"Price Range\"].value_counts().idxmax())\n",
    "\n",
    "# City переводим в числа с помощью метода get_dummies\n",
    "df_city_dummies = pd.get_dummies(df['City']).astype('float64')\n",
    "df = pd.concat([df,df_city_dummies], axis=1)\n",
    "\n",
    "# заполняем пустые значения в столбцах с днями \n",
    "df['day_to_now'] = df['day_to_now'].fillna(df['day_to_now'].max())\n",
    "df['day_between_Reviews'] = df['day_between_Reviews'].fillna(0)\n",
    "\n",
    "# удаляем все не нужное\n",
    "df.drop(['Restaurant_id', 'City', 'Reviews', 'URL_TA', 'ID_TA', 'date_of_Review' ], axis=1, inplace=True)"
   ]
  },
  {
   "cell_type": "code",
   "execution_count": 81,
   "metadata": {},
   "outputs": [
    {
     "output_type": "display_data",
     "data": {
      "text/plain": "       Cuisine Style       Ranking        Rating   Price Range  \\\ncount   40000.000000  40000.000000  40000.000000  40000.000000   \nmean        2.622400   3676.028525      3.993037      1.878600   \nstd         1.817292   3708.749567      0.668417      0.421683   \nmin         1.000000      1.000000      1.000000      1.000000   \n25%         1.000000    973.000000      3.500000      2.000000   \n50%         2.000000   2285.000000      4.000000      2.000000   \n75%         4.000000   5260.000000      4.500000      2.000000   \nmax        21.000000  16444.000000      5.000000      3.000000   \n\n       Number of Reviews      European        French  International  \\\ncount       40000.000000  40000.000000  40000.000000    40000.00000   \nmean          124.825480      0.251500      0.079750        0.03960   \nstd           286.113292      0.433881      0.270909        0.19502   \nmin             2.000000      0.000000      0.000000        0.00000   \n25%            10.000000      0.000000      0.000000        0.00000   \n50%            38.000000      0.000000      0.000000        0.00000   \n75%           124.825480      1.000000      0.000000        0.00000   \nmax          9660.000000      1.000000      1.000000        1.00000   \n\n              Other     Japanese         Sushi         Asian         Grill  \\\ncount  40000.000000  40000.00000  40000.000000  40000.000000  40000.000000   \nmean       0.232075      0.03660      0.028900      0.075275      0.012250   \nstd        0.422162      0.18778      0.167528      0.263838      0.110001   \nmin        0.000000      0.00000      0.000000      0.000000      0.000000   \n25%        0.000000      0.00000      0.000000      0.000000      0.000000   \n50%        0.000000      0.00000      0.000000      0.000000      0.000000   \n75%        0.000000      0.00000      0.000000      0.000000      0.000000   \nmax        1.000000      1.00000      1.000000      1.000000      1.000000   \n\n       Vegetarian Friendly  Vegan Options  Gluten Free Options        German  \\\ncount         40000.000000   40000.000000         40000.000000  40000.000000   \nmean              0.279725       0.112150             0.102825      0.016550   \nstd               0.448870       0.315555             0.303734      0.127579   \nmin               0.000000       0.000000             0.000000      0.000000   \n25%               0.000000       0.000000             0.000000      0.000000   \n50%               0.000000       0.000000             0.000000      0.000000   \n75%               1.000000       0.000000             0.000000      0.000000   \nmax               1.000000       1.000000             1.000000      1.000000   \n\n       Central European       Italian         Pizza     Fast Food  \\\ncount      40000.000000  40000.000000  40000.000000  40000.000000   \nmean           0.034825      0.149100      0.071225      0.042625   \nstd            0.183339      0.356191      0.257204      0.202013   \nmin            0.000000      0.000000      0.000000      0.000000   \n25%            0.000000      0.000000      0.000000      0.000000   \n50%            0.000000      0.000000      0.000000      0.000000   \n75%            0.000000      0.000000      0.000000      0.000000   \nmax            1.000000      1.000000      1.000000      1.000000   \n\n       Mediterranean       Spanish       Healthy          Cafe          Thai  \\\ncount   40000.000000  40000.000000  40000.000000  40000.000000  40000.000000   \nmean        0.156925      0.069950      0.015500      0.058125      0.018575   \nstd         0.363735      0.255066      0.123532      0.233983      0.135020   \nmin         0.000000      0.000000      0.000000      0.000000      0.000000   \n25%         0.000000      0.000000      0.000000      0.000000      0.000000   \n50%         0.000000      0.000000      0.000000      0.000000      0.000000   \n75%         0.000000      0.000000      0.000000      0.000000      0.000000   \nmax         1.000000      1.000000      1.000000      1.000000      1.000000   \n\n         Vietnamese           Bar           Pub       Chinese       British  \\\ncount  40000.000000  40000.000000  40000.000000  40000.000000  40000.000000   \nmean       0.012825      0.082425      0.061225      0.028625      0.039875   \nstd        0.112520      0.275015      0.239746      0.166752      0.195668   \nmin        0.000000      0.000000      0.000000      0.000000      0.000000   \n25%        0.000000      0.000000      0.000000      0.000000      0.000000   \n50%        0.000000      0.000000      0.000000      0.000000      0.000000   \n75%        0.000000      0.000000      0.000000      0.000000      0.000000   \nmax        1.000000      1.000000      1.000000      1.000000      1.000000   \n\n             Polish        Fusion         Dutch       Mexican    Venezuelan  \\\ncount  40000.000000  40000.000000  40000.000000  40000.000000  40000.000000   \nmean       0.009125      0.014425      0.007350      0.011125      0.001000   \nstd        0.095089      0.119236      0.085418      0.104888      0.031607   \nmin        0.000000      0.000000      0.000000      0.000000      0.000000   \n25%        0.000000      0.000000      0.000000      0.000000      0.000000   \n50%        0.000000      0.000000      0.000000      0.000000      0.000000   \n75%        0.000000      0.000000      0.000000      0.000000      0.000000   \nmax        1.000000      1.000000      1.000000      1.000000      1.000000   \n\n       South American         Soups       Belgian    Steakhouse         Latin  \\\ncount    40000.000000  40000.000000  40000.000000  40000.000000  40000.000000   \nmean         0.009300      0.012350      0.006750      0.014325      0.007550   \nstd          0.095988      0.110444      0.081882      0.118828      0.086563   \nmin          0.000000      0.000000      0.000000      0.000000      0.000000   \n25%          0.000000      0.000000      0.000000      0.000000      0.000000   \n50%          0.000000      0.000000      0.000000      0.000000      0.000000   \n75%          0.000000      0.000000      0.000000      0.000000      0.000000   \nmax          1.000000      1.000000      1.000000      1.000000      1.000000   \n\n           Barbecue   Argentinean         Irish       Seafood         Swiss  \\\ncount  40000.000000  40000.000000  40000.000000  40000.000000  40000.000000   \nmean       0.013875      0.004225      0.007100      0.037625      0.004450   \nstd        0.116974      0.064863      0.083963      0.190290      0.066561   \nmin        0.000000      0.000000      0.000000      0.000000      0.000000   \n25%        0.000000      0.000000      0.000000      0.000000      0.000000   \n50%        0.000000      0.000000      0.000000      0.000000      0.000000   \n75%        0.000000      0.000000      0.000000      0.000000      0.000000   \nmax        1.000000      1.000000      1.000000      1.000000      1.000000   \n\n         Portuguese  Contemporary      Wine Bar         Greek  \\\ncount  40000.000000  40000.000000  40000.000000  40000.000000   \nmean       0.027675      0.013075      0.017425      0.015100   \nstd        0.164042      0.113597      0.130850      0.121952   \nmin        0.000000      0.000000      0.000000      0.000000   \n25%        0.000000      0.000000      0.000000      0.000000   \n50%        0.000000      0.000000      0.000000      0.000000   \n75%        0.000000      0.000000      0.000000      0.000000   \nmax        1.000000      1.000000      1.000000      1.000000   \n\n       Central American        Indian  Middle Eastern       Turkish  \\\ncount      40000.000000  40000.000000     40000.00000  40000.000000   \nmean           0.003375      0.026025         0.01955      0.011100   \nstd            0.057997      0.159212         0.13845      0.104771   \nmin            0.000000      0.000000         0.00000      0.000000   \n25%            0.000000      0.000000         0.00000      0.000000   \n50%            0.000000      0.000000         0.00000      0.000000   \n75%            0.000000      0.000000         0.00000      0.000000   \nmax            1.000000      1.000000         1.00000      1.000000   \n\n          Hungarian     Pakistani     Peruvian  Delicatessen  \\\ncount  40000.000000  40000.000000  40000.00000   40000.00000   \nmean       0.008800      0.003075      0.00235       0.00980   \nstd        0.093396      0.055368      0.04842       0.09851   \nmin        0.000000      0.000000      0.00000       0.00000   \n25%        0.000000      0.000000      0.00000       0.00000   \n50%        0.000000      0.000000      0.00000       0.00000   \n75%        0.000000      0.000000      0.00000       0.00000   \nmax        1.000000      1.000000      1.00000       1.00000   \n\n       Eastern European       Swedish  Scandinavian       Tibetan  \\\ncount      40000.000000  40000.000000  40000.000000  40000.000000   \nmean           0.012400      0.004275      0.008550      0.000600   \nstd            0.110664      0.065244      0.092071      0.024488   \nmin            0.000000      0.000000      0.000000      0.000000   \n25%            0.000000      0.000000      0.000000      0.000000   \n50%            0.000000      0.000000      0.000000      0.000000   \n75%            0.000000      0.000000      0.000000      0.000000   \nmax            1.000000      1.000000      1.000000      1.000000   \n\n             Nepali        Korean  Southwestern         Czech      American  \\\ncount  40000.000000  40000.000000  40000.000000  40000.000000  40000.000000   \nmean       0.002075      0.004175      0.000425      0.014875      0.032875   \nstd        0.045505      0.064480      0.020611      0.121054      0.178312   \nmin        0.000000      0.000000      0.000000      0.000000      0.000000   \n25%        0.000000      0.000000      0.000000      0.000000      0.000000   \n50%        0.000000      0.000000      0.000000      0.000000      0.000000   \n75%        0.000000      0.000000      0.000000      0.000000      0.000000   \nmax        1.000000      1.000000      1.000000      1.000000      1.000000   \n\n          Slovenian         Balti   Street Food         Diner      Brew Pub  \\\ncount  40000.000000  40000.000000  40000.000000  40000.000000  40000.000000   \nmean       0.001700      0.002075      0.006575      0.007375      0.005625   \nstd        0.041197      0.045505      0.080820      0.085562      0.074790   \nmin        0.000000      0.000000      0.000000      0.000000      0.000000   \n25%        0.000000      0.000000      0.000000      0.000000      0.000000   \n50%        0.000000      0.000000      0.000000      0.000000      0.000000   \n75%        0.000000      0.000000      0.000000      0.000000      0.000000   \nmax        1.000000      1.000000      1.000000      1.000000      1.000000   \n\n          Caribbean      Austrian      Moroccan         Halal      Lebanese  \\\ncount  40000.000000  40000.000000  40000.000000  40000.000000  40000.000000   \nmean       0.002325      0.009500      0.003525      0.014950      0.008225   \nstd        0.048163      0.097005      0.059268      0.121354      0.090319   \nmin        0.000000      0.000000      0.000000      0.000000      0.000000   \n25%        0.000000      0.000000      0.000000      0.000000      0.000000   \n50%        0.000000      0.000000      0.000000      0.000000      0.000000   \n75%        0.000000      0.000000      0.000000      0.000000      0.000000   \nmax        1.000000      1.000000      1.000000      1.000000      1.000000   \n\n            Russian      African     Ethiopian      Egyptian        Danish  \\\ncount  40000.000000  40000.00000  40000.000000  40000.000000  40000.000000   \nmean       0.001450      0.00385      0.001050      0.000500      0.004425   \nstd        0.038052      0.06193      0.032387      0.022355      0.066374   \nmin        0.000000      0.00000      0.000000      0.000000      0.000000   \n25%        0.000000      0.00000      0.000000      0.000000      0.000000   \n50%        0.000000      0.00000      0.000000      0.000000      0.000000   \n75%        0.000000      0.00000      0.000000      0.000000      0.000000   \nmax        1.000000      1.00000      1.000000      1.000000      1.000000   \n\n          Brazilian  Ecuadorean       Israeli        Kosher     Gastropub  \\\ncount  40000.000000  40000.0000  40000.000000  40000.000000  40000.000000   \nmean       0.003175      0.0001      0.001850      0.001200      0.011775   \nstd        0.056258      0.0100      0.042972      0.034621      0.107873   \nmin        0.000000      0.0000      0.000000      0.000000      0.000000   \n25%        0.000000      0.0000      0.000000      0.000000      0.000000   \n50%        0.000000      0.0000      0.000000      0.000000      0.000000   \n75%        0.000000      0.0000      0.000000      0.000000      0.000000   \nmax        1.000000      1.0000      1.000000      1.000000      1.000000   \n\n         Australian   Singaporean     Malaysian  Minority Chinese  \\\ncount  40000.000000  40000.000000  40000.000000      40000.000000   \nmean       0.000600      0.000475      0.000775          0.000275   \nstd        0.024488      0.021790      0.027828          0.016581   \nmin        0.000000      0.000000      0.000000          0.000000   \n25%        0.000000      0.000000      0.000000          0.000000   \n50%        0.000000      0.000000      0.000000          0.000000   \n75%        0.000000      0.000000      0.000000          0.000000   \nmax        1.000000      1.000000      1.000000          1.000000   \n\n           Scottish        Arabic     Ukrainian       Chilean     Mongolian  \\\ncount  40000.000000  40000.000000  40000.000000  40000.000000  40000.000000   \nmean       0.004075      0.001275      0.000450      0.000200      0.000350   \nstd        0.063706      0.035685      0.021209      0.014141      0.018705   \nmin        0.000000      0.000000      0.000000      0.000000      0.000000   \n25%        0.000000      0.000000      0.000000      0.000000      0.000000   \n50%        0.000000      0.000000      0.000000      0.000000      0.000000   \n75%        0.000000      0.000000      0.000000      0.000000      0.000000   \nmax        1.000000      1.000000      1.000000      1.000000      1.000000   \n\n              Cuban       Persian    Indonesian     Colombian      Jamaican  \\\ncount  40000.000000  40000.000000  40000.000000  40000.000000  40000.000000   \nmean       0.000575      0.001325      0.001475      0.000500      0.000625   \nstd        0.023973      0.036377      0.038378      0.022355      0.024992   \nmin        0.000000      0.000000      0.000000      0.000000      0.000000   \n25%        0.000000      0.000000      0.000000      0.000000      0.000000   \n50%        0.000000      0.000000      0.000000      0.000000      0.000000   \n75%        0.000000      0.000000      0.000000      0.000000      0.000000   \nmax        1.000000      1.000000      1.000000      1.000000      1.000000   \n\n          Norwegian      Hawaiian      Armenian     Taiwanese   Bangladeshi  \\\ncount  40000.000000  40000.000000  40000.000000  40000.000000  40000.000000   \nmean       0.001875      0.000525      0.000350      0.000550      0.001900   \nstd        0.043261      0.022907      0.018705      0.023446      0.043548   \nmin        0.000000      0.000000      0.000000      0.000000      0.000000   \n25%        0.000000      0.000000      0.000000      0.000000      0.000000   \n50%        0.000000      0.000000      0.000000      0.000000      0.000000   \n75%        0.000000      0.000000      0.000000      0.000000      0.000000   \nmax        1.000000      1.000000      1.000000      1.000000      1.000000   \n\n         Sri Lankan     Cambodian      Albanian   New Zealand      Croatian  \\\ncount  40000.000000  40000.000000  40000.000000  40000.000000  40000.000000   \nmean       0.000625      0.000500      0.000200      0.000150      0.000675   \nstd        0.024992      0.022355      0.014141      0.012247      0.025972   \nmin        0.000000      0.000000      0.000000      0.000000      0.000000   \n25%        0.000000      0.000000      0.000000      0.000000      0.000000   \n50%        0.000000      0.000000      0.000000      0.000000      0.000000   \n75%        0.000000      0.000000      0.000000      0.000000      0.000000   \nmax        1.000000      1.000000      1.000000      1.000000      1.000000   \n\n       Central Asian      Filipino      Tunisian  Cajun & Creole     Romanian  \\\ncount   40000.000000  40000.000000  40000.000000    40000.000000  40000.00000   \nmean        0.000300      0.000300      0.000525        0.000500      0.00025   \nstd         0.017318      0.017318      0.022907        0.022355      0.01581   \nmin         0.000000      0.000000      0.000000        0.000000      0.00000   \n25%         0.000000      0.000000      0.000000        0.000000      0.00000   \n50%         0.000000      0.000000      0.000000        0.000000      0.00000   \n75%         0.000000      0.000000      0.000000        0.000000      0.00000   \nmax         1.000000      1.000000      1.000000        1.000000      1.00000   \n\n           Georgian    Polynesian   Azerbaijani   Caucasian       Afghani  \\\ncount  40000.000000  40000.000000  40000.000000  40000.0000  40000.000000   \nmean       0.000425      0.000050      0.000050      0.0001      0.000550   \nstd        0.020611      0.007071      0.007071      0.0100      0.023446   \nmin        0.000000      0.000000      0.000000      0.0000      0.000000   \n25%        0.000000      0.000000      0.000000      0.0000      0.000000   \n50%        0.000000      0.000000      0.000000      0.0000      0.000000   \n75%        0.000000      0.000000      0.000000      0.0000      0.000000   \nmax        1.000000      1.000000      1.000000      1.0000      1.000000   \n\n              Uzbek    Salvadoran        Yunnan  Native American  \\\ncount  40000.000000  40000.000000  40000.000000       40000.0000   \nmean       0.000125      0.000025      0.000025           0.0001   \nstd        0.011180      0.005000      0.005000           0.0100   \nmin        0.000000      0.000000      0.000000           0.0000   \n25%        0.000000      0.000000      0.000000           0.0000   \n50%        0.000000      0.000000      0.000000           0.0000   \n75%        0.000000      0.000000      0.000000           0.0000   \nmax        1.000000      1.000000      1.000000           1.0000   \n\n           Canadian      Xinjiang       Burmese        Fujian         Welsh  \\\ncount  40000.000000  40000.000000  40000.000000  40000.000000  40000.000000   \nmean       0.000125      0.000025      0.000025      0.000050      0.000050   \nstd        0.011180      0.005000      0.005000      0.007071      0.007071   \nmin        0.000000      0.000000      0.000000      0.000000      0.000000   \n25%        0.000000      0.000000      0.000000      0.000000      0.000000   \n50%        0.000000      0.000000      0.000000      0.000000      0.000000   \n75%        0.000000      0.000000      0.000000      0.000000      0.000000   \nmax        1.000000      1.000000      1.000000      1.000000      1.000000   \n\n            Latvian    day_to_now  day_between_Reviews     Amsterdam  \\\ncount  40000.000000  40000.000000         40000.000000  40000.000000   \nmean       0.000025   1879.973675           102.645675      0.027150   \nstd        0.005000   1787.774983           198.594208      0.162522   \nmin        0.000000    819.000000             0.000000      0.000000   \n25%        0.000000    910.000000             0.000000      0.000000   \n50%        0.000000   1022.000000            28.000000      0.000000   \n75%        0.000000   1490.000000           120.000000      0.000000   \nmax        1.000000   5878.000000          3207.000000      1.000000   \n\n             Athens     Barcelona        Berlin    Bratislava      Brussels  \\\ncount  40000.000000  40000.000000  40000.000000  40000.000000  40000.000000   \nmean       0.015700      0.068350      0.053875      0.007525      0.026500   \nstd        0.124314      0.252349      0.225774      0.086421      0.160619   \nmin        0.000000      0.000000      0.000000      0.000000      0.000000   \n25%        0.000000      0.000000      0.000000      0.000000      0.000000   \n50%        0.000000      0.000000      0.000000      0.000000      0.000000   \n75%        0.000000      0.000000      0.000000      0.000000      0.000000   \nmax        1.000000      1.000000      1.000000      1.000000      1.000000   \n\n           Budapest    Copenhagen        Dublin     Edinburgh        Geneva  \\\ncount  40000.000000  40000.000000  40000.000000  40000.000000  40000.000000   \nmean       0.020400      0.016475      0.016825      0.014900      0.012025   \nstd        0.141366      0.127295      0.128617      0.121154      0.108999   \nmin        0.000000      0.000000      0.000000      0.000000      0.000000   \n25%        0.000000      0.000000      0.000000      0.000000      0.000000   \n50%        0.000000      0.000000      0.000000      0.000000      0.000000   \n75%        0.000000      0.000000      0.000000      0.000000      0.000000   \nmax        1.000000      1.000000      1.000000      1.000000      1.000000   \n\n            Hamburg      Helsinki        Krakow        Lisbon     Ljubljana  \\\ncount  40000.000000  40000.000000  40000.000000  40000.000000  40000.000000   \nmean       0.023725      0.009400      0.011075      0.032500      0.004575   \nstd        0.152193      0.096498      0.104655      0.177326      0.067485   \nmin        0.000000      0.000000      0.000000      0.000000      0.000000   \n25%        0.000000      0.000000      0.000000      0.000000      0.000000   \n50%        0.000000      0.000000      0.000000      0.000000      0.000000   \n75%        0.000000      0.000000      0.000000      0.000000      0.000000   \nmax        1.000000      1.000000      1.000000      1.000000      1.000000   \n\n             London    Luxembourg          Lyon        Madrid         Milan  \\\ncount  40000.000000  40000.000000  40000.000000  40000.000000  40000.000000   \nmean       0.143925      0.005250      0.022300      0.077700      0.053325   \nstd        0.351018      0.072267      0.147659      0.267702      0.224684   \nmin        0.000000      0.000000      0.000000      0.000000      0.000000   \n25%        0.000000      0.000000      0.000000      0.000000      0.000000   \n50%        0.000000      0.000000      0.000000      0.000000      0.000000   \n75%        0.000000      0.000000      0.000000      0.000000      0.000000   \nmax        1.000000      1.000000      1.000000      1.000000      1.000000   \n\n             Munich        Oporto          Oslo         Paris        Prague  \\\ncount  40000.000000  40000.000000  40000.000000  40000.000000  40000.000000   \nmean       0.022325      0.012825      0.009625      0.122425      0.036075   \nstd        0.147740      0.112520      0.097635      0.327780      0.186479   \nmin        0.000000      0.000000      0.000000      0.000000      0.000000   \n25%        0.000000      0.000000      0.000000      0.000000      0.000000   \n50%        0.000000      0.000000      0.000000      0.000000      0.000000   \n75%        0.000000      0.000000      0.000000      0.000000      0.000000   \nmax        1.000000      1.000000      1.000000      1.000000      1.000000   \n\n               Rome     Stockholm        Vienna        Warsaw        Zurich  \ncount  40000.000000  40000.000000  40000.000000  40000.000000  40000.000000  \nmean       0.051950      0.020500      0.029150      0.018175      0.013450  \nstd        0.221929      0.141705      0.168229      0.133586      0.115193  \nmin        0.000000      0.000000      0.000000      0.000000      0.000000  \n25%        0.000000      0.000000      0.000000      0.000000      0.000000  \n50%        0.000000      0.000000      0.000000      0.000000      0.000000  \n75%        0.000000      0.000000      0.000000      0.000000      0.000000  \nmax        1.000000      1.000000      1.000000      1.000000      1.000000  ",
      "text/html": "<div>\n<style scoped>\n    .dataframe tbody tr th:only-of-type {\n        vertical-align: middle;\n    }\n\n    .dataframe tbody tr th {\n        vertical-align: top;\n    }\n\n    .dataframe thead th {\n        text-align: right;\n    }\n</style>\n<table border=\"1\" class=\"dataframe\">\n  <thead>\n    <tr style=\"text-align: right;\">\n      <th></th>\n      <th>Cuisine Style</th>\n      <th>Ranking</th>\n      <th>Rating</th>\n      <th>Price Range</th>\n      <th>Number of Reviews</th>\n      <th>European</th>\n      <th>French</th>\n      <th>International</th>\n      <th>Other</th>\n      <th>Japanese</th>\n      <th>Sushi</th>\n      <th>Asian</th>\n      <th>Grill</th>\n      <th>Vegetarian Friendly</th>\n      <th>Vegan Options</th>\n      <th>Gluten Free Options</th>\n      <th>German</th>\n      <th>Central European</th>\n      <th>Italian</th>\n      <th>Pizza</th>\n      <th>Fast Food</th>\n      <th>Mediterranean</th>\n      <th>Spanish</th>\n      <th>Healthy</th>\n      <th>Cafe</th>\n      <th>Thai</th>\n      <th>Vietnamese</th>\n      <th>Bar</th>\n      <th>Pub</th>\n      <th>Chinese</th>\n      <th>British</th>\n      <th>Polish</th>\n      <th>Fusion</th>\n      <th>Dutch</th>\n      <th>Mexican</th>\n      <th>Venezuelan</th>\n      <th>South American</th>\n      <th>Soups</th>\n      <th>Belgian</th>\n      <th>Steakhouse</th>\n      <th>Latin</th>\n      <th>Barbecue</th>\n      <th>Argentinean</th>\n      <th>Irish</th>\n      <th>Seafood</th>\n      <th>Swiss</th>\n      <th>Portuguese</th>\n      <th>Contemporary</th>\n      <th>Wine Bar</th>\n      <th>Greek</th>\n      <th>Central American</th>\n      <th>Indian</th>\n      <th>Middle Eastern</th>\n      <th>Turkish</th>\n      <th>Hungarian</th>\n      <th>Pakistani</th>\n      <th>Peruvian</th>\n      <th>Delicatessen</th>\n      <th>Eastern European</th>\n      <th>Swedish</th>\n      <th>Scandinavian</th>\n      <th>Tibetan</th>\n      <th>Nepali</th>\n      <th>Korean</th>\n      <th>Southwestern</th>\n      <th>Czech</th>\n      <th>American</th>\n      <th>Slovenian</th>\n      <th>Balti</th>\n      <th>Street Food</th>\n      <th>Diner</th>\n      <th>Brew Pub</th>\n      <th>Caribbean</th>\n      <th>Austrian</th>\n      <th>Moroccan</th>\n      <th>Halal</th>\n      <th>Lebanese</th>\n      <th>Russian</th>\n      <th>African</th>\n      <th>Ethiopian</th>\n      <th>Egyptian</th>\n      <th>Danish</th>\n      <th>Brazilian</th>\n      <th>Ecuadorean</th>\n      <th>Israeli</th>\n      <th>Kosher</th>\n      <th>Gastropub</th>\n      <th>Australian</th>\n      <th>Singaporean</th>\n      <th>Malaysian</th>\n      <th>Minority Chinese</th>\n      <th>Scottish</th>\n      <th>Arabic</th>\n      <th>Ukrainian</th>\n      <th>Chilean</th>\n      <th>Mongolian</th>\n      <th>Cuban</th>\n      <th>Persian</th>\n      <th>Indonesian</th>\n      <th>Colombian</th>\n      <th>Jamaican</th>\n      <th>Norwegian</th>\n      <th>Hawaiian</th>\n      <th>Armenian</th>\n      <th>Taiwanese</th>\n      <th>Bangladeshi</th>\n      <th>Sri Lankan</th>\n      <th>Cambodian</th>\n      <th>Albanian</th>\n      <th>New Zealand</th>\n      <th>Croatian</th>\n      <th>Central Asian</th>\n      <th>Filipino</th>\n      <th>Tunisian</th>\n      <th>Cajun &amp; Creole</th>\n      <th>Romanian</th>\n      <th>Georgian</th>\n      <th>Polynesian</th>\n      <th>Azerbaijani</th>\n      <th>Caucasian</th>\n      <th>Afghani</th>\n      <th>Uzbek</th>\n      <th>Salvadoran</th>\n      <th>Yunnan</th>\n      <th>Native American</th>\n      <th>Canadian</th>\n      <th>Xinjiang</th>\n      <th>Burmese</th>\n      <th>Fujian</th>\n      <th>Welsh</th>\n      <th>Latvian</th>\n      <th>day_to_now</th>\n      <th>day_between_Reviews</th>\n      <th>Amsterdam</th>\n      <th>Athens</th>\n      <th>Barcelona</th>\n      <th>Berlin</th>\n      <th>Bratislava</th>\n      <th>Brussels</th>\n      <th>Budapest</th>\n      <th>Copenhagen</th>\n      <th>Dublin</th>\n      <th>Edinburgh</th>\n      <th>Geneva</th>\n      <th>Hamburg</th>\n      <th>Helsinki</th>\n      <th>Krakow</th>\n      <th>Lisbon</th>\n      <th>Ljubljana</th>\n      <th>London</th>\n      <th>Luxembourg</th>\n      <th>Lyon</th>\n      <th>Madrid</th>\n      <th>Milan</th>\n      <th>Munich</th>\n      <th>Oporto</th>\n      <th>Oslo</th>\n      <th>Paris</th>\n      <th>Prague</th>\n      <th>Rome</th>\n      <th>Stockholm</th>\n      <th>Vienna</th>\n      <th>Warsaw</th>\n      <th>Zurich</th>\n    </tr>\n  </thead>\n  <tbody>\n    <tr>\n      <th>count</th>\n      <td>40000.000000</td>\n      <td>40000.000000</td>\n      <td>40000.000000</td>\n      <td>40000.000000</td>\n      <td>40000.000000</td>\n      <td>40000.000000</td>\n      <td>40000.000000</td>\n      <td>40000.00000</td>\n      <td>40000.000000</td>\n      <td>40000.00000</td>\n      <td>40000.000000</td>\n      <td>40000.000000</td>\n      <td>40000.000000</td>\n      <td>40000.000000</td>\n      <td>40000.000000</td>\n      <td>40000.000000</td>\n      <td>40000.000000</td>\n      <td>40000.000000</td>\n      <td>40000.000000</td>\n      <td>40000.000000</td>\n      <td>40000.000000</td>\n      <td>40000.000000</td>\n      <td>40000.000000</td>\n      <td>40000.000000</td>\n      <td>40000.000000</td>\n      <td>40000.000000</td>\n      <td>40000.000000</td>\n      <td>40000.000000</td>\n      <td>40000.000000</td>\n      <td>40000.000000</td>\n      <td>40000.000000</td>\n      <td>40000.000000</td>\n      <td>40000.000000</td>\n      <td>40000.000000</td>\n      <td>40000.000000</td>\n      <td>40000.000000</td>\n      <td>40000.000000</td>\n      <td>40000.000000</td>\n      <td>40000.000000</td>\n      <td>40000.000000</td>\n      <td>40000.000000</td>\n      <td>40000.000000</td>\n      <td>40000.000000</td>\n      <td>40000.000000</td>\n      <td>40000.000000</td>\n      <td>40000.000000</td>\n      <td>40000.000000</td>\n      <td>40000.000000</td>\n      <td>40000.000000</td>\n      <td>40000.000000</td>\n      <td>40000.000000</td>\n      <td>40000.000000</td>\n      <td>40000.00000</td>\n      <td>40000.000000</td>\n      <td>40000.000000</td>\n      <td>40000.000000</td>\n      <td>40000.00000</td>\n      <td>40000.00000</td>\n      <td>40000.000000</td>\n      <td>40000.000000</td>\n      <td>40000.000000</td>\n      <td>40000.000000</td>\n      <td>40000.000000</td>\n      <td>40000.000000</td>\n      <td>40000.000000</td>\n      <td>40000.000000</td>\n      <td>40000.000000</td>\n      <td>40000.000000</td>\n      <td>40000.000000</td>\n      <td>40000.000000</td>\n      <td>40000.000000</td>\n      <td>40000.000000</td>\n      <td>40000.000000</td>\n      <td>40000.000000</td>\n      <td>40000.000000</td>\n      <td>40000.000000</td>\n      <td>40000.000000</td>\n      <td>40000.000000</td>\n      <td>40000.00000</td>\n      <td>40000.000000</td>\n      <td>40000.000000</td>\n      <td>40000.000000</td>\n      <td>40000.000000</td>\n      <td>40000.0000</td>\n      <td>40000.000000</td>\n      <td>40000.000000</td>\n      <td>40000.000000</td>\n      <td>40000.000000</td>\n      <td>40000.000000</td>\n      <td>40000.000000</td>\n      <td>40000.000000</td>\n      <td>40000.000000</td>\n      <td>40000.000000</td>\n      <td>40000.000000</td>\n      <td>40000.000000</td>\n      <td>40000.000000</td>\n      <td>40000.000000</td>\n      <td>40000.000000</td>\n      <td>40000.000000</td>\n      <td>40000.000000</td>\n      <td>40000.000000</td>\n      <td>40000.000000</td>\n      <td>40000.000000</td>\n      <td>40000.000000</td>\n      <td>40000.000000</td>\n      <td>40000.000000</td>\n      <td>40000.000000</td>\n      <td>40000.000000</td>\n      <td>40000.000000</td>\n      <td>40000.000000</td>\n      <td>40000.000000</td>\n      <td>40000.000000</td>\n      <td>40000.000000</td>\n      <td>40000.000000</td>\n      <td>40000.000000</td>\n      <td>40000.00000</td>\n      <td>40000.000000</td>\n      <td>40000.000000</td>\n      <td>40000.000000</td>\n      <td>40000.0000</td>\n      <td>40000.000000</td>\n      <td>40000.000000</td>\n      <td>40000.000000</td>\n      <td>40000.000000</td>\n      <td>40000.0000</td>\n      <td>40000.000000</td>\n      <td>40000.000000</td>\n      <td>40000.000000</td>\n      <td>40000.000000</td>\n      <td>40000.000000</td>\n      <td>40000.000000</td>\n      <td>40000.000000</td>\n      <td>40000.000000</td>\n      <td>40000.000000</td>\n      <td>40000.000000</td>\n      <td>40000.000000</td>\n      <td>40000.000000</td>\n      <td>40000.000000</td>\n      <td>40000.000000</td>\n      <td>40000.000000</td>\n      <td>40000.000000</td>\n      <td>40000.000000</td>\n      <td>40000.000000</td>\n      <td>40000.000000</td>\n      <td>40000.000000</td>\n      <td>40000.000000</td>\n      <td>40000.000000</td>\n      <td>40000.000000</td>\n      <td>40000.000000</td>\n      <td>40000.000000</td>\n      <td>40000.000000</td>\n      <td>40000.000000</td>\n      <td>40000.000000</td>\n      <td>40000.000000</td>\n      <td>40000.000000</td>\n      <td>40000.000000</td>\n      <td>40000.000000</td>\n      <td>40000.000000</td>\n      <td>40000.000000</td>\n      <td>40000.000000</td>\n      <td>40000.000000</td>\n      <td>40000.000000</td>\n      <td>40000.000000</td>\n      <td>40000.000000</td>\n    </tr>\n    <tr>\n      <th>mean</th>\n      <td>2.622400</td>\n      <td>3676.028525</td>\n      <td>3.993037</td>\n      <td>1.878600</td>\n      <td>124.825480</td>\n      <td>0.251500</td>\n      <td>0.079750</td>\n      <td>0.03960</td>\n      <td>0.232075</td>\n      <td>0.03660</td>\n      <td>0.028900</td>\n      <td>0.075275</td>\n      <td>0.012250</td>\n      <td>0.279725</td>\n      <td>0.112150</td>\n      <td>0.102825</td>\n      <td>0.016550</td>\n      <td>0.034825</td>\n      <td>0.149100</td>\n      <td>0.071225</td>\n      <td>0.042625</td>\n      <td>0.156925</td>\n      <td>0.069950</td>\n      <td>0.015500</td>\n      <td>0.058125</td>\n      <td>0.018575</td>\n      <td>0.012825</td>\n      <td>0.082425</td>\n      <td>0.061225</td>\n      <td>0.028625</td>\n      <td>0.039875</td>\n      <td>0.009125</td>\n      <td>0.014425</td>\n      <td>0.007350</td>\n      <td>0.011125</td>\n      <td>0.001000</td>\n      <td>0.009300</td>\n      <td>0.012350</td>\n      <td>0.006750</td>\n      <td>0.014325</td>\n      <td>0.007550</td>\n      <td>0.013875</td>\n      <td>0.004225</td>\n      <td>0.007100</td>\n      <td>0.037625</td>\n      <td>0.004450</td>\n      <td>0.027675</td>\n      <td>0.013075</td>\n      <td>0.017425</td>\n      <td>0.015100</td>\n      <td>0.003375</td>\n      <td>0.026025</td>\n      <td>0.01955</td>\n      <td>0.011100</td>\n      <td>0.008800</td>\n      <td>0.003075</td>\n      <td>0.00235</td>\n      <td>0.00980</td>\n      <td>0.012400</td>\n      <td>0.004275</td>\n      <td>0.008550</td>\n      <td>0.000600</td>\n      <td>0.002075</td>\n      <td>0.004175</td>\n      <td>0.000425</td>\n      <td>0.014875</td>\n      <td>0.032875</td>\n      <td>0.001700</td>\n      <td>0.002075</td>\n      <td>0.006575</td>\n      <td>0.007375</td>\n      <td>0.005625</td>\n      <td>0.002325</td>\n      <td>0.009500</td>\n      <td>0.003525</td>\n      <td>0.014950</td>\n      <td>0.008225</td>\n      <td>0.001450</td>\n      <td>0.00385</td>\n      <td>0.001050</td>\n      <td>0.000500</td>\n      <td>0.004425</td>\n      <td>0.003175</td>\n      <td>0.0001</td>\n      <td>0.001850</td>\n      <td>0.001200</td>\n      <td>0.011775</td>\n      <td>0.000600</td>\n      <td>0.000475</td>\n      <td>0.000775</td>\n      <td>0.000275</td>\n      <td>0.004075</td>\n      <td>0.001275</td>\n      <td>0.000450</td>\n      <td>0.000200</td>\n      <td>0.000350</td>\n      <td>0.000575</td>\n      <td>0.001325</td>\n      <td>0.001475</td>\n      <td>0.000500</td>\n      <td>0.000625</td>\n      <td>0.001875</td>\n      <td>0.000525</td>\n      <td>0.000350</td>\n      <td>0.000550</td>\n      <td>0.001900</td>\n      <td>0.000625</td>\n      <td>0.000500</td>\n      <td>0.000200</td>\n      <td>0.000150</td>\n      <td>0.000675</td>\n      <td>0.000300</td>\n      <td>0.000300</td>\n      <td>0.000525</td>\n      <td>0.000500</td>\n      <td>0.00025</td>\n      <td>0.000425</td>\n      <td>0.000050</td>\n      <td>0.000050</td>\n      <td>0.0001</td>\n      <td>0.000550</td>\n      <td>0.000125</td>\n      <td>0.000025</td>\n      <td>0.000025</td>\n      <td>0.0001</td>\n      <td>0.000125</td>\n      <td>0.000025</td>\n      <td>0.000025</td>\n      <td>0.000050</td>\n      <td>0.000050</td>\n      <td>0.000025</td>\n      <td>1879.973675</td>\n      <td>102.645675</td>\n      <td>0.027150</td>\n      <td>0.015700</td>\n      <td>0.068350</td>\n      <td>0.053875</td>\n      <td>0.007525</td>\n      <td>0.026500</td>\n      <td>0.020400</td>\n      <td>0.016475</td>\n      <td>0.016825</td>\n      <td>0.014900</td>\n      <td>0.012025</td>\n      <td>0.023725</td>\n      <td>0.009400</td>\n      <td>0.011075</td>\n      <td>0.032500</td>\n      <td>0.004575</td>\n      <td>0.143925</td>\n      <td>0.005250</td>\n      <td>0.022300</td>\n      <td>0.077700</td>\n      <td>0.053325</td>\n      <td>0.022325</td>\n      <td>0.012825</td>\n      <td>0.009625</td>\n      <td>0.122425</td>\n      <td>0.036075</td>\n      <td>0.051950</td>\n      <td>0.020500</td>\n      <td>0.029150</td>\n      <td>0.018175</td>\n      <td>0.013450</td>\n    </tr>\n    <tr>\n      <th>std</th>\n      <td>1.817292</td>\n      <td>3708.749567</td>\n      <td>0.668417</td>\n      <td>0.421683</td>\n      <td>286.113292</td>\n      <td>0.433881</td>\n      <td>0.270909</td>\n      <td>0.19502</td>\n      <td>0.422162</td>\n      <td>0.18778</td>\n      <td>0.167528</td>\n      <td>0.263838</td>\n      <td>0.110001</td>\n      <td>0.448870</td>\n      <td>0.315555</td>\n      <td>0.303734</td>\n      <td>0.127579</td>\n      <td>0.183339</td>\n      <td>0.356191</td>\n      <td>0.257204</td>\n      <td>0.202013</td>\n      <td>0.363735</td>\n      <td>0.255066</td>\n      <td>0.123532</td>\n      <td>0.233983</td>\n      <td>0.135020</td>\n      <td>0.112520</td>\n      <td>0.275015</td>\n      <td>0.239746</td>\n      <td>0.166752</td>\n      <td>0.195668</td>\n      <td>0.095089</td>\n      <td>0.119236</td>\n      <td>0.085418</td>\n      <td>0.104888</td>\n      <td>0.031607</td>\n      <td>0.095988</td>\n      <td>0.110444</td>\n      <td>0.081882</td>\n      <td>0.118828</td>\n      <td>0.086563</td>\n      <td>0.116974</td>\n      <td>0.064863</td>\n      <td>0.083963</td>\n      <td>0.190290</td>\n      <td>0.066561</td>\n      <td>0.164042</td>\n      <td>0.113597</td>\n      <td>0.130850</td>\n      <td>0.121952</td>\n      <td>0.057997</td>\n      <td>0.159212</td>\n      <td>0.13845</td>\n      <td>0.104771</td>\n      <td>0.093396</td>\n      <td>0.055368</td>\n      <td>0.04842</td>\n      <td>0.09851</td>\n      <td>0.110664</td>\n      <td>0.065244</td>\n      <td>0.092071</td>\n      <td>0.024488</td>\n      <td>0.045505</td>\n      <td>0.064480</td>\n      <td>0.020611</td>\n      <td>0.121054</td>\n      <td>0.178312</td>\n      <td>0.041197</td>\n      <td>0.045505</td>\n      <td>0.080820</td>\n      <td>0.085562</td>\n      <td>0.074790</td>\n      <td>0.048163</td>\n      <td>0.097005</td>\n      <td>0.059268</td>\n      <td>0.121354</td>\n      <td>0.090319</td>\n      <td>0.038052</td>\n      <td>0.06193</td>\n      <td>0.032387</td>\n      <td>0.022355</td>\n      <td>0.066374</td>\n      <td>0.056258</td>\n      <td>0.0100</td>\n      <td>0.042972</td>\n      <td>0.034621</td>\n      <td>0.107873</td>\n      <td>0.024488</td>\n      <td>0.021790</td>\n      <td>0.027828</td>\n      <td>0.016581</td>\n      <td>0.063706</td>\n      <td>0.035685</td>\n      <td>0.021209</td>\n      <td>0.014141</td>\n      <td>0.018705</td>\n      <td>0.023973</td>\n      <td>0.036377</td>\n      <td>0.038378</td>\n      <td>0.022355</td>\n      <td>0.024992</td>\n      <td>0.043261</td>\n      <td>0.022907</td>\n      <td>0.018705</td>\n      <td>0.023446</td>\n      <td>0.043548</td>\n      <td>0.024992</td>\n      <td>0.022355</td>\n      <td>0.014141</td>\n      <td>0.012247</td>\n      <td>0.025972</td>\n      <td>0.017318</td>\n      <td>0.017318</td>\n      <td>0.022907</td>\n      <td>0.022355</td>\n      <td>0.01581</td>\n      <td>0.020611</td>\n      <td>0.007071</td>\n      <td>0.007071</td>\n      <td>0.0100</td>\n      <td>0.023446</td>\n      <td>0.011180</td>\n      <td>0.005000</td>\n      <td>0.005000</td>\n      <td>0.0100</td>\n      <td>0.011180</td>\n      <td>0.005000</td>\n      <td>0.005000</td>\n      <td>0.007071</td>\n      <td>0.007071</td>\n      <td>0.005000</td>\n      <td>1787.774983</td>\n      <td>198.594208</td>\n      <td>0.162522</td>\n      <td>0.124314</td>\n      <td>0.252349</td>\n      <td>0.225774</td>\n      <td>0.086421</td>\n      <td>0.160619</td>\n      <td>0.141366</td>\n      <td>0.127295</td>\n      <td>0.128617</td>\n      <td>0.121154</td>\n      <td>0.108999</td>\n      <td>0.152193</td>\n      <td>0.096498</td>\n      <td>0.104655</td>\n      <td>0.177326</td>\n      <td>0.067485</td>\n      <td>0.351018</td>\n      <td>0.072267</td>\n      <td>0.147659</td>\n      <td>0.267702</td>\n      <td>0.224684</td>\n      <td>0.147740</td>\n      <td>0.112520</td>\n      <td>0.097635</td>\n      <td>0.327780</td>\n      <td>0.186479</td>\n      <td>0.221929</td>\n      <td>0.141705</td>\n      <td>0.168229</td>\n      <td>0.133586</td>\n      <td>0.115193</td>\n    </tr>\n    <tr>\n      <th>min</th>\n      <td>1.000000</td>\n      <td>1.000000</td>\n      <td>1.000000</td>\n      <td>1.000000</td>\n      <td>2.000000</td>\n      <td>0.000000</td>\n      <td>0.000000</td>\n      <td>0.00000</td>\n      <td>0.000000</td>\n      <td>0.00000</td>\n      <td>0.000000</td>\n      <td>0.000000</td>\n      <td>0.000000</td>\n      <td>0.000000</td>\n      <td>0.000000</td>\n      <td>0.000000</td>\n      <td>0.000000</td>\n      <td>0.000000</td>\n      <td>0.000000</td>\n      <td>0.000000</td>\n      <td>0.000000</td>\n      <td>0.000000</td>\n      <td>0.000000</td>\n      <td>0.000000</td>\n      <td>0.000000</td>\n      <td>0.000000</td>\n      <td>0.000000</td>\n      <td>0.000000</td>\n      <td>0.000000</td>\n      <td>0.000000</td>\n      <td>0.000000</td>\n      <td>0.000000</td>\n      <td>0.000000</td>\n      <td>0.000000</td>\n      <td>0.000000</td>\n      <td>0.000000</td>\n      <td>0.000000</td>\n      <td>0.000000</td>\n      <td>0.000000</td>\n      <td>0.000000</td>\n      <td>0.000000</td>\n      <td>0.000000</td>\n      <td>0.000000</td>\n      <td>0.000000</td>\n      <td>0.000000</td>\n      <td>0.000000</td>\n      <td>0.000000</td>\n      <td>0.000000</td>\n      <td>0.000000</td>\n      <td>0.000000</td>\n      <td>0.000000</td>\n      <td>0.000000</td>\n      <td>0.00000</td>\n      <td>0.000000</td>\n      <td>0.000000</td>\n      <td>0.000000</td>\n      <td>0.00000</td>\n      <td>0.00000</td>\n      <td>0.000000</td>\n      <td>0.000000</td>\n      <td>0.000000</td>\n      <td>0.000000</td>\n      <td>0.000000</td>\n      <td>0.000000</td>\n      <td>0.000000</td>\n      <td>0.000000</td>\n      <td>0.000000</td>\n      <td>0.000000</td>\n      <td>0.000000</td>\n      <td>0.000000</td>\n      <td>0.000000</td>\n      <td>0.000000</td>\n      <td>0.000000</td>\n      <td>0.000000</td>\n      <td>0.000000</td>\n      <td>0.000000</td>\n      <td>0.000000</td>\n      <td>0.000000</td>\n      <td>0.00000</td>\n      <td>0.000000</td>\n      <td>0.000000</td>\n      <td>0.000000</td>\n      <td>0.000000</td>\n      <td>0.0000</td>\n      <td>0.000000</td>\n      <td>0.000000</td>\n      <td>0.000000</td>\n      <td>0.000000</td>\n      <td>0.000000</td>\n      <td>0.000000</td>\n      <td>0.000000</td>\n      <td>0.000000</td>\n      <td>0.000000</td>\n      <td>0.000000</td>\n      <td>0.000000</td>\n      <td>0.000000</td>\n      <td>0.000000</td>\n      <td>0.000000</td>\n      <td>0.000000</td>\n      <td>0.000000</td>\n      <td>0.000000</td>\n      <td>0.000000</td>\n      <td>0.000000</td>\n      <td>0.000000</td>\n      <td>0.000000</td>\n      <td>0.000000</td>\n      <td>0.000000</td>\n      <td>0.000000</td>\n      <td>0.000000</td>\n      <td>0.000000</td>\n      <td>0.000000</td>\n      <td>0.000000</td>\n      <td>0.000000</td>\n      <td>0.000000</td>\n      <td>0.000000</td>\n      <td>0.00000</td>\n      <td>0.000000</td>\n      <td>0.000000</td>\n      <td>0.000000</td>\n      <td>0.0000</td>\n      <td>0.000000</td>\n      <td>0.000000</td>\n      <td>0.000000</td>\n      <td>0.000000</td>\n      <td>0.0000</td>\n      <td>0.000000</td>\n      <td>0.000000</td>\n      <td>0.000000</td>\n      <td>0.000000</td>\n      <td>0.000000</td>\n      <td>0.000000</td>\n      <td>819.000000</td>\n      <td>0.000000</td>\n      <td>0.000000</td>\n      <td>0.000000</td>\n      <td>0.000000</td>\n      <td>0.000000</td>\n      <td>0.000000</td>\n      <td>0.000000</td>\n      <td>0.000000</td>\n      <td>0.000000</td>\n      <td>0.000000</td>\n      <td>0.000000</td>\n      <td>0.000000</td>\n      <td>0.000000</td>\n      <td>0.000000</td>\n      <td>0.000000</td>\n      <td>0.000000</td>\n      <td>0.000000</td>\n      <td>0.000000</td>\n      <td>0.000000</td>\n      <td>0.000000</td>\n      <td>0.000000</td>\n      <td>0.000000</td>\n      <td>0.000000</td>\n      <td>0.000000</td>\n      <td>0.000000</td>\n      <td>0.000000</td>\n      <td>0.000000</td>\n      <td>0.000000</td>\n      <td>0.000000</td>\n      <td>0.000000</td>\n      <td>0.000000</td>\n      <td>0.000000</td>\n    </tr>\n    <tr>\n      <th>25%</th>\n      <td>1.000000</td>\n      <td>973.000000</td>\n      <td>3.500000</td>\n      <td>2.000000</td>\n      <td>10.000000</td>\n      <td>0.000000</td>\n      <td>0.000000</td>\n      <td>0.00000</td>\n      <td>0.000000</td>\n      <td>0.00000</td>\n      <td>0.000000</td>\n      <td>0.000000</td>\n      <td>0.000000</td>\n      <td>0.000000</td>\n      <td>0.000000</td>\n      <td>0.000000</td>\n      <td>0.000000</td>\n      <td>0.000000</td>\n      <td>0.000000</td>\n      <td>0.000000</td>\n      <td>0.000000</td>\n      <td>0.000000</td>\n      <td>0.000000</td>\n      <td>0.000000</td>\n      <td>0.000000</td>\n      <td>0.000000</td>\n      <td>0.000000</td>\n      <td>0.000000</td>\n      <td>0.000000</td>\n      <td>0.000000</td>\n      <td>0.000000</td>\n      <td>0.000000</td>\n      <td>0.000000</td>\n      <td>0.000000</td>\n      <td>0.000000</td>\n      <td>0.000000</td>\n      <td>0.000000</td>\n      <td>0.000000</td>\n      <td>0.000000</td>\n      <td>0.000000</td>\n      <td>0.000000</td>\n      <td>0.000000</td>\n      <td>0.000000</td>\n      <td>0.000000</td>\n      <td>0.000000</td>\n      <td>0.000000</td>\n      <td>0.000000</td>\n      <td>0.000000</td>\n      <td>0.000000</td>\n      <td>0.000000</td>\n      <td>0.000000</td>\n      <td>0.000000</td>\n      <td>0.00000</td>\n      <td>0.000000</td>\n      <td>0.000000</td>\n      <td>0.000000</td>\n      <td>0.00000</td>\n      <td>0.00000</td>\n      <td>0.000000</td>\n      <td>0.000000</td>\n      <td>0.000000</td>\n      <td>0.000000</td>\n      <td>0.000000</td>\n      <td>0.000000</td>\n      <td>0.000000</td>\n      <td>0.000000</td>\n      <td>0.000000</td>\n      <td>0.000000</td>\n      <td>0.000000</td>\n      <td>0.000000</td>\n      <td>0.000000</td>\n      <td>0.000000</td>\n      <td>0.000000</td>\n      <td>0.000000</td>\n      <td>0.000000</td>\n      <td>0.000000</td>\n      <td>0.000000</td>\n      <td>0.000000</td>\n      <td>0.00000</td>\n      <td>0.000000</td>\n      <td>0.000000</td>\n      <td>0.000000</td>\n      <td>0.000000</td>\n      <td>0.0000</td>\n      <td>0.000000</td>\n      <td>0.000000</td>\n      <td>0.000000</td>\n      <td>0.000000</td>\n      <td>0.000000</td>\n      <td>0.000000</td>\n      <td>0.000000</td>\n      <td>0.000000</td>\n      <td>0.000000</td>\n      <td>0.000000</td>\n      <td>0.000000</td>\n      <td>0.000000</td>\n      <td>0.000000</td>\n      <td>0.000000</td>\n      <td>0.000000</td>\n      <td>0.000000</td>\n      <td>0.000000</td>\n      <td>0.000000</td>\n      <td>0.000000</td>\n      <td>0.000000</td>\n      <td>0.000000</td>\n      <td>0.000000</td>\n      <td>0.000000</td>\n      <td>0.000000</td>\n      <td>0.000000</td>\n      <td>0.000000</td>\n      <td>0.000000</td>\n      <td>0.000000</td>\n      <td>0.000000</td>\n      <td>0.000000</td>\n      <td>0.000000</td>\n      <td>0.00000</td>\n      <td>0.000000</td>\n      <td>0.000000</td>\n      <td>0.000000</td>\n      <td>0.0000</td>\n      <td>0.000000</td>\n      <td>0.000000</td>\n      <td>0.000000</td>\n      <td>0.000000</td>\n      <td>0.0000</td>\n      <td>0.000000</td>\n      <td>0.000000</td>\n      <td>0.000000</td>\n      <td>0.000000</td>\n      <td>0.000000</td>\n      <td>0.000000</td>\n      <td>910.000000</td>\n      <td>0.000000</td>\n      <td>0.000000</td>\n      <td>0.000000</td>\n      <td>0.000000</td>\n      <td>0.000000</td>\n      <td>0.000000</td>\n      <td>0.000000</td>\n      <td>0.000000</td>\n      <td>0.000000</td>\n      <td>0.000000</td>\n      <td>0.000000</td>\n      <td>0.000000</td>\n      <td>0.000000</td>\n      <td>0.000000</td>\n      <td>0.000000</td>\n      <td>0.000000</td>\n      <td>0.000000</td>\n      <td>0.000000</td>\n      <td>0.000000</td>\n      <td>0.000000</td>\n      <td>0.000000</td>\n      <td>0.000000</td>\n      <td>0.000000</td>\n      <td>0.000000</td>\n      <td>0.000000</td>\n      <td>0.000000</td>\n      <td>0.000000</td>\n      <td>0.000000</td>\n      <td>0.000000</td>\n      <td>0.000000</td>\n      <td>0.000000</td>\n      <td>0.000000</td>\n    </tr>\n    <tr>\n      <th>50%</th>\n      <td>2.000000</td>\n      <td>2285.000000</td>\n      <td>4.000000</td>\n      <td>2.000000</td>\n      <td>38.000000</td>\n      <td>0.000000</td>\n      <td>0.000000</td>\n      <td>0.00000</td>\n      <td>0.000000</td>\n      <td>0.00000</td>\n      <td>0.000000</td>\n      <td>0.000000</td>\n      <td>0.000000</td>\n      <td>0.000000</td>\n      <td>0.000000</td>\n      <td>0.000000</td>\n      <td>0.000000</td>\n      <td>0.000000</td>\n      <td>0.000000</td>\n      <td>0.000000</td>\n      <td>0.000000</td>\n      <td>0.000000</td>\n      <td>0.000000</td>\n      <td>0.000000</td>\n      <td>0.000000</td>\n      <td>0.000000</td>\n      <td>0.000000</td>\n      <td>0.000000</td>\n      <td>0.000000</td>\n      <td>0.000000</td>\n      <td>0.000000</td>\n      <td>0.000000</td>\n      <td>0.000000</td>\n      <td>0.000000</td>\n      <td>0.000000</td>\n      <td>0.000000</td>\n      <td>0.000000</td>\n      <td>0.000000</td>\n      <td>0.000000</td>\n      <td>0.000000</td>\n      <td>0.000000</td>\n      <td>0.000000</td>\n      <td>0.000000</td>\n      <td>0.000000</td>\n      <td>0.000000</td>\n      <td>0.000000</td>\n      <td>0.000000</td>\n      <td>0.000000</td>\n      <td>0.000000</td>\n      <td>0.000000</td>\n      <td>0.000000</td>\n      <td>0.000000</td>\n      <td>0.00000</td>\n      <td>0.000000</td>\n      <td>0.000000</td>\n      <td>0.000000</td>\n      <td>0.00000</td>\n      <td>0.00000</td>\n      <td>0.000000</td>\n      <td>0.000000</td>\n      <td>0.000000</td>\n      <td>0.000000</td>\n      <td>0.000000</td>\n      <td>0.000000</td>\n      <td>0.000000</td>\n      <td>0.000000</td>\n      <td>0.000000</td>\n      <td>0.000000</td>\n      <td>0.000000</td>\n      <td>0.000000</td>\n      <td>0.000000</td>\n      <td>0.000000</td>\n      <td>0.000000</td>\n      <td>0.000000</td>\n      <td>0.000000</td>\n      <td>0.000000</td>\n      <td>0.000000</td>\n      <td>0.000000</td>\n      <td>0.00000</td>\n      <td>0.000000</td>\n      <td>0.000000</td>\n      <td>0.000000</td>\n      <td>0.000000</td>\n      <td>0.0000</td>\n      <td>0.000000</td>\n      <td>0.000000</td>\n      <td>0.000000</td>\n      <td>0.000000</td>\n      <td>0.000000</td>\n      <td>0.000000</td>\n      <td>0.000000</td>\n      <td>0.000000</td>\n      <td>0.000000</td>\n      <td>0.000000</td>\n      <td>0.000000</td>\n      <td>0.000000</td>\n      <td>0.000000</td>\n      <td>0.000000</td>\n      <td>0.000000</td>\n      <td>0.000000</td>\n      <td>0.000000</td>\n      <td>0.000000</td>\n      <td>0.000000</td>\n      <td>0.000000</td>\n      <td>0.000000</td>\n      <td>0.000000</td>\n      <td>0.000000</td>\n      <td>0.000000</td>\n      <td>0.000000</td>\n      <td>0.000000</td>\n      <td>0.000000</td>\n      <td>0.000000</td>\n      <td>0.000000</td>\n      <td>0.000000</td>\n      <td>0.000000</td>\n      <td>0.00000</td>\n      <td>0.000000</td>\n      <td>0.000000</td>\n      <td>0.000000</td>\n      <td>0.0000</td>\n      <td>0.000000</td>\n      <td>0.000000</td>\n      <td>0.000000</td>\n      <td>0.000000</td>\n      <td>0.0000</td>\n      <td>0.000000</td>\n      <td>0.000000</td>\n      <td>0.000000</td>\n      <td>0.000000</td>\n      <td>0.000000</td>\n      <td>0.000000</td>\n      <td>1022.000000</td>\n      <td>28.000000</td>\n      <td>0.000000</td>\n      <td>0.000000</td>\n      <td>0.000000</td>\n      <td>0.000000</td>\n      <td>0.000000</td>\n      <td>0.000000</td>\n      <td>0.000000</td>\n      <td>0.000000</td>\n      <td>0.000000</td>\n      <td>0.000000</td>\n      <td>0.000000</td>\n      <td>0.000000</td>\n      <td>0.000000</td>\n      <td>0.000000</td>\n      <td>0.000000</td>\n      <td>0.000000</td>\n      <td>0.000000</td>\n      <td>0.000000</td>\n      <td>0.000000</td>\n      <td>0.000000</td>\n      <td>0.000000</td>\n      <td>0.000000</td>\n      <td>0.000000</td>\n      <td>0.000000</td>\n      <td>0.000000</td>\n      <td>0.000000</td>\n      <td>0.000000</td>\n      <td>0.000000</td>\n      <td>0.000000</td>\n      <td>0.000000</td>\n      <td>0.000000</td>\n    </tr>\n    <tr>\n      <th>75%</th>\n      <td>4.000000</td>\n      <td>5260.000000</td>\n      <td>4.500000</td>\n      <td>2.000000</td>\n      <td>124.825480</td>\n      <td>1.000000</td>\n      <td>0.000000</td>\n      <td>0.00000</td>\n      <td>0.000000</td>\n      <td>0.00000</td>\n      <td>0.000000</td>\n      <td>0.000000</td>\n      <td>0.000000</td>\n      <td>1.000000</td>\n      <td>0.000000</td>\n      <td>0.000000</td>\n      <td>0.000000</td>\n      <td>0.000000</td>\n      <td>0.000000</td>\n      <td>0.000000</td>\n      <td>0.000000</td>\n      <td>0.000000</td>\n      <td>0.000000</td>\n      <td>0.000000</td>\n      <td>0.000000</td>\n      <td>0.000000</td>\n      <td>0.000000</td>\n      <td>0.000000</td>\n      <td>0.000000</td>\n      <td>0.000000</td>\n      <td>0.000000</td>\n      <td>0.000000</td>\n      <td>0.000000</td>\n      <td>0.000000</td>\n      <td>0.000000</td>\n      <td>0.000000</td>\n      <td>0.000000</td>\n      <td>0.000000</td>\n      <td>0.000000</td>\n      <td>0.000000</td>\n      <td>0.000000</td>\n      <td>0.000000</td>\n      <td>0.000000</td>\n      <td>0.000000</td>\n      <td>0.000000</td>\n      <td>0.000000</td>\n      <td>0.000000</td>\n      <td>0.000000</td>\n      <td>0.000000</td>\n      <td>0.000000</td>\n      <td>0.000000</td>\n      <td>0.000000</td>\n      <td>0.00000</td>\n      <td>0.000000</td>\n      <td>0.000000</td>\n      <td>0.000000</td>\n      <td>0.00000</td>\n      <td>0.00000</td>\n      <td>0.000000</td>\n      <td>0.000000</td>\n      <td>0.000000</td>\n      <td>0.000000</td>\n      <td>0.000000</td>\n      <td>0.000000</td>\n      <td>0.000000</td>\n      <td>0.000000</td>\n      <td>0.000000</td>\n      <td>0.000000</td>\n      <td>0.000000</td>\n      <td>0.000000</td>\n      <td>0.000000</td>\n      <td>0.000000</td>\n      <td>0.000000</td>\n      <td>0.000000</td>\n      <td>0.000000</td>\n      <td>0.000000</td>\n      <td>0.000000</td>\n      <td>0.000000</td>\n      <td>0.00000</td>\n      <td>0.000000</td>\n      <td>0.000000</td>\n      <td>0.000000</td>\n      <td>0.000000</td>\n      <td>0.0000</td>\n      <td>0.000000</td>\n      <td>0.000000</td>\n      <td>0.000000</td>\n      <td>0.000000</td>\n      <td>0.000000</td>\n      <td>0.000000</td>\n      <td>0.000000</td>\n      <td>0.000000</td>\n      <td>0.000000</td>\n      <td>0.000000</td>\n      <td>0.000000</td>\n      <td>0.000000</td>\n      <td>0.000000</td>\n      <td>0.000000</td>\n      <td>0.000000</td>\n      <td>0.000000</td>\n      <td>0.000000</td>\n      <td>0.000000</td>\n      <td>0.000000</td>\n      <td>0.000000</td>\n      <td>0.000000</td>\n      <td>0.000000</td>\n      <td>0.000000</td>\n      <td>0.000000</td>\n      <td>0.000000</td>\n      <td>0.000000</td>\n      <td>0.000000</td>\n      <td>0.000000</td>\n      <td>0.000000</td>\n      <td>0.000000</td>\n      <td>0.000000</td>\n      <td>0.00000</td>\n      <td>0.000000</td>\n      <td>0.000000</td>\n      <td>0.000000</td>\n      <td>0.0000</td>\n      <td>0.000000</td>\n      <td>0.000000</td>\n      <td>0.000000</td>\n      <td>0.000000</td>\n      <td>0.0000</td>\n      <td>0.000000</td>\n      <td>0.000000</td>\n      <td>0.000000</td>\n      <td>0.000000</td>\n      <td>0.000000</td>\n      <td>0.000000</td>\n      <td>1490.000000</td>\n      <td>120.000000</td>\n      <td>0.000000</td>\n      <td>0.000000</td>\n      <td>0.000000</td>\n      <td>0.000000</td>\n      <td>0.000000</td>\n      <td>0.000000</td>\n      <td>0.000000</td>\n      <td>0.000000</td>\n      <td>0.000000</td>\n      <td>0.000000</td>\n      <td>0.000000</td>\n      <td>0.000000</td>\n      <td>0.000000</td>\n      <td>0.000000</td>\n      <td>0.000000</td>\n      <td>0.000000</td>\n      <td>0.000000</td>\n      <td>0.000000</td>\n      <td>0.000000</td>\n      <td>0.000000</td>\n      <td>0.000000</td>\n      <td>0.000000</td>\n      <td>0.000000</td>\n      <td>0.000000</td>\n      <td>0.000000</td>\n      <td>0.000000</td>\n      <td>0.000000</td>\n      <td>0.000000</td>\n      <td>0.000000</td>\n      <td>0.000000</td>\n      <td>0.000000</td>\n    </tr>\n    <tr>\n      <th>max</th>\n      <td>21.000000</td>\n      <td>16444.000000</td>\n      <td>5.000000</td>\n      <td>3.000000</td>\n      <td>9660.000000</td>\n      <td>1.000000</td>\n      <td>1.000000</td>\n      <td>1.00000</td>\n      <td>1.000000</td>\n      <td>1.00000</td>\n      <td>1.000000</td>\n      <td>1.000000</td>\n      <td>1.000000</td>\n      <td>1.000000</td>\n      <td>1.000000</td>\n      <td>1.000000</td>\n      <td>1.000000</td>\n      <td>1.000000</td>\n      <td>1.000000</td>\n      <td>1.000000</td>\n      <td>1.000000</td>\n      <td>1.000000</td>\n      <td>1.000000</td>\n      <td>1.000000</td>\n      <td>1.000000</td>\n      <td>1.000000</td>\n      <td>1.000000</td>\n      <td>1.000000</td>\n      <td>1.000000</td>\n      <td>1.000000</td>\n      <td>1.000000</td>\n      <td>1.000000</td>\n      <td>1.000000</td>\n      <td>1.000000</td>\n      <td>1.000000</td>\n      <td>1.000000</td>\n      <td>1.000000</td>\n      <td>1.000000</td>\n      <td>1.000000</td>\n      <td>1.000000</td>\n      <td>1.000000</td>\n      <td>1.000000</td>\n      <td>1.000000</td>\n      <td>1.000000</td>\n      <td>1.000000</td>\n      <td>1.000000</td>\n      <td>1.000000</td>\n      <td>1.000000</td>\n      <td>1.000000</td>\n      <td>1.000000</td>\n      <td>1.000000</td>\n      <td>1.000000</td>\n      <td>1.00000</td>\n      <td>1.000000</td>\n      <td>1.000000</td>\n      <td>1.000000</td>\n      <td>1.00000</td>\n      <td>1.00000</td>\n      <td>1.000000</td>\n      <td>1.000000</td>\n      <td>1.000000</td>\n      <td>1.000000</td>\n      <td>1.000000</td>\n      <td>1.000000</td>\n      <td>1.000000</td>\n      <td>1.000000</td>\n      <td>1.000000</td>\n      <td>1.000000</td>\n      <td>1.000000</td>\n      <td>1.000000</td>\n      <td>1.000000</td>\n      <td>1.000000</td>\n      <td>1.000000</td>\n      <td>1.000000</td>\n      <td>1.000000</td>\n      <td>1.000000</td>\n      <td>1.000000</td>\n      <td>1.000000</td>\n      <td>1.00000</td>\n      <td>1.000000</td>\n      <td>1.000000</td>\n      <td>1.000000</td>\n      <td>1.000000</td>\n      <td>1.0000</td>\n      <td>1.000000</td>\n      <td>1.000000</td>\n      <td>1.000000</td>\n      <td>1.000000</td>\n      <td>1.000000</td>\n      <td>1.000000</td>\n      <td>1.000000</td>\n      <td>1.000000</td>\n      <td>1.000000</td>\n      <td>1.000000</td>\n      <td>1.000000</td>\n      <td>1.000000</td>\n      <td>1.000000</td>\n      <td>1.000000</td>\n      <td>1.000000</td>\n      <td>1.000000</td>\n      <td>1.000000</td>\n      <td>1.000000</td>\n      <td>1.000000</td>\n      <td>1.000000</td>\n      <td>1.000000</td>\n      <td>1.000000</td>\n      <td>1.000000</td>\n      <td>1.000000</td>\n      <td>1.000000</td>\n      <td>1.000000</td>\n      <td>1.000000</td>\n      <td>1.000000</td>\n      <td>1.000000</td>\n      <td>1.000000</td>\n      <td>1.000000</td>\n      <td>1.00000</td>\n      <td>1.000000</td>\n      <td>1.000000</td>\n      <td>1.000000</td>\n      <td>1.0000</td>\n      <td>1.000000</td>\n      <td>1.000000</td>\n      <td>1.000000</td>\n      <td>1.000000</td>\n      <td>1.0000</td>\n      <td>1.000000</td>\n      <td>1.000000</td>\n      <td>1.000000</td>\n      <td>1.000000</td>\n      <td>1.000000</td>\n      <td>1.000000</td>\n      <td>5878.000000</td>\n      <td>3207.000000</td>\n      <td>1.000000</td>\n      <td>1.000000</td>\n      <td>1.000000</td>\n      <td>1.000000</td>\n      <td>1.000000</td>\n      <td>1.000000</td>\n      <td>1.000000</td>\n      <td>1.000000</td>\n      <td>1.000000</td>\n      <td>1.000000</td>\n      <td>1.000000</td>\n      <td>1.000000</td>\n      <td>1.000000</td>\n      <td>1.000000</td>\n      <td>1.000000</td>\n      <td>1.000000</td>\n      <td>1.000000</td>\n      <td>1.000000</td>\n      <td>1.000000</td>\n      <td>1.000000</td>\n      <td>1.000000</td>\n      <td>1.000000</td>\n      <td>1.000000</td>\n      <td>1.000000</td>\n      <td>1.000000</td>\n      <td>1.000000</td>\n      <td>1.000000</td>\n      <td>1.000000</td>\n      <td>1.000000</td>\n      <td>1.000000</td>\n      <td>1.000000</td>\n    </tr>\n  </tbody>\n</table>\n</div>"
     },
     "metadata": {}
    }
   ],
   "source": [
    "# проверяем\n",
    "with pd.option_context('display.max_columns', None):\n",
    "    display(df.describe())\n"
   ]
  },
  {
   "cell_type": "code",
   "execution_count": 82,
   "metadata": {},
   "outputs": [
    {
     "output_type": "stream",
     "name": "stdout",
     "text": "MAE: 0.2124\n"
    }
   ],
   "source": [
    "first_model(df)"
   ]
  }
 ],
 "metadata": {
  "kernelspec": {
   "display_name": "Python 3.7.4 32-bit",
   "language": "python",
   "name": "python37432bita71cb111c6ea413eb6cb230204f32890"
  }
 },
 "nbformat": 4,
 "nbformat_minor": 2
}